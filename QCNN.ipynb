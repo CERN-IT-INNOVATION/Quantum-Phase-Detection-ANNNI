{
 "cells": [
  {
   "cell_type": "code",
   "execution_count": 1,
   "id": "d509e01f-1974-4fe8-85e5-57ea83c44522",
   "metadata": {},
   "outputs": [],
   "source": [
    "### IMPORTS ###\n",
    "# Quantum libraries:\n",
    "import pennylane as qml\n",
    "from pennylane import numpy as np\n",
    "import autograd.numpy as anp\n",
    "\n",
    "# Plotting\n",
    "from matplotlib import pyplot as plt\n",
    "\n",
    "# Other\n",
    "import copy\n",
    "from tqdm.notebook import tqdm # Pretty progress bars\n",
    "from IPython.display import Markdown, display # Better prints\n",
    "import joblib # Writing and loading\n",
    "##############\n"
   ]
  },
  {
   "cell_type": "code",
   "execution_count": 2,
   "id": "b8451b3a-4ef0-4edc-bc99-1b2efbdf2299",
   "metadata": {},
   "outputs": [],
   "source": [
    "from qfuncs import *"
   ]
  },
  {
   "cell_type": "code",
   "execution_count": 3,
   "id": "4a11e167-0a50-49ef-99c6-815538b4a12b",
   "metadata": {},
   "outputs": [],
   "source": [
    "dev = qml.device('default.qubit', wires=8, shots=1000)"
   ]
  },
  {
   "cell_type": "code",
   "execution_count": 4,
   "id": "2f0ed4be-3ec2-4dcd-b43b-b66934751463",
   "metadata": {},
   "outputs": [
    {
     "name": "stdout",
     "output_type": "stream",
     "text": [
      "Size of Training Set: 50\n"
     ]
    }
   ],
   "source": [
    "data = joblib.load('./params.job')\n",
    "\n",
    "X_data = np.array(data[0][1])\n",
    "Y_data = np.array(data[0][2])\n",
    "\n",
    "for J in range(1,len(data)):\n",
    "    X_data = np.concatenate((X_data, np.array(data[J][1])))\n",
    "    Y_data = np.concatenate((Y_data, np.array(data[J][2])))\n",
    "    \n",
    "print('Size of Training Set: {0}'.format(np.shape(X_data)[0]))"
   ]
  },
  {
   "cell_type": "code",
   "execution_count": 5,
   "id": "6a2bdd63-721c-4ee6-b20e-a701253e438e",
   "metadata": {
    "tags": []
   },
   "outputs": [],
   "source": [
    "def convolution_8(params,N=8):\n",
    "    k = 0\n",
    "    \n",
    "    for wire, wire_next in zip(range(0,N,2), range(1,N,2)):\n",
    "        qml.RY(params[k], wires = wire)\n",
    "        k = k + 1\n",
    "        qml.RZ(params[k], wires = wire)\n",
    "        k = k + 1\n",
    "        \n",
    "        qml.CNOT(wires=[wire, wire_next])\n",
    "        \n",
    "    qml.Barrier()\n",
    "    \n",
    "    for wire, wire_next in zip(range(N-2,0,-2), range(N-3,-1,-2)):\n",
    "        qml.RY(params[k], wires = wire_next)\n",
    "        k = k + 1\n",
    "        \n",
    "        qml.CNOT(wires=[wire_next, wire])\n",
    "\n",
    "        \n",
    "def pooling_8(params, N=8):\n",
    "    qml.Barrier()\n",
    "    \n",
    "    k = N\n",
    "    # First pooling 8->4\n",
    "    for wire_meas, wire_next in zip(range(0,N,2), range(1,N,2)):\n",
    "        m_0 = qml.measure(wire_meas)\n",
    "\n",
    "        qml.cond(m_0 ==0, qml.RY)(params[k], wires=wire_next)\n",
    "        k = k + 1\n",
    "        qml.cond(m_0 ==1, qml.RY)(params[k], wires=wire_next)\n",
    "        k = k + 1\n",
    "    \n",
    "    qml.Barrier()\n",
    "    \n",
    "    # Second pooling 4->2\n",
    "    for wire_meas, wire_next in zip(range(1,N,4), range(3,N,4)):\n",
    "        m_0 = qml.measure(wire_meas)\n",
    "\n",
    "        qml.cond(m_0 ==0, qml.RY)(params[k], wires=wire_next)\n",
    "        k = k + 1\n",
    "        qml.cond(m_0 ==1, qml.RY)(params[k], wires=wire_next)\n",
    "        k = k + 1\n",
    "        \n",
    "    qml.Barrier()\n",
    "    \n",
    "    qml.RZ(params[k], wires = 3)\n",
    "    k = k + 1\n",
    "    qml.RY(params[k], wires = 3)\n",
    "    k = k + 1\n",
    "    qml.RZ(params[k], wires = 7)\n",
    "    k = k + 1\n",
    "    qml.RY(params[k], wires = 7)\n",
    "    k = k + 1\n",
    "    \n",
    "    # Third pooling 2->1\n",
    "    for wire_meas, wire_next in zip(range(3,N,8), range(7,N,4)):\n",
    "        m_0 = qml.measure(wire_meas)\n",
    "\n",
    "        qml.cond(m_0 ==0, qml.RY)(params[k], wires=wire_next)\n",
    "        k = k + 1\n",
    "        qml.cond(m_0 ==1, qml.RY)(params[k], wires=wire_next)\n",
    "        k = k + 1\n",
    "        \n",
    "@qml.qnode(dev)        \n",
    "def qcnn_8(params_vqe,params):\n",
    "    vqe_ising_chain_circuit(params_vqe, 8)\n",
    "    qml.Barrier()\n",
    "    convolution_8(params)\n",
    "    pooling_8(params)\n",
    "    \n",
    "    return qml.probs(wires=7)"
   ]
  },
  {
   "cell_type": "code",
   "execution_count": 6,
   "id": "f1b9fe4d-733f-4eeb-8afe-b89e33860484",
   "metadata": {},
   "outputs": [],
   "source": [
    "def cross_entropy_loss(labels, predictions):\n",
    "    '''\n",
    "    f = - Σ [(Yi*log(Pi) + (1 - Yi)*log(1 - Pi) )]  for i in TrainingSet\n",
    "    '''\n",
    "    loss = 0\n",
    "    for l, p in zip(labels, predictions):\n",
    "        term = ( l * np.log(p) + (1 - l) * np.log(1 - p) )\n",
    "        loss = loss + term\n",
    "\n",
    "    return -1 * loss\n",
    "\n",
    "def cross_entropy(labels, predictions):\n",
    "    loss = 0\n",
    "    for l, p in zip(labels, predictions):\n",
    "        c_entropy = l * (anp.log(p[l])) + (1 - l) * anp.log(1 - p[1 - l])\n",
    "        loss = loss + c_entropy\n",
    "\n",
    "    return -1 * loss"
   ]
  },
  {
   "cell_type": "code",
   "execution_count": 7,
   "id": "a3021c7e-1f96-425b-b817-a870139caf9a",
   "metadata": {},
   "outputs": [],
   "source": [
    "def cost_fn(params, X, Y):\n",
    "    predictions = [qcnn_8(x, params) for x in X]\n",
    "    loss = cross_entropy(Y, predictions)\n",
    "    \n",
    "    return loss"
   ]
  },
  {
   "cell_type": "code",
   "execution_count": 8,
   "id": "c03581db-06eb-49ff-9abb-b157d345614b",
   "metadata": {},
   "outputs": [],
   "source": [
    "def compute_accuracy(X_train, Y_train, params):\n",
    "    '''\n",
    "    Accuracy = (corretly predicted labels)/(total # of labels) * 100 ( %100) \n",
    "    '''\n",
    "    data_len = len(X_train)\n",
    "    \n",
    "    correct = 0\n",
    "    for i, data in enumerate(X_train):\n",
    "        if np.argmax( qcnn_8(data, params) ) == Y_train[i]:\n",
    "            correct = correct + 1\n",
    "            \n",
    "    return correct / data_len * 100"
   ]
  },
  {
   "cell_type": "code",
   "execution_count": 9,
   "id": "0dd1b540-dbe6-4b98-b9e4-abf782d2a295",
   "metadata": {},
   "outputs": [],
   "source": [
    "def qcnn_training(X_train, Y_train, X_test = [], Y_test = [], steps = 100, lr = 0.001, batch_size = 25, N = 8, plot = True):\n",
    "    # Initialize parameters randomly\n",
    "    params = np.random.randn(4*N-2)\n",
    "    \n",
    "    # Set optimizer\n",
    "    opt = qml.GradientDescentOptimizer(stepsize=lr)\n",
    "    \n",
    "    loss_history = []\n",
    "    accuracy_history = []\n",
    "    loss_history_test = []\n",
    "    accuracy_history_test = []\n",
    "    \n",
    "    batch_size = min(len(X_train), batch_size)\n",
    "    \n",
    "    progress = tqdm(range(steps))\n",
    "    for epoch in progress:\n",
    "        batch_index = np.random.randint(0, len(X_train), (batch_size,))\n",
    "        batch_index = np.arange(len(X_train))\n",
    "        X_batch = [X_train[i] for i in batch_index]\n",
    "        Y_batch = [Y_train[i] for i in batch_index]\n",
    "\n",
    "        # Compute current loss and update parameters\n",
    "        params, cost_new = opt.step_and_cost(lambda v: cost_fn(v, X_batch, Y_batch), params)\n",
    "        \n",
    "        loss_history.append(cost_new)\n",
    "        accuracy_history.append(compute_accuracy(X_train, Y_train, params))\n",
    "        if len(X_test) > 0:\n",
    "            loss_history_test.append(cost_fn(params, X_test, Y_test))\n",
    "            accuracy_history_test.append(compute_accuracy(X_test, Y_test, params))\n",
    "        \n",
    "        # Set description to current loss\n",
    "        progress.set_description('Cost: {0}'.format(np.round(cost_new,3)))\n",
    "\n",
    "    if plot:\n",
    "        plt.figure(figsize=(15,5))\n",
    "        plt.plot(np.arange(steps), np.asarray(loss_history)/len(X_train), label = 'Training Loss')\n",
    "        if len(X_test) > 0:\n",
    "            plt.plot(np.arange(steps), np.asarray(loss_history_test)/len(X_test), color = 'green', label = 'Test Loss')\n",
    "            plt.axhline(y=0, color='r', linestyle='--')\n",
    "        plt.title('Loss history')\n",
    "        plt.ylabel('Average Cross entropy')\n",
    "        plt.xlabel('Epoch')\n",
    "        plt.grid(True)\n",
    "        plt.legend()\n",
    "        \n",
    "        plt.figure(figsize=(15,4))\n",
    "        plt.plot(np.arange(steps), accuracy_history, color='orange', label = 'Training Accuracy')\n",
    "        if len(X_test) > 0:\n",
    "            plt.plot(np.arange(steps), accuracy_history_test, color='violet', label = 'Test Accuracy')\n",
    "        plt.axhline(y=100, color='r', linestyle='--')\n",
    "        plt.title('Accuracy')\n",
    "        plt.ylabel('%')\n",
    "        plt.xlabel('Epoch')\n",
    "        plt.grid(True)\n",
    "        plt.legend()\n",
    "        \n",
    "    return loss_history, accuracy_history, params"
   ]
  },
  {
   "cell_type": "code",
   "execution_count": 10,
   "id": "05833a8e-508f-4018-851a-28616cb48471",
   "metadata": {},
   "outputs": [
    {
     "name": "stdout",
     "output_type": "stream",
     "text": [
      "0: ──RY(0.00)─╭C────────────────────||──RY(0.00)──||──RY(0.00)──RZ(0.00)─╭C──||───────────────||\n",
      "1: ──RY(0.00)─╰X─╭C─────────────────||──RY(0.00)──||─────────────────────╰X──||──RY(0.00)─╭C──||\n",
      "2: ──RY(0.00)────╰X─╭C──────────────||──RY(0.00)──||──RY(0.00)──RZ(0.00)─╭C──||───────────╰X──||\n",
      "3: ──RY(0.00)───────╰X─╭C───────────||──RY(0.00)──||─────────────────────╰X──||──RY(0.00)─╭C──||\n",
      "4: ──RY(0.00)──────────╰X─╭C────────||──RY(0.00)──||──RY(0.00)──RZ(0.00)─╭C──||───────────╰X──||\n",
      "5: ──RY(0.00)─────────────╰X─╭C─────||──RY(0.00)──||─────────────────────╰X──||──RY(0.00)─╭C──||\n",
      "6: ──RY(0.00)────────────────╰X─╭C──||──RY(0.00)──||──RY(0.00)──RZ(0.00)─╭C──||───────────╰X──||\n",
      "7: ──RY(0.00)───────────────────╰X──||──RY(0.00)──||─────────────────────╰X──||───────────────||\n",
      "\n",
      "──╭C─────────────────────────╭C──────────────────────────||───────────────────────────\n",
      "──╰ControlledOperation(0.00)─╰ControlledOperation(0.00)──||─╭C────────────────────────\n",
      "──╭C─────────────────────────╭C──────────────────────────||─│─────────────────────────\n",
      "──╰ControlledOperation(0.00)─╰ControlledOperation(0.00)──||─╰ControlledOperation(0.00)\n",
      "──╭C─────────────────────────╭C──────────────────────────||───────────────────────────\n",
      "──╰ControlledOperation(0.00)─╰ControlledOperation(0.00)──||─╭C────────────────────────\n",
      "──╭C─────────────────────────╭C──────────────────────────||─│─────────────────────────\n",
      "──╰ControlledOperation(0.00)─╰ControlledOperation(0.00)──||─╰ControlledOperation(0.00)\n",
      "\n",
      "──────────────────────────────||───────────────────────────────────────────────\n",
      "──╭C──────────────────────────||───────────────────────────────────────────────\n",
      "──│───────────────────────────||───────────────────────────────────────────────\n",
      "──╰ControlledOperation(0.00)──||──RZ(0.00)──RY(0.00)─╭C────────────────────────\n",
      "──────────────────────────────||─────────────────────│─────────────────────────\n",
      "──╭C──────────────────────────||─────────────────────│─────────────────────────\n",
      "──│───────────────────────────||─────────────────────│─────────────────────────\n",
      "──╰ControlledOperation(0.00)──||──RZ(0.00)──RY(0.00)─╰ControlledOperation(0.00)\n",
      "\n",
      "─────────────────────────────┤       \n",
      "─────────────────────────────┤       \n",
      "─────────────────────────────┤       \n",
      "──╭C─────────────────────────┤       \n",
      "──│──────────────────────────┤       \n",
      "──│──────────────────────────┤       \n",
      "──│──────────────────────────┤       \n",
      "──╰ControlledOperation(0.00)─┤  Probs\n"
     ]
    }
   ],
   "source": [
    "drawer = qml.draw(qcnn_8)\n",
    "print(drawer([0]*100,[0]*100))"
   ]
  },
  {
   "cell_type": "code",
   "execution_count": 11,
   "id": "ee3441c4-3f3b-4a89-bdf1-7fa0178c61c2",
   "metadata": {},
   "outputs": [],
   "source": [
    "train_index = np.random.choice(np.arange(len(X_data)), size=int(0.8*len(X_data)), replace=False )\n",
    "\n",
    "test_index = []\n",
    "for i in np.arange(len(X_data)):\n",
    "    if not i in train_index:\n",
    "        test_index.append(i)       \n",
    "test_index = np.array(test_index)"
   ]
  },
  {
   "cell_type": "code",
   "execution_count": 12,
   "id": "68ece909-515a-4db4-a45c-47db08cda8b9",
   "metadata": {},
   "outputs": [],
   "source": [
    "X_train = X_data[train_index]\n",
    "Y_train = Y_data[train_index]\n",
    "\n",
    "X_test = X_data[test_index]\n",
    "Y_test = Y_data[test_index]"
   ]
  },
  {
   "cell_type": "code",
   "execution_count": 13,
   "id": "46df7007-337b-4569-aefe-def0d2d7cf5d",
   "metadata": {},
   "outputs": [
    {
     "data": {
      "application/vnd.jupyter.widget-view+json": {
       "model_id": "7359bfbae870412c86c431cfeb36fc1f",
       "version_major": 2,
       "version_minor": 0
      },
      "text/plain": [
       "  0%|          | 0/250 [00:00<?, ?it/s]"
      ]
     },
     "metadata": {},
     "output_type": "display_data"
    },
    {
     "name": "stdout",
     "output_type": "stream",
     "text": [
      "Final Loss: 11.341055104632753\n",
      "Final Accuracy: 97.5%\n"
     ]
    },
    {
     "data": {
      "image/png": "[encoded data removed]",
      "text/plain": [
       "<Figure size 1080x360 with 1 Axes>"
      ]
     },
     "metadata": {
      "needs_background": "light"
     },
     "output_type": "display_data"
    },
    {
     "data": {
      "image/png": "[encoded data removed]",
      "text/plain": [
       "<Figure size 1080x288 with 1 Axes>"
      ]
     },
     "metadata": {
      "needs_background": "light"
     },
     "output_type": "display_data"
    }
   ],
   "source": [
    "loss_history, accuracy_history, params = qcnn_training(X_train, Y_train, X_test, Y_test, lr = 1e-3, steps = 250)\n",
    "\n",
    "print('Final Loss: {0}\\nFinal Accuracy: {1}%'.format(loss_history[-1], accuracy_history[-1]) )"
   ]
  },
  {
   "cell_type": "code",
   "execution_count": null,
   "id": "383a3777-62d5-45a1-97ec-84ccf61bd8f0",
   "metadata": {},
   "outputs": [],
   "source": []
  },
  {
   "cell_type": "code",
   "execution_count": 14,
   "id": "527370de-12c2-430d-b0bb-dce6c5413ce1",
   "metadata": {},
   "outputs": [
    {
     "data": {
      "text/plain": [
       "tensor([0.1, 0.2], requires_grad=True)"
      ]
     },
     "execution_count": 14,
     "metadata": {},
     "output_type": "execute_result"
    }
   ],
   "source": [
    "np.array([1,2])/10"
   ]
  },
  {
   "cell_type": "code",
   "execution_count": 15,
   "id": "83948bb5-4a17-4c10-83f4-6f1694fdba7b",
   "metadata": {},
   "outputs": [
    {
     "data": {
      "text/plain": [
       "['./params_qcnn.job']"
      ]
     },
     "execution_count": 15,
     "metadata": {},
     "output_type": "execute_result"
    }
   ],
   "source": [
    "joblib.dump(params, './params_qcnn.job')"
   ]
  },
  {
   "cell_type": "code",
   "execution_count": 16,
   "id": "36d3fe5e-b971-40fa-9dab-a548486ebd58",
   "metadata": {},
   "outputs": [
    {
     "name": "stdout",
     "output_type": "stream",
     "text": [
      "0: ──RY(1.66)──╭C────────────────────||──RY(-0.59)──||──RY(0.76)───RZ(0.06)──╭C──||──────────────\n",
      "1: ──RY(-1.40)─╰X─╭C─────────────────||──RY(-0.42)──||───────────────────────╰X──||──RY(-0.18)─╭C\n",
      "2: ──RY(1.50)─────╰X─╭C──────────────||──RY(-0.37)──||──RY(-0.39)──RZ(-0.00)─╭C──||────────────╰X\n",
      "3: ──RY(-1.52)───────╰X─╭C───────────||──RY(-0.37)──||───────────────────────╰X──||──RY(0.54)──╭C\n",
      "4: ──RY(1.51)───────────╰X─╭C────────||──RY(-0.37)──||──RY(1.26)───RZ(-0.39)─╭C──||────────────╰X\n",
      "5: ──RY(-1.51)─────────────╰X─╭C─────||──RY(-0.37)──||───────────────────────╰X──||──RY(1.24)──╭C\n",
      "6: ──RY(1.50)─────────────────╰X─╭C──||──RY(-0.44)──||──RY(0.70)───RZ(-1.57)─╭C──||────────────╰X\n",
      "7: ──RY(-1.40)───────────────────╰X──||──RY(-0.68)──||───────────────────────╰X──||──────────────\n",
      "\n",
      "───||─╭C─────────╭C──────────||───────────────────────||────────────────────────────────────────────┤\n",
      "───||─╰RY(1.24)──╰RY(0.54)───||─╭C─────────╭C─────────||────────────────────────────────────────────┤\n",
      "───||─╭C─────────╭C──────────||─│──────────│──────────||────────────────────────────────────────────┤\n",
      "───||─╰RY(-0.18)─╰RY(-0.56)──||─╰RY(1.01)──╰RY(0.72)──||──RZ(0.24)───RY(0.15)──╭C─────────╭C────────┤\n",
      "───||─╭C─────────╭C──────────||───────────────────────||───────────────────────│──────────│─────────┤\n",
      "───||─╰RY(1.87)──╰RY(0.61)───||─╭C─────────╭C─────────||───────────────────────│──────────│─────────┤\n",
      "───||─╭C─────────╭C──────────||─│──────────│──────────||───────────────────────│──────────│─────────┤\n",
      "───||─╰RY(0.75)──╰RY(-0.89)──||─╰RY(-0.29)─╰RY(0.89)──||──RZ(-2.99)──RY(-2.08)─╰RY(-1.75)─╰RY(1.78)─┤\n",
      "\n",
      "        \n",
      "        \n",
      "        \n",
      "        \n",
      "        \n",
      "        \n",
      "        \n",
      "   Probs\n"
     ]
    }
   ],
   "source": [
    "drawer = qml.draw(qcnn_8)\n",
    "print(drawer(X_train[2],params))"
   ]
  },
  {
   "cell_type": "code",
   "execution_count": null,
   "id": "36bbb6ce-0cd9-4a39-a3e1-4a17c76af60d",
   "metadata": {},
   "outputs": [],
   "source": []
  }
 ],
 "metadata": {
  "kernelspec": {
   "display_name": "Python 3 (ipykernel)",
   "language": "python",
   "name": "python3"
  },
  "language_info": {
   "codemirror_mode": {
    "name": "ipython",
    "version": 3
   },
   "file_extension": ".py",
   "mimetype": "text/x-python",
   "name": "python",
   "nbconvert_exporter": "python",
   "pygments_lexer": "ipython3",
   "version": "3.7.13"
  }
 },
 "nbformat": 4,
 "nbformat_minor": 5
}
