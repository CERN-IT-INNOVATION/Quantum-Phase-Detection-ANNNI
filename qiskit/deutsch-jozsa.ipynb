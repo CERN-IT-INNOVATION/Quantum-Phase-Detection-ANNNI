{
 "cells": [
  {
   "cell_type": "markdown",
   "id": "8e23a0da-4aa7-4600-a25d-450e8a077223",
   "metadata": {},
   "source": [
    "# Algorithm: Deutsch-Jozsa\n",
    "\n",
    "We are given a function \n",
    "$$f:\\{0,1\\}^n\\to\\{0,1\\}$$\n",
    "realized by an oracle, of which we know that it is either constant (all inputs map to the same output) or balanced (half of the inputs are mapped to '0', the other half to '1')\n",
    "\n",
    "**GOAL:** Determine whether f is constant or balanced"
   ]
  },
  {
   "cell_type": "code",
   "execution_count": 1,
   "id": "4bc24019-60c1-47e8-9785-399c921fa536",
   "metadata": {},
   "outputs": [],
   "source": [
    "import numpy as np\n",
    "\n",
    "from qiskit import IBMQ, BasicAer\n",
    "from qiskit import QuantumCircuit, execute\n",
    "from qiskit.tools.jupyter import *\n",
    "\n",
    "from qiskit.visualization import plot_histogram\n"
   ]
  },
  {
   "cell_type": "code",
   "execution_count": 2,
   "id": "0ea7e42b-95e2-44c6-a2ff-4899ac4f6b6a",
   "metadata": {},
   "outputs": [],
   "source": [
    "def dj_oracle(case, n):\n",
    "    # We need to make a QuantumCircuit object to return\n",
    "    # This circuit has n+1 qubits: \n",
    "    #   n inputs\n",
    "    #   1 output\n",
    "    oracle_qc = QuantumCircuit(n+1)\n",
    "    \n",
    "    # First, let's deal with the case in which oracle is balanced\n",
    "    if case == 'balanced':\n",
    "        # We apply a controlled-NOT gates for each qubit using the\n",
    "        # output qubit as the target\n",
    "        for qubit in range(n):\n",
    "            oracle_qc.cx(qubit, n)\n",
    "            \n",
    "    # Case in which oracle is constant\n",
    "    if case == 'constant':\n",
    "        # First decide what the fixed output of the oracle will be\n",
    "        # (either always 0 or always 1)\n",
    "        output = np.random.randint(2)\n",
    "        if output == 1:\n",
    "            oracle_qc.x(n)\n",
    "            \n",
    "    oracle_gate = oracle_qc.to_gate()\n",
    "    oracle_gate.name = 'Oracle'\n",
    "    \n",
    "    return oracle_gate\n"
   ]
  },
  {
   "cell_type": "code",
   "execution_count": 3,
   "id": "06cde392-c22c-4f53-9aab-721179c9501e",
   "metadata": {},
   "outputs": [],
   "source": [
    "def dj_algorithm(n, case = 'random'):\n",
    "    dj_circuit = QuantumCircuit(n+1, n)\n",
    "    \n",
    "    # Set up the input register:\n",
    "    for qubit in range(n):\n",
    "        dj_circuit.h(qubit)\n",
    "        \n",
    "    # And set up te output qubit:\n",
    "    dj_circuit.x(n)\n",
    "    dj_circuit.h(n) # |- >\n",
    "    \n",
    "    # Let's append the oracle gate to our circuit:\n",
    "    if case == 'random':\n",
    "        random = np.random.randint(2)\n",
    "        if random == 0:\n",
    "            case = 'constant'\n",
    "        else:\n",
    "            case = 'balanced'\n",
    "            \n",
    "    oracle = dj_oracle(case, n)\n",
    "    dj_circuit.append(oracle, range(n+1))\n",
    "    \n",
    "    # Finally, perform the H-gates again and measure\n",
    "    for i in range(n):\n",
    "        dj_circuit.h(i)\n",
    "        dj_circuit.measure(i, i)\n",
    "        \n",
    "    return dj_circuit\n"
   ]
  },
  {
   "cell_type": "code",
   "execution_count": 4,
   "id": "fe6c0adf-e94b-412f-aa44-206584bd6670",
   "metadata": {},
   "outputs": [
    {
     "data": {
      "image/png": "[encoded data removed]",
      "text/plain": [
       "<Figure size 628.397x385.28 with 1 Axes>"
      ]
     },
     "execution_count": 4,
     "metadata": {},
     "output_type": "execute_result"
    }
   ],
   "source": [
    "n = 4\n",
    "dj_circuit = dj_algorithm(n)\n",
    "dj_circuit.draw()"
   ]
  },
  {
   "cell_type": "code",
   "execution_count": 6,
   "id": "5042c73d-4425-467c-86a9-563cbc5aae5e",
   "metadata": {},
   "outputs": [
    {
     "data": {
      "image/png": "[encoded data removed]",
      "text/plain": [
       "<Figure size 504x360 with 1 Axes>"
      ]
     },
     "execution_count": 6,
     "metadata": {},
     "output_type": "execute_result"
    }
   ],
   "source": [
    "backend = BasicAer.get_backend('qasm_simulator')\n",
    "shots = 1024\n",
    "dj_circuit = dj_algorithm(n, 'balanced')\n",
    "results = execute(dj_circuit, backend=backend, shots=shots).result()\n",
    "answer = results.get_counts()\n",
    "\n",
    "plot_histogram(answer)"
   ]
  },
  {
   "cell_type": "code",
   "execution_count": null,
   "id": "c1eca6be-169d-436c-85a9-974907d54369",
   "metadata": {},
   "outputs": [],
   "source": []
  }
 ],
 "metadata": {
  "kernelspec": {
   "display_name": "Python 3 (ipykernel)",
   "language": "python",
   "name": "python3"
  },
  "language_info": {
   "codemirror_mode": {
    "name": "ipython",
    "version": 3
   },
   "file_extension": ".py",
   "mimetype": "text/x-python",
   "name": "python",
   "nbconvert_exporter": "python",
   "pygments_lexer": "ipython3",
   "version": "3.9.7"
  }
 },
 "nbformat": 4,
 "nbformat_minor": 5
}
