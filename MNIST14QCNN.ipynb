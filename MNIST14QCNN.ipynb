{
 "cells": [
  {
   "cell_type": "code",
   "execution_count": 2,
   "id": "d509e01f-1974-4fe8-85e5-57ea83c44522",
   "metadata": {},
   "outputs": [],
   "source": [
    "### IMPORTS ###\n",
    "# Quantum libraries:\n",
    "import pennylane as qml\n",
    "from pennylane import numpy as np\n",
    "\n",
    "# Plotting\n",
    "from matplotlib import pyplot as plt\n",
    "\n",
    "# Other\n",
    "import copy\n",
    "from tqdm.notebook import tqdm # Pretty progress bars\n",
    "from IPython.display import Markdown, display # Better prints\n",
    "##############\n"
   ]
  },
  {
   "cell_type": "code",
   "execution_count": 36,
   "id": "dbdd3602-1c2f-489c-b0c8-6f6759d79f60",
   "metadata": {},
   "outputs": [],
   "source": [
    "def convolution(N, params, iteration = 0):\n",
    "    # number of parameters is 2*N - 2\n",
    "    k = 0\n",
    "    \n",
    "    M = N if N%2==0 else N - 1\n",
    "        \n",
    "    for n in range(0, M, 2):\n",
    "        for i in range(iteration):\n",
    "            n = (2*n + 1)\n",
    "        print(n, n + 2**iteration)  \n",
    "        \n",
    "        qml.RY(params[k], wires = n)\n",
    "        k = k + 1\n",
    "        qml.RY(params[k], wires = n + 2**iteration)\n",
    "        k = k + 1\n",
    "        qml.CNOT(wires=[n, n + 2**iteration])\n",
    "    \n",
    "    qml.Barrier()\n",
    "    \n",
    "    if N % 2 != 0:\n",
    "        print(N-1, N-2)\n",
    "        qml.RY(params[k], wires = N-1)\n",
    "        k = k + 1\n",
    "        qml.RY(params[k], wires = N-2)\n",
    "        k = k + 1\n",
    "        qml.CNOT(wires=[N-1, N-2])\n",
    "        \n",
    "    for n in range(M-2,1,-2):\n",
    "        for i in range(iteration):\n",
    "            n = (2*n + 1)\n",
    "        print(n, n - 2**iteration)  \n",
    "        \n",
    "        qml.RY(params[k], wires = n)\n",
    "        k = k + 1\n",
    "        qml.RY(params[k], wires = n - 2**iteration)\n",
    "        k = k + 1\n",
    "        qml.CNOT(wires=[n, n - 2**iteration])\n",
    "        \n",
    "    qml.Barrier()\n",
    "    "
   ]
  },
  {
   "cell_type": "code",
   "execution_count": 50,
   "id": "f82358a6-30fa-4fb3-bce7-31a796b87b34",
   "metadata": {},
   "outputs": [],
   "source": [
    "def pooling(N, params, iteration = 0):\n",
    "    # number of parameters is N + N%2\n",
    "    k = 0\n",
    "    \n",
    "    M = N if N%2==0 else N - 1\n",
    "    \n",
    "    for n in range(0, M, 2):\n",
    "        for i in range(iteration):\n",
    "            n = (2*n + 1)\n",
    "        print('M:',n)\n",
    "        m_0 = qml.measure(n)\n",
    "\n",
    "        qml.cond(m_0 ==0, qml.RZ)(params[k], wires=n+2**iteration)\n",
    "        k = k + 1\n",
    "        qml.cond(m_0 ==1, qml.RY)(params[k], wires=n+2**iteration)\n",
    "        k = k + 1\n",
    "    \n",
    "    if N%2 != 0:\n",
    "        print('M:',N-1)\n",
    "        m_0 = qml.measure(N-1)\n",
    "        qml.cond(m_0 ==0, qml.RZ)(params[k], wires=N-2)\n",
    "        k = k + 1\n",
    "        qml.cond(m_0 ==1, qml.RY)(params[k], wires=N-2)\n",
    "        k = k + 1\n",
    "    \n",
    "    qml.Barrier()"
   ]
  },
  {
   "cell_type": "code",
   "execution_count": 51,
   "id": "4a919cc8-e1e5-489b-8fe9-c5eb4dd5b4fa",
   "metadata": {},
   "outputs": [
    {
     "data": {
      "text/plain": [
       "tensor([0, 1, 2, 3, 4, 5, 6, 7, 8, 9], requires_grad=True)"
      ]
     },
     "execution_count": 51,
     "metadata": {},
     "output_type": "execute_result"
    }
   ],
   "source": [
    "np.arange(10)"
   ]
  },
  {
   "cell_type": "code",
   "execution_count": 65,
   "id": "a206206d-e433-4a1f-9048-5d38d19dc49a",
   "metadata": {},
   "outputs": [],
   "source": [
    "dev = qml.device('default.qubit', wires=8, shots=1000)\n",
    "\n",
    "@qml.qnode(dev)\n",
    "def circ(N):\n",
    "    convolution(N, (2*N-2)*[0])\n",
    "    pooling(N, (N+N%2)*[0])\n",
    "    \n",
    "    N = N//2\n",
    "    print('-----')\n",
    "    convolution(N, (2*N-2)*[0], iteration = 1)\n",
    "    pooling(N, (N+N%2)*[0], iteration = 1)\n",
    "    \n",
    "    N = N//2\n",
    "    pooling(N, [0]*10, iteration = 2)\n",
    "    return [qml.measure(wires = N-1)"
   ]
  },
  {
   "cell_type": "code",
   "execution_count": 66,
   "id": "cba48aa2-afd2-4215-8a57-83f671c0ee30",
   "metadata": {},
   "outputs": [],
   "source": [
    "for i in range(0):\n",
    "    print('ciao')"
   ]
  },
  {
   "cell_type": "code",
   "execution_count": 67,
   "id": "8b8f9bb9-ab3b-4c88-ab1c-32be33c1f187",
   "metadata": {},
   "outputs": [
    {
     "name": "stdout",
     "output_type": "stream",
     "text": [
      "0 1\n",
      "2 3\n",
      "4 5\n",
      "6 7\n",
      "6 5\n",
      "4 3\n",
      "2 1\n",
      "M: 0\n",
      "M: 2\n",
      "M: 4\n",
      "M: 6\n",
      "-----\n",
      "1 3\n",
      "5 7\n",
      "5 3\n",
      "M: 1\n",
      "M: 5\n",
      "M: 3\n"
     ]
    },
    {
     "ename": "QuantumFunctionError",
     "evalue": "A quantum function must return either a single measurement, or a nonempty sequence of measurements.",
     "output_type": "error",
     "traceback": [
      "\u001b[0;31m---------------------------------------------------------------------------\u001b[0m",
      "\u001b[0;31mQuantumFunctionError\u001b[0m                      Traceback (most recent call last)",
      "Input \u001b[0;32mIn [67]\u001b[0m, in \u001b[0;36m<cell line: 2>\u001b[0;34m()\u001b[0m\n\u001b[1;32m      1\u001b[0m drawer \u001b[38;5;241m=\u001b[39m qml\u001b[38;5;241m.\u001b[39mdraw(circ)\n\u001b[0;32m----> 2\u001b[0m \u001b[38;5;28mprint\u001b[39m(\u001b[43mdrawer\u001b[49m\u001b[43m(\u001b[49m\u001b[38;5;241;43m8\u001b[39;49m\u001b[43m)\u001b[49m)\n",
      "File \u001b[0;32m~/anaconda3/envs/qc/lib/python3.8/site-packages/pennylane/drawer/draw.py:189\u001b[0m, in \u001b[0;36mdraw.<locals>.wrapper\u001b[0;34m(*args, **kwargs)\u001b[0m\n\u001b[1;32m    187\u001b[0m \u001b[38;5;28;01mtry\u001b[39;00m:\n\u001b[1;32m    188\u001b[0m     qnode\u001b[38;5;241m.\u001b[39mexpansion_strategy \u001b[38;5;241m=\u001b[39m expansion_strategy \u001b[38;5;129;01mor\u001b[39;00m original_expansion_strategy\n\u001b[0;32m--> 189\u001b[0m     tapes \u001b[38;5;241m=\u001b[39m \u001b[43mqnode\u001b[49m\u001b[38;5;241;43m.\u001b[39;49m\u001b[43mconstruct\u001b[49m\u001b[43m(\u001b[49m\u001b[43margs\u001b[49m\u001b[43m,\u001b[49m\u001b[43m \u001b[49m\u001b[43mkwargs\u001b[49m\u001b[43m)\u001b[49m\n\u001b[1;32m    190\u001b[0m \u001b[38;5;28;01mfinally\u001b[39;00m:\n\u001b[1;32m    191\u001b[0m     qnode\u001b[38;5;241m.\u001b[39mexpansion_strategy \u001b[38;5;241m=\u001b[39m original_expansion_strategy\n",
      "File \u001b[0;32m~/anaconda3/envs/qc/lib/python3.8/site-packages/pennylane/qnode.py:497\u001b[0m, in \u001b[0;36mQNode.construct\u001b[0;34m(self, args, kwargs)\u001b[0m\n\u001b[1;32m    492\u001b[0m     measurement_processes \u001b[38;5;241m=\u001b[39m \u001b[38;5;28mself\u001b[39m\u001b[38;5;241m.\u001b[39m_qfunc_output\n\u001b[1;32m    494\u001b[0m \u001b[38;5;28;01mif\u001b[39;00m \u001b[38;5;129;01mnot\u001b[39;00m \u001b[38;5;28mall\u001b[39m(\n\u001b[1;32m    495\u001b[0m     \u001b[38;5;28misinstance\u001b[39m(m, qml\u001b[38;5;241m.\u001b[39mmeasurements\u001b[38;5;241m.\u001b[39mMeasurementProcess) \u001b[38;5;28;01mfor\u001b[39;00m m \u001b[38;5;129;01min\u001b[39;00m measurement_processes\n\u001b[1;32m    496\u001b[0m ):\n\u001b[0;32m--> 497\u001b[0m     \u001b[38;5;28;01mraise\u001b[39;00m qml\u001b[38;5;241m.\u001b[39mQuantumFunctionError(\n\u001b[1;32m    498\u001b[0m         \u001b[38;5;124m\"\u001b[39m\u001b[38;5;124mA quantum function must return either a single measurement, \u001b[39m\u001b[38;5;124m\"\u001b[39m\n\u001b[1;32m    499\u001b[0m         \u001b[38;5;124m\"\u001b[39m\u001b[38;5;124mor a nonempty sequence of measurements.\u001b[39m\u001b[38;5;124m\"\u001b[39m\n\u001b[1;32m    500\u001b[0m     )\n\u001b[1;32m    502\u001b[0m terminal_measurements \u001b[38;5;241m=\u001b[39m [\n\u001b[1;32m    503\u001b[0m     m \u001b[38;5;28;01mfor\u001b[39;00m m \u001b[38;5;129;01min\u001b[39;00m \u001b[38;5;28mself\u001b[39m\u001b[38;5;241m.\u001b[39mtape\u001b[38;5;241m.\u001b[39mmeasurements \u001b[38;5;28;01mif\u001b[39;00m m\u001b[38;5;241m.\u001b[39mreturn_type \u001b[38;5;241m!=\u001b[39m qml\u001b[38;5;241m.\u001b[39mmeasurements\u001b[38;5;241m.\u001b[39mMidMeasure\n\u001b[1;32m    504\u001b[0m ]\n\u001b[1;32m    505\u001b[0m \u001b[38;5;28;01mif\u001b[39;00m \u001b[38;5;129;01mnot\u001b[39;00m \u001b[38;5;28mall\u001b[39m(ret \u001b[38;5;241m==\u001b[39m m \u001b[38;5;28;01mfor\u001b[39;00m ret, m \u001b[38;5;129;01min\u001b[39;00m \u001b[38;5;28mzip\u001b[39m(measurement_processes, terminal_measurements)):\n",
      "\u001b[0;31mQuantumFunctionError\u001b[0m: A quantum function must return either a single measurement, or a nonempty sequence of measurements."
     ]
    }
   ],
   "source": [
    "drawer = qml.draw(circ)\n",
    "print(drawer(8))"
   ]
  },
  {
   "cell_type": "code",
   "execution_count": 319,
   "id": "960cf6eb-ed0b-4374-9263-1c8efb41ce68",
   "metadata": {},
   "outputs": [
    {
     "name": "stdout",
     "output_type": "stream",
     "text": [
      "M: 0\n",
      "M: 2\n",
      "M: 4\n"
     ]
    }
   ],
   "source": [
    "pooling(5,100*[0])"
   ]
  },
  {
   "cell_type": "code",
   "execution_count": null,
   "id": "4f3035cd-a340-4da7-9a01-623779c97b1a",
   "metadata": {},
   "outputs": [
    {
     "ename": "TypeError",
     "evalue": "object of type 'int' has no len()",
     "output_type": "error",
     "traceback": [
      "\u001b[0;31m---------------------------------------------------------------------------\u001b[0m",
      "\u001b[0;31mTypeError\u001b[0m                                 Traceback (most recent call last)",
      "Input \u001b[0;32mIn [423]\u001b[0m, in \u001b[0;36m<cell line: 1>\u001b[0;34m()\u001b[0m\n\u001b[0;32m----> 1\u001b[0m \u001b[43mconvolution\u001b[49m\u001b[43m(\u001b[49m\u001b[38;5;241;43m5\u001b[39;49m\u001b[43m,\u001b[49m\u001b[43m \u001b[49m\u001b[43m[\u001b[49m\u001b[38;5;241;43m0\u001b[39;49m\u001b[43m]\u001b[49m\u001b[38;5;241;43m*\u001b[39;49m\u001b[38;5;241;43m100\u001b[39;49m\u001b[43m)\u001b[49m\n",
      "Input \u001b[0;32mIn [417]\u001b[0m, in \u001b[0;36mconvolution\u001b[0;34m(active_wires, params)\u001b[0m\n\u001b[1;32m      1\u001b[0m \u001b[38;5;28;01mdef\u001b[39;00m \u001b[38;5;21mconvolution\u001b[39m(active_wires, params):\n\u001b[1;32m      2\u001b[0m     \u001b[38;5;66;03m# number of parameters is 2*N - 2\u001b[39;00m\n\u001b[1;32m      3\u001b[0m     k \u001b[38;5;241m=\u001b[39m \u001b[38;5;241m0\u001b[39m\n\u001b[0;32m----> 5\u001b[0m     N \u001b[38;5;241m=\u001b[39m \u001b[38;5;28;43mlen\u001b[39;49m\u001b[43m(\u001b[49m\u001b[43mactive_wires\u001b[49m\u001b[43m)\u001b[49m\n\u001b[1;32m      6\u001b[0m     \u001b[38;5;28mprint\u001b[39m(active_wires)\n\u001b[1;32m      7\u001b[0m     M \u001b[38;5;241m=\u001b[39m N \u001b[38;5;28;01mif\u001b[39;00m N\u001b[38;5;241m%\u001b[39m\u001b[38;5;241m2\u001b[39m\u001b[38;5;241m==\u001b[39m\u001b[38;5;241m0\u001b[39m \u001b[38;5;28;01melse\u001b[39;00m N \u001b[38;5;241m-\u001b[39m \u001b[38;5;241m1\u001b[39m\n",
      "\u001b[0;31mTypeError\u001b[0m: object of type 'int' has no len()"
     ]
    }
   ],
   "source": [
    "convolution(5, [0]*100)"
   ]
  },
  {
   "cell_type": "code",
   "execution_count": 5,
   "id": "e7fc0f52-fdb3-4b0d-b43b-fbb2945e2e52",
   "metadata": {},
   "outputs": [],
   "source": [
    "dev = qml.device('default.qubit', wires=2, shots=1000)"
   ]
  },
  {
   "cell_type": "code",
   "execution_count": 122,
   "id": "737887be-97c8-4ad9-a32e-9f86a4d678da",
   "metadata": {},
   "outputs": [],
   "source": [
    "@qml.qnode(dev)\n",
    "def circ():\n",
    "    qml.CRY(3.14, wires = [0,1])\n",
    "    # return <psi|H|psi>\n",
    "    \n",
    "    m_0 = qml.measure(1)\n",
    "\n",
    "    qml.cond(m_0 ==0, qml.RZ)(0, wires=0)\n",
    "    qml.cond(m_0 ==1, qml.RY)(1, wires=0)\n",
    "    \n",
    "    return qml.state()"
   ]
  },
  {
   "cell_type": "code",
   "execution_count": 123,
   "id": "293b64c3-f253-4e0d-97c7-9e3140417c88",
   "metadata": {},
   "outputs": [
    {
     "name": "stdout",
     "output_type": "stream",
     "text": [
      "0: ─╭C────────╭ControlledOperation(0.00)─╭ControlledOperation(1.00)─┤  State\n",
      "1: ─╰RY(3.14)─╰C─────────────────────────╰C─────────────────────────┤  State\n"
     ]
    }
   ],
   "source": [
    "drawer = qml.draw(circ)\n",
    "print(drawer())"
   ]
  },
  {
   "cell_type": "code",
   "execution_count": 16,
   "id": "1535ade2-6a10-445a-8e20-56b11b2520d1",
   "metadata": {},
   "outputs": [],
   "source": [
    "def get_data(train_size = 1000, test_size = 100, grayscale_threshold = .5, reduced = True):\n",
    "    '''\n",
    "    Prepare the MNIST dataset for the training algorithm:\n",
    "     * Choose randomly a subset from the whole dataset\n",
    "     * Flatten each image to mirror the mps structure\n",
    "     * Normalize images from [0,255] to [0,1]\n",
    "     * Apply a threshold for each pixels so that each value \n",
    "       below that threshold are set to 0, the others get set to 1.\n",
    "       For this algorithm we will only deal to binary states {0,1}\n",
    "       instead of a range from 0 to 1    \n",
    "    '''\n",
    "    # Download all data\n",
    "    mnist = torchvision.datasets.MNIST('classifier_data', train=True, download=True,\n",
    "                                                  transform = transforms.Compose([transforms.ToTensor()]) )\n",
    "    shape = (28,28)\n",
    "    # Convert torch.tenor to numpy\n",
    "    npmnist = mnist.data.numpy()\n",
    "    \n",
    "    # Check of the type of the sizes\n",
    "    #if ((type(train_size) != int) or (type(test_size) != int)):\n",
    "    #    raise TypeError('train_size and test_size must be INT')\n",
    "    \n",
    "    # Check if the training_size and test_size requested are bigger than\n",
    "    # the MNIST whole size\n",
    "    if ( (train_size + test_size) > npmnist.shape[0] ):\n",
    "        raise ValueError('Subset too big') \n",
    "    \n",
    "    # Check of the positivity of sizes\n",
    "    if ( (train_size <= 0) or (test_size <= 0) ):\n",
    "        raise ValueError('Size of training set and test set cannot be negative')\n",
    "    \n",
    "    # Choose just a subset of the data\n",
    "    # Creating a mask by randomly sampling the indexes of the full dataset\n",
    "    subset_indexes = np.random.choice(np.arange(npmnist.shape[0]), size=(train_size + test_size), \n",
    "                                      replace=False, p=None)\n",
    "    \n",
    "    # Apply the mask\n",
    "    npmnist = npmnist[subset_indexes]\n",
    "\n",
    "    # Flatten every image\n",
    "    npmnist = np.reshape(npmnist, (npmnist.shape[0], npmnist.shape[1]*npmnist.shape[2]))\n",
    "    \n",
    "    # Normalize the data from 0 - 255 to 0 - 1\n",
    "    npmnist = npmnist/npmnist.max()\n",
    "    \n",
    "    if reduced:\n",
    "        # Apply meanpool2d\n",
    "        ds_imgs = []\n",
    "        for img in npmnist:\n",
    "            ds_img = []\n",
    "            for col in range(0,shape[0],2):\n",
    "                for row in range(0,shape[1],2):\n",
    "                    pixel = np.mean([img.reshape(shape)[col,row], img.reshape(shape)[col,row+1],\n",
    "                                     img.reshape(shape)[col+1,row], img.reshape(shape)[col+1,row+1]])\n",
    "\n",
    "                    ds_img.append(pixel)\n",
    "\n",
    "            ds_imgs.append(np.array(ds_img).reshape((shape[0]//2)*(shape[1]//2)) )\n",
    "\n",
    "        ds_imgs = np.array(ds_imgs)\n",
    "\n",
    "        ds_imgs[ds_imgs > grayscale_threshold] = 1\n",
    "        ds_imgs[ds_imgs <= grayscale_threshold] = 0\n",
    "        \n",
    "        npmnist = ds_imgs\n",
    "    \n",
    "    if ((grayscale_threshold <= 0) or (grayscale_threshold >= 1)):\n",
    "        raise ValueError('grayscale_threshold must be in range ]0,1[')\n",
    "    \n",
    "    npmnist[npmnist > grayscale_threshold] = 1\n",
    "    npmnist[npmnist <= grayscale_threshold] = 0\n",
    "    \n",
    "    # Return training set and test set\n",
    "    return npmnist[:train_size], npmnist[train_size:]\n",
    "\n",
    "\n",
    "def plot_img(img_flat, shape, flip_color = True, border = False, savefig = '', title=''):\n",
    "    '''\n",
    "    Display the image from the flattened form\n",
    "    '''\n",
    "    # If the image is corrupted for partial reconstruction (pixels are set to -1)\n",
    "    if -1 in img_flat:\n",
    "        img_flat = np.copy(img_flat)\n",
    "        img_flat[img_flat == -1] = 0\n",
    "    plt.figure(figsize = (2,2))\n",
    "    \n",
    "    if title != '':\n",
    "        plt.title(title)\n",
    "    # Background white, strokes black\n",
    "    if flip_color:\n",
    "        plt.imshow(1-np.reshape(img_flat,shape), cmap='gray')\n",
    "    # Background black, strokes white\n",
    "    else:\n",
    "        plt.imshow(np.reshape(img_flat,shape), cmap='gray')\n",
    "        \n",
    "    if border:\n",
    "        plt.xticks([])\n",
    "        plt.yticks([])\n",
    "    else:\n",
    "        plt.axis('off')\n",
    "    \n",
    "    if savefig != '':\n",
    "        # save the picture as svg in the location determined by savefig\n",
    "        plt.savefig(savefig, format='svg')\n",
    "        plt.show()"
   ]
  },
  {
   "cell_type": "code",
   "execution_count": 22,
   "id": "93127709-91a0-42cc-bd9c-c0c37402eba5",
   "metadata": {},
   "outputs": [],
   "source": [
    "train, test = get_data(train_size = 100, test_size = 10, grayscale_threshold = .5, reduced = True)"
   ]
  },
  {
   "cell_type": "code",
   "execution_count": 25,
   "id": "ebf723cd-84e6-4735-89cb-0518a8dd3489",
   "metadata": {},
   "outputs": [
    {
     "data": {
      "image/png": "[encoded data removed]",
      "text/plain": [
       "<Figure size 144x144 with 1 Axes>"
      ]
     },
     "metadata": {
      "needs_background": "light"
     },
     "output_type": "display_data"
    }
   ],
   "source": [
    "plot_img(train[4], (14,14))"
   ]
  },
  {
   "cell_type": "code",
   "execution_count": null,
   "id": "6e751b71-c453-48ab-b6a3-f93ae332807b",
   "metadata": {},
   "outputs": [],
   "source": [
    "print"
   ]
  }
 ],
 "metadata": {
  "kernelspec": {
   "display_name": "Python 3 (ipykernel)",
   "language": "python",
   "name": "python3"
  },
  "language_info": {
   "codemirror_mode": {
    "name": "ipython",
    "version": 3
   },
   "file_extension": ".py",
   "mimetype": "text/x-python",
   "name": "python",
   "nbconvert_exporter": "python",
   "pygments_lexer": "ipython3",
   "version": "3.7.13"
  }
 },
 "nbformat": 4,
 "nbformat_minor": 5
}
