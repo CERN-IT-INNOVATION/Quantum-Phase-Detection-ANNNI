{
 "cells": [
  {
   "cell_type": "code",
   "execution_count": 1,
   "id": "d509e01f-1974-4fe8-85e5-57ea83c44522",
   "metadata": {},
   "outputs": [],
   "source": [
    "### IMPORTS ###\n",
    "# Quantum libraries:\n",
    "import pennylane as qml\n",
    "from pennylane import numpy as np\n",
    "import autograd.numpy as anp\n",
    "\n",
    "# Plotting\n",
    "from matplotlib import pyplot as plt\n",
    "\n",
    "# Other\n",
    "import copy\n",
    "from tqdm.notebook import tqdm # Pretty progress bars\n",
    "from IPython.display import Markdown, display # Better prints\n",
    "import joblib # Writing and loading\n",
    "##############\n"
   ]
  },
  {
   "cell_type": "code",
   "execution_count": 2,
   "id": "b8451b3a-4ef0-4edc-bc99-1b2efbdf2299",
   "metadata": {},
   "outputs": [],
   "source": [
    "from qfuncs import *"
   ]
  },
  {
   "cell_type": "code",
   "execution_count": 3,
   "id": "6a2bdd63-721c-4ee6-b20e-a701253e438e",
   "metadata": {},
   "outputs": [],
   "source": [
    "dev = qml.device('default.qubit', wires=8, shots=1000)\n",
    "\n",
    "def convolution_8(params,N=8):\n",
    "    k = 0\n",
    "    \n",
    "    for wire, wire_next in zip(range(0,N,2), range(1,N,2)):\n",
    "        qml.RY(params[k], wires = wire)\n",
    "        k = k + 1\n",
    "        \n",
    "        qml.CNOT(wires=[wire, wire_next])\n",
    "        \n",
    "    qml.Barrier()\n",
    "    \n",
    "    for wire, wire_next in zip(range(N-2,0,-2), range(N-3,-1,-2)):\n",
    "        qml.RY(params[k], wires = wire_next)\n",
    "        k = k + 1\n",
    "        \n",
    "        qml.CNOT(wires=[wire_next, wire])\n",
    "\n",
    "        \n",
    "def pooling_8(params, N=8):\n",
    "    qml.Barrier()\n",
    "    \n",
    "    k = N\n",
    "    # First pooling 8->4\n",
    "    for wire_meas, wire_next in zip(range(0,N,2), range(1,N,2)):\n",
    "        m_0 = qml.measure(wire_meas)\n",
    "\n",
    "        qml.cond(m_0 ==0, qml.RY)(params[k], wires=wire_next)\n",
    "        k = k + 1\n",
    "        qml.cond(m_0 ==1, qml.RY)(params[k], wires=wire_next)\n",
    "        k = k + 1\n",
    "    \n",
    "    qml.Barrier()\n",
    "    \n",
    "    # Second pooling 4->2\n",
    "    for wire_meas, wire_next in zip(range(1,N,4), range(3,N,4)):\n",
    "        m_0 = qml.measure(wire_meas)\n",
    "\n",
    "        qml.cond(m_0 ==0, qml.RY)(params[k], wires=wire_next)\n",
    "        k = k + 1\n",
    "        qml.cond(m_0 ==1, qml.RY)(params[k], wires=wire_next)\n",
    "        k = k + 1\n",
    "        \n",
    "    qml.Barrier()\n",
    "    \n",
    "    qml.RY(params[k], wires = 3)\n",
    "    k = k + 1\n",
    "    qml.RY(params[k], wires = 7)\n",
    "    k = k + 1\n",
    "    \n",
    "    # Third pooling 2->1\n",
    "    for wire_meas, wire_next in zip(range(3,N,8), range(7,N,4)):\n",
    "        m_0 = qml.measure(wire_meas)\n",
    "\n",
    "        qml.cond(m_0 ==0, qml.RY)(params[k], wires=wire_next)\n",
    "        k = k + 1\n",
    "        qml.cond(m_0 ==1, qml.RY)(params[k], wires=wire_next)\n",
    "        k = k + 1\n",
    "        \n",
    "@qml.qnode(dev)        \n",
    "def qcnn_8(params_vqe,params):\n",
    "    vqe_ising_chain_circuit(params_vqe, 8)\n",
    "    qml.Barrier()\n",
    "    convolution_8(params)\n",
    "    pooling_8(params)\n",
    "    \n",
    "    return qml.probs(wires=7)"
   ]
  },
  {
   "cell_type": "code",
   "execution_count": 4,
   "id": "f1b9fe4d-733f-4eeb-8afe-b89e33860484",
   "metadata": {},
   "outputs": [],
   "source": [
    "def cross_entropy_loss(labels, predictions):\n",
    "    '''\n",
    "    f = - Σ [(Yi*log(Pi) + (1 - Yi)*log(1 - Pi) )]  for i in TrainingSet\n",
    "    '''\n",
    "    loss = 0\n",
    "    for l, p in zip(labels, predictions):\n",
    "        term = ( l * np.log(p) + (1 - l) * np.log(1 - p) )\n",
    "        loss = loss + term\n",
    "\n",
    "    return -1 * loss"
   ]
  },
  {
   "cell_type": "code",
   "execution_count": 44,
   "id": "a3021c7e-1f96-425b-b817-a870139caf9a",
   "metadata": {},
   "outputs": [],
   "source": [
    "def cost_fn(params, X, Y):\n",
    "    predictions = [qcnn_8(x, params) for x in X]\n",
    "    loss = cross_entropy(Y, predictions)\n",
    "    \n",
    "    return loss"
   ]
  },
  {
   "cell_type": "code",
   "execution_count": 45,
   "id": "0dd1b540-dbe6-4b98-b9e4-abf782d2a295",
   "metadata": {},
   "outputs": [],
   "source": [
    "def qcnn_training(X_train, Y_train, steps = 100, lr = 0.001, batch_size = 25, N = 8, plot = True):\n",
    "    # Initialize parameters randomly\n",
    "    params = np.random.randn(3*N)\n",
    "    \n",
    "    # Set optimizer\n",
    "    opt = qml.GradientDescentOptimizer(stepsize=lr)\n",
    "    \n",
    "    loss_history = []\n",
    "    batch_size = min(len(X_train), batch_size)\n",
    "    \n",
    "    progress = tqdm(range(steps))\n",
    "    for epoch in progress:\n",
    "        batch_index = np.random.randint(0, len(X_train), (batch_size,))\n",
    "        \n",
    "        X_batch = [X_train[i] for i in batch_index]\n",
    "        Y_batch = [Y_train[i] for i in batch_index]\n",
    "\n",
    "        # Compute current loss and update parameters\n",
    "        params, cost_new = opt.step_and_cost(lambda v: cost_fn(v, X_batch, Y_batch), params)\n",
    "        \n",
    "        loss_history.append(cost_new)\n",
    "        \n",
    "        # Set description to current loss\n",
    "        progress.set_description('Cost: {0}'.format(np.round(cost_new,3)))\n",
    "\n",
    "    if plot:\n",
    "        plt.figure(figsize=(15,5))\n",
    "        plt.plot(np.arange(steps), loss_history)\n",
    "        plt.title('Loss history')\n",
    "        plt.ylabel('Cross entropy')\n",
    "        plt.xlabel('Epoch')\n",
    "        plt.grid(True)\n",
    "        \n",
    "    return loss_history, params"
   ]
  },
  {
   "cell_type": "code",
   "execution_count": 46,
   "id": "05833a8e-508f-4018-851a-28616cb48471",
   "metadata": {},
   "outputs": [
    {
     "name": "stdout",
     "output_type": "stream",
     "text": [
      "0: ──RY(0.00)─╭C────────────────────||──RY(0.00)──||──RY(0.00)─╭C──||───────────────||\n",
      "1: ──RY(0.00)─╰X─╭C─────────────────||──RY(0.00)──||───────────╰X──||──RY(0.00)─╭C──||\n",
      "2: ──RY(0.00)────╰X─╭C──────────────||──RY(0.00)──||──RY(0.00)─╭C──||───────────╰X──||\n",
      "3: ──RY(0.00)───────╰X─╭C───────────||──RY(0.00)──||───────────╰X──||──RY(0.00)─╭C──||\n",
      "4: ──RY(0.00)──────────╰X─╭C────────||──RY(0.00)──||──RY(0.00)─╭C──||───────────╰X──||\n",
      "5: ──RY(0.00)─────────────╰X─╭C─────||──RY(0.00)──||───────────╰X──||──RY(0.00)─╭C──||\n",
      "6: ──RY(0.00)────────────────╰X─╭C──||──RY(0.00)──||──RY(0.00)─╭C──||───────────╰X──||\n",
      "7: ──RY(0.00)───────────────────╰X──||──RY(0.00)──||───────────╰X──||───────────────||\n",
      "\n",
      "──╭C─────────────────────────╭C──────────────────────────||───────────────────────────\n",
      "──╰ControlledOperation(0.00)─╰ControlledOperation(0.00)──||─╭C────────────────────────\n",
      "──╭C─────────────────────────╭C──────────────────────────||─│─────────────────────────\n",
      "──╰ControlledOperation(0.00)─╰ControlledOperation(0.00)──||─╰ControlledOperation(0.00)\n",
      "──╭C─────────────────────────╭C──────────────────────────||───────────────────────────\n",
      "──╰ControlledOperation(0.00)─╰ControlledOperation(0.00)──||─╭C────────────────────────\n",
      "──╭C─────────────────────────╭C──────────────────────────||─│─────────────────────────\n",
      "──╰ControlledOperation(0.00)─╰ControlledOperation(0.00)──||─╰ControlledOperation(0.00)\n",
      "\n",
      "──────────────────────────────||─────────────────────────────────────────────────────────────────┤\n",
      "──╭C──────────────────────────||─────────────────────────────────────────────────────────────────┤\n",
      "──│───────────────────────────||─────────────────────────────────────────────────────────────────┤\n",
      "──╰ControlledOperation(0.00)──||──RY(0.00)─╭C─────────────────────────╭C─────────────────────────┤\n",
      "──────────────────────────────||───────────│──────────────────────────│──────────────────────────┤\n",
      "──╭C──────────────────────────||───────────│──────────────────────────│──────────────────────────┤\n",
      "──│───────────────────────────||───────────│──────────────────────────│──────────────────────────┤\n",
      "──╰ControlledOperation(0.00)──||──RY(0.00)─╰ControlledOperation(0.00)─╰ControlledOperation(0.00)─┤\n",
      "\n",
      "        \n",
      "        \n",
      "        \n",
      "        \n",
      "        \n",
      "        \n",
      "        \n",
      "   Probs\n"
     ]
    }
   ],
   "source": [
    "drawer = qml.draw(qcnn_8)\n",
    "print(drawer([0]*100,[0]*100))"
   ]
  },
  {
   "cell_type": "code",
   "execution_count": 47,
   "id": "ffbbc530-f3a1-4a0a-9cc1-326df62f00d6",
   "metadata": {},
   "outputs": [],
   "source": [
    "data = joblib.load('./params.job')"
   ]
  },
  {
   "cell_type": "code",
   "execution_count": 48,
   "id": "5b62f234-6164-4bef-b641-0b2125fa86fe",
   "metadata": {},
   "outputs": [
    {
     "name": "stdout",
     "output_type": "stream",
     "text": [
      "Size of Training Set: 50\n"
     ]
    }
   ],
   "source": [
    "X_train = np.array(data[0][1])\n",
    "Y_train = np.array(data[0][2])\n",
    "\n",
    "for J in range(1,len(data)):\n",
    "    X_train = np.concatenate((X_train, np.array(data[J][1])))\n",
    "    Y_train = np.concatenate((Y_train, np.array(data[J][2])))\n",
    "    \n",
    "print('Size of Training Set: {0}'.format(np.shape(X_train)[0]))"
   ]
  },
  {
   "cell_type": "code",
   "execution_count": 49,
   "id": "6475d4f9-0abf-4f4b-9be4-84d44ba52a76",
   "metadata": {},
   "outputs": [],
   "source": [
    "def cross_entropy(labels, predictions):\n",
    "    loss = 0\n",
    "    for l, p in zip(labels, predictions):\n",
    "        c_entropy = l * (anp.log(p[l])) + (1 - l) * anp.log(1 - p[1 - l])\n",
    "        loss = loss + c_entropy\n",
    "\n",
    "    return -1 * loss"
   ]
  },
  {
   "cell_type": "code",
   "execution_count": 50,
   "id": "ca604be8-05a0-4687-95c5-ee1ab1b1036f",
   "metadata": {},
   "outputs": [
    {
     "data": {
      "text/plain": [
       "tensor(nan, requires_grad=True)"
      ]
     },
     "execution_count": 50,
     "metadata": {},
     "output_type": "execute_result"
    }
   ],
   "source": [
    "cross_entropy_loss(Y_train, Y_train + 1)"
   ]
  },
  {
   "cell_type": "code",
   "execution_count": null,
   "id": "46df7007-337b-4569-aefe-def0d2d7cf5d",
   "metadata": {},
   "outputs": [
    {
     "data": {
      "application/vnd.jupyter.widget-view+json": {
       "model_id": "68e2729006eb49b8a6d1c88a5b24cc5a",
       "version_major": 2,
       "version_minor": 0
      },
      "text/plain": [
       "  0%|          | 0/300 [00:00<?, ?it/s]"
      ]
     },
     "metadata": {},
     "output_type": "display_data"
    }
   ],
   "source": [
    "loss_history, params = qcnn_training(X_train, Y_train, lr = 1e-2, steps = 300)"
   ]
  },
  {
   "cell_type": "code",
   "execution_count": 41,
   "id": "36d3fe5e-b971-40fa-9dab-a548486ebd58",
   "metadata": {},
   "outputs": [
    {
     "name": "stdout",
     "output_type": "stream",
     "text": [
      "0: ──RY(2.10)─╭C────────────────────||──RY(0.87)──||──RY(-0.87)─╭C──||────────────────||─╭C────────\n",
      "1: ──RY(1.17)─╰X─╭C─────────────────||──RY(1.12)──||────────────╰X──||──RY(0.04)──╭C──||─╰RY(-0.99)\n",
      "2: ──RY(1.23)────╰X─╭C──────────────||──RY(1.19)──||──RY(0.01)──╭C──||────────────╰X──||─╭C────────\n",
      "3: ──RY(1.25)───────╰X─╭C───────────||──RY(1.18)──||────────────╰X──||──RY(-0.90)─╭C──||─╰RY(0.19)─\n",
      "4: ──RY(1.26)──────────╰X─╭C────────||──RY(1.17)──||──RY(-0.99)─╭C──||────────────╰X──||─╭C────────\n",
      "5: ──RY(1.25)─────────────╰X─╭C─────||──RY(1.21)──||────────────╰X──||──RY(-0.79)─╭C──||─╰RY(0.30)─\n",
      "6: ──RY(1.24)────────────────╰X─╭C──||──RY(1.27)──||──RY(-0.16)─╭C──||────────────╰X──||─╭C────────\n",
      "7: ──RY(1.23)───────────────────╰X──||──RY(1.37)──||────────────╰X──||────────────────||─╰RY(-0.32)\n",
      "\n",
      "──╭C──────────||───────────────────────||────────────────────────────────┤       \n",
      "──╰RY(-0.56)──||─╭C─────────╭C─────────||────────────────────────────────┤       \n",
      "──╭C──────────||─│──────────│──────────||────────────────────────────────┤       \n",
      "──╰RY(-0.98)──||─╰RY(-0.16)─╰RY(0.22)──||──RY(-0.70)─╭C────────╭C────────┤       \n",
      "──╭C──────────||───────────────────────||────────────│─────────│─────────┤       \n",
      "──╰RY(-0.64)──||─╭C─────────╭C─────────||────────────│─────────│─────────┤       \n",
      "──╭C──────────||─│──────────│──────────||────────────│─────────│─────────┤       \n",
      "──╰RY(-2.30)──||─╰RY(1.24)──╰RY(1.89)──||──RY(-0.63)─╰RY(0.52)─╰RY(0.96)─┤  Probs\n"
     ]
    }
   ],
   "source": [
    "drawer = qml.draw(qcnn_8)\n",
    "print(drawer(X_train[2],params))"
   ]
  },
  {
   "cell_type": "code",
   "execution_count": null,
   "id": "68a2d021-3f3d-417c-8720-514ee7ae6876",
   "metadata": {},
   "outputs": [],
   "source": []
  }
 ],
 "metadata": {
  "kernelspec": {
   "display_name": "Python 3 (ipykernel)",
   "language": "python",
   "name": "python3"
  },
  "language_info": {
   "codemirror_mode": {
    "name": "ipython",
    "version": 3
   },
   "file_extension": ".py",
   "mimetype": "text/x-python",
   "name": "python",
   "nbconvert_exporter": "python",
   "pygments_lexer": "ipython3",
   "version": "3.7.13"
  }
 },
 "nbformat": 4,
 "nbformat_minor": 5
}
