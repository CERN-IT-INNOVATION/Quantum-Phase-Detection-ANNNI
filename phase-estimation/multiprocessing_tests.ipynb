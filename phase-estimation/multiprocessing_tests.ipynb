{
 "cells": [
  {
   "cell_type": "code",
   "execution_count": 18,
   "id": "07692bba-83db-4ac6-881a-bb2c596eac91",
   "metadata": {},
   "outputs": [],
   "source": [
    "import multiprocessing\n",
    "import time\n",
    "\n",
    "import numpy as np"
   ]
  },
  {
   "cell_type": "code",
   "execution_count": 17,
   "id": "c44dd151-2d84-4f6f-bbc3-3f2499328b4f",
   "metadata": {},
   "outputs": [
    {
     "data": {
      "text/plain": [
       "16"
      ]
     },
     "execution_count": 17,
     "metadata": {},
     "output_type": "execute_result"
    }
   ],
   "source": [
    "multiprocessing.cpu_count()"
   ]
  },
  {
   "cell_type": "code",
   "execution_count": 14,
   "id": "b1b30591-fb3b-45f2-9a40-412da5272fd5",
   "metadata": {},
   "outputs": [
    {
     "name": "stdout",
     "output_type": "stream",
     "text": [
      "Starting to sleep\n",
      "Done sleeping\n",
      "Starting to sleep\n",
      "Done sleeping\n",
      "Done in 2.0018 seconds\n"
     ]
    }
   ],
   "source": [
    "def sleepy_man():\n",
    "    print('Starting to sleep')\n",
    "    time.sleep(1)\n",
    "    print('Done sleeping')\n",
    "\n",
    "tic = time.time()\n",
    "sleepy_man()\n",
    "sleepy_man()\n",
    "toc = time.time()\n",
    "\n",
    "print('Done in {:.4f} seconds'.format(toc-tic))"
   ]
  },
  {
   "cell_type": "code",
   "execution_count": 15,
   "id": "5042ef1f-7e2f-4991-923d-7b0a6d8a2ec3",
   "metadata": {},
   "outputs": [
    {
     "name": "stdout",
     "output_type": "stream",
     "text": [
      "Starting to sleep\n",
      "Done in 0.0055 seconds\n",
      "Starting to sleep\n",
      "Done sleeping\n",
      "Done sleeping\n"
     ]
    }
   ],
   "source": [
    "def sleepy_man():\n",
    "    print('Starting to sleep')\n",
    "    time.sleep(1)\n",
    "    print('Done sleeping')\n",
    "\n",
    "tic = time.time()\n",
    "p1 =  multiprocessing.Process(target= sleepy_man)\n",
    "p2 =  multiprocessing.Process(target= sleepy_man)\n",
    "p1.start()\n",
    "p2.start()\n",
    "toc = time.time()\n",
    "\n",
    "print('Done in {:.4f} seconds'.format(toc-tic))"
   ]
  },
  {
   "cell_type": "code",
   "execution_count": 16,
   "id": "1fd47b7e-e360-4919-86a8-1c2ace31f470",
   "metadata": {},
   "outputs": [
    {
     "name": "stdout",
     "output_type": "stream",
     "text": [
      "Starting to sleep\n",
      "Starting to sleep\n",
      "Starting to sleep\n",
      "Starting to sleep\n",
      "Starting to sleep\n",
      "Starting to sleep\n",
      "Starting to sleep\n",
      "Starting to sleep\n",
      "Starting to sleep\n",
      "Starting to sleep\n",
      "Done sleeping\n",
      "Done sleeping\n",
      "Done sleeping\n",
      "Done sleeping\n",
      "Done sleeping\n",
      "Done sleeping\n",
      "Done sleeping\n",
      "Done sleeping\n",
      "Done sleeping\n",
      "Done sleeping\n",
      "Done in 1.0385 seconds\n"
     ]
    }
   ],
   "source": [
    "tic = time.time()\n",
    "\n",
    "process_list = []\n",
    "for i in range(10):\n",
    "    p =  multiprocessing.Process(target= sleepy_man)\n",
    "    p.start()\n",
    "    process_list.append(p)\n",
    "\n",
    "for process in process_list:\n",
    "    process.join()\n",
    "\n",
    "toc = time.time()\n",
    "\n",
    "print('Done in {:.4f} seconds'.format(toc-tic))"
   ]
  },
  {
   "cell_type": "code",
   "execution_count": 29,
   "id": "4ac2890b-09bf-4c23-bed7-75da7784aa62",
   "metadata": {},
   "outputs": [],
   "source": [
    "# Creating a heavier function to check cpu usage:\n",
    "def heavyfn():\n",
    "    x0 = 14\n",
    "    for i in range(5000000):\n",
    "        x0 = np.sin(x0)\n",
    "        "
   ]
  },
  {
   "cell_type": "code",
   "execution_count": 30,
   "id": "7eee2868-1d40-49bb-8425-19455426efe8",
   "metadata": {},
   "outputs": [],
   "source": [
    "process_list = []\n",
    "for i in range(16):\n",
    "    p =  multiprocessing.Process(target= heavyfn)\n",
    "    p.start()\n",
    "    process_list.append(p)"
   ]
  },
  {
   "cell_type": "code",
   "execution_count": null,
   "id": "e19f1241-ae7c-497c-8b62-c68823c8569a",
   "metadata": {},
   "outputs": [],
   "source": []
  },
  {
   "cell_type": "code",
   "execution_count": 31,
   "id": "d74b63de-b87d-421a-b906-2427b7a8b757",
   "metadata": {},
   "outputs": [],
   "source": [
    "def func_with_arg(x):\n",
    "    return x + 1"
   ]
  },
  {
   "cell_type": "code",
   "execution_count": 38,
   "id": "b19b4634-c879-4464-aff2-de8c97973b03",
   "metadata": {},
   "outputs": [
    {
     "name": "stdout",
     "output_type": "stream",
     "text": [
      "Done in 0.2380 seconds\n"
     ]
    }
   ],
   "source": [
    "tic = time.time()\n",
    "\n",
    "process_list = []\n",
    "for i in range(100):\n",
    "    p =  multiprocessing.Process(target = func_with_arg, args = [i] )\n",
    "    p.start()\n",
    "    process_list.append(p)\n",
    "\n",
    "for process in process_list:\n",
    "    process.join()\n",
    "\n",
    "toc = time.time()\n",
    "\n",
    "print('Done in {:.4f} seconds'.format(toc-tic))"
   ]
  },
  {
   "cell_type": "code",
   "execution_count": null,
   "id": "7f6254f6-eb56-4c0c-9005-774ffbe13d2b",
   "metadata": {},
   "outputs": [],
   "source": []
  }
 ],
 "metadata": {
  "kernelspec": {
   "display_name": "Python 3 (ipykernel)",
   "language": "python",
   "name": "python3"
  },
  "language_info": {
   "codemirror_mode": {
    "name": "ipython",
    "version": 3
   },
   "file_extension": ".py",
   "mimetype": "text/x-python",
   "name": "python",
   "nbconvert_exporter": "python",
   "pygments_lexer": "ipython3",
   "version": "3.10.4"
  }
 },
 "nbformat": 4,
 "nbformat_minor": 5
}
