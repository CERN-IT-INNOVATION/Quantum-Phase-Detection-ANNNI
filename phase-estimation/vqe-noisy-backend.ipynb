{
 "cells": [
  {
   "cell_type": "code",
   "execution_count": 186,
   "id": "2cee4893-8e1b-41f3-bd8b-9f001211638c",
   "metadata": {},
   "outputs": [],
   "source": [
    "### IMPORTS ###\n",
    "# Quantum libraries:\n",
    "import pennylane as qml\n",
    "from pennylane import numpy as np\n",
    "import jax\n",
    "import jax.numpy as jnp\n",
    "from jax import jit\n",
    "from functools import partial\n",
    "\n",
    "# Plotting\n",
    "from matplotlib import pyplot as plt\n",
    "\n",
    "# Other\n",
    "import copy\n",
    "from tqdm.notebook import tqdm # Pretty progress bars\n",
    "from IPython.display import Markdown, display # Better prints\n",
    "import joblib # Writing and loading\n",
    "##############\n"
   ]
  },
  {
   "cell_type": "code",
   "execution_count": 187,
   "id": "e73180e2-7f3b-4b94-aa09-d29f710e4cc7",
   "metadata": {},
   "outputs": [],
   "source": [
    "N = 5\n",
    "dev = qml.device(\"default.mixed\", wires = 5)\n",
    "dev_jax = qml.device(\"default.qubit.jax\", wires = 5)\n",
    "J = 1\n",
    "l_steps = 100\n",
    "\n",
    "lams = np.linspace(0,2*J,l_steps)"
   ]
  },
  {
   "cell_type": "code",
   "execution_count": 298,
   "id": "4f41a33c-936e-4916-8600-b7aaa79afebd",
   "metadata": {},
   "outputs": [],
   "source": [
    "###################\n",
    "## VQE FUNCTIONS ##\n",
    "###################\n",
    "\n",
    "def qml_build_H(N, lam, J):\n",
    "    '''\n",
    "    Set up Hamiltonian: \n",
    "            H = lam*Σsigma^i_z - J*Σsigma^i_x*sigma^{i+1}_ \n",
    "    '''\n",
    "    # Interaction of spins with magnetic field\n",
    "    H = lam * qml.PauliZ(0)\n",
    "    for i in range(1,N):\n",
    "        H = H + lam * qml.PauliZ(i)\n",
    "        \n",
    "    # Interaction between spins:\n",
    "    for i in range(0,N-1):\n",
    "        H = H + J*(-1)*( qml.PauliX(i) @ qml.PauliX(i+1) )\n",
    "    \n",
    "    return H\n",
    "\n",
    "def vqe_circuit(N, param, H, shift_invariance = 0):\n",
    "    for spin in range(N):\n",
    "        qml.RY(param[spin], wires = spin)\n",
    "    \n",
    "    return qml.expval(H)\n"
   ]
  },
  {
   "cell_type": "code",
   "execution_count": 309,
   "id": "75dd58e2-2859-42d6-a1cf-0131f1a9dd30",
   "metadata": {},
   "outputs": [],
   "source": [
    "qcircuit = qml.QNode(vqe_circuit, dev, interface = \"jax\")\n",
    "vcircuit = jax.vmap(qcircuit)"
   ]
  },
  {
   "cell_type": "code",
   "execution_count": 310,
   "id": "61087ea9-12dd-42b4-b348-83281a978964",
   "metadata": {},
   "outputs": [],
   "source": [
    "Y = np.arange(N)"
   ]
  },
  {
   "cell_type": "code",
   "execution_count": 311,
   "id": "838b8f28-107b-490b-8c2e-c2f55cf0f611",
   "metadata": {},
   "outputs": [
    {
     "name": "stdout",
     "output_type": "stream",
     "text": [
      "0: ──RY(0.00)─┤ ╭<𝓗>\n",
      "1: ──RY(1.00)─┤ ├<𝓗>\n",
      "2: ──RY(2.00)─┤ ├<𝓗>\n",
      "3: ──RY(3.00)─┤ ├<𝓗>\n",
      "4: ──RY(4.00)─┤ ╰<𝓗>\n"
     ]
    }
   ],
   "source": [
    "drawer = qml.draw(qcircuit)\n",
    "print(drawer(N, Y, qml_build_H(N, 0, J), 0) )"
   ]
  },
  {
   "cell_type": "code",
   "execution_count": 312,
   "id": "9829ac21-f68f-4762-8b31-2caedba14efb",
   "metadata": {},
   "outputs": [],
   "source": [
    "fn = lambda x: qcircuit(N, x, qml_build_H(N, 0, J), 0)"
   ]
  },
  {
   "cell_type": "code",
   "execution_count": 313,
   "id": "15a0248e-6787-4d61-b4cf-df034de8f1fe",
   "metadata": {},
   "outputs": [],
   "source": [
    "a = fn(Y)"
   ]
  },
  {
   "cell_type": "code",
   "execution_count": 314,
   "id": "2fd40ea4-1027-4d12-a4d4-a1fb4ab29227",
   "metadata": {},
   "outputs": [
    {
     "data": {
      "text/plain": [
       "DeviceArray(-0.78666747, dtype=float32)"
      ]
     },
     "execution_count": 314,
     "metadata": {},
     "output_type": "execute_result"
    }
   ],
   "source": [
    "a"
   ]
  },
  {
   "cell_type": "code",
   "execution_count": 315,
   "id": "3979c5a7-d8e6-4a42-bf35-8ab6fa89d2a1",
   "metadata": {},
   "outputs": [],
   "source": [
    "v_fn = jax.vmap(fn)"
   ]
  },
  {
   "cell_type": "code",
   "execution_count": 316,
   "id": "1050e186-0891-44fb-9829-00614713faab",
   "metadata": {},
   "outputs": [],
   "source": [
    "Xs = []\n",
    "\n",
    "for i in range(2):\n",
    "    X = jnp.array(np.random.rand(N))\n",
    "    Xs.append(X)\n",
    "    \n",
    "Xs = jnp.array(Xs)"
   ]
  },
  {
   "cell_type": "code",
   "execution_count": 317,
   "id": "c6756059-4115-4609-bf7a-32f2b8400f7d",
   "metadata": {},
   "outputs": [
    {
     "ename": "NotImplementedError",
     "evalue": "batching rules are implemented only for id_tap, not for call.",
     "output_type": "error",
     "traceback": [
      "\u001b[0;31m---------------------------------------------------------------------------\u001b[0m",
      "\u001b[0;31mNotImplementedError\u001b[0m                       Traceback (most recent call last)",
      "Input \u001b[0;32mIn [317]\u001b[0m, in \u001b[0;36m<cell line: 1>\u001b[0;34m()\u001b[0m\n\u001b[0;32m----> 1\u001b[0m \u001b[43mv_fn\u001b[49m\u001b[43m(\u001b[49m\u001b[43mXs\u001b[49m\u001b[43m)\u001b[49m\n",
      "    \u001b[0;31m[... skipping hidden 3 frame]\u001b[0m\n",
      "Input \u001b[0;32mIn [312]\u001b[0m, in \u001b[0;36m<lambda>\u001b[0;34m(x)\u001b[0m\n\u001b[0;32m----> 1\u001b[0m fn \u001b[38;5;241m=\u001b[39m \u001b[38;5;28;01mlambda\u001b[39;00m x: \u001b[43mqcircuit\u001b[49m\u001b[43m(\u001b[49m\u001b[43mN\u001b[49m\u001b[43m,\u001b[49m\u001b[43m \u001b[49m\u001b[43mx\u001b[49m\u001b[43m,\u001b[49m\u001b[43m \u001b[49m\u001b[43mqml_build_H\u001b[49m\u001b[43m(\u001b[49m\u001b[43mN\u001b[49m\u001b[43m,\u001b[49m\u001b[43m \u001b[49m\u001b[38;5;241;43m0\u001b[39;49m\u001b[43m,\u001b[49m\u001b[43m \u001b[49m\u001b[43mJ\u001b[49m\u001b[43m)\u001b[49m\u001b[43m,\u001b[49m\u001b[43m \u001b[49m\u001b[38;5;241;43m0\u001b[39;49m\u001b[43m)\u001b[49m\n",
      "File \u001b[0;32m~/anaconda3/envs/qua/lib/python3.10/site-packages/pennylane/qnode.py:576\u001b[0m, in \u001b[0;36mQNode.__call__\u001b[0;34m(self, *args, **kwargs)\u001b[0m\n\u001b[1;32m    569\u001b[0m using_custom_cache \u001b[38;5;241m=\u001b[39m (\n\u001b[1;32m    570\u001b[0m     \u001b[38;5;28mhasattr\u001b[39m(cache, \u001b[38;5;124m\"\u001b[39m\u001b[38;5;124m__getitem__\u001b[39m\u001b[38;5;124m\"\u001b[39m)\n\u001b[1;32m    571\u001b[0m     \u001b[38;5;129;01mand\u001b[39;00m \u001b[38;5;28mhasattr\u001b[39m(cache, \u001b[38;5;124m\"\u001b[39m\u001b[38;5;124m__setitem__\u001b[39m\u001b[38;5;124m\"\u001b[39m)\n\u001b[1;32m    572\u001b[0m     \u001b[38;5;129;01mand\u001b[39;00m \u001b[38;5;28mhasattr\u001b[39m(cache, \u001b[38;5;124m\"\u001b[39m\u001b[38;5;124m__delitem__\u001b[39m\u001b[38;5;124m\"\u001b[39m)\n\u001b[1;32m    573\u001b[0m )\n\u001b[1;32m    574\u001b[0m \u001b[38;5;28mself\u001b[39m\u001b[38;5;241m.\u001b[39m_tape_cached \u001b[38;5;241m=\u001b[39m using_custom_cache \u001b[38;5;129;01mand\u001b[39;00m \u001b[38;5;28mself\u001b[39m\u001b[38;5;241m.\u001b[39mtape\u001b[38;5;241m.\u001b[39mhash \u001b[38;5;129;01min\u001b[39;00m cache\n\u001b[0;32m--> 576\u001b[0m res \u001b[38;5;241m=\u001b[39m \u001b[43mqml\u001b[49m\u001b[38;5;241;43m.\u001b[39;49m\u001b[43mexecute\u001b[49m\u001b[43m(\u001b[49m\n\u001b[1;32m    577\u001b[0m \u001b[43m    \u001b[49m\u001b[43m[\u001b[49m\u001b[38;5;28;43mself\u001b[39;49m\u001b[38;5;241;43m.\u001b[39;49m\u001b[43mtape\u001b[49m\u001b[43m]\u001b[49m\u001b[43m,\u001b[49m\n\u001b[1;32m    578\u001b[0m \u001b[43m    \u001b[49m\u001b[43mdevice\u001b[49m\u001b[38;5;241;43m=\u001b[39;49m\u001b[38;5;28;43mself\u001b[39;49m\u001b[38;5;241;43m.\u001b[39;49m\u001b[43mdevice\u001b[49m\u001b[43m,\u001b[49m\n\u001b[1;32m    579\u001b[0m \u001b[43m    \u001b[49m\u001b[43mgradient_fn\u001b[49m\u001b[38;5;241;43m=\u001b[39;49m\u001b[38;5;28;43mself\u001b[39;49m\u001b[38;5;241;43m.\u001b[39;49m\u001b[43mgradient_fn\u001b[49m\u001b[43m,\u001b[49m\n\u001b[1;32m    580\u001b[0m \u001b[43m    \u001b[49m\u001b[43minterface\u001b[49m\u001b[38;5;241;43m=\u001b[39;49m\u001b[38;5;28;43mself\u001b[39;49m\u001b[38;5;241;43m.\u001b[39;49m\u001b[43minterface\u001b[49m\u001b[43m,\u001b[49m\n\u001b[1;32m    581\u001b[0m \u001b[43m    \u001b[49m\u001b[43mgradient_kwargs\u001b[49m\u001b[38;5;241;43m=\u001b[39;49m\u001b[38;5;28;43mself\u001b[39;49m\u001b[38;5;241;43m.\u001b[39;49m\u001b[43mgradient_kwargs\u001b[49m\u001b[43m,\u001b[49m\n\u001b[1;32m    582\u001b[0m \u001b[43m    \u001b[49m\u001b[43moverride_shots\u001b[49m\u001b[38;5;241;43m=\u001b[39;49m\u001b[43moverride_shots\u001b[49m\u001b[43m,\u001b[49m\n\u001b[1;32m    583\u001b[0m \u001b[43m    \u001b[49m\u001b[38;5;241;43m*\u001b[39;49m\u001b[38;5;241;43m*\u001b[39;49m\u001b[38;5;28;43mself\u001b[39;49m\u001b[38;5;241;43m.\u001b[39;49m\u001b[43mexecute_kwargs\u001b[49m\u001b[43m,\u001b[49m\n\u001b[1;32m    584\u001b[0m \u001b[43m\u001b[49m\u001b[43m)\u001b[49m\n\u001b[1;32m    586\u001b[0m \u001b[38;5;28;01mif\u001b[39;00m autograd\u001b[38;5;241m.\u001b[39misinstance(res, (\u001b[38;5;28mtuple\u001b[39m, \u001b[38;5;28mlist\u001b[39m)) \u001b[38;5;129;01mand\u001b[39;00m \u001b[38;5;28mlen\u001b[39m(res) \u001b[38;5;241m==\u001b[39m \u001b[38;5;241m1\u001b[39m:\n\u001b[1;32m    587\u001b[0m     \u001b[38;5;66;03m# If a device batch transform was applied, we need to 'unpack'\u001b[39;00m\n\u001b[1;32m    588\u001b[0m     \u001b[38;5;66;03m# the returned tuple/list to a float.\u001b[39;00m\n\u001b[0;32m   (...)\u001b[0m\n\u001b[1;32m    595\u001b[0m     \u001b[38;5;66;03m# TODO: find a more explicit way of determining that a batch transform\u001b[39;00m\n\u001b[1;32m    596\u001b[0m     \u001b[38;5;66;03m# was applied.\u001b[39;00m\n\u001b[1;32m    598\u001b[0m     res \u001b[38;5;241m=\u001b[39m res[\u001b[38;5;241m0\u001b[39m]\n",
      "File \u001b[0;32m~/anaconda3/envs/qua/lib/python3.10/site-packages/pennylane/interfaces/execution.py:409\u001b[0m, in \u001b[0;36mexecute\u001b[0;34m(tapes, device, gradient_fn, interface, mode, gradient_kwargs, cache, cachesize, max_diff, override_shots, expand_fn, max_expansion, device_batch_transform)\u001b[0m\n\u001b[1;32m    402\u001b[0m     interface_name \u001b[38;5;241m=\u001b[39m [k \u001b[38;5;28;01mfor\u001b[39;00m k, v \u001b[38;5;129;01min\u001b[39;00m INTERFACE_NAMES\u001b[38;5;241m.\u001b[39mitems() \u001b[38;5;28;01mif\u001b[39;00m interface \u001b[38;5;129;01min\u001b[39;00m v][\u001b[38;5;241m0\u001b[39m]\n\u001b[1;32m    404\u001b[0m     \u001b[38;5;28;01mraise\u001b[39;00m qml\u001b[38;5;241m.\u001b[39mQuantumFunctionError(\n\u001b[1;32m    405\u001b[0m         \u001b[38;5;124mf\u001b[39m\u001b[38;5;124m\"\u001b[39m\u001b[38;5;132;01m{\u001b[39;00minterface_name\u001b[38;5;132;01m}\u001b[39;00m\u001b[38;5;124m not found. Please install the latest \u001b[39m\u001b[38;5;124m\"\u001b[39m\n\u001b[1;32m    406\u001b[0m         \u001b[38;5;124mf\u001b[39m\u001b[38;5;124m\"\u001b[39m\u001b[38;5;124mversion of \u001b[39m\u001b[38;5;132;01m{\u001b[39;00minterface_name\u001b[38;5;132;01m}\u001b[39;00m\u001b[38;5;124m to enable the \u001b[39m\u001b[38;5;124m'\u001b[39m\u001b[38;5;132;01m{\u001b[39;00minterface\u001b[38;5;132;01m}\u001b[39;00m\u001b[38;5;124m'\u001b[39m\u001b[38;5;124m interface.\u001b[39m\u001b[38;5;124m\"\u001b[39m\n\u001b[1;32m    407\u001b[0m     ) \u001b[38;5;28;01mfrom\u001b[39;00m \u001b[38;5;21;01me\u001b[39;00m\n\u001b[0;32m--> 409\u001b[0m res \u001b[38;5;241m=\u001b[39m \u001b[43m_execute\u001b[49m\u001b[43m(\u001b[49m\n\u001b[1;32m    410\u001b[0m \u001b[43m    \u001b[49m\u001b[43mtapes\u001b[49m\u001b[43m,\u001b[49m\u001b[43m \u001b[49m\u001b[43mdevice\u001b[49m\u001b[43m,\u001b[49m\u001b[43m \u001b[49m\u001b[43mexecute_fn\u001b[49m\u001b[43m,\u001b[49m\u001b[43m \u001b[49m\u001b[43mgradient_fn\u001b[49m\u001b[43m,\u001b[49m\u001b[43m \u001b[49m\u001b[43mgradient_kwargs\u001b[49m\u001b[43m,\u001b[49m\u001b[43m \u001b[49m\u001b[43m_n\u001b[49m\u001b[38;5;241;43m=\u001b[39;49m\u001b[38;5;241;43m1\u001b[39;49m\u001b[43m,\u001b[49m\u001b[43m \u001b[49m\u001b[43mmax_diff\u001b[49m\u001b[38;5;241;43m=\u001b[39;49m\u001b[43mmax_diff\u001b[49m\u001b[43m,\u001b[49m\u001b[43m \u001b[49m\u001b[43mmode\u001b[49m\u001b[38;5;241;43m=\u001b[39;49m\u001b[43m_mode\u001b[49m\n\u001b[1;32m    411\u001b[0m \u001b[43m\u001b[49m\u001b[43m)\u001b[49m\n\u001b[1;32m    413\u001b[0m \u001b[38;5;28;01mreturn\u001b[39;00m batch_fn(res)\n",
      "File \u001b[0;32m~/anaconda3/envs/qua/lib/python3.10/site-packages/pennylane/interfaces/jax_jit.py:83\u001b[0m, in \u001b[0;36mexecute\u001b[0;34m(tapes, device, execute_fn, gradient_fn, gradient_kwargs, _n, max_diff, mode)\u001b[0m\n\u001b[1;32m     73\u001b[0m \u001b[38;5;28;01mif\u001b[39;00m gradient_fn \u001b[38;5;129;01mis\u001b[39;00m \u001b[38;5;28;01mNone\u001b[39;00m:\n\u001b[1;32m     74\u001b[0m     \u001b[38;5;28;01mreturn\u001b[39;00m _execute_with_fwd(\n\u001b[1;32m     75\u001b[0m         parameters,\n\u001b[1;32m     76\u001b[0m         tapes\u001b[38;5;241m=\u001b[39mtapes,\n\u001b[0;32m   (...)\u001b[0m\n\u001b[1;32m     80\u001b[0m         _n\u001b[38;5;241m=\u001b[39m_n,\n\u001b[1;32m     81\u001b[0m     )\n\u001b[0;32m---> 83\u001b[0m \u001b[38;5;28;01mreturn\u001b[39;00m \u001b[43m_execute\u001b[49m\u001b[43m(\u001b[49m\n\u001b[1;32m     84\u001b[0m \u001b[43m    \u001b[49m\u001b[43mparameters\u001b[49m\u001b[43m,\u001b[49m\n\u001b[1;32m     85\u001b[0m \u001b[43m    \u001b[49m\u001b[43mtapes\u001b[49m\u001b[38;5;241;43m=\u001b[39;49m\u001b[43mtapes\u001b[49m\u001b[43m,\u001b[49m\n\u001b[1;32m     86\u001b[0m \u001b[43m    \u001b[49m\u001b[43mdevice\u001b[49m\u001b[38;5;241;43m=\u001b[39;49m\u001b[43mdevice\u001b[49m\u001b[43m,\u001b[49m\n\u001b[1;32m     87\u001b[0m \u001b[43m    \u001b[49m\u001b[43mexecute_fn\u001b[49m\u001b[38;5;241;43m=\u001b[39;49m\u001b[43mexecute_fn\u001b[49m\u001b[43m,\u001b[49m\n\u001b[1;32m     88\u001b[0m \u001b[43m    \u001b[49m\u001b[43mgradient_fn\u001b[49m\u001b[38;5;241;43m=\u001b[39;49m\u001b[43mgradient_fn\u001b[49m\u001b[43m,\u001b[49m\n\u001b[1;32m     89\u001b[0m \u001b[43m    \u001b[49m\u001b[43mgradient_kwargs\u001b[49m\u001b[38;5;241;43m=\u001b[39;49m\u001b[43mgradient_kwargs\u001b[49m\u001b[43m,\u001b[49m\n\u001b[1;32m     90\u001b[0m \u001b[43m    \u001b[49m\u001b[43m_n\u001b[49m\u001b[38;5;241;43m=\u001b[39;49m\u001b[43m_n\u001b[49m\u001b[43m,\u001b[49m\n\u001b[1;32m     91\u001b[0m \u001b[43m\u001b[49m\u001b[43m)\u001b[49m\n",
      "File \u001b[0;32m~/anaconda3/envs/qua/lib/python3.10/site-packages/pennylane/interfaces/jax_jit.py:217\u001b[0m, in \u001b[0;36m_execute\u001b[0;34m(params, tapes, device, execute_fn, gradient_fn, gradient_kwargs, _n)\u001b[0m\n\u001b[1;32m    214\u001b[0m     \u001b[38;5;28;01mreturn\u001b[39;00m (\u001b[38;5;28mtuple\u001b[39m(res),)\n\u001b[1;32m    216\u001b[0m wrapped_exec\u001b[38;5;241m.\u001b[39mdefvjp(wrapped_exec_fwd, wrapped_exec_bwd)\n\u001b[0;32m--> 217\u001b[0m \u001b[38;5;28;01mreturn\u001b[39;00m \u001b[43mwrapped_exec\u001b[49m\u001b[43m(\u001b[49m\u001b[43mparams\u001b[49m\u001b[43m)\u001b[49m\n",
      "    \u001b[0;31m[... skipping hidden 7 frame]\u001b[0m\n",
      "File \u001b[0;32m~/anaconda3/envs/qua/lib/python3.10/site-packages/pennylane/interfaces/jax_jit.py:145\u001b[0m, in \u001b[0;36m_execute.<locals>.wrapped_exec\u001b[0;34m(params)\u001b[0m\n\u001b[1;32m    142\u001b[0m     \u001b[38;5;28;01mreturn\u001b[39;00m res\n\u001b[1;32m    144\u001b[0m shapes \u001b[38;5;241m=\u001b[39m [jax\u001b[38;5;241m.\u001b[39mShapeDtypeStruct((\u001b[38;5;241m1\u001b[39m,), dtype) \u001b[38;5;28;01mfor\u001b[39;00m _ \u001b[38;5;129;01min\u001b[39;00m \u001b[38;5;28mrange\u001b[39m(total_size)]\n\u001b[0;32m--> 145\u001b[0m res \u001b[38;5;241m=\u001b[39m \u001b[43mhost_callback\u001b[49m\u001b[38;5;241;43m.\u001b[39;49m\u001b[43mcall\u001b[49m\u001b[43m(\u001b[49m\u001b[43mwrapper\u001b[49m\u001b[43m,\u001b[49m\u001b[43m \u001b[49m\u001b[43mparams\u001b[49m\u001b[43m,\u001b[49m\u001b[43m \u001b[49m\u001b[43mresult_shape\u001b[49m\u001b[38;5;241;43m=\u001b[39;49m\u001b[43mshapes\u001b[49m\u001b[43m)\u001b[49m\n\u001b[1;32m    146\u001b[0m \u001b[38;5;28;01mreturn\u001b[39;00m res\n",
      "File \u001b[0;32m~/anaconda3/envs/qua/lib/python3.10/site-packages/jax/experimental/host_callback.py:692\u001b[0m, in \u001b[0;36mcall\u001b[0;34m(callback_func, arg, result_shape, call_with_device)\u001b[0m\n\u001b[1;32m    655\u001b[0m \u001b[38;5;28;01mdef\u001b[39;00m \u001b[38;5;21mcall\u001b[39m(callback_func: Callable, arg, \u001b[38;5;241m*\u001b[39m,\n\u001b[1;32m    656\u001b[0m          result_shape\u001b[38;5;241m=\u001b[39m\u001b[38;5;28;01mNone\u001b[39;00m,\n\u001b[1;32m    657\u001b[0m          call_with_device\u001b[38;5;241m=\u001b[39m\u001b[38;5;28;01mFalse\u001b[39;00m):\n\u001b[1;32m    658\u001b[0m   \u001b[38;5;124;03m\"\"\"Make a call to the host, and expect a result.\u001b[39;00m\n\u001b[1;32m    659\u001b[0m \n\u001b[1;32m    660\u001b[0m \u001b[38;5;124;03m  **Experimental: please give feedback, and expect changes!**\u001b[39;00m\n\u001b[0;32m   (...)\u001b[0m\n\u001b[1;32m    690\u001b[0m \u001b[38;5;124;03m  <jax.experimental.host_callback.html>`_.\u001b[39;00m\n\u001b[1;32m    691\u001b[0m \u001b[38;5;124;03m  \"\"\"\u001b[39;00m\n\u001b[0;32m--> 692\u001b[0m   \u001b[38;5;28;01mreturn\u001b[39;00m \u001b[43m_call\u001b[49m\u001b[43m(\u001b[49m\u001b[43mcallback_func\u001b[49m\u001b[43m,\u001b[49m\u001b[43m \u001b[49m\u001b[43marg\u001b[49m\u001b[43m,\u001b[49m\u001b[43m \u001b[49m\u001b[43mresult_shape\u001b[49m\u001b[38;5;241;43m=\u001b[39;49m\u001b[43mresult_shape\u001b[49m\u001b[43m,\u001b[49m\n\u001b[1;32m    693\u001b[0m \u001b[43m               \u001b[49m\u001b[43mcall_with_device\u001b[49m\u001b[38;5;241;43m=\u001b[39;49m\u001b[43mcall_with_device\u001b[49m\u001b[43m,\u001b[49m\u001b[43m \u001b[49m\u001b[43midentity\u001b[49m\u001b[38;5;241;43m=\u001b[39;49m\u001b[38;5;28;43;01mFalse\u001b[39;49;00m\u001b[43m)\u001b[49m\n",
      "File \u001b[0;32m~/anaconda3/envs/qua/lib/python3.10/site-packages/jax/experimental/host_callback.py:763\u001b[0m, in \u001b[0;36m_call\u001b[0;34m(callback_func, arg, result_shape, call_with_device, identity)\u001b[0m\n\u001b[1;32m    761\u001b[0m   params[\u001b[38;5;124m\"\u001b[39m\u001b[38;5;124mresult_treedef\u001b[39m\u001b[38;5;124m\"\u001b[39m] \u001b[38;5;241m=\u001b[39m result_treedef\n\u001b[1;32m    762\u001b[0m   params[\u001b[38;5;124m\"\u001b[39m\u001b[38;5;124mflat_results_aval\u001b[39m\u001b[38;5;124m\"\u001b[39m] \u001b[38;5;241m=\u001b[39m \u001b[38;5;28mtuple\u001b[39m(flat_results_aval)\n\u001b[0;32m--> 763\u001b[0m flat_results \u001b[38;5;241m=\u001b[39m \u001b[43moutside_call_p\u001b[49m\u001b[38;5;241;43m.\u001b[39;49m\u001b[43mbind\u001b[49m\u001b[43m(\u001b[49m\u001b[38;5;241;43m*\u001b[39;49m\u001b[43mflat_args\u001b[49m\u001b[43m,\u001b[49m\u001b[43m \u001b[49m\u001b[38;5;241;43m*\u001b[39;49m\u001b[38;5;241;43m*\u001b[39;49m\u001b[43mparams\u001b[49m\u001b[43m)\u001b[49m\n\u001b[1;32m    764\u001b[0m \u001b[38;5;28;01mreturn\u001b[39;00m result_treedef\u001b[38;5;241m.\u001b[39munflatten(flat_results) \u001b[38;5;28;01mif\u001b[39;00m \u001b[38;5;129;01mnot\u001b[39;00m identity \u001b[38;5;28;01melse\u001b[39;00m arg_treedef\u001b[38;5;241m.\u001b[39munflatten(flat_results)\n",
      "    \u001b[0;31m[... skipping hidden 3 frame]\u001b[0m\n",
      "File \u001b[0;32m~/anaconda3/envs/qua/lib/python3.10/site-packages/jax/experimental/host_callback.py:1451\u001b[0m, in \u001b[0;36m_outside_call_batching_rule\u001b[0;34m(batched_args, batch_dims, **params)\u001b[0m\n\u001b[1;32m   1449\u001b[0m \u001b[38;5;28;01mdef\u001b[39;00m \u001b[38;5;21m_outside_call_batching_rule\u001b[39m(batched_args, batch_dims, \u001b[38;5;241m*\u001b[39m\u001b[38;5;241m*\u001b[39mparams):\n\u001b[1;32m   1450\u001b[0m   \u001b[38;5;28;01mif\u001b[39;00m \u001b[38;5;129;01mnot\u001b[39;00m params[\u001b[38;5;124m\"\u001b[39m\u001b[38;5;124midentity\u001b[39m\u001b[38;5;124m\"\u001b[39m]:\n\u001b[0;32m-> 1451\u001b[0m     \u001b[38;5;28;01mraise\u001b[39;00m \u001b[38;5;167;01mNotImplementedError\u001b[39;00m(\u001b[38;5;124m\"\u001b[39m\u001b[38;5;124mbatching rules are implemented only for id_tap, not for call.\u001b[39m\u001b[38;5;124m\"\u001b[39m)\n\u001b[1;32m   1452\u001b[0m   \u001b[38;5;28;01massert\u001b[39;00m \u001b[38;5;124m\"\u001b[39m\u001b[38;5;124mhas_token\u001b[39m\u001b[38;5;124m\"\u001b[39m \u001b[38;5;129;01mnot\u001b[39;00m \u001b[38;5;129;01min\u001b[39;00m params\n\u001b[1;32m   1453\u001b[0m   new_params \u001b[38;5;241m=\u001b[39m _add_transform(params, \u001b[38;5;124m\"\u001b[39m\u001b[38;5;124mbatch\u001b[39m\u001b[38;5;124m\"\u001b[39m, batch_dims)\n",
      "\u001b[0;31mNotImplementedError\u001b[0m: batching rules are implemented only for id_tap, not for call."
     ]
    }
   ],
   "source": [
    "v_fn(Xs)"
   ]
  },
  {
   "cell_type": "code",
   "execution_count": null,
   "id": "9a9f4a61-6521-4e18-937e-492a4d4df838",
   "metadata": {},
   "outputs": [],
   "source": []
  }
 ],
 "metadata": {
  "kernelspec": {
   "display_name": "Python 3 (ipykernel)",
   "language": "python",
   "name": "python3"
  },
  "language_info": {
   "codemirror_mode": {
    "name": "ipython",
    "version": 3
   },
   "file_extension": ".py",
   "mimetype": "text/x-python",
   "name": "python",
   "nbconvert_exporter": "python",
   "pygments_lexer": "ipython3",
   "version": "3.10.4"
  }
 },
 "nbformat": 4,
 "nbformat_minor": 5
}
