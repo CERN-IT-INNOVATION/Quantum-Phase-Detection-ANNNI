{
 "cells": [
  {
   "cell_type": "code",
   "execution_count": 98,
   "id": "2cee4893-8e1b-41f3-bd8b-9f001211638c",
   "metadata": {},
   "outputs": [],
   "source": [
    "### IMPORTS ###\n",
    "# Quantum libraries:\n",
    "import pennylane as qml\n",
    "from pennylane import numpy as np\n",
    "import jax\n",
    "import jax.numpy as jnp\n",
    "from jax import jit\n",
    "from functools import partial\n",
    "\n",
    "# Plotting\n",
    "from matplotlib import pyplot as plt\n",
    "\n",
    "# Other\n",
    "import copy\n",
    "from tqdm.notebook import tqdm # Pretty progress bars\n",
    "from IPython.display import Markdown, display # Better prints\n",
    "import joblib # Writing and loading\n",
    "\n",
    "import multiprocessing\n",
    "##############\n"
   ]
  },
  {
   "cell_type": "code",
   "execution_count": 99,
   "id": "e73180e2-7f3b-4b94-aa09-d29f710e4cc7",
   "metadata": {},
   "outputs": [],
   "source": [
    "N = 4\n",
    "dev_vqe = qml.device(\"default.mixed\", wires = N)\n",
    "J = 1\n",
    "l_steps = 100\n",
    "shift_invariance = 0\n",
    "\n",
    "lams = np.linspace(0,2*J,l_steps)"
   ]
  },
  {
   "cell_type": "code",
   "execution_count": 100,
   "id": "4f41a33c-936e-4916-8600-b7aaa79afebd",
   "metadata": {},
   "outputs": [],
   "source": [
    "###################\n",
    "## VQE FUNCTIONS ##\n",
    "###################\n",
    "\n",
    "def qml_build_H(N, lam, J):\n",
    "    '''\n",
    "    Set up Hamiltonian: \n",
    "            H = lam*Σsigma^i_z - J*Σsigma^i_x*sigma^{i+1}_ \n",
    "    '''\n",
    "    # Interaction of spins with magnetic field\n",
    "    H = lam * qml.PauliZ(0)\n",
    "    for i in range(1,N):\n",
    "        H = H + lam * qml.PauliZ(i)\n",
    "        \n",
    "    # Interaction between spins:\n",
    "    for i in range(0,N-1):\n",
    "        H = H + J*(-1)*( qml.PauliX(i) @ qml.PauliX(i+1) )\n",
    "    \n",
    "    return H\n",
    "\n",
    "def vqe_circuit_block_1(N, param, shift_invariance = 0, index = 0, p_noise = 0):\n",
    "    '''\n",
    "    RX + RY + CNOTS\n",
    "    \n",
    "    shift_invariance = 0: Each wire permorms independent rotations.\n",
    "    shift_invariance = 1: Same rotation for odd and even wires,\n",
    "                         expect for the first and last that have unique\n",
    "                         rotation.\n",
    "    shift_invariance = 2: Same rotation for each wire\n",
    "    '''\n",
    "    if shift_invariance == 0: # Independent rotations\n",
    "        # Apply RX and RY to each wire:\n",
    "        for spin in range(N):\n",
    "            qml.RY(param[index + spin],     wires = spin)\n",
    "            #qml.BitFlip(p_noise, wires = spin)\n",
    "            qml.RX(param[index + N + spin], wires = spin)\n",
    "            #qml.BitFlip(p_noise, wires = spin)\n",
    "        return index + 2*N\n",
    "        \n",
    "    elif shift_invariance == 1: # RX and RY rotations\n",
    "        # Apply RX + RY for first wire\n",
    "        qml.RY(param[index + 0], wires = 0)\n",
    "        #qml.BitFlip(p_noise, wires = 0)\n",
    "        qml.RX(param[index + 1], wires = 0)\n",
    "        #qml.BitFlip(p_noise, wires = 0)\n",
    "        \n",
    "        # Apply RX + RY for last wire\n",
    "        qml.RY(param[index + 2], wires = N - 1)\n",
    "        #qml.BitFlip(p_noise, wires = N - 1)\n",
    "        qml.RX(param[index + 3], wires = N - 1)\n",
    "        #qml.BitFlip(p_noise, wires = N - 1)\n",
    "\n",
    "        # Apply RX + RY for even and odd wires\n",
    "        for spin in range(1,N-1,2):\n",
    "            qml.RY(param[index + 4], wires = spin)\n",
    "            qml.RY(param[index + 5], wires = spin+1)\n",
    "            #qml.BitFlip(p_noise, wires = spin)\n",
    "            #qml.BitFlip(p_noise, wires = spin+1)\n",
    "            qml.RX(param[index + 6], wires = spin)\n",
    "            qml.RX(param[index + 7], wires = spin+1)\n",
    "            #qml.BitFlip(p_noise, wires = spin)\n",
    "            #qml.BitFlip(p_noise, wires = spin+1)\n",
    "        \n",
    "        return index + 8\n",
    "    \n",
    "    elif shift_invariance == 2:\n",
    "        # Apply same RX and RY to each wire:\n",
    "        for spin in range(N):\n",
    "            qml.RY(param[index + 0], wires = spin)\n",
    "            #qml.BitFlip(p_noise, wires = spin)\n",
    "            qml.RX(param[index + 1], wires = spin)\n",
    "            #qml.BitFlip(p_noise, wires = spin)\n",
    "            \n",
    "        return index + 2\n",
    "    \n",
    "    else:\n",
    "        raise ValueError('Invalid shift_invariance input value')\n",
    "        \n",
    "def vqe_circuit_block_2(N, param, shift_invariance = 0, index = 0, p_noise = 0):\n",
    "    '''\n",
    "    RY\n",
    "    \n",
    "    shift_invariance = 0: Each wire permorms independent rotations.\n",
    "    shift_invariance = 1: Same rotation for odd and even wires,\n",
    "                         expect for the first and last that have unique\n",
    "                         rotation.\n",
    "    shift_invariance = 2: Same rotation for each wire\n",
    "    '''\n",
    "    if shift_invariance == 0: # Independent rotations\n",
    "        # Apply RX and RY to each wire:\n",
    "        for spin in range(N):\n",
    "            qml.RY(param[index + spin],   wires = spin)\n",
    "            #qml.BitFlip(float(p_noise), wires = spin)\n",
    "            \n",
    "    elif shift_invariance == 1: # RX and RY rotations\n",
    "        # Apply RY for first wire\n",
    "        qml.RY(param[index + 0], wires = 0)\n",
    "        #qml.BitFlip(p_noise, wires = 0)\n",
    "\n",
    "        # Apply RY for last wire\n",
    "        qml.RY(param[index + 1], wires = N - 1)\n",
    "        #qml.BitFlip(p_noise, wires = N - 1)\n",
    "\n",
    "        # Apply RY for even and odd wires\n",
    "        for spin in range(1,N-1,2):\n",
    "            qml.RY(param[index + 2], wires = spin)\n",
    "            #qml.BitFlip(p_noise, wires = spin)\n",
    "            qml.RY(param[index + 3], wires = spin+1)\n",
    "            #qml.BitFlip(p_noise, wires = spin+1)\n",
    "        \n",
    "    elif shift_invariance == 2:\n",
    "        # Apply same RX and RY to each wire:\n",
    "        for spin in range(N):\n",
    "            qml.RY(param[index + 0], wires = spin)\n",
    "            #qml.BitFlip(p_noise, wires = spin)\n",
    "         \n",
    "    else:\n",
    "        raise ValueError('Invalid shift_invariance input value')\n",
    "\n",
    "def vqe_circuit_entanglement(N, p_noise_ent = 0):\n",
    "    # Apply entanglement to the neighbouring spins\n",
    "    for spin in range(0,N-1):\n",
    "        qml.CNOT(wires = [spin, spin+1])\n",
    "        #qml.BitFlip(p_noise_ent, wires = spin+1)\n",
    "          \n",
    "def vqe_circuit(N, params, shift_invariance = 0, p_noise = 0, p_noise_ent = 0):\n",
    "    index = vqe_circuit_block_1(N, params, shift_invariance, p_noise = p_noise)\n",
    "    vqe_circuit_entanglement(N, p_noise_ent)\n",
    "    qml.Barrier()\n",
    "    index = vqe_circuit_block_1(N, params, shift_invariance, index, p_noise)\n",
    "    vqe_circuit_entanglement(N, p_noise_ent)\n",
    "    qml.Barrier()\n",
    "    vqe_circuit_block_2(N, params, shift_invariance, index, p_noise)\n",
    "\n",
    "@qml.qnode(dev_vqe)\n",
    "def vqe_cost_fn(vqe_params, N, shift_invariance, H, p_noise = 0, p_noise_ent = 0):\n",
    "    vqe_circuit(N, vqe_params, shift_invariance, p_noise, p_noise_ent)\n",
    "        \n",
    "    # return <psi|H|psi>\n",
    "    return qml.expval(H)\n",
    "\n"
   ]
  },
  {
   "cell_type": "code",
   "execution_count": 101,
   "id": "c63d6874-c2e1-45f7-bc0c-87b495a8f4c5",
   "metadata": {},
   "outputs": [
    {
     "name": "stdout",
     "output_type": "stream",
     "text": [
      "0: ──RY(0.00)──RX(0.00)─╭C────────||──RY(0.00)──RX(0.00)─╭C────────||──RY(0.00)─┤ ╭<𝓗>\n",
      "1: ──RY(0.00)──RX(0.00)─╰X─╭C─────||──RY(0.00)──RX(0.00)─╰X─╭C─────||──RY(0.00)─┤ ├<𝓗>\n",
      "2: ──RY(0.00)──RX(0.00)────╰X─╭C──||──RY(0.00)──RX(0.00)────╰X─╭C──||──RY(0.00)─┤ ├<𝓗>\n",
      "3: ──RY(0.00)──RX(0.00)───────╰X──||──RY(0.00)──RX(0.00)───────╰X──||──RY(0.00)─┤ ╰<𝓗>\n"
     ]
    }
   ],
   "source": [
    "drawer = qml.draw(vqe_cost_fn)\n",
    "print(drawer([0]*100, N, 0, H = qml_build_H(N, 0 ,0), p_noise = 0.01, p_noise_ent = 0.1))"
   ]
  },
  {
   "cell_type": "code",
   "execution_count": 102,
   "id": "471ece43-ab12-427e-9ea5-2a4c21319db8",
   "metadata": {},
   "outputs": [],
   "source": [
    "# Since we are parallelizing the VQE algorithm we cannot recycle the previous parameter for the next lambda\n",
    "if shift_invariance == 0:\n",
    "    n_params = 5*N\n",
    "elif shift_invariance == 1:\n",
    "    n_params = 20\n",
    "elif shift_invariance == 2:\n",
    "    n_params = 5\n",
    "\n",
    "    \n",
    "# Prepare initial parameters\n",
    "params0 = []\n",
    "for _ in lams:\n",
    "    param0 = np.random.rand(n_params)\n",
    "    \n",
    "    params0.append(param0)"
   ]
  },
  {
   "cell_type": "code",
   "execution_count": 103,
   "id": "2bcfd3fc-60b1-4b3c-a266-a6bdddc57594",
   "metadata": {},
   "outputs": [],
   "source": [
    "#params_jax = joblib.load('./vqe_circuit_params.job')\n",
    "#params0 = []\n",
    "#for i in params_jax:\n",
    "#    params0.append(i[0])"
   ]
  },
  {
   "cell_type": "code",
   "execution_count": 104,
   "id": "a282352f-9b08-4ebc-ac9e-c0927a4c32b8",
   "metadata": {},
   "outputs": [],
   "source": [
    "def vqe_update_params_new(idx, params, N, shift_invariance, opts, Hs, p_noise, p_noise_ent):\n",
    "        param = params[idx]\n",
    "        H = Hs[idx]\n",
    "        opt = opts[idx]\n",
    "        \n",
    "        cost_fn = lambda v: vqe_cost_fn(v, N, shift_invariance, H, p_noise, p_noise_ent)\n",
    "        param_next, energy = opt.step_and_cost(cost_fn, param)\n",
    "        \n",
    "        return param_next, opt, (energy - np.min(qml.eigvals(H)) )**2\n",
    "\n",
    "def train_vqe_ising(step_size, lams, n_epochs, N, J, params, shift_invariance = 0, p_noise = 0, p_noise_ent = 0, circuit = False, plots = False):\n",
    "    \n",
    "    global wrapped_update\n",
    "    \n",
    "    '''\n",
    "    n_epochs     = # epochs for the other lambdas\n",
    "    lams         = Array of intensities of magnetic field\n",
    "    N            = Number of spins of the system\n",
    "    '''\n",
    "    \n",
    "    display(Markdown('***Parameters:***'))\n",
    "    print('step_size    = {0} (Step size of the optimizer)'.format(step_size))\n",
    "    print('n_epochs     = {0} (# epochs for the other GSs'.format(n_epochs))\n",
    "    print('N            = {0} (Number of spins of the system)'.format(N))\n",
    "        \n",
    "    if circuit:\n",
    "        # Display the circuit\n",
    "        display(Markdown('***Circuit:***'))\n",
    "        drawer = qml.draw(vqe_cost_fn)\n",
    "        print(drawer([0]*100, N, shift_invariance, H = qml_build_H(N, 0 ,0)))\n",
    "    \n",
    "    # For each lamda create optimizer and H\n",
    "    Hs   = []\n",
    "    opts = []\n",
    "    energy_err  = [0]*(len(lams))\n",
    "    MSE = []\n",
    "    \n",
    "    for lam in lams:\n",
    "        Hs.append(qml_build_H(N, float(lam), float(J) ))\n",
    "        opts.append(qml.AdamOptimizer(stepsize=step_size))\n",
    "    \n",
    "    progress = tqdm(range(n_epochs))\n",
    "    \n",
    "    for epoch in progress:\n",
    "        def wrapped_update(idx):\n",
    "            return vqe_update_params_new(idx, params, N, shift_invariance, opts, Hs, p_noise, p_noise_ent)\n",
    "        \n",
    "        p = multiprocessing.Pool()\n",
    "        with p: rdata = p.map(wrapped_update, np.arange(len(lams)) )\n",
    "        \n",
    "        for l in range(len(lams)):\n",
    "            params[l], opts[l],energy_err[l] = rdata[l]\n",
    "        \n",
    "        MSE.append(np.mean(energy_err))\n",
    "        \n",
    "        progress.set_description('Cost: {0}'.format(MSE[-1]) )\n",
    "                      \n",
    "    if plots:\n",
    "        fig, ax = plt.subplots(2, 1, figsize=(10,10))\n",
    "        vqe_e  = []\n",
    "        true_e = []\n",
    "        for i, lam in enumerate(lams):\n",
    "            cost_fn = lambda v: vqe_cost_fn(v, N, shift_invariance, Hs[i], p_noise, p_noise_ent)\n",
    "            true_e.append(np.min(qml.eigvals(Hs[i])) )\n",
    "            vqe_e.append(cost_fn(params[i]) )\n",
    "                          \n",
    "        ax[0].plot(lams, true_e, '--', label='True', color='red', lw = 2)\n",
    "        ax[0].plot(lams, vqe_e, '.', label='VQE', color='green', lw = 2)\n",
    "        ax[0].plot(lams, vqe_e, color='green', lw = 2, alpha=0.6)\n",
    "        ax[0].grid(True)\n",
    "        ax[0].set_title('Ground States of Ising Hamiltonian ({0}-spins), J = {1}'.format(N,J))\n",
    "        ax[0].set_xlabel(r'$\\lambda$')\n",
    "        ax[0].set_ylabel(r'$E(\\lambda)$')\n",
    "        ax[0].legend()\n",
    "        \n",
    "        ax[1].plot(range(n_epochs), MSE, '.', color='orange', ms = 7 )\n",
    "        ax[1].plot(range(n_epochs), MSE, color='orange', alpha=0.4)\n",
    "        ax[1].set_title('Convergence of VQE')\n",
    "        ax[1].set_xlabel('Epoch')\n",
    "        ax[1].set_ylabel('MSE')\n",
    "        ax[1].grid(True)\n",
    "        ax[1].axhline(y=0, color='r', linestyle='--')"
   ]
  },
  {
   "cell_type": "code",
   "execution_count": 105,
   "id": "51f0af70-d535-435e-968f-e1bd89204031",
   "metadata": {},
   "outputs": [
    {
     "data": {
      "text/markdown": [
       "***Parameters:***"
      ],
      "text/plain": [
       "<IPython.core.display.Markdown object>"
      ]
     },
     "metadata": {},
     "output_type": "display_data"
    },
    {
     "name": "stdout",
     "output_type": "stream",
     "text": [
      "step_size    = 0.3 (Step size of the optimizer)\n",
      "n_epochs     = 30 (# epochs for the other GSs\n",
      "N            = 4 (Number of spins of the system)\n"
     ]
    },
    {
     "data": {
      "text/markdown": [
       "***Circuit:***"
      ],
      "text/plain": [
       "<IPython.core.display.Markdown object>"
      ]
     },
     "metadata": {},
     "output_type": "display_data"
    },
    {
     "name": "stdout",
     "output_type": "stream",
     "text": [
      "0: ──RY(0.00)──RX(0.00)─╭C────────||──RY(0.00)──RX(0.00)─╭C────────||──RY(0.00)─┤ ╭<𝓗>\n",
      "1: ──RY(0.00)──RX(0.00)─╰X─╭C─────||──RY(0.00)──RX(0.00)─╰X─╭C─────||──RY(0.00)─┤ ├<𝓗>\n",
      "2: ──RY(0.00)──RX(0.00)────╰X─╭C──||──RY(0.00)──RX(0.00)────╰X─╭C──||──RY(0.00)─┤ ├<𝓗>\n",
      "3: ──RY(0.00)──RX(0.00)───────╰X──||──RY(0.00)──RX(0.00)───────╰X──||──RY(0.00)─┤ ╰<𝓗>\n"
     ]
    },
    {
     "data": {
      "application/vnd.jupyter.widget-view+json": {
       "model_id": "2f74210622f246a2b27e732a7b5d2ffb",
       "version_major": 2,
       "version_minor": 0
      },
      "text/plain": [
       "  0%|          | 0/30 [00:00<?, ?it/s]"
      ]
     },
     "metadata": {},
     "output_type": "display_data"
    },
    {
     "data": {
      "image/png": "[encoded data removed]",
      "text/plain": [
       "<Figure size 720x720 with 2 Axes>"
      ]
     },
     "metadata": {
      "needs_background": "light"
     },
     "output_type": "display_data"
    }
   ],
   "source": [
    "train_vqe_ising(0.3, lams, 30, N, J, params0, circuit = True, plots = True)"
   ]
  },
  {
   "cell_type": "code",
   "execution_count": null,
   "id": "72abb067-a9c2-481e-9c6a-5915d30e6f70",
   "metadata": {},
   "outputs": [],
   "source": []
  }
 ],
 "metadata": {
  "kernelspec": {
   "display_name": "Python 3 (ipykernel)",
   "language": "python",
   "name": "python3"
  },
  "language_info": {
   "codemirror_mode": {
    "name": "ipython",
    "version": 3
   },
   "file_extension": ".py",
   "mimetype": "text/x-python",
   "name": "python",
   "nbconvert_exporter": "python",
   "pygments_lexer": "ipython3",
   "version": "3.10.4"
  }
 },
 "nbformat": 4,
 "nbformat_minor": 5
}
