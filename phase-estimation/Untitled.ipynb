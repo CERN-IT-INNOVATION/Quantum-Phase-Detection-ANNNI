{
 "cells": [
  {
   "cell_type": "code",
   "execution_count": 103,
   "id": "5d1bad69-09bf-46b5-8be7-792e89039af8",
   "metadata": {},
   "outputs": [],
   "source": [
    "### IMPORTS ###\n",
    "# Quantum libraries:\n",
    "import pennylane as qml\n",
    "from pennylane import numpy as np\n",
    "import jax\n",
    "import jax.numpy as jnp\n",
    "from jax import jit\n",
    "from functools import partial\n",
    "\n",
    "# Plotting\n",
    "from matplotlib import pyplot as plt\n",
    "\n",
    "# Other\n",
    "import copy\n",
    "from tqdm.notebook import tqdm # Pretty progress bars\n",
    "from IPython.display import Markdown, display # Better prints\n",
    "import joblib # Writing and loading\n",
    "from noisyopt import minimizeSPSA\n",
    "\n",
    "import multiprocessing\n",
    "##############\n",
    "\n",
    "import vqe_functions as vqe\n",
    "\n",
    "#   _    \n",
    "#  / |   \n",
    "#  | |   \n",
    "#  | |_  \n",
    "#  |_(_) \n",
    "\n",
    "def num_params_qcnn(N):\n",
    "    '''\n",
    "    N = number of wires (spins)\n",
    "    To evaluate the number of parameters needed for the qcnn\n",
    "    a recursive function is needed:\n",
    "    '''\n",
    "    n_params = 0\n",
    "    # While the number of wires is more than 1s\n",
    "    while(N > 1):\n",
    "        # Convolution\n",
    "        n_params += 3*N\n",
    "        # Pooling \n",
    "        n_params += 2*(N//2) + N%2\n",
    "        # Reduce number of wires due to pooling\n",
    "        N = N // 2 + N % 2\n",
    "    \n",
    "    # Last RY gate\n",
    "    n_params += 1\n",
    "    \n",
    "    return n_params\n",
    "\n",
    "#  ____     \n",
    "# |___ \\    \n",
    "#   __) |   \n",
    "#  / __/ _  \n",
    "# |_____(_) Circuit functions\n",
    "\n",
    "def qcnn_convolution(active_wires, params, N, p_index, conv_noise = 0):\n",
    "    '''\n",
    "    Convolution block for the QCNN\n",
    "    \n",
    "    RX--RY--o--RX---------\n",
    "            | \n",
    "    RX--RY--x------o--RX--\n",
    "                   |\n",
    "    RX--RY--o--RX--x------\n",
    "            | \n",
    "    RX--RY--x------o--RX--\n",
    "                   |\n",
    "    RX--RY--o--RX--x------\n",
    "            | \n",
    "    RX--RY--x---------RX--\n",
    "    \n",
    "    '''\n",
    "    \n",
    "    # Check if the current number of wires is odd\n",
    "    # it will be needed later.\n",
    "    isodd = True if len(active_wires) % 2 != 0  else False\n",
    "    \n",
    "    noise = True\n",
    "    if conv_noise == 0: noise = False # Remove BitFlip and PhaseFlip if we are not using default.mixed\n",
    "    \n",
    "    # Convolution:\n",
    "    for wire in active_wires:\n",
    "        qml.RX(params[p_index],   wires = int(wire) )\n",
    "        qml.RY(params[p_index+1], wires = int(wire) )\n",
    "        p_index = p_index + 2\n",
    "        \n",
    "        if noise: qml.PhaseFlip(conv_noise, wires = int(wire) ); qml.BitFlip(conv_noise, wires = int(wire) )\n",
    "        \n",
    "    # ---- > Establish entanglement: odd connections\n",
    "    for wire, wire_next in zip(active_wires[0::2], active_wires[1::2]):\n",
    "        qml.CNOT(wires = [int(wire), int(wire_next)])\n",
    "        qml.RX(params[p_index], wires = int(wire) )\n",
    "        p_index = p_index + 1\n",
    "        \n",
    "        if noise: qml.PhaseFlip(conv_noise, wires = int(wire) ); qml.BitFlip(conv_noise, wires = int(wire) )\n",
    "        \n",
    "    # ---- > Establish entanglement: even connections\n",
    "    for wire, wire_next in zip(active_wires[1::2], active_wires[2::2]):\n",
    "        qml.CNOT(wires = [int(wire), int(wire_next)])\n",
    "        qml.RX(params[p_index], wires = int(wire) )\n",
    "        p_index = p_index + 1\n",
    "        \n",
    "        if noise: qml.PhaseFlip(conv_noise, wires = int(wire) ); qml.BitFlip(conv_noise, wires = int(wire) )\n",
    "        \n",
    "    qml.RX(params[p_index], wires = N-1)\n",
    "    p_index = p_index + 1\n",
    "    \n",
    "    if noise: qml.PhaseFlip(conv_noise, wires = int(N - 1) ); qml.BitFlip(conv_noise, wires = int(N - 1) )\n",
    "\n",
    "    return p_index\n",
    "        \n",
    "def qcnn_pooling(active_wires, params, N, p_index, pool_noise = 0):\n",
    "    '''\n",
    "    Pooling block for the QCNN\n",
    "    \n",
    "    --MEAS--(=0)--(=1)\n",
    "             |     |\n",
    "    ---------RY----RZ----\n",
    "    \n",
    "    '''\n",
    "    # Pooling:\n",
    "    isodd = True if len(active_wires) % 2 != 0  else False\n",
    "    \n",
    "    noise = True\n",
    "    if pool_noise == 0: noise = False # Remove BitFlip and PhaseFlip if we are not using default.mixed\n",
    "    \n",
    "    for wire_meas, wire_next in zip(active_wires[0::2], active_wires[1::2]):\n",
    "        m_0 = qml.measure(int(wire_meas) )\n",
    "        qml.cond(m_0 ==0, qml.RY)(params[p_index], wires=int(wire_next) )\n",
    "        qml.cond(m_0 ==1, qml.RZ)(params[p_index+1], wires=int(wire_next) )\n",
    "        p_index = p_index + 1\n",
    "        \n",
    "        if noise: qml.PhaseFlip(pool_noise, wires = int(wire_next) ); qml.BitFlip(pool_noise, wires = int(wire_next) )\n",
    "        \n",
    "        # Removing measured wires from active_wires:\n",
    "        active_wires = np.delete(active_wires, np.where(active_wires == wire_meas) ) \n",
    "    # ---- > If the number of wires is odd, the last wires is not pooled\n",
    "    #        so we apply a Z gate\n",
    "    if isodd:\n",
    "        qml.RZ(params[p_index], wires = N-1)\n",
    "        p_index = p_index + 1\n",
    "        \n",
    "        if noise: qml.PhaseFlip(pool_noise, wires = N - 1 ); qml.BitFlip(pool_noise, wires = N - 1 )\n",
    "        \n",
    "    return p_index, active_wires\n",
    "\n",
    "def qcnn(params_vqe, vqe_shift_invariance, params, N, vqe_conv_noise = 0, vqe_rot_noise = 0, qcnn_conv_noise = 0, qcnn_pool_noise = 0):\n",
    "    '''\n",
    "    Building function for the circuit:\n",
    "          VQE(params_vqe) + QCNN(params)\n",
    "    '''\n",
    "    # Check on the size of the parameters:\n",
    "    if len(params) != num_params_qcnn(N):\n",
    "        raise ValueError('Invalid size of parameters')\n",
    "        \n",
    "    # Wires that are not measures (through pooling)\n",
    "    active_wires = np.arange(N)\n",
    "    \n",
    "    # Input: State through VQE\n",
    "    vqe.circuit(N, params_vqe, vqe_shift_invariance, p_noise = vqe_rot_noise, p_noise_ent = vqe_conv_noise)\n",
    "    \n",
    "    qml.Barrier()\n",
    "    \n",
    "    # Index of the parameter vector\n",
    "    p_index = 0\n",
    "    \n",
    "    while(len(active_wires) > 1):\n",
    "        p_index = qcnn_convolution(active_wires, params, N, p_index, conv_noise = qcnn_conv_noise)\n",
    "        qml.Barrier()\n",
    "        p_index, active_wires = qcnn_pooling(active_wires, params, N, p_index, pool_noise = qcnn_pool_noise)\n",
    "        qml.Barrier()\n",
    "    \n",
    "    # Final Y rotation\n",
    "    qml.RY(params[p_index], wires = N-1)\n",
    "    if qcnn_pool_noise > 0: qml.PhaseFlip(qcnn_pool_noise, wires = N - 1 ); qml.BitFlip(qcnn_pool_noise, wires = N - 1 )\n",
    "\n",
    "#  _____   \n",
    "# |___ /   \n",
    "#   |_ \\   \n",
    "#  ___) |  \n",
    "# |____(_) Learning functions\n",
    "\n",
    "# Estimation functions for QCNN\n",
    "\n",
    "def compute_accuracy(data, params, shift_invariance, N):\n",
    "    corrects = 0 \n",
    "    for datum in data:\n",
    "        prediction = qcnn_circuit(datum[0], shift_invariance, params, N)\n",
    "        if np.argmax( prediction ) == datum[1]:\n",
    "            corrects += 1  \n",
    "            \n",
    "    return 100*corrects/len(data)\n",
    "\n",
    "# Training function\n",
    "def qcnn_training(epochs, lr, r_shift, vqe_shift_invariance, N, vqe_conv_noise, vqe_rot_noise, qcnn_conv_noise, qcnn_pool_noise,\n",
    "                  X_train, Y_train, X_test = [], Y_test = [], plot = True):\n",
    "    \n",
    "    X_train, Y_train = np.array(X_train), np.array(Y_train)\n",
    "    X_test, Y_test = np.array(X_test), np.array(Y_test)    \n",
    "    \n",
    "    display(Markdown('***Parameters:***'))\n",
    "    \n",
    "    # Initialize parameters randomly\n",
    "    params = np.array( np.random.randn(num_params_qcnn(N)) )\n",
    "    \n",
    "    def update(X, Y, X_test, Y_test, pbar, params):\n",
    "        cross_entropy = 0\n",
    "        corrects = 0\n",
    "        for x,y in zip(X,Y):\n",
    "            prediction = qcnn_circuit(x, vqe_shift_invariance, params, N,\n",
    "                                      vqe_conv_noise, vqe_rot_noise, qcnn_conv_noise, qcnn_pool_noise)\n",
    "            \n",
    "            cross_entropy += y * np.log(prediction[y]) + (1 - y) * np.log(1 - prediction[1 - y])\n",
    "            \n",
    "            if np.argmax( prediction ) == y:\n",
    "                corrects += 1   \n",
    "            \n",
    "        loss_history.append( - cross_entropy )\n",
    "        accuracy_history.append(100*corrects/len(Y)) \n",
    "        \n",
    "        pbar.update()\n",
    "        pbar.set_description('Cost: {0} | Accuracy: {1}'.format(loss_history[-1], accuracy_history[-1])  )\n",
    "        \n",
    "        return - cross_entropy\n",
    "\n",
    "    spsa_callback = lambda v: update(X_train, Y_train, X_test, Y_test, pbar, v)\n",
    "\n",
    "    loss_history = []\n",
    "    accuracy_history = []\n",
    "    #loss_history_test = []\n",
    "    accuracy_history_test = []\n",
    "    \n",
    "    #with tqdm(total=epochs) as pbar:\n",
    "    pbar = tqdm(total = 2*epochs+1)\n",
    "    \n",
    "    res = minimizeSPSA(spsa_callback,\n",
    "                       x0=params,\n",
    "                       niter=epochs,\n",
    "                       paired=False,\n",
    "                       c=r_shift,\n",
    "                       a=lr)\n",
    "    \n",
    "    params = res.x\n",
    "    \n",
    "    if plot:\n",
    "        plt.figure(figsize=(15,5))\n",
    "        plt.plot(np.arange(len(loss_history))*10, np.asarray(loss_history), label = 'Training Loss')\n",
    "       #if len(X_test) > 0:\n",
    "            #plt.plot(np.arange(steps), np.asarray(loss_history_test)/len(X_test), color = 'green', label = 'Test Loss')\n",
    "        plt.axhline(y=0, color='r', linestyle='--')\n",
    "        plt.title('Loss history')\n",
    "        plt.ylabel('Average Cross entropy')\n",
    "        plt.xlabel('Epoch')\n",
    "        plt.grid(True)\n",
    "        plt.legend()\n",
    "        \n",
    "        plt.figure(figsize=(15,4))\n",
    "        plt.plot(np.arange(len(accuracy_history))*10, accuracy_history, color='orange', label = 'Training Accuracy')\n",
    "        if len(X_test) > 0:\n",
    "            plt.plot(np.arange(len(accuracy_history))*10, accuracy_history_test, color='violet', label = 'Test Accuracy')\n",
    "        plt.axhline(y=100, color='r', linestyle='--')\n",
    "        plt.title('Accuracy')\n",
    "        plt.ylabel('%')\n",
    "        plt.xlabel('Epoch')\n",
    "        plt.grid(True)\n",
    "        plt.legend()\n",
    "        \n",
    "    return loss_history, accuracy_history, params\n",
    "\n",
    "#  _  _     \n",
    "# | || |    \n",
    "# | || |_   \n",
    "# |__   _|  \n",
    "#    |_|(_) Visualization    \n",
    "\n",
    "def plot_results_classification(data, train_index, params, vqe_shift_invariance, N, \n",
    "                                vqe_conv_noise = 0, vqe_rot_noise = 0, qcnn_conv_noise = 0, qcnn_pool_noise = 0):\n",
    "    test_index = []\n",
    "    for i in range(len(data)):\n",
    "        if not i in train_index:\n",
    "            test_index.append(i)\n",
    "    \n",
    "    predictions_train = []\n",
    "    predictions_test  = []\n",
    "\n",
    "    colors_train = []\n",
    "    colors_test  = []\n",
    "\n",
    "    for i in range(len(data)):\n",
    "        prediction = qcnn_circuit(data[i][0], vqe_shift_invariance, params, N, vqe_conv_noise, vqe_rot_noise, qcnn_conv_noise, qcnn_pool_noise)\n",
    "        prediction = prediction[1]\n",
    "        #print(qcnn_fun(data[i][0], params))\n",
    "\n",
    "        # if data in training set\n",
    "        if i in train_index:\n",
    "            predictions_train.append(prediction)\n",
    "            if np.round(prediction) == 0:\n",
    "                if i <= len(data)/2:\n",
    "                    colors_train.append('green')\n",
    "                else:\n",
    "                    colors_train.append('red')\n",
    "            else:\n",
    "                if i <= len(data)/2:\n",
    "                    colors_train.append('red')\n",
    "                else:\n",
    "                    colors_train.append('green')\n",
    "        else:\n",
    "            predictions_test.append(prediction)\n",
    "            if np.round(prediction) == 0:\n",
    "                if i <= len(data)/2:\n",
    "                    colors_test.append('green')\n",
    "                else:\n",
    "                    colors_test.append('red')\n",
    "            else:\n",
    "                if i <= len(data)/2:\n",
    "                    colors_test.append('red')\n",
    "                else:\n",
    "                    colors_test.append('green')\n",
    "    \n",
    "    fig, ax = plt.subplots(2, 1, figsize=(16,10))\n",
    "\n",
    "    ax[0].set_xlim(-0.1,2.1)\n",
    "    ax[0].set_ylim(0,1)\n",
    "    ax[0].grid(True)\n",
    "    ax[0].axhline(y=.5, color='gray', linestyle='--')\n",
    "    ax[0].axvline(x=1, color='gray', linestyle='--')\n",
    "    ax[0].text(0.375, .68, 'I', fontsize=24, fontfamily='serif')\n",
    "    ax[0].text(1.6, .68, 'II', fontsize=24, fontfamily='serif')\n",
    "    ax[0].set_xlabel('Transverse field')\n",
    "    ax[0].set_ylabel('Prediction of label II')\n",
    "    ax[0].set_title('Predictions of labels; J = 1')\n",
    "    ax[0].scatter(2*np.sort(train_index)/len(data), predictions_train, c = 'royalblue', label='Training samples')\n",
    "    ax[0].scatter(2*np.sort(test_index)/len(data), predictions_test, c = 'orange', label='Test samples')\n",
    "    ax[0].legend()\n",
    "\n",
    "    ax[1].set_xlim(-0.1,2.1)\n",
    "    ax[1].set_ylim(0,1)\n",
    "    ax[1].grid(True)\n",
    "    ax[1].axhline(y=.5, color='gray', linestyle='--')\n",
    "    ax[1].axvline(x=1, color='gray', linestyle='--')\n",
    "    ax[1].text(0.375, .68, 'I', fontsize=24, fontfamily='serif')\n",
    "    ax[1].text(1.6, .68, 'II', fontsize=24, fontfamily='serif')\n",
    "    ax[1].set_xlabel('Transverse field')\n",
    "    ax[1].set_ylabel('Prediction of label II')\n",
    "    ax[1].set_title('Predictions of labels; J = 1')\n",
    "    ax[1].scatter(2*np.sort(train_index)/len(data), predictions_train, c = colors_train)\n",
    "    ax[1].scatter(2*np.sort(test_index)/len(data), predictions_test, c = colors_test)\n",
    "    \n",
    "    "
   ]
  },
  {
   "cell_type": "code",
   "execution_count": 105,
   "id": "c7e5cfef-90b9-4bd3-be90-673443598654",
   "metadata": {},
   "outputs": [
    {
     "data": {
      "text/plain": [
       "98.0"
      ]
     },
     "execution_count": 105,
     "metadata": {},
     "output_type": "execute_result"
    }
   ],
   "source": [
    "compute_accuracy(data, params, 0, N)"
   ]
  },
  {
   "cell_type": "code",
   "execution_count": 112,
   "id": "78de8f02-2a03-4bfd-9c69-2e277b3dca64",
   "metadata": {},
   "outputs": [
    {
     "data": {
      "text/markdown": [
       "***Parameters:***"
      ],
      "text/plain": [
       "<IPython.core.display.Markdown object>"
      ]
     },
     "metadata": {},
     "output_type": "display_data"
    },
    {
     "data": {
      "application/vnd.jupyter.widget-view+json": {
       "model_id": "31eb34756e574911865f184f6b20d5d9",
       "version_major": 2,
       "version_minor": 0
      },
      "text/plain": [
       "  0%|          | 0/201 [00:00<?, ?it/s]"
      ]
     },
     "metadata": {},
     "output_type": "display_data"
    },
    {
     "data": {
      "image/png": "[encoded data removed]",
      "text/plain": [
       "<Figure size 1080x360 with 1 Axes>"
      ]
     },
     "metadata": {
      "needs_background": "light"
     },
     "output_type": "display_data"
    },
    {
     "data": {
      "image/png": "[encoded data removed]",
      "text/plain": [
       "<Figure size 1080x288 with 1 Axes>"
      ]
     },
     "metadata": {
      "needs_background": "light"
     },
     "output_type": "display_data"
    }
   ],
   "source": [
    "loss_history, accuracy_history, params = qcnn_training(100, 0.05, 0.0008, 0, N, 0.001, 0.001, 0.001, 0.001,\n",
    "                                                       X_train, Y_train, plot = True)"
   ]
  },
  {
   "cell_type": "code",
   "execution_count": 113,
   "id": "ae7d7b1b-bb39-4f1e-9bb4-0a3e72a7d6bf",
   "metadata": {},
   "outputs": [
    {
     "data": {
      "image/png": "[encoded data removed]",
      "text/plain": [
       "<Figure size 1152x720 with 2 Axes>"
      ]
     },
     "metadata": {
      "needs_background": "light"
     },
     "output_type": "display_data"
    }
   ],
   "source": [
    "plot_results_classification(data, train_index, params, 0, N, \n",
    "                                vqe_conv_noise = 0.001, vqe_rot_noise = 0.001, qcnn_conv_noise = 0.001, qcnn_pool_noise = 0.001)"
   ]
  },
  {
   "cell_type": "code",
   "execution_count": 8,
   "id": "63ffc536-a1ca-4735-a4b7-ea81e20db200",
   "metadata": {},
   "outputs": [],
   "source": [
    "N = 4\n",
    "\n",
    "dev_vqe_default = qml.device('default.qubit', wires = N, shots = None)\n",
    "dev_vqe_mixed   = qml.device(\"default.mixed\", wires = N, shots = None)"
   ]
  },
  {
   "cell_type": "code",
   "execution_count": 9,
   "id": "d172fcec-918f-492f-9d58-323b212db400",
   "metadata": {},
   "outputs": [],
   "source": [
    "@qml.qnode(dev_vqe_mixed)\n",
    "def qcnn_circuit(params_vqe, vqe_shift_invariance, params, N, vqe_conv_noise = 0, vqe_rot_noise = 0, qcnn_conv_noise = 0, qcnn_pool_noise = 0):\n",
    "    qcnn(params_vqe, vqe_shift_invariance, params, N, vqe_conv_noise, vqe_rot_noise, qcnn_conv_noise, qcnn_pool_noise)\n",
    "    \n",
    "    return qml.probs(wires = N - 1)"
   ]
  },
  {
   "cell_type": "code",
   "execution_count": 32,
   "id": "e60233f3-fdc2-4896-aaf2-928a8b3caeee",
   "metadata": {},
   "outputs": [
    {
     "name": "stdout",
     "output_type": "stream",
     "text": [
      "0: ──RY(0.00)──PhaseFlip(0.20)──BitFlip(0.20)──RX(0.00)──PhaseFlip(0.20)──BitFlip(0.20)─╭C\n",
      "1: ──RY(0.00)──PhaseFlip(0.20)──BitFlip(0.20)──RX(0.00)──PhaseFlip(0.20)──BitFlip(0.20)─╰X\n",
      "2: ──RY(0.00)──PhaseFlip(0.20)──BitFlip(0.20)──RX(0.00)──PhaseFlip(0.20)──BitFlip(0.20)───\n",
      "3: ──RY(0.00)──PhaseFlip(0.20)──BitFlip(0.20)──RX(0.00)──PhaseFlip(0.20)──BitFlip(0.20)───\n",
      "\n",
      "────────────────────────────────────────────────────────────────────────────────────────\n",
      "───PhaseFlip(0.30)──BitFlip(0.30)─╭C────────────────────────────────────────────────────\n",
      "──────────────────────────────────╰X──PhaseFlip(0.30)──BitFlip(0.30)─╭C─────────────────\n",
      "─────────────────────────────────────────────────────────────────────╰X──PhaseFlip(0.30)\n",
      "\n",
      "──────────────────||──RY(0.00)──PhaseFlip(0.20)──BitFlip(0.20)──RX(0.00)──PhaseFlip(0.20)\n",
      "──────────────────||──RY(0.00)──PhaseFlip(0.20)──BitFlip(0.20)──RX(0.00)──PhaseFlip(0.20)\n",
      "──────────────────||──RY(0.00)──PhaseFlip(0.20)──BitFlip(0.20)──RX(0.00)──PhaseFlip(0.20)\n",
      "───BitFlip(0.30)──||──RY(0.00)──PhaseFlip(0.20)──BitFlip(0.20)──RX(0.00)──PhaseFlip(0.20)\n",
      "\n",
      "───BitFlip(0.20)─╭C──────────────────────────────────────────────────────────────────────\n",
      "───BitFlip(0.20)─╰X──PhaseFlip(0.30)──BitFlip(0.30)─╭C───────────────────────────────────\n",
      "───BitFlip(0.20)────────────────────────────────────╰X──PhaseFlip(0.30)──BitFlip(0.30)─╭C\n",
      "───BitFlip(0.20)───────────────────────────────────────────────────────────────────────╰X\n",
      "\n",
      "───────────────────────────────────||──RY(0.00)──PhaseFlip(0.20)──BitFlip(0.20)──||──RX(0.00)\n",
      "───────────────────────────────────||──RY(0.00)──PhaseFlip(0.20)──BitFlip(0.20)──||──RX(0.00)\n",
      "───────────────────────────────────||──RY(0.00)──PhaseFlip(0.20)──BitFlip(0.20)──||──RX(0.00)\n",
      "───PhaseFlip(0.30)──BitFlip(0.30)──||──RY(0.00)──PhaseFlip(0.20)──BitFlip(0.20)──||──RX(0.00)\n",
      "\n",
      "───RY(0.00)──PhaseFlip(0.50)──BitFlip(0.50)─╭C──RX(0.00)──PhaseFlip(0.50)──BitFlip(0.50)───\n",
      "───RY(0.00)──PhaseFlip(0.50)──BitFlip(0.50)─╰X───────────────────────────────────────────╭C\n",
      "───RY(0.00)──PhaseFlip(0.50)──BitFlip(0.50)─╭C──RX(0.00)──PhaseFlip(0.50)──BitFlip(0.50)─╰X\n",
      "───RY(0.00)──PhaseFlip(0.50)──BitFlip(0.50)─╰X──RX(0.00)──PhaseFlip(0.50)──BitFlip(0.50)───\n",
      "\n",
      "─────────────────────────────────────────────||─╭C────────────────────────\n",
      "───RX(0.00)──PhaseFlip(0.50)──BitFlip(0.50)──||─╰ControlledOperation(0.00)\n",
      "─────────────────────────────────────────────||─╭C────────────────────────\n",
      "─────────────────────────────────────────────||─╰ControlledOperation(0.00)\n",
      "\n",
      "──╭C──────────────────────────────────────────────────────────||────────────────────\n",
      "──╰ControlledOperation(0.00)──PhaseFlip(0.10)──BitFlip(0.10)──||──RX(0.00)──RY(0.00)\n",
      "──╭C──────────────────────────────────────────────────────────||────────────────────\n",
      "──╰ControlledOperation(0.00)──PhaseFlip(0.10)──BitFlip(0.10)──||──RX(0.00)──RY(0.00)\n",
      "\n",
      "────────────────────────────────────────────────────────────────────────────────||\n",
      "───PhaseFlip(0.50)──BitFlip(0.50)─╭C──RX(0.00)──PhaseFlip(0.50)──BitFlip(0.50)──||\n",
      "──────────────────────────────────│─────────────────────────────────────────────||\n",
      "───PhaseFlip(0.50)──BitFlip(0.50)─╰X──RX(0.00)──PhaseFlip(0.50)──BitFlip(0.50)──||\n",
      "\n",
      "─────────────────────────────────────────────────────────────────────────────────────────||\n",
      "──╭C─────────────────────────╭C──────────────────────────────────────────────────────────||\n",
      "──│──────────────────────────│───────────────────────────────────────────────────────────||\n",
      "──╰ControlledOperation(0.00)─╰ControlledOperation(0.00)──PhaseFlip(0.10)──BitFlip(0.10)──||\n",
      "\n",
      "────────────────────────────────────────────┤       \n",
      "────────────────────────────────────────────┤       \n",
      "────────────────────────────────────────────┤       \n",
      "───RY(0.00)──PhaseFlip(0.10)──BitFlip(0.10)─┤  Probs\n"
     ]
    }
   ],
   "source": [
    "drawer = qml.draw(qcnn_circuit)\n",
    "print(drawer([0]*100,0,[0]*num_params_qcnn(N), N,vqe_conv_noise= 0.3, vqe_rot_noise = 0.2, qcnn_conv_noise = 0.5, qcnn_pool_noise = 0.1))"
   ]
  },
  {
   "cell_type": "code",
   "execution_count": 6,
   "id": "cca54684-ed3f-443d-ba86-1de5c3e026b7",
   "metadata": {},
   "outputs": [
    {
     "name": "stdout",
     "output_type": "stream",
     "text": [
      "Size of Data Set: 100\n",
      "______________________________\n",
      "Size of Training Set: 80\n",
      "Size of Test Set    : 20\n"
     ]
    }
   ],
   "source": [
    "# Load data and separate in training and test set\n",
    "data = joblib.load('./vqe_states_job/vqe_params_0noise.job')\n",
    "\n",
    "print('Size of Data Set: {0}'.format(len(data)))\n",
    "\n",
    "train_index = np.sort(np.random.choice(np.arange(len(data)), size=int(0.8*len(data)), replace=False ))\n",
    "\n",
    "X_train, Y_train = [], []\n",
    "X_test, Y_test   = [], []\n",
    "\n",
    "for i in range(len(data)): \n",
    "    if i in train_index:\n",
    "        X_train.append(data[i][0])\n",
    "        Y_train.append(data[i][1])\n",
    "    else:\n",
    "        X_test.append(data[i][0])\n",
    "        Y_test.append(data[i][1])\n",
    "        \n",
    "#X_train, Y_train = jnp.array(X_train), jnp.array(Y_train)\n",
    "#X_test, Y_test   = jnp.array(X_test), jnp.array(Y_test)\n",
    "\n",
    "print('______________________________')\n",
    "print('Size of Training Set: {0}'.format(np.shape(X_train)[0]))\n",
    "print('Size of Test Set    : {0}'.format(np.shape(X_test)[0]))\n"
   ]
  },
  {
   "cell_type": "code",
   "execution_count": 445,
   "id": "f5cd3172-b35a-4042-9931-c411460020bc",
   "metadata": {},
   "outputs": [
    {
     "data": {
      "text/plain": [
       "tensor([1., 0.], requires_grad=True)"
      ]
     },
     "execution_count": 445,
     "metadata": {},
     "output_type": "execute_result"
    }
   ],
   "source": [
    "vqe_params = X_train[0]\n",
    "qcnn_params = [0]*25\n",
    "\n",
    "qcnn_circuit(vqe_params, 0, qcnn_params, 4, 0.001 ,0.001 ,0.001 ,0.001 )"
   ]
  },
  {
   "cell_type": "code",
   "execution_count": 131,
   "id": "3566cde8-e1dc-443b-9284-f4244f060c21",
   "metadata": {},
   "outputs": [],
   "source": [
    "qcnn_fun = lambda vqe_params, qcnn_params : qcnn_circuit(vqe_params, 0, qcnn_params, 4, 0 ,0 ,0 ,0 )"
   ]
  },
  {
   "cell_type": "code",
   "execution_count": 40,
   "id": "dab4ad75-0409-40f9-bd5f-6332541b91ee",
   "metadata": {},
   "outputs": [
    {
     "data": {
      "text/plain": [
       "tensor([1., 0.], requires_grad=True)"
      ]
     },
     "execution_count": 40,
     "metadata": {},
     "output_type": "execute_result"
    }
   ],
   "source": [
    "qcnn_fun([0]*100, [0]*num_params_qcnn(4))"
   ]
  },
  {
   "cell_type": "code",
   "execution_count": 51,
   "id": "6d2bad92-4fe3-46e5-8413-7784d246ffb0",
   "metadata": {},
   "outputs": [
    {
     "data": {
      "text/plain": [
       "230.63950029378222"
      ]
     },
     "execution_count": 51,
     "metadata": {},
     "output_type": "execute_result"
    }
   ],
   "source": [
    "cost_fn(X_train, Y_train, qcnn_fun, [0]*num_params_qcnn(4))"
   ]
  }
 ],
 "metadata": {
  "kernelspec": {
   "display_name": "Python 3 (ipykernel)",
   "language": "python",
   "name": "python3"
  },
  "language_info": {
   "codemirror_mode": {
    "name": "ipython",
    "version": 3
   },
   "file_extension": ".py",
   "mimetype": "text/x-python",
   "name": "python",
   "nbconvert_exporter": "python",
   "pygments_lexer": "ipython3",
   "version": "3.10.4"
  }
 },
 "nbformat": 4,
 "nbformat_minor": 5
}
