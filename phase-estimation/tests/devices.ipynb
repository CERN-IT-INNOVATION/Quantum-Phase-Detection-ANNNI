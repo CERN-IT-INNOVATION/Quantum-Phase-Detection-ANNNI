{
 "cells": [
  {
   "cell_type": "code",
   "execution_count": 1,
   "id": "9353dd72-064b-4150-ad04-2d7c81a01d0b",
   "metadata": {},
   "outputs": [],
   "source": [
    "### IMPORTS ###\n",
    "# Quantum libraries:\n",
    "import pennylane as qml\n",
    "from pennylane import numpy as np\n",
    "import jax\n",
    "import jax.numpy as jnp\n",
    "from jax import jit\n",
    "from functools import partial\n",
    "\n",
    "# Plotting\n",
    "from matplotlib import pyplot as plt\n",
    "import plotly\n",
    "\n",
    "# Other\n",
    "import os, sys\n",
    "import time\n",
    "\n",
    "import copy\n",
    "import tqdm # Pretty progress bars\n",
    "from IPython.display import Markdown, display # Better prints\n",
    "import joblib # Writing and loading\n",
    "from noisyopt import minimizeSPSA\n",
    "import optuna # Automatic tuning tool\n",
    "\n",
    "import multiprocessing\n",
    "\n",
    "import warnings\n",
    "warnings.filterwarnings(\"ignore\", message=\"For Hamiltonians, the eigenvalues will be computed numerically. This may be computationally intensive for a large number of wires.Consider using a sparse representation of the Hamiltonian with qml.SparseHamiltonian.\")\n",
    "\n",
    "##############\n",
    "\n",
    "# My functions:\n",
    "sys.path.insert(0, '../')\n",
    "import vqe_functions as vqe\n",
    "import qcnn_functions as qcnn\n"
   ]
  },
  {
   "cell_type": "code",
   "execution_count": 1,
   "id": "8caa771f-612a-48e3-b950-1215116d66b9",
   "metadata": {},
   "outputs": [
    {
     "ename": "NameError",
     "evalue": "name 'jax' is not defined",
     "output_type": "error",
     "traceback": [
      "\u001b[0;31m---------------------------------------------------------------------------\u001b[0m",
      "\u001b[0;31mNameError\u001b[0m                                 Traceback (most recent call last)",
      "Input \u001b[0;32mIn [1]\u001b[0m, in \u001b[0;36m<cell line: 2>\u001b[0;34m()\u001b[0m\n\u001b[1;32m      1\u001b[0m \u001b[38;5;66;03m# Global flag to set a specific platform, must be used at startup.\u001b[39;00m\n\u001b[0;32m----> 2\u001b[0m \u001b[43mjax\u001b[49m\u001b[38;5;241m.\u001b[39mconfig\u001b[38;5;241m.\u001b[39mupdate(\u001b[38;5;124m'\u001b[39m\u001b[38;5;124mjax_platform_name\u001b[39m\u001b[38;5;124m'\u001b[39m, \u001b[38;5;124m'\u001b[39m\u001b[38;5;124mcpu\u001b[39m\u001b[38;5;124m'\u001b[39m)\n",
      "\u001b[0;31mNameError\u001b[0m: name 'jax' is not defined"
     ]
    }
   ],
   "source": [
    "# Global flag to set a specific platform, must be used at startup.\n",
    "jax.config.update('jax_platform_name', 'cpu')\n"
   ]
  },
  {
   "cell_type": "code",
   "execution_count": 4,
   "id": "80ec6596-0eb2-4ee3-a127-95fa10091968",
   "metadata": {},
   "outputs": [
    {
     "name": "stdout",
     "output_type": "stream",
     "text": [
      "3\n",
      "2\n",
      "1\n"
     ]
    }
   ],
   "source": [
    "N = 4\n",
    "for spin in range(N-1,0,-1):\n",
    "    print(spin)"
   ]
  },
  {
   "cell_type": "code",
   "execution_count": 2,
   "id": "6fa45d80-4e53-4853-b26e-485f8edd05c6",
   "metadata": {},
   "outputs": [],
   "source": [
    "N = 4\n",
    "vqe_circuit_fun = vqe.vqe_circuit\n",
    "qcnn_circuit_fun= qcnn.qcnn_circuit"
   ]
  },
  {
   "cell_type": "code",
   "execution_count": 3,
   "id": "f30cab8e-10f8-4f3d-8c8c-9992e6314257",
   "metadata": {},
   "outputs": [],
   "source": [
    "device_jax = qml.device(\"default.qubit.jax\", wires = N, shots = None)\n",
    "device_mix = qml.device(\"default.mixed\", wires = N, shots = None)\n",
    "device_def = qml.device(\"default.qubit\", wires = N, shots = None)"
   ]
  },
  {
   "cell_type": "code",
   "execution_count": 4,
   "id": "4247d15d-49f0-497d-86b1-c3577cc01581",
   "metadata": {
    "tags": []
   },
   "outputs": [
    {
     "name": "stdout",
     "output_type": "stream",
     "text": [
      "Size of Data Set: 100\n",
      "______________________________\n",
      "Size of Training Set: 80\n",
      "Size of Test Set    : 20\n"
     ]
    }
   ],
   "source": [
    "## Load data:\n",
    "data = joblib.load('../vqe_states_job/vqe_params_0noise.job')\n",
    "\n",
    "print('Size of Data Set: {0}'.format(len(data)))\n",
    "\n",
    "#train_index = np.concatenate(( np.random.choice(np.arange(25), 15, replace = False),np.random.choice(np.arange(75,100), 15, replace = False) ))\n",
    "#test_index  = np.arange(25,75)\n",
    "train_index = np.random.choice(np.arange(len(data)), int(0.8*len(data)), replace = False)\n",
    "test_index = []\n",
    "\n",
    "X_train, Y_train = [], []\n",
    "X_test, Y_test   = [], []\n",
    "\n",
    "for i in range(len(data)): \n",
    "    if i in train_index:\n",
    "        X_train.append(data[i][0])\n",
    "        Y_train.append(data[i][1])\n",
    "    else:\n",
    "        test_index.append(i)\n",
    "        X_test.append(data[i][0])\n",
    "        Y_test.append(data[i][1])\n",
    "        \n",
    "X_train, Y_train = jnp.array(X_train), jnp.array(Y_train)\n",
    "#X_test, Y_test   = jnp.array(X_test), jnp.array(Y_test)\n",
    "\n",
    "print('______________________________')\n",
    "print('Size of Training Set: {0}'.format(np.shape(X_train)[0]))\n",
    "print('Size of Test Set    : {0}'.format(np.shape(X_test)[0]))\n"
   ]
  },
  {
   "cell_type": "code",
   "execution_count": 5,
   "id": "d6782ad1-b17e-4b85-afcc-12cdc49e22f2",
   "metadata": {},
   "outputs": [
    {
     "name": "stdout",
     "output_type": "stream",
     "text": [
      "+-- PARAMETERS ---+\n",
      "a factor   = 0.005 ('a' coefficient of the optimizer)\n",
      "r_shift    = 0.0001 (c coefficient of the optimizer)\n",
      "epochs     = 100 (# epochs for learning)\n",
      "N          = 4 (Number of spins of the system)\n",
      "batch_size = 0 (batch size of the training process)\n"
     ]
    },
    {
     "name": "stderr",
     "output_type": "stream",
     "text": [
      "  0%|                                                   | 0/100 [00:00<?, ?it/s]/home/saverio/anaconda3/envs/qua/lib/python3.10/site-packages/pennylane/math/multi_dispatch.py:65: UserWarning: Contains tensors of types {'jax', 'autograd'}; dispatch will prioritize TensorFlow and PyTorch over autograd. Consider replacing Autograd with vanilla NumPy.\n",
      "  warnings.warn(\n",
      "Cost: 40.47184 | Accuracy: 76.25: 100%|███████| 100/100 [01:46<00:00,  1.06s/it]\n"
     ]
    }
   ],
   "source": [
    "jaxgpu_start = time.time()\n",
    "_ = qcnn.train_jax(100, 0.005, 0.0001, N, device_jax, vqe_circuit_fun, qcnn_circuit_fun, \n",
    "          X_train, Y_train, X_test, Y_test, plot = False, info = True, batch_size = 0)\n",
    "jaxgpu_stop  = time.time()"
   ]
  },
  {
   "cell_type": "code",
   "execution_count": 6,
   "id": "050e4cf7-7374-4b30-9c43-196028ff7979",
   "metadata": {},
   "outputs": [
    {
     "name": "stdout",
     "output_type": "stream",
     "text": [
      "+-- PARAMETERS ---+\n",
      "a factor   = 0.005 ('a' coefficient of the optimizer)\n",
      "r_shift    = 0.0001 (c coefficient of the optimizer)\n",
      "epochs     = 100 (# epochs for learning)\n",
      "N          = 4 (Number of spins of the system)\n",
      "batch_size = 0 (batch size of the training process)\n"
     ]
    },
    {
     "name": "stderr",
     "output_type": "stream",
     "text": [
      "Cost: 41.69527 | Accuracy: 76.25: 100%|███████| 100/100 [01:38<00:00,  1.02it/s]\n"
     ]
    }
   ],
   "source": [
    "# Global flag to set a specific platform, must be used at startup.\n",
    "jax.config.update('jax_platform_name', 'cpu')\n",
    "\n",
    "jaxcpu_start = time.time()\n",
    "_ = qcnn.train_jax(100, 0.005, 0.0001, N, device_jax, vqe_circuit_fun, qcnn_circuit_fun, \n",
    "          X_train, Y_train, X_test, Y_test, plot = False, info = True, batch_size = 0)\n",
    "jaxcpu_stop  = time.time()"
   ]
  },
  {
   "cell_type": "code",
   "execution_count": 7,
   "id": "b195278a-21bb-4366-abc6-ffad2f3ab31d",
   "metadata": {},
   "outputs": [
    {
     "name": "stdout",
     "output_type": "stream",
     "text": [
      "+-- PARAMETERS ---+\n",
      "a factor   = 0.005 ('a' coefficient of the optimizer)\n",
      "r_shift    = 0.0001 (c coefficient of the optimizer)\n",
      "epochs     = 100 (# epochs for learning)\n",
      "N          = 4 (Number of spins of the system)\n",
      "batch_size = 0 (batch size of the training process)\n"
     ]
    },
    {
     "name": "stderr",
     "output_type": "stream",
     "text": [
      "Cost: 41.69386 | Accuracy: 76.25: 100%|███████| 100/100 [01:51<00:00,  1.11s/it]\n"
     ]
    }
   ],
   "source": [
    "# Default.mixed (multiprocessed) \n",
    "mixed_start = time.time()\n",
    "_ = qcnn.train(100, 0.005, 0.0001, N, device_mix, vqe_circuit_fun, qcnn_circuit_fun, 0, 0, 0, 0,\n",
    "          X_train, Y_train, X_test, Y_test, plot = False, info = True, batch_size = 0)\n",
    "mixed_stop = time.time()\n"
   ]
  },
  {
   "cell_type": "code",
   "execution_count": 8,
   "id": "a4038b3f-b892-480f-b31e-ad422f19a3a4",
   "metadata": {},
   "outputs": [
    {
     "name": "stdout",
     "output_type": "stream",
     "text": [
      "+-- PARAMETERS ---+\n",
      "a factor   = 0.005 ('a' coefficient of the optimizer)\n",
      "r_shift    = 0.0001 (c coefficient of the optimizer)\n",
      "epochs     = 100 (# epochs for learning)\n",
      "N          = 4 (Number of spins of the system)\n",
      "batch_size = 0 (batch size of the training process)\n"
     ]
    },
    {
     "name": "stderr",
     "output_type": "stream",
     "text": [
      "Cost: 41.69386 | Accuracy: 76.25: 100%|███████| 100/100 [02:18<00:00,  1.39s/it]\n"
     ]
    }
   ],
   "source": [
    "# Default.mixed (multiprocessed) \n",
    "def_start = time.time()\n",
    "_ = qcnn.train(100, 0.005, 0.0001, N, device_def, vqe_circuit_fun, qcnn_circuit_fun, 0, 0, 0, 0,\n",
    "          X_train, Y_train, X_test, Y_test, plot = False, info = True, batch_size = 0)\n",
    "def_stop = time.time()\n"
   ]
  },
  {
   "cell_type": "code",
   "execution_count": 9,
   "id": "0214986e-c7f3-432d-9294-0c164b3fbacb",
   "metadata": {},
   "outputs": [
    {
     "name": "stdout",
     "output_type": "stream",
     "text": [
      "RESULTS\n",
      "0 : Default     138.7549843788147 s\n",
      "1 : Jax CPU     98.51372075080872 s\n",
      "2 : Jax GPU     106.19379806518555 s\n",
      "3 : Mixed       111.19150280952454 s\n"
     ]
    }
   ],
   "source": [
    "print('RESULTS')\n",
    "devs = ['Jax GPU', 'Jax CPU', 'Mixed  ', 'Default']\n",
    "res = [jaxgpu_stop-jaxgpu_start, jaxcpu_stop-jaxcpu_start, mixed_stop-mixed_start, def_stop-def_start]\n",
    "resdevs = zip(res, devs)\n",
    "sorted_resdevs = sorted(resdevs)\n",
    "for pos, (re, devs) in enumerate(sorted_devres):\n",
    "    print(pos,':', dev, '   ', re, 's')"
   ]
  },
  {
   "cell_type": "code",
   "execution_count": null,
   "id": "7475504a-d5d1-48a0-8712-09b58c5b8ffc",
   "metadata": {},
   "outputs": [],
   "source": []
  }
 ],
 "metadata": {
  "kernelspec": {
   "display_name": "Python 3 (ipykernel)",
   "language": "python",
   "name": "python3"
  },
  "language_info": {
   "codemirror_mode": {
    "name": "ipython",
    "version": 3
   },
   "file_extension": ".py",
   "mimetype": "text/x-python",
   "name": "python",
   "nbconvert_exporter": "python",
   "pygments_lexer": "ipython3",
   "version": "3.10.4"
  }
 },
 "nbformat": 4,
 "nbformat_minor": 5
}
