{
 "cells": [
  {
   "cell_type": "code",
   "execution_count": 1,
   "id": "286e744f-6426-42b4-b032-94c0aa4ea816",
   "metadata": {},
   "outputs": [],
   "source": [
    "### IMPORTS ###\n",
    "\n",
    "# Quantum libraries:\n",
    "import pennylane as qml\n",
    "#from pennylane \n",
    "import numpy as np\n",
    "import jax\n",
    "import jax.numpy as jnp\n",
    "from jax import jit\n",
    "from functools import partial\n",
    "\n",
    "# Plotting\n",
    "from matplotlib import pyplot as plt\n",
    "import plotly\n",
    "\n",
    "# Other\n",
    "import sys, os\n",
    "import time\n",
    "import copy\n",
    "from tqdm.notebook import tqdm # Pretty progress bars\n",
    "import joblib # Writing and loading\n",
    "from noisyopt import minimizeSPSA\n",
    "import optuna # Automatic tuning tool\n",
    "import multiprocessing\n",
    "\n",
    "import warnings\n",
    "warnings.filterwarnings(\"ignore\", message=\"For Hamiltonians, the eigenvalues will be computed numerically. This may be computationally intensive for a large number of wires.Consider using a sparse representation of the Hamiltonian with qml.SparseHamiltonian.\")\n",
    "##############\n"
   ]
  },
  {
   "cell_type": "code",
   "execution_count": 2,
   "id": "97dfcda1-68a4-4c17-9760-db51c7dcf209",
   "metadata": {},
   "outputs": [],
   "source": [
    "# My functions:\n",
    "sys.path.insert(0, '../')\n",
    "import vqe_functions as vqe\n",
    "import qcnn_functions as qcnn\n"
   ]
  },
  {
   "cell_type": "code",
   "execution_count": 3,
   "id": "55f71e7b-4025-49f7-9cf4-2e64e20d9b2d",
   "metadata": {},
   "outputs": [
    {
     "name": "stdout",
     "output_type": "stream",
     "text": [
      "Size of Data Set: 100\n",
      "______________________________\n",
      "Size of Training Set: 80\n",
      "Size of Test Set    : 20\n"
     ]
    }
   ],
   "source": [
    "## Load data:\n",
    "data = joblib.load('../vqe_states_job/vqe_params_0noise.job')\n",
    "\n",
    "print('Size of Data Set: {0}'.format(len(data)))\n",
    "\n",
    "train_index = np.sort(np.random.choice(np.arange(len(data)), size=int(0.8*len(data)), replace=False ))\n",
    "\n",
    "X_train, Y_train = [], []\n",
    "X_test, Y_test   = [], []\n",
    "\n",
    "for i in range(len(data)): \n",
    "    if i in train_index:\n",
    "        X_train.append(data[i][0])\n",
    "        Y_train.append(data[i][1])\n",
    "    else:\n",
    "        X_test.append(data[i][0])\n",
    "        Y_test.append(data[i][1])\n",
    "        \n",
    "X_train, Y_train = jnp.array(X_train), jnp.array(Y_train)\n",
    "X_test, Y_test   = jnp.array(X_test), jnp.array(Y_test)\n",
    "\n",
    "print('______________________________')\n",
    "print('Size of Training Set: {0}'.format(np.shape(X_train)[0]))\n",
    "print('Size of Test Set    : {0}'.format(np.shape(X_test)[0]))\n"
   ]
  },
  {
   "cell_type": "code",
   "execution_count": 4,
   "id": "74cedb11-9e93-465f-bea9-5c4447977f1a",
   "metadata": {},
   "outputs": [],
   "source": [
    "N = 4\n",
    "J = 1\n",
    "\n",
    "vqe_circuit_fun = vqe.vqe_circuit\n",
    "qcnn_circuit_fun = qcnn.qcnn_circuit"
   ]
  },
  {
   "cell_type": "code",
   "execution_count": 5,
   "id": "6ece297a-0cfe-4cb2-b5a2-2d01645d005f",
   "metadata": {},
   "outputs": [],
   "source": [
    "device = qml.device(\"default.mixed\", wires = N, shots = None)"
   ]
  },
  {
   "cell_type": "markdown",
   "id": "2e9f45a9-b8db-41a8-bb70-36bb7d07262c",
   "metadata": {},
   "source": [
    "* 1. Split Test and Training set as 20-80 (This was not done randomly, the split was done so the test points are as sparse (and different) as possible)\n",
    "* 2. We choose different sizes of the training set [npoints_list]\n",
    "* 3. For npoints in npoints_list:\n",
    "    * Draw randomly a subset of npoints from the training set\n",
    "    * Train the QCNN just with those samples\n",
    "    * Get the Loss and Accuracy on the Test Set\n",
    "    * Get the mean and variance for the QCNNs trained with npoitns"
   ]
  },
  {
   "cell_type": "code",
   "execution_count": 33,
   "id": "6e267ba9-ee9c-48fb-b6c7-05fa5321115f",
   "metadata": {},
   "outputs": [],
   "source": [
    "# Training function\n",
    "def train(epochs, lr, r_shift, N,\n",
    "          qcnn_circuit, X_train, Y_train, X_test = [], Y_test = []):\n",
    "    \n",
    "    X_train, Y_train = np.array(X_train), np.array(Y_train)\n",
    "    X_test, Y_test = np.array(X_test), np.array(Y_test)    \n",
    "    \n",
    "    # Initialize parameters randomly\n",
    "    params = np.array( np.random.randn(100) )\n",
    "    \n",
    "    # Cost function to minimize, returning the cross-entropy of the training set\n",
    "    # Additionally it computes the accuracy of the training and test set \n",
    "    # (every 10 epochs)\n",
    "    def update(X, Y, X_test, Y_test, params):\n",
    "        # Compute loss and accuracy of the training set\n",
    "        cross_entropy = 0\n",
    "        corrects = 0\n",
    "        for x,y in zip(X,Y):\n",
    "            prediction = qcnn_circuit(x, params, N)\n",
    "            \n",
    "            # Cross entropy rule\n",
    "            cross_entropy += y * np.log(prediction[y]) + (1 - y) * np.log(1 - prediction[1 - y])\n",
    "            \n",
    "            if np.argmax( prediction ) == y:\n",
    "                corrects += 1   \n",
    "            \n",
    "        loss_history.append( - cross_entropy )\n",
    "        accuracy_history.append(100*corrects/len(Y)) \n",
    "        \n",
    "        return - cross_entropy\n",
    "\n",
    "    spsa_callback = lambda v: update(X_train, Y_train, X_test, Y_test, v)\n",
    "\n",
    "    loss_history = []\n",
    "    accuracy_history = []\n",
    "    loss_history_test = []\n",
    "    accuracy_history_test = []\n",
    "    \n",
    "    res = minimizeSPSA(spsa_callback,\n",
    "                       x0=params,\n",
    "                       niter=epochs,\n",
    "                       paired=False,\n",
    "                       c=r_shift,\n",
    "                       a=lr)\n",
    "    \n",
    "    # Update final parameterss\n",
    "    params = res.x\n",
    "        \n",
    "    return loss_history, accuracy_history, params"
   ]
  },
  {
   "cell_type": "code",
   "execution_count": 34,
   "id": "fadcfce4-e7eb-462c-8669-49548960af13",
   "metadata": {},
   "outputs": [],
   "source": [
    "@qml.qnode(device)\n",
    "def qcnn_circuit(params_vqe, params, N, vqe_conv_noise = 0, vqe_rot_noise = 0, qcnn_conv_noise = 0, qcnn_pool_noise = 0):\n",
    "    qcnn.qcnn_circuit(params_vqe, vqe.vqe_circuit, params, N, 0, 0, 0, 0)\n",
    "    \n",
    "    return qml.probs(wires = N - 1)"
   ]
  },
  {
   "cell_type": "code",
   "execution_count": 35,
   "id": "ca2c2fd9-9c58-454c-8d90-c63f38acbcae",
   "metadata": {},
   "outputs": [],
   "source": [
    "def reduced_npoints_accuracies(data, npoints_list, n_iters, epochs, testdata_ratio = 0.2, plot = True):\n",
    "    '''\n",
    "    From the same VQE parameters we want to train many times a QCNN with different samples\n",
    "    in order to find what is the average accuracy n-training points can reach\n",
    "    '''\n",
    "    # We need to declare this wrapper as global otherwise multiprocessing\n",
    "    # does not work\n",
    "    global wrapped_update\n",
    "    \n",
    "    # Array of indexes of test data\n",
    "    test_idx = np.linspace(0, (len(data)-1), num = int(testdata_ratio*len(data)), dtype = int)\n",
    "    X_test  = data[test_idx][:,0]\n",
    "    Y_test  = data[test_idx][:,1]\n",
    "    \n",
    "    # The indexes in the training sets are the one not in the test set\n",
    "    train_idx = []\n",
    "    for i in range(len(data)):\n",
    "        if i not in test_idx:\n",
    "            train_idx.append(i)\n",
    "    \n",
    "    loss_means = []\n",
    "    loss_devs  = []\n",
    "    \n",
    "    acc_means = []\n",
    "    acc_devs  = []\n",
    "    \n",
    "    pbar = tqdm(total = len(npoints_list))\n",
    "    \n",
    "    for npoints in npoints_list:\n",
    "        # Function for training a QCNN with multiprocessing\n",
    "        def wrapped_update(idx):\n",
    "            # Train a QCNN and save loss/accuracy for data-analysis\n",
    "            \n",
    "            # Force randomicity, multiprocessing tends to give the same random vectors\n",
    "            # to each parallelized process\n",
    "            np.random.seed(int.from_bytes(os.urandom(4), byteorder='little'))\n",
    "            \n",
    "            # Choose a random subset of the training set of size npoints\n",
    "            train_idx_it = np.random.choice(train_idx, npoints, replace=False)\n",
    "            X_train = data[train_idx_it][:,0]\n",
    "            Y_train = data[train_idx_it][:,1]\n",
    "            \n",
    "            # Train a QCNN with the random subset of the training set and get the parameters \n",
    "            _, _, params = train(epochs, 0.05, 0.0008, N, qcnn_circuit, X_train, Y_train)\n",
    "            \n",
    "            # Compute Accuracy and Loss on the test-set\n",
    "            correctly_predicted = 0\n",
    "            cross_entropy = 0\n",
    "            for x,y in zip(X_test,Y_test):\n",
    "                prediction = qcnn_circuit(x, params, N)\n",
    "            \n",
    "                # Cross entropy rule\n",
    "                cross_entropy += y * np.log(prediction[y]) + (1 - y) * np.log(1 - prediction[1 - y])\n",
    "                \n",
    "                # Accuracy\n",
    "                if np.argmax( prediction ) == y:\n",
    "                    correctly_predicted += 1  \n",
    "                \n",
    "            return cross_entropy, 100*correctly_predicted/len(Y_test)\n",
    "        \n",
    "        p = multiprocessing.Pool()\n",
    "        with p: rdata = p.map(wrapped_update, np.arange(n_iters))\n",
    "        \n",
    "        rdata = np.array(rdata)\n",
    "        \n",
    "        loss_means.append(np.mean(rdata[:,0]))\n",
    "        loss_devs.append(np.std(rdata[:,0]))\n",
    "        acc_means.append(np.mean(rdata[:,1]))\n",
    "        acc_devs.append(np.std(rdata[:,1]))\n",
    "        \n",
    "        pbar.update(1)\n",
    "        \n",
    "    if plot:\n",
    "        fig, ax = plt.subplots(2, 1, figsize=(10,10))\n",
    "            \n",
    "        ax[0].plot(np.arange(len(npoints_list)), loss_means, color='indigo', lw = 2, alpha = 0.3)\n",
    "        ax[0].errorbar(np.arange(len(npoints_list)), loss_means, yerr=3*np.array(loss_devs), fmt='o', color='indigo',\n",
    "                       ecolor='blueviolet', elinewidth=3, capsize=0)\n",
    "        ax[0].set_xticks(np.arange(len(npoints_list)))\n",
    "        ax[0].set_xticklabels(npoints_list)\n",
    "        ax[0].grid(True)\n",
    "        ax[0].set_title('Losses on Test Set'.format(N,J))\n",
    "        ax[0].set_xlabel('# points in Training Set')\n",
    "        ax[0].set_ylabel('Cross-entropy')\n",
    "\n",
    "        ax[1].plot(np.arange(len(npoints_list)), acc_means, color='red', ms = 7, alpha = 0.3)\n",
    "        ax[1].errorbar(np.arange(len(npoints_list)), acc_means, yerr=3*np.array(acc_devs),fmt='o', color='red',\n",
    "                       ecolor='red', elinewidth=3, capsize=0)\n",
    "        ax[1].set_xticks(np.arange(len(npoints_list)))\n",
    "        ax[1].set_xticklabels(npoints_list)\n",
    "        ax[1].grid(True)\n",
    "        ax[1].set_title('Accuracies on Test Set')\n",
    "        ax[1].set_xlabel('# points in Training Set')\n",
    "        ax[1].set_ylabel('(%)')\n",
    "        \n",
    "    return loss_means, loss_devs, acc_means, acc_devs\n"
   ]
  },
  {
   "cell_type": "code",
   "execution_count": 36,
   "id": "80d2b0bf-68cc-4798-8904-f6d65ea40bf9",
   "metadata": {},
   "outputs": [
    {
     "data": {
      "application/vnd.jupyter.widget-view+json": {
       "model_id": "5b8842a2705343e090f2d1764e705cd1",
       "version_major": 2,
       "version_minor": 0
      },
      "text/plain": [
       "  0%|          | 0/7 [00:00<?, ?it/s]"
      ]
     },
     "metadata": {},
     "output_type": "display_data"
    },
    {
     "data": {
      "image/png": "[encoded data removed]",
      "text/plain": [
       "<Figure size 720x720 with 2 Axes>"
      ]
     },
     "metadata": {
      "needs_background": "light"
     },
     "output_type": "display_data"
    }
   ],
   "source": [
    "loss_means, loss_devs, acc_means, acc_devs = reduced_npoints_accuracies(data, [1, 10, 25, 50, 60, 70, 80], 100, 150,\n",
    "                               testdata_ratio = 0.2, plot = True)"
   ]
  },
  {
   "cell_type": "code",
   "execution_count": 37,
   "id": "f7ead819-8536-41fa-83d3-51b811ca7483",
   "metadata": {},
   "outputs": [
    {
     "data": {
      "text/plain": [
       "['../../data/small_sets/acc.job']"
      ]
     },
     "execution_count": 37,
     "metadata": {},
     "output_type": "execute_result"
    }
   ],
   "source": [
    "joblib.dump((loss_means, loss_devs), '../../data/small_sets/loss.job')\n",
    "joblib.dump((acc_means, acc_devs), '../../data/small_sets/acc.job')"
   ]
  },
  {
   "cell_type": "code",
   "execution_count": null,
   "id": "5e463fb5-90e4-4414-be23-9b9429b0012a",
   "metadata": {},
   "outputs": [],
   "source": []
  }
 ],
 "metadata": {
  "kernelspec": {
   "display_name": "Python 3 (ipykernel)",
   "language": "python",
   "name": "python3"
  },
  "language_info": {
   "codemirror_mode": {
    "name": "ipython",
    "version": 3
   },
   "file_extension": ".py",
   "mimetype": "text/x-python",
   "name": "python",
   "nbconvert_exporter": "python",
   "pygments_lexer": "ipython3",
   "version": "3.10.4"
  }
 },
 "nbformat": 4,
 "nbformat_minor": 5
}
