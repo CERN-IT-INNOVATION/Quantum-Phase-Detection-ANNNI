{
 "cells": [
  {
   "cell_type": "markdown",
   "id": "766faba0-9683-4df0-b9c9-a2068f36e636",
   "metadata": {},
   "source": [
    "# Demonstration: VQE algorithm"
   ]
  },
  {
   "cell_type": "code",
   "execution_count": 1,
   "id": "aa212e7f-7a24-482b-84e3-b2958ccd938c",
   "metadata": {},
   "outputs": [],
   "source": [
    "from PhaseEstimation import vqe, hamiltonians, ising_chain, annni_model\n",
    "from PhaseEstimation import visualization as qplt"
   ]
  },
  {
   "cell_type": "code",
   "execution_count": 2,
   "id": "9cb01fd3-c43d-4b0c-add9-c1464743c7b3",
   "metadata": {},
   "outputs": [],
   "source": [
    "# System parameters\n",
    "N = 8\n",
    "J = 1\n",
    "n_states = 10\n",
    "\n",
    "# Learning parameters\n",
    "lr = .3"
   ]
  },
  {
   "cell_type": "markdown",
   "id": "8da06ce9-949e-4521-ad97-619352aaa8e7",
   "metadata": {},
   "source": [
    "### Ising Chain\n",
    "$$H = - h \\Sigma_i \\sigma_z^i - J \\Sigma_i \\sigma_x^i\\sigma_x^{i+1}\\qquad\\left[J\\equiv 1, h \\in [0,2*J]\\right]$$"
   ]
  },
  {
   "cell_type": "code",
   "execution_count": 3,
   "id": "09a8d150-8a66-4855-8d02-187aebaf02dc",
   "metadata": {},
   "outputs": [],
   "source": [
    "# Initialize Hamiltonian class with the desired parameters\n",
    "# N = number of spins\n",
    "# J = interaction strenght\n",
    "# n_states : number of possible different states for h in [0,2*J]\n",
    "# ring     : if True -> periodic boundary conditions\n",
    "Hs = hamiltonians.hamiltonian(ising_chain.build_Hs, N = N, J = J, n_states = n_states, ring = False)"
   ]
  },
  {
   "cell_type": "code",
   "execution_count": 4,
   "id": "d5a3114e-b638-4e79-a0a9-2ef4fce13649",
   "metadata": {},
   "outputs": [],
   "source": [
    "# Initialize VQE class\n",
    "myvqe = vqe.vqe(Hs, vqe.circuit_ising)"
   ]
  },
  {
   "cell_type": "code",
   "execution_count": 5,
   "id": "8de019b9-04de-4cfb-b714-b4352f5cccbd",
   "metadata": {},
   "outputs": [
    {
     "name": "stdout",
     "output_type": "stream",
     "text": [
      "+--- CIRCUIT ---+\n",
      "0: ──||──H─╭C──RY(0.00)──────────────────────────────────────────────────────────────||──H─╭C\n",
      "1: ──||──H─╰X─╭C─────────RY(1.00)────────────────────────────────────────────────────||──H─╰X\n",
      "2: ──||──H────╰X────────╭C─────────RY(2.00)──────────────────────────────────────────||──H───\n",
      "3: ──||──H──────────────╰X────────╭C─────────RY(3.00)────────────────────────────────||──H───\n",
      "4: ──||──H────────────────────────╰X────────╭C─────────RY(4.00)──────────────────────||──H───\n",
      "5: ──||──H──────────────────────────────────╰X────────╭C─────────RY(5.00)────────────||──H───\n",
      "6: ──||──H────────────────────────────────────────────╰X────────╭C─────────RY(6.00)──||──H───\n",
      "7: ──||──H──────────────────────────────────────────────────────╰X─────────RY(7.00)──||──H───\n",
      "\n",
      "───RY(8.00)───────────────────────────────────────────────────────────────────||──H─╭C──RY(16.00)\n",
      "──╭C─────────RY(9.00)─────────────────────────────────────────────────────────||──H─╰X─╭C────────\n",
      "──╰X────────╭C─────────RY(10.00)──────────────────────────────────────────────||──H────╰X────────\n",
      "────────────╰X────────╭C──────────RY(11.00)───────────────────────────────────||──H──────────────\n",
      "──────────────────────╰X─────────╭C──────────RY(12.00)────────────────────────||──H──────────────\n",
      "─────────────────────────────────╰X─────────╭C──────────RY(13.00)─────────────||──H──────────────\n",
      "────────────────────────────────────────────╰X─────────╭C──────────RY(14.00)──||──H──────────────\n",
      "───────────────────────────────────────────────────────╰X──────────RY(15.00)──||──H──────────────\n",
      "\n",
      "─────────────────────────────────────────────────────────────────────||──H─╭C──RY(24.00)───────────\n",
      "───RY(17.00)─────────────────────────────────────────────────────────||──H─╰X─╭C──────────RY(25.00)\n",
      "──╭C──────────RY(18.00)──────────────────────────────────────────────||──H────╰X─────────╭C────────\n",
      "──╰X─────────╭C──────────RY(19.00)───────────────────────────────────||──H───────────────╰X────────\n",
      "─────────────╰X─────────╭C──────────RY(20.00)────────────────────────||──H─────────────────────────\n",
      "────────────────────────╰X─────────╭C──────────RY(21.00)─────────────||──H─────────────────────────\n",
      "───────────────────────────────────╰X─────────╭C──────────RY(22.00)──||──H─────────────────────────\n",
      "──────────────────────────────────────────────╰X──────────RY(23.00)──||──H─────────────────────────\n",
      "\n",
      "──────────────────────────────────────────────────────────||──H─╭C──RY(32.00)──────────────────────\n",
      "──────────────────────────────────────────────────────────||──H─╰X─╭C──────────RY(33.00)───────────\n",
      "───RY(26.00)──────────────────────────────────────────────||──H────╰X─────────╭C──────────RY(34.00)\n",
      "──╭C──────────RY(27.00)───────────────────────────────────||──H───────────────╰X─────────╭C────────\n",
      "──╰X─────────╭C──────────RY(28.00)────────────────────────||──H──────────────────────────╰X────────\n",
      "─────────────╰X─────────╭C──────────RY(29.00)─────────────||──H────────────────────────────────────\n",
      "────────────────────────╰X─────────╭C──────────RY(30.00)──||──H────────────────────────────────────\n",
      "───────────────────────────────────╰X──────────RY(31.00)──||──H────────────────────────────────────\n",
      "\n",
      "───────────────────────────────────────────────||──H─╭C──RY(40.00)─────────────────────────────────\n",
      "───────────────────────────────────────────────||──H─╰X─╭C──────────RY(41.00)──────────────────────\n",
      "───────────────────────────────────────────────||──H────╰X─────────╭C──────────RY(42.00)───────────\n",
      "───RY(35.00)───────────────────────────────────||──H───────────────╰X─────────╭C──────────RY(43.00)\n",
      "──╭C──────────RY(36.00)────────────────────────||──H──────────────────────────╰X─────────╭C────────\n",
      "──╰X─────────╭C──────────RY(37.00)─────────────||──H─────────────────────────────────────╰X────────\n",
      "─────────────╰X─────────╭C──────────RY(38.00)──||──H───────────────────────────────────────────────\n",
      "────────────────────────╰X──────────RY(39.00)──||──H───────────────────────────────────────────────\n",
      "\n",
      "────────────────────────────────────||──RX(48.00)─┤  State\n",
      "────────────────────────────────────||──RX(49.00)─┤  State\n",
      "────────────────────────────────────||──RX(50.00)─┤  State\n",
      "────────────────────────────────────||──RX(51.00)─┤  State\n",
      "───RY(44.00)────────────────────────||──RX(52.00)─┤  State\n",
      "──╭C──────────RY(45.00)─────────────||──RX(53.00)─┤  State\n",
      "──╰X─────────╭C──────────RY(46.00)──||──RX(54.00)─┤  State\n",
      "─────────────╰X──────────RY(47.00)──||──RX(55.00)─┤  State\n"
     ]
    },
    {
     "data": {
      "application/vnd.jupyter.widget-view+json": {
       "model_id": "04e3c6db470d4768a1193169f07f9531",
       "version_major": 2,
       "version_minor": 0
      },
      "text/plain": [
       "  0%|          | 0/10 [00:00<?, ?it/s]"
      ]
     },
     "metadata": {},
     "output_type": "display_data"
    },
    {
     "data": {
      "application/vnd.jupyter.widget-view+json": {
       "model_id": "dc920bbdaca34cae90fadac48589d2d1",
       "version_major": 2,
       "version_minor": 0
      },
      "text/plain": [
       "  0%|          | 0/10 [00:00<?, ?it/s]"
      ]
     },
     "metadata": {},
     "output_type": "display_data"
    }
   ],
   "source": [
    "# Train VQE\n",
    "myvqe.train(lr = .1, n_epochs = 100, circuit = True)\n",
    "\n",
    "# Train only VQE points which accuracy is higher than a certain threshold (third parameter)\n",
    "myvqe.train_refine(lr = .1, n_epochs = 1000, acc_thr = 0.01, assist = False)"
   ]
  },
  {
   "cell_type": "code",
   "execution_count": 6,
   "id": "6dd52584-c681-4f5e-8602-e90506c35467",
   "metadata": {},
   "outputs": [
    {
     "data": {
      "image/png": "[encoded data removed]",
      "text/plain": [
       "<Figure size 864x432 with 2 Axes>"
      ]
     },
     "metadata": {
      "needs_background": "light"
     },
     "output_type": "display_data"
    }
   ],
   "source": [
    "qplt.show_VQE_isingchain(myvqe)"
   ]
  },
  {
   "cell_type": "code",
   "execution_count": 7,
   "id": "97cda591",
   "metadata": {},
   "outputs": [
    {
     "data": {
      "application/vnd.jupyter.widget-view+json": {
       "model_id": "7aa34da1a9d94783ba086428d9e45ce1",
       "version_major": 2,
       "version_minor": 0
      },
      "text/plain": [
       "  0%|          | 0/10 [00:00<?, ?it/s]"
      ]
     },
     "metadata": {},
     "output_type": "display_data"
    },
    {
     "data": {
      "application/vnd.jupyter.widget-view+json": {
       "model_id": "c44426e6eac146e999d0c8a9da36a674",
       "version_major": 2,
       "version_minor": 0
      },
      "text/plain": [
       "  0%|          | 0/10 [00:00<?, ?it/s]"
      ]
     },
     "metadata": {},
     "output_type": "display_data"
    }
   ],
   "source": [
    "# Train VQE\n",
    "myvqe.train_excited(lr = .1, n_epochs = 100, beta = 5, circuit = False)\n",
    "\n",
    "# Train only VQE points which accuracy is higher than a certain threshold (third parameter)\n",
    "myvqe.train_refine_excited(lr = .1, n_epochs = 1000, acc_thr = 0.01, beta = 5, assist = False)"
   ]
  },
  {
   "cell_type": "code",
   "execution_count": 8,
   "id": "59f2bd24",
   "metadata": {},
   "outputs": [
    {
     "data": {
      "image/png": "[encoded data removed]",
      "text/plain": [
       "<Figure size 864x432 with 2 Axes>"
      ]
     },
     "metadata": {
      "needs_background": "light"
     },
     "output_type": "display_data"
    }
   ],
   "source": [
    "qplt.show_VQE_isingchain(myvqe, excited = True)"
   ]
  },
  {
   "cell_type": "markdown",
   "id": "3cb10479-82cd-46f3-9086-aa3321cac094",
   "metadata": {},
   "source": [
    "### ANNNI Model\n",
    "$$H = - J_1\\left( L \\Sigma_i \\sigma_z^i + \\Sigma_i \\sigma_x^i\\sigma_x^{i+1} + K \\Sigma_i \\sigma_x^i\\sigma_x^{i+2} \\right) \\qquad\\left[{J_1}\\equiv 1, L:=\\frac{h}{J_1}, K:= \\frac{J_2}{J_1}, L\\in[0,2], K = [0, -J1]\\right]$$"
   ]
  },
  {
   "cell_type": "code",
   "execution_count": 9,
   "id": "48959bc4-77e5-4f94-b329-21771e2037c7",
   "metadata": {},
   "outputs": [],
   "source": [
    "# Initialize ANNNI Hamiltonian class with the desired parameters\n",
    "# N = number of spins\n",
    "# n_states : number of possible values each hyperparameter can have\n",
    "# ring     : if True -> periodic boundary conditions\n",
    "Hs = hamiltonians.hamiltonian(annni_model.build_Hs, N = N, n_states = 10, ring = False)"
   ]
  },
  {
   "cell_type": "code",
   "execution_count": 10,
   "id": "3701e6eb-d2b4-4629-961e-ab8abd4296ee",
   "metadata": {},
   "outputs": [],
   "source": [
    "# Initialize VQE class\n",
    "myvqe = vqe.vqe(Hs, vqe.circuit_ising)"
   ]
  },
  {
   "cell_type": "code",
   "execution_count": 11,
   "id": "ff7977b5-2333-46b8-8173-42f7b033c92e",
   "metadata": {},
   "outputs": [
    {
     "data": {
      "application/vnd.jupyter.widget-view+json": {
       "model_id": "54ae7a51680e4bd08462344ff83681e0",
       "version_major": 2,
       "version_minor": 0
      },
      "text/plain": [
       "  0%|          | 0/100 [00:00<?, ?it/s]"
      ]
     },
     "metadata": {},
     "output_type": "display_data"
    },
    {
     "data": {
      "application/vnd.jupyter.widget-view+json": {
       "model_id": "347cc51c62b14af5a257f736bf741770",
       "version_major": 2,
       "version_minor": 0
      },
      "text/plain": [
       "  0%|          | 0/100 [00:00<?, ?it/s]"
      ]
     },
     "metadata": {},
     "output_type": "display_data"
    }
   ],
   "source": [
    "# Train VQE\n",
    "myvqe.train(lr = .1, n_epochs = 100, circuit = False)\n",
    "\n",
    "# Train only VQE points which accuracy is higher than a certain threshold (third parameter)\n",
    "myvqe.train_refine(lr = .1, n_epochs = 1000, acc_thr = 0.01, assist = True)"
   ]
  },
  {
   "cell_type": "code",
   "execution_count": 12,
   "id": "14d8fd85-dd00-4318-86c1-f1b8e7906d90",
   "metadata": {},
   "outputs": [
    {
     "data": {
      "application/vnd.plotly.v1+json": {
       "config": {
        "plotlyServerURL": "https://plot.ly"
       },
       "data": [
        {
         "colorscale": [
          [
           0,
           "rgb(255,245,240)"
          ],
          [
           0.125,
           "rgb(254,224,210)"
          ],
          [
           0.25,
           "rgb(252,187,161)"
          ],
          [
           0.375,
           "rgb(252,146,114)"
          ],
          [
           0.5,
           "rgb(251,106,74)"
          ],
          [
           0.625,
           "rgb(239,59,44)"
          ],
          [
           0.75,
           "rgb(203,24,29)"
          ],
          [
           0.875,
           "rgb(165,15,21)"
          ],
          [
           1,
           "rgb(103,0,13)"
          ]
         ],
         "opacity": 0.2,
         "type": "surface",
         "x": [
          1,
          0.8888888888888888,
          0.7777777777777778,
          0.6666666666666667,
          0.5555555555555556,
          0.4444444444444444,
          0.33333333333333337,
          0.22222222222222232,
          0.11111111111111116,
          0
         ],
         "y": [
          0,
          0.2222222222222222,
          0.4444444444444444,
          0.6666666666666666,
          0.8888888888888888,
          1.1111111111111112,
          1.3333333333333333,
          1.5555555555555554,
          1.7777777777777777,
          2
         ],
         "z": [
          [
           -7.000002384185791,
           -7.123922824859619,
           -7.502823829650879,
           -8.174697875976562,
           -9.203765869140625,
           -10.527409553527832,
           -12.014960289001465,
           -13.591530799865723,
           -15.22118091583252,
           -16.88513946533203
          ],
          [
           -6.333334445953369,
           -6.471575736999512,
           -6.902606010437012,
           -7.7074689865112305,
           -8.911114692687988,
           -10.34410572052002,
           -11.89120864868164,
           -13.502771377563477,
           -15.15467357635498,
           -16.833642959594727
          ],
          [
           -5.6666669845581055,
           -5.823856353759766,
           -6.342974662780762,
           -7.364457607269287,
           -8.722175598144531,
           -10.229228973388672,
           -11.815876007080078,
           -13.450929641723633,
           -15.117836952209473,
           -16.806917190551758
          ],
          [
           -5,
           -5.186285018920898,
           -5.928212642669678,
           -7.178016662597656,
           -8.625919342041016,
           -10.175265312194824,
           -11.784968376159668,
           -13.433735847473145,
           -15.1093111038208,
           -16.804092407226562
          ],
          [
           -4.333333969116211,
           -4.710674285888672,
           -5.782412528991699,
           -7.124639511108398,
           -8.60899829864502,
           -10.176117897033691,
           -11.795337677001953,
           -13.449429512023926,
           -15.128007888793945,
           -16.824472427368164
          ],
          [
           -4.3333330154418945,
           -4.782392501831055,
           -5.842174530029297,
           -7.17940092086792,
           -8.661969184875488,
           -10.227364540100098,
           -11.844622611999512,
           -13.496612548828125,
           -15.173087120056152,
           -16.867481231689453
          ],
          [
           -5.000000953674316,
           -5.1911139488220215,
           -6.0459465980529785,
           -7.325815200805664,
           -8.778302192687988,
           -10.325799942016602,
           -11.931041717529297,
           -13.57423210144043,
           -15.243847846984863,
           -16.932674407958984
          ],
          [
           -5.666668891906738,
           -5.825718402862549,
           -6.408012390136719,
           -7.556121826171875,
           -8.953757286071777,
           -10.469152450561523,
           -12.053271293640137,
           -13.681440353393555,
           -15.339743614196777,
           -17.019670486450195
          ],
          [
           -6.3333330154418945,
           -6.472757816314697,
           -6.931814670562744,
           -7.876086711883545,
           -9.186902046203613,
           -10.656018257141113,
           -12.210382461547852,
           -13.817628860473633,
           -15.46035099029541,
           -17.128177642822266
          ],
          [
           -7.000000476837158,
           -7.124747276306152,
           -7.519648551940918,
           -8.291386604309082,
           -9.479005813598633,
           -10.885913848876953,
           -12.401782989501953,
           -13.982357025146484,
           -15.605361938476562,
           -17.257984161376953
          ]
         ]
        },
        {
         "colorscale": [
          [
           0,
           "rgb(247,251,255)"
          ],
          [
           0.125,
           "rgb(222,235,247)"
          ],
          [
           0.25,
           "rgb(198,219,239)"
          ],
          [
           0.375,
           "rgb(158,202,225)"
          ],
          [
           0.5,
           "rgb(107,174,214)"
          ],
          [
           0.625,
           "rgb(66,146,198)"
          ],
          [
           0.75,
           "rgb(33,113,181)"
          ],
          [
           0.875,
           "rgb(8,81,156)"
          ],
          [
           1,
           "rgb(8,48,107)"
          ]
         ],
         "opacity": 1,
         "type": "surface",
         "x": [
          1,
          0.8888888888888888,
          0.7777777777777778,
          0.6666666666666667,
          0.5555555555555556,
          0.4444444444444444,
          0.33333333333333337,
          0.22222222222222232,
          0.11111111111111116,
          0
         ],
         "y": [
          0,
          0.2222222222222222,
          0.4444444444444444,
          0.6666666666666666,
          0.8888888888888888,
          1.1111111111111112,
          1.3333333333333333,
          1.5555555555555554,
          1.7777777777777777,
          2
         ],
         "z": [
          [
           -6.999993324279785,
           -7.123599052429199,
           -7.49698543548584,
           -8.14510726928711,
           -9.199225425720215,
           -10.525850296020508,
           -12.01436996459961,
           -13.591139793395996,
           -15.220819473266602,
           -16.884967803955078
          ],
          [
           -6.33332633972168,
           -6.471489906311035,
           -6.900703430175781,
           -7.703207969665527,
           -8.908981323242188,
           -10.343195915222168,
           -11.890656471252441,
           -13.5023832321167,
           -15.154489517211914,
           -16.83313751220703
          ],
          [
           -5.666653633117676,
           -5.823348045349121,
           -6.336193084716797,
           -7.362656593322754,
           -8.722119331359863,
           -10.229066848754883,
           -11.815574645996094,
           -13.450567245483398,
           -15.117497444152832,
           -16.805011749267578
          ],
          [
           -4.9999895095825195,
           -5.183989524841309,
           -5.9281134605407715,
           -7.175636291503906,
           -8.623183250427246,
           -10.172792434692383,
           -11.782880783081055,
           -13.431743621826172,
           -15.107845306396484,
           -16.802927017211914
          ],
          [
           -4.333325386047363,
           -4.697890281677246,
           -5.764122009277344,
           -7.11205530166626,
           -8.600740432739258,
           -10.169978141784668,
           -11.791120529174805,
           -13.446355819702148,
           -15.12589168548584,
           -16.8225154876709
          ],
          [
           -4.332625865936279,
           -4.740780830383301,
           -5.811161994934082,
           -7.163269996643066,
           -8.650252342224121,
           -10.219090461730957,
           -11.838881492614746,
           -13.492048263549805,
           -15.168508529663086,
           -16.862998962402344
          ],
          [
           -4.999968528747559,
           -5.18426513671875,
           -6.015497207641602,
           -7.3066792488098145,
           -8.76906967163086,
           -10.320755004882812,
           -11.927698135375977,
           -13.572151184082031,
           -15.241988182067871,
           -16.930904388427734
          ],
          [
           -5.666658401489258,
           -5.824645042419434,
           -6.384787559509277,
           -7.528885364532471,
           -8.936988830566406,
           -10.459053039550781,
           -12.04631519317627,
           -13.67594051361084,
           -15.335543632507324,
           -17.016441345214844
          ],
          [
           -6.333324909210205,
           -6.471961498260498,
           -6.904175758361816,
           -7.8429083824157715,
           -9.162018775939941,
           -10.639013290405273,
           -12.19896125793457,
           -13.809715270996094,
           -15.45412826538086,
           -17.123851776123047
          ],
          [
           -6.999990940093994,
           -7.124457359313965,
           -7.513415336608887,
           -8.259922981262207,
           -9.448427200317383,
           -10.862700462341309,
           -12.385178565979004,
           -13.97050952911377,
           -15.596665382385254,
           -17.251075744628906
          ]
         ]
        }
       ],
       "layout": {
        "height": 500,
        "template": {
         "data": {
          "bar": [
           {
            "error_x": {
             "color": "#2a3f5f"
            },
            "error_y": {
             "color": "#2a3f5f"
            },
            "marker": {
             "line": {
              "color": "#E5ECF6",
              "width": 0.5
             },
             "pattern": {
              "fillmode": "overlay",
              "size": 10,
              "solidity": 0.2
             }
            },
            "type": "bar"
           }
          ],
          "barpolar": [
           {
            "marker": {
             "line": {
              "color": "#E5ECF6",
              "width": 0.5
             },
             "pattern": {
              "fillmode": "overlay",
              "size": 10,
              "solidity": 0.2
             }
            },
            "type": "barpolar"
           }
          ],
          "carpet": [
           {
            "aaxis": {
             "endlinecolor": "#2a3f5f",
             "gridcolor": "white",
             "linecolor": "white",
             "minorgridcolor": "white",
             "startlinecolor": "#2a3f5f"
            },
            "baxis": {
             "endlinecolor": "#2a3f5f",
             "gridcolor": "white",
             "linecolor": "white",
             "minorgridcolor": "white",
             "startlinecolor": "#2a3f5f"
            },
            "type": "carpet"
           }
          ],
          "choropleth": [
           {
            "colorbar": {
             "outlinewidth": 0,
             "ticks": ""
            },
            "type": "choropleth"
           }
          ],
          "contour": [
           {
            "colorbar": {
             "outlinewidth": 0,
             "ticks": ""
            },
            "colorscale": [
             [
              0,
              "#0d0887"
             ],
             [
              0.1111111111111111,
              "#46039f"
             ],
             [
              0.2222222222222222,
              "#7201a8"
             ],
             [
              0.3333333333333333,
              "#9c179e"
             ],
             [
              0.4444444444444444,
              "#bd3786"
             ],
             [
              0.5555555555555556,
              "#d8576b"
             ],
             [
              0.6666666666666666,
              "#ed7953"
             ],
             [
              0.7777777777777778,
              "#fb9f3a"
             ],
             [
              0.8888888888888888,
              "#fdca26"
             ],
             [
              1,
              "#f0f921"
             ]
            ],
            "type": "contour"
           }
          ],
          "contourcarpet": [
           {
            "colorbar": {
             "outlinewidth": 0,
             "ticks": ""
            },
            "type": "contourcarpet"
           }
          ],
          "heatmap": [
           {
            "colorbar": {
             "outlinewidth": 0,
             "ticks": ""
            },
            "colorscale": [
             [
              0,
              "#0d0887"
             ],
             [
              0.1111111111111111,
              "#46039f"
             ],
             [
              0.2222222222222222,
              "#7201a8"
             ],
             [
              0.3333333333333333,
              "#9c179e"
             ],
             [
              0.4444444444444444,
              "#bd3786"
             ],
             [
              0.5555555555555556,
              "#d8576b"
             ],
             [
              0.6666666666666666,
              "#ed7953"
             ],
             [
              0.7777777777777778,
              "#fb9f3a"
             ],
             [
              0.8888888888888888,
              "#fdca26"
             ],
             [
              1,
              "#f0f921"
             ]
            ],
            "type": "heatmap"
           }
          ],
          "heatmapgl": [
           {
            "colorbar": {
             "outlinewidth": 0,
             "ticks": ""
            },
            "colorscale": [
             [
              0,
              "#0d0887"
             ],
             [
              0.1111111111111111,
              "#46039f"
             ],
             [
              0.2222222222222222,
              "#7201a8"
             ],
             [
              0.3333333333333333,
              "#9c179e"
             ],
             [
              0.4444444444444444,
              "#bd3786"
             ],
             [
              0.5555555555555556,
              "#d8576b"
             ],
             [
              0.6666666666666666,
              "#ed7953"
             ],
             [
              0.7777777777777778,
              "#fb9f3a"
             ],
             [
              0.8888888888888888,
              "#fdca26"
             ],
             [
              1,
              "#f0f921"
             ]
            ],
            "type": "heatmapgl"
           }
          ],
          "histogram": [
           {
            "marker": {
             "pattern": {
              "fillmode": "overlay",
              "size": 10,
              "solidity": 0.2
             }
            },
            "type": "histogram"
           }
          ],
          "histogram2d": [
           {
            "colorbar": {
             "outlinewidth": 0,
             "ticks": ""
            },
            "colorscale": [
             [
              0,
              "#0d0887"
             ],
             [
              0.1111111111111111,
              "#46039f"
             ],
             [
              0.2222222222222222,
              "#7201a8"
             ],
             [
              0.3333333333333333,
              "#9c179e"
             ],
             [
              0.4444444444444444,
              "#bd3786"
             ],
             [
              0.5555555555555556,
              "#d8576b"
             ],
             [
              0.6666666666666666,
              "#ed7953"
             ],
             [
              0.7777777777777778,
              "#fb9f3a"
             ],
             [
              0.8888888888888888,
              "#fdca26"
             ],
             [
              1,
              "#f0f921"
             ]
            ],
            "type": "histogram2d"
           }
          ],
          "histogram2dcontour": [
           {
            "colorbar": {
             "outlinewidth": 0,
             "ticks": ""
            },
            "colorscale": [
             [
              0,
              "#0d0887"
             ],
             [
              0.1111111111111111,
              "#46039f"
             ],
             [
              0.2222222222222222,
              "#7201a8"
             ],
             [
              0.3333333333333333,
              "#9c179e"
             ],
             [
              0.4444444444444444,
              "#bd3786"
             ],
             [
              0.5555555555555556,
              "#d8576b"
             ],
             [
              0.6666666666666666,
              "#ed7953"
             ],
             [
              0.7777777777777778,
              "#fb9f3a"
             ],
             [
              0.8888888888888888,
              "#fdca26"
             ],
             [
              1,
              "#f0f921"
             ]
            ],
            "type": "histogram2dcontour"
           }
          ],
          "mesh3d": [
           {
            "colorbar": {
             "outlinewidth": 0,
             "ticks": ""
            },
            "type": "mesh3d"
           }
          ],
          "parcoords": [
           {
            "line": {
             "colorbar": {
              "outlinewidth": 0,
              "ticks": ""
             }
            },
            "type": "parcoords"
           }
          ],
          "pie": [
           {
            "automargin": true,
            "type": "pie"
           }
          ],
          "scatter": [
           {
            "fillpattern": {
             "fillmode": "overlay",
             "size": 10,
             "solidity": 0.2
            },
            "type": "scatter"
           }
          ],
          "scatter3d": [
           {
            "line": {
             "colorbar": {
              "outlinewidth": 0,
              "ticks": ""
             }
            },
            "marker": {
             "colorbar": {
              "outlinewidth": 0,
              "ticks": ""
             }
            },
            "type": "scatter3d"
           }
          ],
          "scattercarpet": [
           {
            "marker": {
             "colorbar": {
              "outlinewidth": 0,
              "ticks": ""
             }
            },
            "type": "scattercarpet"
           }
          ],
          "scattergeo": [
           {
            "marker": {
             "colorbar": {
              "outlinewidth": 0,
              "ticks": ""
             }
            },
            "type": "scattergeo"
           }
          ],
          "scattergl": [
           {
            "marker": {
             "colorbar": {
              "outlinewidth": 0,
              "ticks": ""
             }
            },
            "type": "scattergl"
           }
          ],
          "scattermapbox": [
           {
            "marker": {
             "colorbar": {
              "outlinewidth": 0,
              "ticks": ""
             }
            },
            "type": "scattermapbox"
           }
          ],
          "scatterpolar": [
           {
            "marker": {
             "colorbar": {
              "outlinewidth": 0,
              "ticks": ""
             }
            },
            "type": "scatterpolar"
           }
          ],
          "scatterpolargl": [
           {
            "marker": {
             "colorbar": {
              "outlinewidth": 0,
              "ticks": ""
             }
            },
            "type": "scatterpolargl"
           }
          ],
          "scatterternary": [
           {
            "marker": {
             "colorbar": {
              "outlinewidth": 0,
              "ticks": ""
             }
            },
            "type": "scatterternary"
           }
          ],
          "surface": [
           {
            "colorbar": {
             "outlinewidth": 0,
             "ticks": ""
            },
            "colorscale": [
             [
              0,
              "#0d0887"
             ],
             [
              0.1111111111111111,
              "#46039f"
             ],
             [
              0.2222222222222222,
              "#7201a8"
             ],
             [
              0.3333333333333333,
              "#9c179e"
             ],
             [
              0.4444444444444444,
              "#bd3786"
             ],
             [
              0.5555555555555556,
              "#d8576b"
             ],
             [
              0.6666666666666666,
              "#ed7953"
             ],
             [
              0.7777777777777778,
              "#fb9f3a"
             ],
             [
              0.8888888888888888,
              "#fdca26"
             ],
             [
              1,
              "#f0f921"
             ]
            ],
            "type": "surface"
           }
          ],
          "table": [
           {
            "cells": {
             "fill": {
              "color": "#EBF0F8"
             },
             "line": {
              "color": "white"
             }
            },
            "header": {
             "fill": {
              "color": "#C8D4E3"
             },
             "line": {
              "color": "white"
             }
            },
            "type": "table"
           }
          ]
         },
         "layout": {
          "annotationdefaults": {
           "arrowcolor": "#2a3f5f",
           "arrowhead": 0,
           "arrowwidth": 1
          },
          "autotypenumbers": "strict",
          "coloraxis": {
           "colorbar": {
            "outlinewidth": 0,
            "ticks": ""
           }
          },
          "colorscale": {
           "diverging": [
            [
             0,
             "#8e0152"
            ],
            [
             0.1,
             "#c51b7d"
            ],
            [
             0.2,
             "#de77ae"
            ],
            [
             0.3,
             "#f1b6da"
            ],
            [
             0.4,
             "#fde0ef"
            ],
            [
             0.5,
             "#f7f7f7"
            ],
            [
             0.6,
             "#e6f5d0"
            ],
            [
             0.7,
             "#b8e186"
            ],
            [
             0.8,
             "#7fbc41"
            ],
            [
             0.9,
             "#4d9221"
            ],
            [
             1,
             "#276419"
            ]
           ],
           "sequential": [
            [
             0,
             "#0d0887"
            ],
            [
             0.1111111111111111,
             "#46039f"
            ],
            [
             0.2222222222222222,
             "#7201a8"
            ],
            [
             0.3333333333333333,
             "#9c179e"
            ],
            [
             0.4444444444444444,
             "#bd3786"
            ],
            [
             0.5555555555555556,
             "#d8576b"
            ],
            [
             0.6666666666666666,
             "#ed7953"
            ],
            [
             0.7777777777777778,
             "#fb9f3a"
            ],
            [
             0.8888888888888888,
             "#fdca26"
            ],
            [
             1,
             "#f0f921"
            ]
           ],
           "sequentialminus": [
            [
             0,
             "#0d0887"
            ],
            [
             0.1111111111111111,
             "#46039f"
            ],
            [
             0.2222222222222222,
             "#7201a8"
            ],
            [
             0.3333333333333333,
             "#9c179e"
            ],
            [
             0.4444444444444444,
             "#bd3786"
            ],
            [
             0.5555555555555556,
             "#d8576b"
            ],
            [
             0.6666666666666666,
             "#ed7953"
            ],
            [
             0.7777777777777778,
             "#fb9f3a"
            ],
            [
             0.8888888888888888,
             "#fdca26"
            ],
            [
             1,
             "#f0f921"
            ]
           ]
          },
          "colorway": [
           "#636efa",
           "#EF553B",
           "#00cc96",
           "#ab63fa",
           "#FFA15A",
           "#19d3f3",
           "#FF6692",
           "#B6E880",
           "#FF97FF",
           "#FECB52"
          ],
          "font": {
           "color": "#2a3f5f"
          },
          "geo": {
           "bgcolor": "white",
           "lakecolor": "white",
           "landcolor": "#E5ECF6",
           "showlakes": true,
           "showland": true,
           "subunitcolor": "white"
          },
          "hoverlabel": {
           "align": "left"
          },
          "hovermode": "closest",
          "mapbox": {
           "style": "light"
          },
          "paper_bgcolor": "white",
          "plot_bgcolor": "#E5ECF6",
          "polar": {
           "angularaxis": {
            "gridcolor": "white",
            "linecolor": "white",
            "ticks": ""
           },
           "bgcolor": "#E5ECF6",
           "radialaxis": {
            "gridcolor": "white",
            "linecolor": "white",
            "ticks": ""
           }
          },
          "scene": {
           "xaxis": {
            "backgroundcolor": "#E5ECF6",
            "gridcolor": "white",
            "gridwidth": 2,
            "linecolor": "white",
            "showbackground": true,
            "ticks": "",
            "zerolinecolor": "white"
           },
           "yaxis": {
            "backgroundcolor": "#E5ECF6",
            "gridcolor": "white",
            "gridwidth": 2,
            "linecolor": "white",
            "showbackground": true,
            "ticks": "",
            "zerolinecolor": "white"
           },
           "zaxis": {
            "backgroundcolor": "#E5ECF6",
            "gridcolor": "white",
            "gridwidth": 2,
            "linecolor": "white",
            "showbackground": true,
            "ticks": "",
            "zerolinecolor": "white"
           }
          },
          "shapedefaults": {
           "line": {
            "color": "#2a3f5f"
           }
          },
          "ternary": {
           "aaxis": {
            "gridcolor": "white",
            "linecolor": "white",
            "ticks": ""
           },
           "baxis": {
            "gridcolor": "white",
            "linecolor": "white",
            "ticks": ""
           },
           "bgcolor": "#E5ECF6",
           "caxis": {
            "gridcolor": "white",
            "linecolor": "white",
            "ticks": ""
           }
          },
          "title": {
           "x": 0.05
          },
          "xaxis": {
           "automargin": true,
           "gridcolor": "white",
           "linecolor": "white",
           "ticks": "",
           "title": {
            "standoff": 15
           },
           "zerolinecolor": "white",
           "zerolinewidth": 2
          },
          "yaxis": {
           "automargin": true,
           "gridcolor": "white",
           "linecolor": "white",
           "ticks": "",
           "title": {
            "standoff": 15
           },
           "zerolinecolor": "white",
           "zerolinewidth": 2
          }
         }
        }
       }
      }
     },
     "metadata": {},
     "output_type": "display_data"
    },
    {
     "data": {
      "image/png": "[encoded data removed]",
      "text/plain": [
       "<Figure size 432x288 with 2 Axes>"
      ]
     },
     "metadata": {
      "needs_background": "light"
     },
     "output_type": "display_data"
    }
   ],
   "source": [
    "qplt.show_VQE_annni(myvqe)"
   ]
  },
  {
   "cell_type": "code",
   "execution_count": null,
   "id": "c560ad7a",
   "metadata": {},
   "outputs": [],
   "source": []
  }
 ],
 "metadata": {
  "kernelspec": {
   "display_name": "Python 3.10.6 64-bit",
   "language": "python",
   "name": "python3"
  },
  "language_info": {
   "codemirror_mode": {
    "name": "ipython",
    "version": 3
   },
   "file_extension": ".py",
   "mimetype": "text/x-python",
   "name": "python",
   "nbconvert_exporter": "python",
   "pygments_lexer": "ipython3",
   "version": "3.10.6"
  },
  "vscode": {
   "interpreter": {
    "hash": "916dbcbb3f70747c44a77c7bcd40155683ae19c65e1c03b4aa3499c5328201f1"
   }
  }
 },
 "nbformat": 4,
 "nbformat_minor": 5
}
