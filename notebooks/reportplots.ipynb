{
 "cells": [
  {
   "cell_type": "code",
   "execution_count": 1,
   "metadata": {},
   "outputs": [],
   "source": [
    "from PhaseEstimation import vqe, visualization as qplt, general as qmlgen"
   ]
  },
  {
   "cell_type": "code",
   "execution_count": 2,
   "metadata": {},
   "outputs": [],
   "source": [
    "import numpy as np\n",
    "from matplotlib import pyplot as plt\n",
    "from matplotlib import colors"
   ]
  },
  {
   "cell_type": "code",
   "execution_count": 19,
   "metadata": {},
   "outputs": [],
   "source": [
    "from cmath import phase\n",
    "\n",
    "\n",
    "def phases_plot(size : int = 1000):\n",
    "    xs = np.linspace(0,1,size)\n",
    "    ys = np.linspace(0,2,size)\n",
    "\n",
    "    phases = []\n",
    "    for y in ys:\n",
    "        for x in xs:\n",
    "            if x <= .5:\n",
    "                if y <= qmlgen.paraferro(x):\n",
    "                    phases.append(0)\n",
    "                else:\n",
    "                    phases.append(1)\n",
    "            else:\n",
    "                if y <= qmlgen.paraanti(x):\n",
    "                    phases.append(2)\n",
    "                else:\n",
    "                    phases.append(1)\n",
    "    \n",
    "    cmap = colors.ListedColormap(['palegreen', 'lightcoral', 'lightcoral'])\n",
    "    bounds=[0,1,2,3]\n",
    "    norm = colors.BoundaryNorm(bounds, cmap.N)\n",
    "\n",
    "\n",
    "    plt.imshow(np.reshape(phases, (size,size)),origin='lower', cmap=cmap, norm = norm)\n",
    "    #plt.colorbar()\n",
    "    #plt.plot(np.linspace(size//2,size,size), qmlgen.paraanti(np.linspace(.5,1,size))*size//2, color = 'black', lw = .5)\n",
    "    plt.plot(np.linspace(0,size//2,size), qmlgen.paraferro(np.linspace(0,.5,size))*size//2, color = 'black', lw = .5)\n",
    "    plt.xlim(0,size)\n",
    "\n",
    "    plt.ylabel(r\"$h$\", fontsize=18, color='red')\n",
    "    plt.xlabel(r\"$\\kappa$\", fontsize=18, color ='red')\n",
    "\n",
    "    side = size\n",
    "    x = np.linspace(1, 0, side)\n",
    "    y = np.linspace(0, 2, side)\n",
    "\n",
    "    plt.xticks(\n",
    "        ticks=np.linspace(0, side - 1, 5).astype(int),\n",
    "        labels=[np.round(k * 1 / 4, 2) for k in range(0, 5)],\n",
    "        fontsize=13,\n",
    "    )\n",
    "    plt.yticks(\n",
    "        ticks=np.linspace(0, side - 1, 5).astype(int),\n",
    "        labels=[np.round(k * 2 / 4, 2) for k in range(0, 5)],\n",
    "        fontsize=13,\n",
    "    )\n",
    "    #plt.text(int(0.8*size), int(0.1*size), 'Anti.', ha=\"center\", va=\"center\", fontsize = 14)\n",
    "    #plt.text(int(0.2*size), int(0.1*size), 'Ferro.', ha=\"center\", va=\"center\", fontsize = 14)\n",
    "    #plt.text(size//2,  int(0.6*size), 'Para.', ha=\"center\", va=\"center\", fontsize = 14)\n",
    "    #plt.text(size//4,  int(0.35*size), r'$h_I$', ha=\"center\", va=\"center\", fontsize = 16)\n",
    "    #plt.text(3*size//4,  int(0.28*size), r'$h_C$', ha=\"center\", va=\"center\", fontsize = 16)\n",
    "    plt.text(int(0.2*size), int(0.1*size), 'Good\\ncompression', ha=\"center\", va=\"center\", fontsize = 10)\n",
    "    plt.text(int(0.6*size), int(0.6*size), 'Bad\\ncompression', ha=\"center\", va=\"center\", fontsize = 10)"
   ]
  },
  {
   "cell_type": "code",
   "execution_count": 20,
   "metadata": {},
   "outputs": [
    {
     "name": "stderr",
     "output_type": "stream",
     "text": [
      "/home/saverio/Desktop/CERN/code/src/PhaseEstimation/general.py:188: RuntimeWarning: divide by zero encountered in double_scalars\n",
      "  return ((1 - x) / x) * (1 - np.sqrt((1 - 3 * x + 4 * x * x) / (1 - x)))\n",
      "/home/saverio/Desktop/CERN/code/src/PhaseEstimation/general.py:188: RuntimeWarning: invalid value encountered in double_scalars\n",
      "  return ((1 - x) / x) * (1 - np.sqrt((1 - 3 * x + 4 * x * x) / (1 - x)))\n",
      "/home/saverio/Desktop/CERN/code/src/PhaseEstimation/general.py:188: RuntimeWarning: divide by zero encountered in true_divide\n",
      "  return ((1 - x) / x) * (1 - np.sqrt((1 - 3 * x + 4 * x * x) / (1 - x)))\n",
      "/home/saverio/Desktop/CERN/code/qua/lib/python3.10/site-packages/pennylane/numpy/tensor.py:155: RuntimeWarning: invalid value encountered in multiply\n",
      "  res = super().__array_ufunc__(ufunc, method, *args, **kwargs)\n"
     ]
    },
    {
     "data": {
      "image/png": "[encoded data removed]",
      "text/plain": [
       "<Figure size 432x288 with 1 Axes>"
      ]
     },
     "metadata": {
      "needs_background": "light"
     },
     "output_type": "display_data"
    }
   ],
   "source": [
    "phases_plot(100)\n",
    "plt.savefig('../data/plots/comp.png',  dpi=1000)"
   ]
  },
  {
   "cell_type": "code",
   "execution_count": null,
   "metadata": {},
   "outputs": [],
   "source": []
  },
  {
   "cell_type": "code",
   "execution_count": null,
   "metadata": {},
   "outputs": [],
   "source": []
  }
 ],
 "metadata": {
  "kernelspec": {
   "display_name": "Python 3.10.4 ('qua': venv)",
   "language": "python",
   "name": "python3"
  },
  "language_info": {
   "codemirror_mode": {
    "name": "ipython",
    "version": 3
   },
   "file_extension": ".py",
   "mimetype": "text/x-python",
   "name": "python",
   "nbconvert_exporter": "python",
   "pygments_lexer": "ipython3",
   "version": "3.10.4"
  },
  "orig_nbformat": 4,
  "vscode": {
   "interpreter": {
    "hash": "288fde8df23b6024ea51cf69d2e106f8ce93259a17e9bb27672e371526235fd9"
   }
  }
 },
 "nbformat": 4,
 "nbformat_minor": 2
}
