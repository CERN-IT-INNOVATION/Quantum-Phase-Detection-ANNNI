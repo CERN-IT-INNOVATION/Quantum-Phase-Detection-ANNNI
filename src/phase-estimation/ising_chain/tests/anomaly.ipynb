{
 "cells": [
  {
   "cell_type": "code",
   "execution_count": 25,
   "id": "dc5fbbd1-17a3-46f3-97ee-2e444d6a526f",
   "metadata": {},
   "outputs": [],
   "source": [
    "### IMPORTS ###\n",
    "\n",
    "# Quantum libraries:\n",
    "import pennylane as qml\n",
    "#from pennylane \n",
    "import numpy as np\n",
    "import jax\n",
    "import jax.numpy as jnp\n",
    "from jax import jit\n",
    "from functools import partial\n",
    "\n",
    "# Plotting\n",
    "from matplotlib import pyplot as plt\n",
    "import plotly\n",
    "\n",
    "# Other\n",
    "import sys, os\n",
    "import time\n",
    "import copy\n",
    "import tqdm\n",
    "import joblib # Writing and loading\n",
    "from noisyopt import minimizeSPSA\n",
    "import optuna # Automatic tuning tool\n",
    "import multiprocessing\n",
    "\n",
    "import warnings\n",
    "warnings.filterwarnings(\"ignore\", message=\"For Hamiltonians, the eigenvalues will be computed numerically. This may be computationally intensive for a large number of wires.Consider using a sparse representation of the Hamiltonian with qml.SparseHamiltonian.\")\n",
    "##############\n"
   ]
  },
  {
   "cell_type": "code",
   "execution_count": 26,
   "id": "c835a907-24e2-4414-b0a1-49385966f10e",
   "metadata": {},
   "outputs": [],
   "source": [
    "# My functions:\n",
    "sys.path.insert(0, '../')\n",
    "import vqe_functions as vqe\n",
    "import qcnn_functions as qcnn\n"
   ]
  },
  {
   "cell_type": "code",
   "execution_count": 27,
   "id": "55b94258-09e8-4961-adf5-2db7c61e3350",
   "metadata": {},
   "outputs": [],
   "source": [
    "N = 8\n",
    "J = 1\n"
   ]
  },
  {
   "cell_type": "code",
   "execution_count": 238,
   "id": "472e2f00-6305-4f39-9acf-bad44511f4a1",
   "metadata": {},
   "outputs": [
    {
     "name": "stdout",
     "output_type": "stream",
     "text": [
      "CLEAN DATA:\n",
      "______________________________\n",
      "Size of Data Set: 100\n",
      "Size of Training Set: 50\n",
      "Size of Test Set    : 50\n"
     ]
    }
   ],
   "source": [
    "# Load data and separate in training and test set\n",
    "data = joblib.load('../vqe_states_job/0noiseN'+str(N)+'.job')\n",
    "\n",
    "#train_index = np.sort(np.random.choice(np.arange(len(data)), size=int(0.8*len(data)), replace=False ))\n",
    "#train_index = np.sort(np.arange(len(data)//2, len(data)) )\n",
    "train_index = np.sort(np.arange(len(data)//2) )\n",
    "\n",
    "X_train, Y_train = [], []\n",
    "X_test, Y_test   = [], []\n",
    "X, Y             = [], []\n",
    "for i in range(len(data)): \n",
    "    if i in train_index:\n",
    "        X_train.append(data[i][0])\n",
    "        Y_train.append(data[i][1])\n",
    "        X.append(data[i][0])\n",
    "        Y.append(data[i][1])\n",
    "    else:\n",
    "        X_test.append(data[i][0])\n",
    "        Y_test.append(data[i][1])\n",
    "        X.append(data[i][0])\n",
    "        Y.append(data[i][1])\n",
    "        \n",
    "X_train, Y_train = jnp.array(X_train), jnp.array(Y_train)\n",
    "X_test, Y_test   = jnp.array(X_test), jnp.array(Y_test)\n",
    "\n",
    "\n",
    "print('CLEAN DATA:')\n",
    "print('______________________________')\n",
    "print('Size of Data Set: {0}'.format(len(data)))\n",
    "print('Size of Training Set: {0}'.format(np.shape(X_train)[0]))\n",
    "print('Size of Test Set    : {0}'.format(np.shape(X_test)[0]))"
   ]
  },
  {
   "cell_type": "code",
   "execution_count": 239,
   "id": "faf982b4-ca5c-40c0-a4c4-18d43e68aa03",
   "metadata": {},
   "outputs": [],
   "source": [
    "def anomaly_circuit_rot1(N, params, wires, index = 0):\n",
    "    for spin in range(N):\n",
    "        qml.RY(params[index + spin], wires = spin)\n",
    "        \n",
    "    return index + N\n",
    "\n",
    "def anomaly_circuit_ent1(N, wires, wires_trash, shift = 0):\n",
    "    # Connection between trash wires\n",
    "    for wire, wire_next in zip(wires_trash[0::2], wires_trash[1::2]):\n",
    "        qml.CZ(wires = [int(wire), int(wire_next)])\n",
    "    for wire, wire_next in zip(wires_trash[1::2], wires_trash[2::2]):\n",
    "        qml.CZ(wires = [int(wire), int(wire_next)])\n",
    "        \n",
    "    # Connections wires -> trash_wires\n",
    "    for trash_idx, wire in enumerate(wires):\n",
    "        trash_idx = 0 if trash_idx > len(wires_trash) else trash_idx\n",
    "        qml.CZ(wires = [int(wire), wires_trash[trash_idx]])\n",
    "\n",
    "\n",
    "def anomaly_circuit(N, vqe_circuit, vqe_params, params):\n",
    "    # Number of wires that will not be measured |phi>\n",
    "    n_wires = N//2 + N%2\n",
    "    # Number of wires that will be measured |0>^k\n",
    "    n_trash = N//2\n",
    "    \n",
    "    wires = np.concatenate((np.arange(0, n_wires//2 + n_wires%2), np.arange(N-n_wires//2,N) ))\n",
    "    wires_trash = np.setdiff1d(np.arange(N), wires)\n",
    "\n",
    "    vqe_circuit(N, vqe_params)\n",
    "    qml.Barrier()\n",
    "    qml.Barrier()\n",
    "    index = anomaly_circuit_rot1(N, params, wires)\n",
    "    anomaly_circuit_ent1(N, wires, wires_trash)\n",
    "    qml.Barrier()\n",
    "    index = anomaly_circuit_rot1(N, params, wires, index)\n",
    "    anomaly_circuit_ent1(N, wires, wires_trash)\n",
    "    qml.Barrier()\n",
    "    index = anomaly_circuit_rot1(N, params, wires, index)\n",
    "    \n",
    "    return wires_trash, index"
   ]
  },
  {
   "cell_type": "code",
   "execution_count": 210,
   "id": "da0430a4-88ef-455d-aa41-bfcbb643cdac",
   "metadata": {},
   "outputs": [],
   "source": [
    "_, n_params = anomaly_circuit(N, vqe.vqe_circuit, X_train[0], [0]*100)"
   ]
  },
  {
   "cell_type": "code",
   "execution_count": 211,
   "id": "813cf2f8-5212-47c4-aa75-1bcb8a7a69cc",
   "metadata": {},
   "outputs": [],
   "source": [
    "device = qml.device(\"default.qubit.jax\", wires = N, shots = None)\n"
   ]
  },
  {
   "cell_type": "code",
   "execution_count": 249,
   "id": "3d398c0e-4c3c-4931-8242-a3e762bd932b",
   "metadata": {},
   "outputs": [],
   "source": [
    "def train_encoder(epochs, lr, N, device, vqe_circuit, X_train, X_test, train_index, plot = True, info = True, circuit = False):\n",
    "    #X_train, Y_train = jnp.array(X_train), jnp.array(Y_train)\n",
    "\n",
    "    @qml.qnode(device, interface=\"jax\")\n",
    "    def encoder_circuit(N, vqe_circuit, vqe_params, params):\n",
    "        wires_trash, _ = anomaly_circuit(N, vqe_circuit, vqe_params, params)\n",
    "\n",
    "        # return <psi|H|psi>\n",
    "        return [qml.expval(qml.PauliZ(k)) for k in wires_trash]\n",
    "    \n",
    "    v_encoder_circuit = jax.vmap(lambda p, x: encoder_circuit(N, vqe_circuit, x, p), in_axes = (None, 0) )\n",
    "    \n",
    "    def compress(params, vqe_params):\n",
    "        return jnp.sum(1 - v_encoder_circuit(params, vqe_params) )/(2*len(vqe_params))\n",
    "    \n",
    "    if info:\n",
    "        print('+--- PARAMETERS ---+')\n",
    "        print('lr     = {0} (learning rate)'.format(lr) )\n",
    "        print('epochs = {0} (# epochs for learning)'.format(epochs) )\n",
    "        print('N      = {0} (Number of spins of the system)'.format(N) )\n",
    "        \n",
    "    wires_trash, n_params = anomaly_circuit(N, vqe.vqe_circuit, X_train[0], [0]*100)\n",
    "    \n",
    "    if circuit:\n",
    "        print('+-- CIRCUIT ---+')\n",
    "        drawer = qml.draw(anomaly)\n",
    "        print(drawer(N, vqe.vqe_circuit, [0]*len(X_train[0]), np.arange(n_params)) )\n",
    "    \n",
    "    jd_compress     = jax.jit(jax.grad(lambda p: compress(p, X_train)) )\n",
    "    j_compress      = jax.jit(lambda p: compress(p, X_train))\n",
    "    get_compression = jax.jit(lambda p: jnp.sum(v_encoder_circuit(p, X_train),axis=1)/len(wires_trash) )\n",
    "    \n",
    "    if len(X_test) > 0:\n",
    "        j_compress_test = jax.jit(lambda p: compress(p, X_train))\n",
    "        get_compression_test = jax.jit(lambda p: jnp.sum(v_encoder_circuit(p, X_test),axis=1)/len(wires_trash) )\n",
    "    \n",
    "    params = np.random.rand(n_params)\n",
    "    \n",
    "    loss = []\n",
    "    progress = tqdm.tqdm(range(epochs), position=0, leave=True)\n",
    "    for epoch in range(epochs):\n",
    "        params -= lr*jd_compress(params)\n",
    "        \n",
    "        if (epoch+1) % 100 == 0:\n",
    "            loss.append(j_compress(params))\n",
    "            progress.set_description('Cost: {0}'.format(loss[-1]) )\n",
    "        progress.update(1)\n",
    "\n",
    "    if plot:\n",
    "        fig, ax = plt.subplots(2, 1, figsize=(16,5))\n",
    "        \n",
    "        ax[0].scatter(train_index, get_compression(params), label = 'Training')\n",
    "        if len(X_test) > 0:\n",
    "            ax[0].scatter(np.setdiff1d(np.arange(len(X_train)+len(X_test)), train_index), get_compression_test(params) , label = 'Test')\n",
    "        ax[0].axvline(x=len(data)//2, color='red', linestyle='--')    \n",
    "        ax[0].legend()\n",
    "        ax[0].grid(True)\n",
    "        \n",
    "        ax[1].set_title('Loss of the encoder')\n",
    "        ax[1].plot(np.arange(len(loss))*100, loss)\n",
    "        \n",
    "        \n",
    "    return params"
   ]
  },
  {
   "cell_type": "code",
   "execution_count": 250,
   "id": "198156d8-f908-4a99-a853-747dbff34806",
   "metadata": {},
   "outputs": [],
   "source": [
    "epochs = 10000\n",
    "lr = 0.01\n"
   ]
  },
  {
   "cell_type": "code",
   "execution_count": 251,
   "id": "67ed8e10-527a-4a4f-bb6f-1e4ea68a971b",
   "metadata": {},
   "outputs": [
    {
     "name": "stdout",
     "output_type": "stream",
     "text": [
      "+--- PARAMETERS ---+\n",
      "lr     = 0.01 (learning rate)\n",
      "epochs = 10000 (# epochs for learning)\n",
      "N      = 8 (Number of spins of the system)\n"
     ]
    },
    {
     "name": "stderr",
     "output_type": "stream",
     "text": [
      "Cost: 0.036106791347265244: 100%|████████| 10000/10000 [00:25<00:00, 395.38it/s]\n"
     ]
    },
    {
     "data": {
      "image/png": "[encoded data removed]",
      "text/plain": [
       "<Figure size 1152x360 with 2 Axes>"
      ]
     },
     "metadata": {
      "needs_background": "light"
     },
     "output_type": "display_data"
    }
   ],
   "source": [
    "params = train_encoder(epochs, lr, N, device, vqe.vqe_circuit, X_train, X_test, train_index, plot = True, info = True, circuit = False)"
   ]
  },
  {
   "cell_type": "code",
   "execution_count": null,
   "id": "d0d2ae2e-8fef-4840-829f-f56fd649779a",
   "metadata": {},
   "outputs": [],
   "source": []
  }
 ],
 "metadata": {
  "kernelspec": {
   "display_name": "Python 3 (ipykernel)",
   "language": "python",
   "name": "python3"
  },
  "language_info": {
   "codemirror_mode": {
    "name": "ipython",
    "version": 3
   },
   "file_extension": ".py",
   "mimetype": "text/x-python",
   "name": "python",
   "nbconvert_exporter": "python",
   "pygments_lexer": "ipython3",
   "version": "3.10.4"
  }
 },
 "nbformat": 4,
 "nbformat_minor": 5
}
