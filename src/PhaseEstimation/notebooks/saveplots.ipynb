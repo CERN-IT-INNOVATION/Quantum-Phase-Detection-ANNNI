{
 "cells": [
  {
   "cell_type": "markdown",
   "id": "bae4a34e-0ff4-4338-bc3f-4d15e3cc6cb6",
   "metadata": {},
   "source": [
    "# Demonstration: VQE algorithm for excited states"
   ]
  },
  {
   "cell_type": "code",
   "execution_count": 1,
   "id": "2f4062a9-f0a4-47f4-85e3-caca09eec9da",
   "metadata": {
    "tags": []
   },
   "outputs": [],
   "source": [
    "import pennylane as qml\n",
    "from pennylane import numpy as np\n",
    "\n",
    "import sys\n",
    "sys.path.insert(0, '../')\n",
    "import vqe\n",
    "import visualization as qplt\n",
    "import qcnn as qcnn \n",
    "import general as qmlgen\n",
    "import losses\n",
    "\n",
    "from matplotlib import pyplot as plt\n",
    "##############\n"
   ]
  },
  {
   "cell_type": "code",
   "execution_count": 7,
   "id": "1d3094b8-33a2-43ea-a506-981e607763f5",
   "metadata": {},
   "outputs": [],
   "source": [
    "Ns = range(4,13)\n",
    "side = 100\n",
    "\n",
    "path = '../data/vqes/ANNNI/'\n",
    "train_index = np.arange(0,2*side-1)"
   ]
  },
  {
   "cell_type": "code",
   "execution_count": 8,
   "id": "a7470579-b8a7-4e1e-aa81-3caa3e94790f",
   "metadata": {},
   "outputs": [],
   "source": [
    "pathplots = '../data/plots/'"
   ]
  },
  {
   "cell_type": "code",
   "execution_count": 9,
   "id": "31aebe18-19d7-4308-8b8f-73ca32914506",
   "metadata": {},
   "outputs": [
    {
     "name": "stdout",
     "output_type": "stream",
     "text": [
      "../data/vqes/ANNNI/N4n100 loaded sucessfully\n",
      "../data/vqes/ANNNI/N5n100 not found\n",
      "../data/vqes/ANNNI/N6n100 loaded sucessfully\n",
      "../data/vqes/ANNNI/N7n100 not found\n",
      "../data/vqes/ANNNI/N8n100 loaded sucessfully\n",
      "../data/vqes/ANNNI/N9n100 not found\n",
      "../data/vqes/ANNNI/N10n100 loaded sucessfully\n",
      "../data/vqes/ANNNI/N11n100 not found\n",
      "../data/vqes/ANNNI/N12n100 loaded sucessfully\n"
     ]
    }
   ],
   "source": [
    "vqes = []\n",
    "for N in Ns:\n",
    "    try:\n",
    "        filename = 'N'+str(N)+'n'+str(side)\n",
    "        vqes.append(vqe.load_vqe(path + filename) )\n",
    "        print('{0} loaded sucessfully'.format(path+filename))\n",
    "    except:\n",
    "        print('{0} not found'.format(path+filename))"
   ]
  },
  {
   "cell_type": "code",
   "execution_count": 10,
   "id": "cb326340-b4c8-46b5-b5f1-ea493f32e716",
   "metadata": {},
   "outputs": [],
   "source": [
    "cents = qmlgen.findC(*vqes[:-1], width = .15)"
   ]
  },
  {
   "cell_type": "code",
   "execution_count": 15,
   "id": "fc6db4af-aeab-416a-83e4-3a503e90ee77",
   "metadata": {},
   "outputs": [],
   "source": [
    "def get_plots(vqeclass, epoch, lr):\n",
    "    qplt.show_VQE_annni(vqeclass, plot3d=False)\n",
    "    plt.savefig(pathplots+'ANNNI/accuracy'+str(vqeclass.N)+'.svg')\n",
    "    plt.show()\n",
    "\n",
    "    myqcnn = qcnn.qcnn(vqeclass, qcnn.qcnn_circuit, n_outputs = 2)\n",
    "    myqcnn.train(lr, epoch, train_index, losses.cross_entropy)\n",
    "    show_QCNN_classificationANNNI(myqcnn, hard_thr = False, deltaeline = cents)\n",
    "    plt.savefig(pathplots+'ANNNI/classification'+str(vqeclass.N)+'.svg')\n",
    "    plt.show()\n",
    "\n",
    "    show_QCNN_classificationANNNI(myqcnn, hard_thr = True, deltaeline = cents)\n",
    "    plt.savefig(pathplots+'ANNNI/classification_hardthr'+str(vqeclass.N)+'.svg')\n",
    "    plt.show()"
   ]
  },
  {
   "cell_type": "code",
   "execution_count": 16,
   "id": "551ce540-bccf-46c8-9076-947f8d76231b",
   "metadata": {},
   "outputs": [
    {
     "data": {
      "image/png": "[encoded data removed]",
      "text/plain": [
       "<Figure size 432x288 with 2 Axes>"
      ]
     },
     "metadata": {
      "needs_background": "light"
     },
     "output_type": "display_data"
    },
    {
     "name": "stderr",
     "output_type": "stream",
     "text": [
      "Cost: 0.1548435389995575: 100%|████████████| 1000/1000 [00:07<00:00, 131.56it/s]\n"
     ]
    },
    {
     "ename": "NameError",
     "evalue": "name 'jax' is not defined",
     "output_type": "error",
     "traceback": [
      "\u001b[0;31m---------------------------------------------------------------------------\u001b[0m",
      "\u001b[0;31mNameError\u001b[0m                                 Traceback (most recent call last)",
      "Input \u001b[0;32mIn [16]\u001b[0m, in \u001b[0;36m<cell line: 1>\u001b[0;34m()\u001b[0m\n\u001b[0;32m----> 1\u001b[0m \u001b[43mget_plots\u001b[49m\u001b[43m(\u001b[49m\u001b[43mvqes\u001b[49m\u001b[43m[\u001b[49m\u001b[38;5;241;43m0\u001b[39;49m\u001b[43m]\u001b[49m\u001b[43m,\u001b[49m\u001b[43m \u001b[49m\u001b[38;5;241;43m1000\u001b[39;49m\u001b[43m,\u001b[49m\u001b[43m \u001b[49m\u001b[38;5;241;43m.1\u001b[39;49m\u001b[43m)\u001b[49m\n",
      "Input \u001b[0;32mIn [15]\u001b[0m, in \u001b[0;36mget_plots\u001b[0;34m(vqeclass, epoch, lr)\u001b[0m\n\u001b[1;32m      6\u001b[0m myqcnn \u001b[38;5;241m=\u001b[39m qcnn\u001b[38;5;241m.\u001b[39mqcnn(vqeclass, qcnn\u001b[38;5;241m.\u001b[39mqcnn_circuit, n_outputs \u001b[38;5;241m=\u001b[39m \u001b[38;5;241m2\u001b[39m)\n\u001b[1;32m      7\u001b[0m myqcnn\u001b[38;5;241m.\u001b[39mtrain(lr, epoch, train_index, losses\u001b[38;5;241m.\u001b[39mcross_entropy)\n\u001b[0;32m----> 8\u001b[0m \u001b[43mshow_QCNN_classificationANNNI\u001b[49m\u001b[43m(\u001b[49m\u001b[43mmyqcnn\u001b[49m\u001b[43m,\u001b[49m\u001b[43m \u001b[49m\u001b[43mhard_thr\u001b[49m\u001b[43m \u001b[49m\u001b[38;5;241;43m=\u001b[39;49m\u001b[43m \u001b[49m\u001b[38;5;28;43;01mFalse\u001b[39;49;00m\u001b[43m,\u001b[49m\u001b[43m \u001b[49m\u001b[43mdeltaeline\u001b[49m\u001b[43m \u001b[49m\u001b[38;5;241;43m=\u001b[39;49m\u001b[43m \u001b[49m\u001b[43mcents\u001b[49m\u001b[43m)\u001b[49m\n\u001b[1;32m      9\u001b[0m plt\u001b[38;5;241m.\u001b[39msavefig(pathplots\u001b[38;5;241m+\u001b[39m\u001b[38;5;124m'\u001b[39m\u001b[38;5;124mANNNI/classification\u001b[39m\u001b[38;5;124m'\u001b[39m\u001b[38;5;241m+\u001b[39m\u001b[38;5;28mstr\u001b[39m(vqeclass\u001b[38;5;241m.\u001b[39mN)\u001b[38;5;241m+\u001b[39m\u001b[38;5;124m'\u001b[39m\u001b[38;5;124m.svg\u001b[39m\u001b[38;5;124m'\u001b[39m)\n\u001b[1;32m     10\u001b[0m plt\u001b[38;5;241m.\u001b[39mshow()\n",
      "Input \u001b[0;32mIn [14]\u001b[0m, in \u001b[0;36mshow_QCNN_classificationANNNI\u001b[0;34m(qcnnclass, hard_thr, lines, deltaeline)\u001b[0m\n\u001b[1;32m     33\u001b[0m     circuit(params_vqe, params)\n\u001b[1;32m     35\u001b[0m     \u001b[38;5;28;01mreturn\u001b[39;00m qml\u001b[38;5;241m.\u001b[39mprobs([\u001b[38;5;28mint\u001b[39m(k) \u001b[38;5;28;01mfor\u001b[39;00m k \u001b[38;5;129;01min\u001b[39;00m qcnnclass\u001b[38;5;241m.\u001b[39mfinal_active_wires])\n\u001b[0;32m---> 37\u001b[0m vcircuit \u001b[38;5;241m=\u001b[39m \u001b[43mjax\u001b[49m\u001b[38;5;241m.\u001b[39mvmap(\u001b[38;5;28;01mlambda\u001b[39;00m v: qcnn_circuit_prob(v, qcnnclass\u001b[38;5;241m.\u001b[39mparams), in_axes\u001b[38;5;241m=\u001b[39m(\u001b[38;5;241m0\u001b[39m))\n\u001b[1;32m     39\u001b[0m predictions \u001b[38;5;241m=\u001b[39m np\u001b[38;5;241m.\u001b[39marray(vcircuit(qcnnclass\u001b[38;5;241m.\u001b[39mvqe_params) )\n\u001b[1;32m     41\u001b[0m c \u001b[38;5;241m=\u001b[39m []\n",
      "\u001b[0;31mNameError\u001b[0m: name 'jax' is not defined"
     ]
    }
   ],
   "source": [
    "get_plots(vqes[0], 1000, .1)"
   ]
  },
  {
   "cell_type": "code",
   "execution_count": 14,
   "id": "67e5a35b-abe2-455b-a161-89e852b9f148",
   "metadata": {},
   "outputs": [],
   "source": [
    "def show_QCNN_classificationANNNI(qcnnclass, hard_thr = True, lines = False, deltaeline = []):\n",
    "    circuit = qcnnclass.vqe_qcnn_circuit\n",
    "    side = int(np.sqrt(qcnnclass.n_states))\n",
    "    \n",
    "    if hard_thr:\n",
    "        @qml.qnode(qcnnclass.device, interface=\"jax\")\n",
    "        def qcnn_circuit_prob(params_vqe, params):\n",
    "            circuit(params_vqe, params)\n",
    "        \n",
    "            return [qml.probs(wires=int(k)) for k in qcnnclass.final_active_wires]\n",
    "        \n",
    "        vcircuit = jax.vmap(lambda v: qcnn_circuit_prob(v, qcnnclass.params), in_axes=(0))\n",
    "    \n",
    "        predictions = np.array(np.argmax(vcircuit(qcnnclass.vqe_params), axis = 2))\n",
    "        c = []\n",
    "        for pred in predictions:\n",
    "            if (pred == [0,1]).all():\n",
    "                c.append(0)\n",
    "            elif (pred == [1,1]).all():\n",
    "                c.append(1)\n",
    "            elif (pred == [1,0]).all():\n",
    "                c.append(2)\n",
    "            else: c.append(3)\n",
    "\n",
    "        phases = mpl.colors.ListedColormap([\"lightcoral\", \"skyblue\",\n",
    "                                            \"black\", \"palegreen\"])\n",
    "        norm = mpl.colors.BoundaryNorm(np.arange(0,4), phases.N) \n",
    "        plt.imshow( np.rot90(np.reshape(c, (side, side) )), \n",
    "                                      cmap = phases, norm = norm)\n",
    "    else:\n",
    "        @qml.qnode(qcnnclass.device, interface=\"jax\")\n",
    "        def qcnn_circuit_prob(params_vqe, params):\n",
    "            circuit(params_vqe, params)\n",
    "        \n",
    "            return qml.probs([int(k) for k in qcnnclass.final_active_wires])\n",
    "        \n",
    "        vcircuit = jax.vmap(lambda v: qcnn_circuit_prob(v, qcnnclass.params), in_axes=(0))\n",
    "    \n",
    "        predictions = np.array(vcircuit(qcnnclass.vqe_params) )\n",
    "        \n",
    "        c = []\n",
    "        \n",
    "        # define color map \n",
    "        color_map = {1: np.array([255, 0, 0]), # red\n",
    "                     2: np.array([0, 255, 0]), # green\n",
    "                     3: np.array([0, 0, 255])} # blue\n",
    "        \n",
    "        rgb_probs = np.ndarray(shape=(side*side, 3), dtype=float)\n",
    "        \n",
    "        for i, pred in enumerate(predictions):\n",
    "            rgb_probs[i] = [pred[1]*255,pred[2]*255,pred[3]*255]\n",
    "        rgb_probs = np.rot90(np.reshape(rgb_probs, (side,side,3)) )/255\n",
    "        \n",
    "        plt.imshow( rgb_probs )\n",
    "        \n",
    "    plt.ylabel(r'$B/\\,J_1$')\n",
    "    plt.xlabel(r'$J_1/\\,J_2$')\n",
    "    \n",
    "    def getlines(func, xrange, side, color, res = 100):\n",
    "        xs = np.linspace(xrange[0], xrange[1], res)\n",
    "        ys = func(xs)\n",
    "        \n",
    "        plt.plot(side*xs -.5, side - ys*side/2 -.5, color = color)\n",
    "        \n",
    "    def B2SA(x):\n",
    "        return 1.05 * np.sqrt((x-.5)*(x-.1))\n",
    "    \n",
    "    def ferropara(x):\n",
    "        return 1 - 2*x\n",
    "                    \n",
    "    getlines(B2SA, [.5,1], side, 'white', res = 100, label = '')\n",
    "    getlines(ferropara, [0,.5], side, 'white', res = 100, label = '')\n",
    "    \n",
    "    x = np.linspace(1, 0, side)\n",
    "    y = np.linspace(0, 2, side)\n",
    "\n",
    "    plt.xticks(ticks=np.linspace(0,side-1,5).astype(int), labels= [np.round(k*1/4,2) for k in range(0,5)] )\n",
    "    plt.yticks(ticks=np.linspace(0,side-1,5).astype(int), labels= [np.round(k*2/4,2) for k in range(4,-1,-1)])\n",
    "    \n",
    "    if len(deltaeline)>0:\n",
    "        plt.plot([side/2]*int(side/2) + (side/2) * deltaeline, '--', color ='black', lw= 2.5, label = '')\n"
   ]
  }
 ],
 "metadata": {
  "kernelspec": {
   "display_name": "Python 3 (ipykernel)",
   "language": "python",
   "name": "python3"
  },
  "language_info": {
   "codemirror_mode": {
    "name": "ipython",
    "version": 3
   },
   "file_extension": ".py",
   "mimetype": "text/x-python",
   "name": "python",
   "nbconvert_exporter": "python",
   "pygments_lexer": "ipython3",
   "version": "3.10.4"
  }
 },
 "nbformat": 4,
 "nbformat_minor": 5
}
