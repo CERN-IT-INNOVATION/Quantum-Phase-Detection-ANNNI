{
 "cells": [
  {
   "cell_type": "markdown",
   "id": "90e05402-2a97-44ac-a376-eec352568b0f",
   "metadata": {},
   "source": [
    "# Demonstration: Anomaly detection algorithm"
   ]
  },
  {
   "cell_type": "code",
   "execution_count": 1,
   "id": "dc5fbbd1-17a3-46f3-97ee-2e444d6a526f",
   "metadata": {},
   "outputs": [],
   "source": [
    "import pennylane as qml\n",
    "from pennylane import numpy as np\n",
    "import jax\n",
    "import jax.numpy as jnp\n",
    "from jax import jit\n",
    "from functools import partial\n",
    "\n",
    "from matplotlib import pyplot as plt\n",
    "\n",
    "import copy\n",
    "import tqdm  # Pretty progress bars\n",
    "import joblib  # Writing and loading\n",
    "\n",
    "import sys\n",
    "sys.path.insert(0, '../')\n",
    "import vqe as vqe\n",
    "import encoder as enc\n",
    "\n",
    "##############"
   ]
  },
  {
   "cell_type": "code",
   "execution_count": 2,
   "id": "55b94258-09e8-4961-adf5-2db7c61e3350",
   "metadata": {},
   "outputs": [],
   "source": [
    "N = 8\n",
    "J = 1\n",
    "\n",
    "epochs = 3000\n",
    "lr = 0.025\n"
   ]
  },
  {
   "cell_type": "code",
   "execution_count": 3,
   "id": "026ffb07-3af5-4e2c-a395-e2d2bd847dbe",
   "metadata": {},
   "outputs": [],
   "source": [
    "myenc  = enc.encoder(vqe.load_vqe('../data/vqe.pkl'), enc.encoder_circuit)"
   ]
  },
  {
   "cell_type": "code",
   "execution_count": 4,
   "id": "3795a05a-2d82-4c2f-828b-5e8ebcb61c8b",
   "metadata": {},
   "outputs": [
    {
     "name": "stdout",
     "output_type": "stream",
     "text": [
      "+--- CIRCUIT ---+\n",
      "0: ──RY(0.00)──||─╭IsingXX(0.00)────────────────────────────────────────────────────────────\n",
      "1: ──RY(0.00)──||─╰IsingXX(0.00)─╭IsingXX(0.00)─────────────────────────────────────────────\n",
      "2: ──RY(0.00)──||────────────────╰IsingXX(0.00)─╭IsingXX(0.00)──────────────────────────────\n",
      "3: ──RY(0.00)──||───────────────────────────────╰IsingXX(0.00)─╭IsingXX(0.00)───────────────\n",
      "4: ──RY(0.00)──||──────────────────────────────────────────────╰IsingXX(0.00)─╭IsingXX(0.00)\n",
      "5: ──RY(0.00)──||─────────────────────────────────────────────────────────────╰IsingXX(0.00)\n",
      "6: ──RY(0.00)──||───────────────────────────────────────────────────────────────────────────\n",
      "7: ──RY(0.00)──||───────────────────────────────────────────────────────────────────────────\n",
      "\n",
      "─────────────────────────────────||──RY(0.00)──||─╭IsingXX(0.00)──────────────────────────────\n",
      "─────────────────────────────────||──RY(0.00)──||─│──────────────╭IsingXX(0.00)───────────────\n",
      "─────────────────────────────────||──RY(0.00)──||─╰IsingXX(0.00)─│──────────────╭IsingXX(0.00)\n",
      "─────────────────────────────────||──RY(0.00)──||────────────────╰IsingXX(0.00)─│─────────────\n",
      "─────────────────────────────────||──RY(0.00)──||───────────────────────────────╰IsingXX(0.00)\n",
      "──╭IsingXX(0.00)─────────────────||──RY(0.00)──||─────────────────────────────────────────────\n",
      "──╰IsingXX(0.00)─╭IsingXX(0.00)──||──RY(0.00)──||─────────────────────────────────────────────\n",
      "─────────────────╰IsingXX(0.00)──||──RY(0.00)──||─────────────────────────────────────────────\n",
      "\n",
      "────────────────────────────────────────────────||─╭IsingXX(0.00)──────────────────────────────\n",
      "────────────────────────────────────────────────||─╰IsingXX(0.00)─╭IsingXX(0.00)───────────────\n",
      "────────────────────────────────────────────────||────────────────╰IsingXX(0.00)─╭IsingXX(0.00)\n",
      "──╭IsingXX(0.00)────────────────────────────────||───────────────────────────────╰IsingXX(0.00)\n",
      "──│──────────────╭IsingXX(0.00)─────────────────||─────────────────────────────────────────────\n",
      "──╰IsingXX(0.00)─│──────────────╭IsingXX(0.00)──||─────────────────────────────────────────────\n",
      "─────────────────╰IsingXX(0.00)─│───────────────||─────────────────────────────────────────────\n",
      "────────────────────────────────╰IsingXX(0.00)──||─────────────────────────────────────────────\n",
      "\n",
      "───────────────────────────────────────────────────────────────||──RY(0.00)──||─╭IsingXX(0.00)\n",
      "───────────────────────────────────────────────────────────────||──RY(0.00)──||─│─────────────\n",
      "───────────────────────────────────────────────────────────────||──RY(0.00)──||─╰IsingXX(0.00)\n",
      "──╭IsingXX(0.00)───────────────────────────────────────────────||──RY(0.00)──||───────────────\n",
      "──╰IsingXX(0.00)─╭IsingXX(0.00)────────────────────────────────||──RY(0.00)──||───────────────\n",
      "─────────────────╰IsingXX(0.00)─╭IsingXX(0.00)─────────────────||──RY(0.00)──||───────────────\n",
      "────────────────────────────────╰IsingXX(0.00)─╭IsingXX(0.00)──||──RY(0.00)──||───────────────\n",
      "───────────────────────────────────────────────╰IsingXX(0.00)──||──RY(0.00)──||───────────────\n",
      "\n",
      "──────────────────────────────────────────────────────────────────────────────||──RY(0.00)──RX(0.00)\n",
      "──╭IsingXX(0.00)──────────────────────────────────────────────────────────────||──RY(0.00)──RX(0.00)\n",
      "──│──────────────╭IsingXX(0.00)───────────────────────────────────────────────||──RY(0.00)──RX(0.00)\n",
      "──╰IsingXX(0.00)─│──────────────╭IsingXX(0.00)────────────────────────────────||──RY(0.00)──RX(0.00)\n",
      "─────────────────╰IsingXX(0.00)─│──────────────╭IsingXX(0.00)─────────────────||──RY(0.00)──RX(0.00)\n",
      "────────────────────────────────╰IsingXX(0.00)─│──────────────╭IsingXX(0.00)──||──RY(0.00)──RX(0.00)\n",
      "───────────────────────────────────────────────╰IsingXX(0.00)─│───────────────||──RY(0.00)──RX(0.00)\n",
      "──────────────────────────────────────────────────────────────╰IsingXX(0.00)──||──RY(0.00)──RX(0.00)\n",
      "\n",
      "───||──||──RY(0.00)─────────────╭C─────||──RY(8.00)────────╭C────────||──RY(16.00)─────────────╭C───\n",
      "───||──||──RY(1.00)─────────────│──╭C──||──RY(9.00)────────│──╭C─────||──RY(17.00)─────────────│──╭C\n",
      "───||──||──RY(2.00)─╭C───────╭X─╰X─│───||──RY(10.00)─╭C────│──│──╭X──||──RY(18.00)─╭C─╭X───────│──│─\n",
      "───||──||──RY(3.00)─╰X─╭C────│─────╰X──||──RY(11.00)─│──╭C─╰X─│──│───||──RY(19.00)─│──╰C─╭X────│──│─\n",
      "───||──||──RY(4.00)────╰X─╭C─│──╭X─────||──RY(12.00)─╰X─│─────╰X─│───||──RY(20.00)─│─────╰C─╭X─╰X─│─\n",
      "───||──||──RY(5.00)───────╰X─╰C─│──╭X──||──RY(13.00)────╰X─╭X────│───||──RY(21.00)─╰X───────╰C────╰X\n",
      "───||──||──RY(6.00)─────────────╰C─│───||──RY(14.00)───────╰C────│───||──RY(22.00)──────────────────\n",
      "───||──||──RY(7.00)────────────────╰C──||──RY(15.00)─────────────╰C──||──RY(23.00)──────────────────\n",
      "\n",
      "─────────||──RY(24.00)─────────────╭C────────||──RY(32.00)─┤  State\n",
      "─────────||──RY(25.00)─────────────│──╭C─────||──RY(33.00)─┤  State\n",
      "──╭X─────||──RY(26.00)─╭C───────╭X─│──╰X─────||──RY(34.00)─┤  State\n",
      "──│──╭X──||──RY(27.00)─╰X─╭C────│──│──╭X─────||──RY(35.00)─┤  State\n",
      "──│──│───||──RY(28.00)────╰X─╭C─│──│──│──╭X──||──RY(36.00)─┤  State\n",
      "──│──│───||──RY(29.00)───────╰X─╰C─╰X─│──│───||──RY(37.00)─┤  State\n",
      "──╰C─│───||──RY(30.00)────────────────╰C─│───||──RY(38.00)─┤  State\n",
      "─────╰C──||──RY(31.00)───────────────────╰C──||──RY(39.00)─┤  State\n"
     ]
    },
    {
     "name": "stderr",
     "output_type": "stream",
     "text": [
      "Cost: 0.10871730744838715: 100%|███████████| 3000/3000 [00:17<00:00, 167.02it/s]\n"
     ]
    },
    {
     "data": {
      "image/png": "[encoded data removed]",
      "text/plain": [
       "<Figure size 432x288 with 1 Axes>"
      ]
     },
     "metadata": {
      "needs_background": "light"
     },
     "output_type": "display_data"
    }
   ],
   "source": [
    "myenc.train(lr, epochs, [80,90], circuit = True, plot = True)"
   ]
  },
  {
   "cell_type": "code",
   "execution_count": 5,
   "id": "8a35c58d-1dd4-472b-be29-42ba467e2138",
   "metadata": {},
   "outputs": [
    {
     "data": {
      "image/png": "[encoded data removed]",
      "text/plain": [
       "<Figure size 720x216 with 1 Axes>"
      ]
     },
     "metadata": {
      "needs_background": "light"
     },
     "output_type": "display_data"
    }
   ],
   "source": [
    "myenc.show_compression_isingchain()"
   ]
  },
  {
   "cell_type": "code",
   "execution_count": 6,
   "id": "6c01a250-d6a3-4b0c-ada9-c94da40ca0c3",
   "metadata": {},
   "outputs": [],
   "source": [
    "myenc  = enc.encoder(vqe.load_vqe('../data/vqe.pkl'), enc.encoder_circuit)"
   ]
  },
  {
   "cell_type": "code",
   "execution_count": 7,
   "id": "71382db1-5fd6-4d47-b67f-79fae09d655d",
   "metadata": {},
   "outputs": [
    {
     "name": "stdout",
     "output_type": "stream",
     "text": [
      "+--- CIRCUIT ---+\n",
      "0: ──RY(0.00)──||─╭IsingXX(0.00)────────────────────────────────────────────────────────────\n",
      "1: ──RY(0.00)──||─╰IsingXX(0.00)─╭IsingXX(0.00)─────────────────────────────────────────────\n",
      "2: ──RY(0.00)──||────────────────╰IsingXX(0.00)─╭IsingXX(0.00)──────────────────────────────\n",
      "3: ──RY(0.00)──||───────────────────────────────╰IsingXX(0.00)─╭IsingXX(0.00)───────────────\n",
      "4: ──RY(0.00)──||──────────────────────────────────────────────╰IsingXX(0.00)─╭IsingXX(0.00)\n",
      "5: ──RY(0.00)──||─────────────────────────────────────────────────────────────╰IsingXX(0.00)\n",
      "6: ──RY(0.00)──||───────────────────────────────────────────────────────────────────────────\n",
      "7: ──RY(0.00)──||───────────────────────────────────────────────────────────────────────────\n",
      "\n",
      "─────────────────────────────────||──RY(0.00)──||─╭IsingXX(0.00)──────────────────────────────\n",
      "─────────────────────────────────||──RY(0.00)──||─│──────────────╭IsingXX(0.00)───────────────\n",
      "─────────────────────────────────||──RY(0.00)──||─╰IsingXX(0.00)─│──────────────╭IsingXX(0.00)\n",
      "─────────────────────────────────||──RY(0.00)──||────────────────╰IsingXX(0.00)─│─────────────\n",
      "─────────────────────────────────||──RY(0.00)──||───────────────────────────────╰IsingXX(0.00)\n",
      "──╭IsingXX(0.00)─────────────────||──RY(0.00)──||─────────────────────────────────────────────\n",
      "──╰IsingXX(0.00)─╭IsingXX(0.00)──||──RY(0.00)──||─────────────────────────────────────────────\n",
      "─────────────────╰IsingXX(0.00)──||──RY(0.00)──||─────────────────────────────────────────────\n",
      "\n",
      "────────────────────────────────────────────────||─╭IsingXX(0.00)──────────────────────────────\n",
      "────────────────────────────────────────────────||─╰IsingXX(0.00)─╭IsingXX(0.00)───────────────\n",
      "────────────────────────────────────────────────||────────────────╰IsingXX(0.00)─╭IsingXX(0.00)\n",
      "──╭IsingXX(0.00)────────────────────────────────||───────────────────────────────╰IsingXX(0.00)\n",
      "──│──────────────╭IsingXX(0.00)─────────────────||─────────────────────────────────────────────\n",
      "──╰IsingXX(0.00)─│──────────────╭IsingXX(0.00)──||─────────────────────────────────────────────\n",
      "─────────────────╰IsingXX(0.00)─│───────────────||─────────────────────────────────────────────\n",
      "────────────────────────────────╰IsingXX(0.00)──||─────────────────────────────────────────────\n",
      "\n",
      "───────────────────────────────────────────────────────────────||──RY(0.00)──||─╭IsingXX(0.00)\n",
      "───────────────────────────────────────────────────────────────||──RY(0.00)──||─│─────────────\n",
      "───────────────────────────────────────────────────────────────||──RY(0.00)──||─╰IsingXX(0.00)\n",
      "──╭IsingXX(0.00)───────────────────────────────────────────────||──RY(0.00)──||───────────────\n",
      "──╰IsingXX(0.00)─╭IsingXX(0.00)────────────────────────────────||──RY(0.00)──||───────────────\n",
      "─────────────────╰IsingXX(0.00)─╭IsingXX(0.00)─────────────────||──RY(0.00)──||───────────────\n",
      "────────────────────────────────╰IsingXX(0.00)─╭IsingXX(0.00)──||──RY(0.00)──||───────────────\n",
      "───────────────────────────────────────────────╰IsingXX(0.00)──||──RY(0.00)──||───────────────\n",
      "\n",
      "──────────────────────────────────────────────────────────────────────────────||──RY(0.00)──RX(0.00)\n",
      "──╭IsingXX(0.00)──────────────────────────────────────────────────────────────||──RY(0.00)──RX(0.00)\n",
      "──│──────────────╭IsingXX(0.00)───────────────────────────────────────────────||──RY(0.00)──RX(0.00)\n",
      "──╰IsingXX(0.00)─│──────────────╭IsingXX(0.00)────────────────────────────────||──RY(0.00)──RX(0.00)\n",
      "─────────────────╰IsingXX(0.00)─│──────────────╭IsingXX(0.00)─────────────────||──RY(0.00)──RX(0.00)\n",
      "────────────────────────────────╰IsingXX(0.00)─│──────────────╭IsingXX(0.00)──||──RY(0.00)──RX(0.00)\n",
      "───────────────────────────────────────────────╰IsingXX(0.00)─│───────────────||──RY(0.00)──RX(0.00)\n",
      "──────────────────────────────────────────────────────────────╰IsingXX(0.00)──||──RY(0.00)──RX(0.00)\n",
      "\n",
      "───||──||──RY(0.00)─────────────╭C─────||──RY(8.00)────────╭C────────||──RY(16.00)─────────────╭C───\n",
      "───||──||──RY(1.00)─────────────│──╭C──||──RY(9.00)────────│──╭C─────||──RY(17.00)─────────────│──╭C\n",
      "───||──||──RY(2.00)─╭C───────╭X─╰X─│───||──RY(10.00)─╭C────│──│──╭X──||──RY(18.00)─╭C─╭X───────│──│─\n",
      "───||──||──RY(3.00)─╰X─╭C────│─────╰X──||──RY(11.00)─│──╭C─╰X─│──│───||──RY(19.00)─│──╰C─╭X────│──│─\n",
      "───||──||──RY(4.00)────╰X─╭C─│──╭X─────||──RY(12.00)─╰X─│─────╰X─│───||──RY(20.00)─│─────╰C─╭X─╰X─│─\n",
      "───||──||──RY(5.00)───────╰X─╰C─│──╭X──||──RY(13.00)────╰X─╭X────│───||──RY(21.00)─╰X───────╰C────╰X\n",
      "───||──||──RY(6.00)─────────────╰C─│───||──RY(14.00)───────╰C────│───||──RY(22.00)──────────────────\n",
      "───||──||──RY(7.00)────────────────╰C──||──RY(15.00)─────────────╰C──||──RY(23.00)──────────────────\n",
      "\n",
      "─────────||──RY(24.00)─────────────╭C────────||──RY(32.00)─┤  State\n",
      "─────────||──RY(25.00)─────────────│──╭C─────||──RY(33.00)─┤  State\n",
      "──╭X─────||──RY(26.00)─╭C───────╭X─│──╰X─────||──RY(34.00)─┤  State\n",
      "──│──╭X──||──RY(27.00)─╰X─╭C────│──│──╭X─────||──RY(35.00)─┤  State\n",
      "──│──│───||──RY(28.00)────╰X─╭C─│──│──│──╭X──||──RY(36.00)─┤  State\n",
      "──│──│───||──RY(29.00)───────╰X─╰C─╰X─│──│───||──RY(37.00)─┤  State\n",
      "──╰C─│───||──RY(30.00)────────────────╰C─│───||──RY(38.00)─┤  State\n",
      "─────╰C──||──RY(31.00)───────────────────╰C──||──RY(39.00)─┤  State\n"
     ]
    },
    {
     "name": "stderr",
     "output_type": "stream",
     "text": [
      "Cost: 0.008080080151557922: 100%|██████████| 3000/3000 [00:16<00:00, 178.75it/s]\n"
     ]
    },
    {
     "data": {
      "image/png": "[encoded data removed]",
      "text/plain": [
       "<Figure size 432x288 with 1 Axes>"
      ]
     },
     "metadata": {
      "needs_background": "light"
     },
     "output_type": "display_data"
    }
   ],
   "source": [
    "myenc.train(lr, epochs, [0,10], circuit = True, plot = True)"
   ]
  },
  {
   "cell_type": "code",
   "execution_count": 8,
   "id": "66703ee2-b25d-46b3-862a-9360ddaf1a5e",
   "metadata": {},
   "outputs": [
    {
     "data": {
      "image/png": "[encoded data removed]",
      "text/plain": [
       "<Figure size 720x216 with 1 Axes>"
      ]
     },
     "metadata": {
      "needs_background": "light"
     },
     "output_type": "display_data"
    }
   ],
   "source": [
    "myenc.show_compression_isingchain()"
   ]
  },
  {
   "cell_type": "code",
   "execution_count": null,
   "id": "db998c6d-e0ff-4a40-9c72-526a4e45935d",
   "metadata": {},
   "outputs": [],
   "source": []
  }
 ],
 "metadata": {
  "kernelspec": {
   "display_name": "Python 3 (ipykernel)",
   "language": "python",
   "name": "python3"
  },
  "language_info": {
   "codemirror_mode": {
    "name": "ipython",
    "version": 3
   },
   "file_extension": ".py",
   "mimetype": "text/x-python",
   "name": "python",
   "nbconvert_exporter": "python",
   "pygments_lexer": "ipython3",
   "version": "3.10.4"
  }
 },
 "nbformat": 4,
 "nbformat_minor": 5
}
