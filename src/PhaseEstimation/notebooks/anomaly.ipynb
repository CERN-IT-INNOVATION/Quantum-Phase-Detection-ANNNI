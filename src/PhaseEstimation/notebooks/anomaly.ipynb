{
 "cells": [
  {
   "cell_type": "markdown",
   "id": "90e05402-2a97-44ac-a376-eec352568b0f",
   "metadata": {},
   "source": [
    "# Demonstration: Anomaly detection algorithm"
   ]
  },
  {
   "cell_type": "code",
   "execution_count": 1,
   "id": "dc5fbbd1-17a3-46f3-97ee-2e444d6a526f",
   "metadata": {},
   "outputs": [],
   "source": [
    "import pennylane as qml\n",
    "from pennylane import numpy as np\n",
    "import jax\n",
    "import jax.numpy as jnp\n",
    "from jax import jit\n",
    "from functools import partial\n",
    "\n",
    "from matplotlib import pyplot as plt\n",
    "\n",
    "import copy\n",
    "import tqdm  # Pretty progress bars\n",
    "import joblib  # Writing and loading\n",
    "from noisyopt import minimizeSPSA\n",
    "\n",
    "import multiprocessing\n",
    "\n",
    "import sys\n",
    "sys.path.insert(0, '../')\n",
    "import vqe as vqe\n",
    "import anomaly as ae\n",
    "\n",
    "##############"
   ]
  },
  {
   "cell_type": "code",
   "execution_count": 2,
   "id": "55b94258-09e8-4961-adf5-2db7c61e3350",
   "metadata": {},
   "outputs": [],
   "source": [
    "N = 8\n",
    "J = 1\n",
    "\n",
    "epochs = 10000\n",
    "lr = 0.025\n"
   ]
  },
  {
   "cell_type": "code",
   "execution_count": 3,
   "id": "026ffb07-3af5-4e2c-a395-e2d2bd847dbe",
   "metadata": {},
   "outputs": [],
   "source": [
    "myenc = ae.encoder(vqe.load_vqe('../data/vqe.pkl'), ae.anomaly_circuit)"
   ]
  },
  {
   "cell_type": "code",
   "execution_count": 4,
   "id": "3795a05a-2d82-4c2f-828b-5e8ebcb61c8b",
   "metadata": {},
   "outputs": [
    {
     "name": "stdout",
     "output_type": "stream",
     "text": [
      "+--- CIRCUIT ---+\n",
      "0: ──RY(0.00)──RX(0.00)──||─╭C────────────────────||──RY(0.00)──RX(0.00)──||─╭C──────────────────\n",
      "1: ──RY(0.00)──RX(0.00)──||─╰X─╭C─────────────────||──RY(0.00)──RX(0.00)──||─╰X─╭C───────────────\n",
      "2: ──RY(0.00)──RX(0.00)──||────╰X─╭C──────────────||──RY(0.00)──RX(0.00)──||────╰X─╭C────────────\n",
      "3: ──RY(0.00)──RX(0.00)──||───────╰X─╭C───────────||──RY(0.00)──RX(0.00)──||───────╰X─╭C─────────\n",
      "4: ──RY(0.00)──RX(0.00)──||──────────╰X─╭C────────||──RY(0.00)──RX(0.00)──||──────────╰X─╭C──────\n",
      "5: ──RY(0.00)──RX(0.00)──||─────────────╰X─╭C─────||──RY(0.00)──RX(0.00)──||─────────────╰X─╭C───\n",
      "6: ──RY(0.00)──RX(0.00)──||────────────────╰X─╭C──||──RY(0.00)──RX(0.00)──||────────────────╰X─╭C\n",
      "7: ──RY(0.00)──RX(0.00)──||───────────────────╰X──||──RY(0.00)──RX(0.00)──||───────────────────╰X\n",
      "\n",
      "───||──RY(0.00)──||──||──RY(0.00)────╭C────────||──RY(8.00)─────╭C────────||──RY(16.00)─┤  State\n",
      "───||──RY(0.00)──||──||──RY(1.00)────│──╭C─────||──RY(9.00)─────│──╭C─────||──RY(17.00)─┤  State\n",
      "───||──RY(0.00)──||──||──RY(2.00)─╭C─╰X─│──────||──RY(10.00)─╭C─╰X─│──────||──RY(18.00)─┤  State\n",
      "───||──RY(0.00)──||──||──RY(3.00)─╰X─╭C─╰X─────||──RY(11.00)─╰X─╭C─╰X─────||──RY(19.00)─┤  State\n",
      "───||──RY(0.00)──||──||──RY(4.00)─╭C─╰X─╭X─────||──RY(12.00)─╭C─╰X─╭X─────||──RY(20.00)─┤  State\n",
      "───||──RY(0.00)──||──||──RY(5.00)─╰X────│──╭X──||──RY(13.00)─╰X────│──╭X──||──RY(21.00)─┤  State\n",
      "───||──RY(0.00)──||──||──RY(6.00)───────╰C─│───||──RY(14.00)───────╰C─│───||──RY(22.00)─┤  State\n",
      "───||──RY(0.00)──||──||──RY(7.00)──────────╰C──||──RY(15.00)──────────╰C──||──RY(23.00)─┤  State\n"
     ]
    },
    {
     "name": "stderr",
     "output_type": "stream",
     "text": [
      "Cost: 0.001752833602949977: 100%|████████| 10000/10000 [00:17<00:00, 576.12it/s]\n"
     ]
    },
    {
     "data": {
      "image/png": "[encoded data removed]",
      "text/plain": [
       "<Figure size 432x288 with 1 Axes>"
      ]
     },
     "metadata": {
      "needs_background": "light"
     },
     "output_type": "display_data"
    }
   ],
   "source": [
    "myenc.train(lr, epochs, [0,1,2,3,4,5], circuit = True, plot = True)"
   ]
  },
  {
   "cell_type": "code",
   "execution_count": 5,
   "id": "8a35c58d-1dd4-472b-be29-42ba467e2138",
   "metadata": {},
   "outputs": [
    {
     "data": {
      "image/png": "[encoded data removed]",
      "text/plain": [
       "<Figure size 720x216 with 1 Axes>"
      ]
     },
     "metadata": {
      "needs_background": "light"
     },
     "output_type": "display_data"
    }
   ],
   "source": [
    "myenc.show_compression()"
   ]
  },
  {
   "cell_type": "code",
   "execution_count": 6,
   "id": "1c03f3fe-34e6-43f1-a087-6443cae7b154",
   "metadata": {},
   "outputs": [
    {
     "name": "stdout",
     "output_type": "stream",
     "text": [
      "+--- CIRCUIT ---+\n",
      "0: ──RY(0.00)──RX(0.00)──||─╭C────────────────────||──RY(0.00)──RX(0.00)──||─╭C──────────────────\n",
      "1: ──RY(0.00)──RX(0.00)──||─╰X─╭C─────────────────||──RY(0.00)──RX(0.00)──||─╰X─╭C───────────────\n",
      "2: ──RY(0.00)──RX(0.00)──||────╰X─╭C──────────────||──RY(0.00)──RX(0.00)──||────╰X─╭C────────────\n",
      "3: ──RY(0.00)──RX(0.00)──||───────╰X─╭C───────────||──RY(0.00)──RX(0.00)──||───────╰X─╭C─────────\n",
      "4: ──RY(0.00)──RX(0.00)──||──────────╰X─╭C────────||──RY(0.00)──RX(0.00)──||──────────╰X─╭C──────\n",
      "5: ──RY(0.00)──RX(0.00)──||─────────────╰X─╭C─────||──RY(0.00)──RX(0.00)──||─────────────╰X─╭C───\n",
      "6: ──RY(0.00)──RX(0.00)──||────────────────╰X─╭C──||──RY(0.00)──RX(0.00)──||────────────────╰X─╭C\n",
      "7: ──RY(0.00)──RX(0.00)──||───────────────────╰X──||──RY(0.00)──RX(0.00)──||───────────────────╰X\n",
      "\n",
      "───||──RY(0.00)──||──||──RY(0.00)────╭C────────||──RY(8.00)─────╭C────────||──RY(16.00)─┤  State\n",
      "───||──RY(0.00)──||──||──RY(1.00)────│──╭C─────||──RY(9.00)─────│──╭C─────||──RY(17.00)─┤  State\n",
      "───||──RY(0.00)──||──||──RY(2.00)─╭C─╰X─│──────||──RY(10.00)─╭C─╰X─│──────||──RY(18.00)─┤  State\n",
      "───||──RY(0.00)──||──||──RY(3.00)─╰X─╭C─╰X─────||──RY(11.00)─╰X─╭C─╰X─────||──RY(19.00)─┤  State\n",
      "───||──RY(0.00)──||──||──RY(4.00)─╭C─╰X─╭X─────||──RY(12.00)─╭C─╰X─╭X─────||──RY(20.00)─┤  State\n",
      "───||──RY(0.00)──||──||──RY(5.00)─╰X────│──╭X──||──RY(13.00)─╰X────│──╭X──||──RY(21.00)─┤  State\n",
      "───||──RY(0.00)──||──||──RY(6.00)───────╰C─│───||──RY(14.00)───────╰C─│───||──RY(22.00)─┤  State\n",
      "───||──RY(0.00)──||──||──RY(7.00)──────────╰C──||──RY(15.00)──────────╰C──||──RY(23.00)─┤  State\n"
     ]
    },
    {
     "name": "stderr",
     "output_type": "stream",
     "text": [
      "Cost: 0.0342637300491333: 100%|██████████| 10000/10000 [00:15<00:00, 644.02it/s]\n"
     ]
    },
    {
     "data": {
      "image/png": "[encoded data removed]",
      "text/plain": [
       "<Figure size 432x288 with 1 Axes>"
      ]
     },
     "metadata": {
      "needs_background": "light"
     },
     "output_type": "display_data"
    }
   ],
   "source": [
    "myenc.train(lr, epochs, [90], circuit = True, plot = True)"
   ]
  },
  {
   "cell_type": "code",
   "execution_count": 7,
   "id": "c3aaf7d3-da7d-4db8-a42e-aaa7b33845ca",
   "metadata": {},
   "outputs": [
    {
     "data": {
      "image/png": "[encoded data removed]",
      "text/plain": [
       "<Figure size 720x216 with 1 Axes>"
      ]
     },
     "metadata": {
      "needs_background": "light"
     },
     "output_type": "display_data"
    }
   ],
   "source": [
    "myenc.show_compression()"
   ]
  },
  {
   "cell_type": "code",
   "execution_count": null,
   "id": "6c01a250-d6a3-4b0c-ada9-c94da40ca0c3",
   "metadata": {},
   "outputs": [],
   "source": []
  }
 ],
 "metadata": {
  "kernelspec": {
   "display_name": "Python 3 (ipykernel)",
   "language": "python",
   "name": "python3"
  },
  "language_info": {
   "codemirror_mode": {
    "name": "ipython",
    "version": 3
   },
   "file_extension": ".py",
   "mimetype": "text/x-python",
   "name": "python",
   "nbconvert_exporter": "python",
   "pygments_lexer": "ipython3",
   "version": "3.10.4"
  }
 },
 "nbformat": 4,
 "nbformat_minor": 5
}
