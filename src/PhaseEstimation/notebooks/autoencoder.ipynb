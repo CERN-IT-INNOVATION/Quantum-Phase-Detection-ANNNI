{
 "cells": [
  {
   "cell_type": "markdown",
   "id": "8fc39414-e3e1-4412-bdeb-eb1a683b8d98",
   "metadata": {},
   "source": [
    "# Demonstration: Latent space representation"
   ]
  },
  {
   "cell_type": "code",
   "execution_count": 1,
   "id": "abbec546-3ca2-4b82-88ff-aa8a711e85ea",
   "metadata": {},
   "outputs": [],
   "source": [
    "import pennylane as qml\n",
    "from pennylane import numpy as np\n",
    "import jax\n",
    "import jax.numpy as jnp\n",
    "from jax import jit\n",
    "from matplotlib import pyplot as plt\n",
    "\n",
    "import copy\n",
    "import tqdm  # Pretty progress bars\n",
    "import joblib  # Writing and loading\n",
    "from jax.example_libraries import optimizers"
   ]
  },
  {
   "cell_type": "code",
   "execution_count": 2,
   "id": "5ede249c-78fc-4a8e-9302-b9343c1876fe",
   "metadata": {},
   "outputs": [],
   "source": [
    "import sys\n",
    "sys.path.insert(0, '../')\n",
    "\n",
    "import vqe as vqe\n",
    "import losses as losses\n",
    "import autoencoder as aut"
   ]
  },
  {
   "cell_type": "code",
   "execution_count": 3,
   "id": "7579335a-07e6-4907-9672-4197b94a99d7",
   "metadata": {},
   "outputs": [],
   "source": [
    "import pandas as pd\n",
    "import plotly.express as px"
   ]
  },
  {
   "cell_type": "code",
   "execution_count": 4,
   "id": "e5b55317-2141-41f9-ac3c-6eb2a71fde00",
   "metadata": {},
   "outputs": [],
   "source": [
    "ae = aut.autoencoder(vqe.load_vqe('../data/vqes/ANNNI/N6n10'), aut.autoencoder_circuit)"
   ]
  },
  {
   "cell_type": "code",
   "execution_count": 10,
   "id": "6b51cb15-eb00-42e8-adb3-91edb4e7c10b",
   "metadata": {},
   "outputs": [
    {
     "name": "stderr",
     "output_type": "stream",
     "text": [
      "Cost: 0.21326661109924316 | Mean F. 0.786733090877533: 100%|██████████████████████████████████████████████████████████████████████████████████████████████████████████████████████████████████████████████████████████████████████████████████| 1000/1000 [01:45<00:00,  9.44it/s]\n"
     ]
    },
    {
     "data": {
      "image/png": "[encoded data removed]",
      "text/plain": [
       "<Figure size 432x288 with 1 Axes>"
      ]
     },
     "metadata": {
      "needs_background": "light"
     },
     "output_type": "display_data"
    }
   ],
   "source": [
    "ae.train(.1, 1000, np.arange(100), circuit=False, plot=True)"
   ]
  },
  {
   "cell_type": "code",
   "execution_count": 11,
   "id": "abed64ae-d56f-4adc-9b4c-4551d4a92bdf",
   "metadata": {},
   "outputs": [],
   "source": [
    "def show_latent_space(aeclass):\n",
    "    @qml.qnode(aeclass.device, interface=\"jax\")\n",
    "    def q_latent_probs(vqe_p, auto_p):\n",
    "        aeclass.circuit(vqe_p, auto_p, decode = False)\n",
    "\n",
    "        # return <psi|H|psi>\n",
    "        return [qml.probs(wires = int(tr)) for tr in aeclass.wires_trash]\n",
    "\n",
    "    jv_q_latent_probs = jax.jit(jax.vmap(lambda x, p : q_latent_probs(x, p), in_axes=(0,None)))\n",
    "\n",
    "    latent_vectors = jv_q_latent_probs(aeclass.vqe.vqe_params0, aeclass.params)\n",
    "    \n",
    "    x = latent_vectors[:,0,0]\n",
    "    y = latent_vectors[:,1,0]\n",
    "    z = latent_vectors[:,2,0]\n",
    "    \n",
    "    c = []\n",
    "    for label in ae.vqe.Hs.labels:\n",
    "        if (label == [0,1]).all():\n",
    "            c.append('green')\n",
    "        elif (label == [0,0]).all():\n",
    "            c.append('red')\n",
    "        elif (label == [1,0]).all():\n",
    "            c.append('blue')\n",
    "        else: c.append('black')\n",
    "    \n",
    "    lv_df = pd.DataFrame(np.column_stack((x,y,z)),columns=['x','y','z'])\n",
    "    fig = px.scatter_3d(lv_df, x='x', y='y', z='z', color=c)\n",
    "    fig.show()\n",
    "    "
   ]
  },
  {
   "cell_type": "code",
   "execution_count": 12,
   "id": "d3c78aa8-c55d-4ef3-8d4d-1ca452c6b0ab",
   "metadata": {},
   "outputs": [
    {
     "data": {
      "application/vnd.plotly.v1+json": {
       "config": {
        "plotlyServerURL": "https://plot.ly"
       },
       "data": [
        {
         "hovertemplate": "color=green<br>x=%{x}<br>y=%{y}<br>z=%{z}<extra></extra>",
         "legendgroup": "green",
         "marker": {
          "color": "#636efa",
          "symbol": "circle"
         },
         "mode": "markers",
         "name": "green",
         "scene": "scene",
         "showlegend": true,
         "type": "scatter3d",
         "x": [
          0.474865198135376,
          0.4832019805908203,
          0.525398850440979,
          0.7332084774971008,
          0.8619443774223328,
          0.48840492963790894,
          0.47485798597335815,
          0.47484564781188965,
          0.4748656451702118
         ],
         "y": [
          0.5905698537826538,
          0.6448302865028381,
          0.7009753584861755,
          0.7375540733337402,
          0.8334137201309204,
          0.5420432090759277,
          0.5905696749687195,
          0.5905701518058777,
          0.5905698537826538
         ],
         "z": [
          0.0015821666456758976,
          0.014775527641177177,
          0.06998199969530106,
          0.48712217807769775,
          0.4837630093097687,
          0.2686898410320282,
          0.0015794807113707066,
          0.0015863305889070034,
          0.0015823686262592673
         ]
        },
        {
         "hovertemplate": "color=black<br>x=%{x}<br>y=%{y}<br>z=%{z}<extra></extra>",
         "legendgroup": "black",
         "marker": {
          "color": "#EF553B",
          "symbol": "circle"
         },
         "mode": "markers",
         "name": "black",
         "scene": "scene",
         "showlegend": true,
         "type": "scatter3d",
         "x": [
          0.9287760853767395,
          0.95502769947052,
          0.96891850233078,
          0.9769893288612366,
          0.9825015068054199,
          0.4865064024925232,
          0.556532084941864,
          0.8221076726913452,
          0.9140545129776001,
          0.951345682144165,
          0.9679545760154724,
          0.9762270450592041,
          0.9819430708885193,
          0.9857513904571533,
          0.5391553640365601,
          0.7371644973754883,
          0.9006125330924988,
          0.9460651278495789,
          0.9651274681091309,
          0.9743461012840271,
          0.9804087281227112,
          0.9844700694084167,
          0.9873847365379333,
          0.528917133808136,
          0.8832255005836487,
          0.9392104744911194,
          0.9594900608062744,
          0.9705514907836914,
          0.9770119190216064,
          0.9819802641868591,
          0.9856193661689758,
          0.987871527671814,
          0.8765326738357544,
          0.9022247791290283,
          0.9394677877426147,
          0.9574638605117798,
          0.9701017737388611,
          0.9757789969444275,
          0.9807964563369751,
          0.9843934774398804,
          0.9870312809944153,
          0.6829472780227661,
          0.8402631282806396,
          0.9271265268325806,
          0.9488099813461304,
          0.9642917513847351,
          0.9723944067955017,
          0.9791557788848877,
          0.9812565445899963,
          0.9854536652565002,
          0.542971134185791,
          0.7698950171470642,
          0.8725708723068237,
          0.9323696494102478,
          0.9484037756919861,
          0.961715042591095,
          0.9729147553443909,
          0.9783986806869507,
          0.9818194508552551,
          0.5281131863594055,
          0.6655214428901672,
          0.8249281644821167,
          0.8994336724281311,
          0.9319763779640198,
          0.9551159143447876,
          0.96406090259552,
          0.9729400277137756,
          0.9769051671028137,
          0.4850808084011078,
          0.5984255075454712,
          0.7624547481536865,
          0.8687836527824402,
          0.9139060974121094,
          0.9381402730941772,
          0.9547964930534363,
          0.964760422706604,
          0.972095787525177,
          0.5237770080566406,
          0.5625935196876526,
          0.7034529447555542,
          0.8271236419677734,
          0.8899303674697876,
          0.923875093460083,
          0.943123459815979,
          0.9562929272651672,
          0.9653773903846741
         ],
         "y": [
          0.8938018679618835,
          0.9232146739959717,
          0.9415624737739563,
          0.9535373449325562,
          0.9619649052619934,
          0.6485146284103394,
          0.7145940065383911,
          0.7793364524841309,
          0.8658311367034912,
          0.9087741374969482,
          0.9339338541030884,
          0.9483694434165955,
          0.9583528637886047,
          0.9648928642272949,
          0.48677271604537964,
          0.7002593874931335,
          0.8282325267791748,
          0.8894587755203247,
          0.9213569760322571,
          0.9403871893882751,
          0.952745795249939,
          0.9612944722175598,
          0.9671880006790161,
          0.6661190390586853,
          0.7702156901359558,
          0.8607789874076843,
          0.9041882753372192,
          0.9303957223892212,
          0.945634126663208,
          0.9559878706932068,
          0.9635083675384521,
          0.9685544967651367,
          0.6709774136543274,
          0.8046114444732666,
          0.8754225373268127,
          0.9129413962364197,
          0.935774564743042,
          0.948614776134491,
          0.9577723145484924,
          0.9643262624740601,
          0.9697052836418152,
          0.7030548453330994,
          0.8185300230979919,
          0.8903253078460693,
          0.9204421639442444,
          0.9382914900779724,
          0.9507878422737122,
          0.9589374661445618,
          0.9647772312164307,
          0.9698783159255981,
          0.7154347896575928,
          0.8322377800941467,
          0.8845950365066528,
          0.9227619171142578,
          0.9360376000404358,
          0.9493772983551025,
          0.9592729210853577,
          0.9640437364578247,
          0.968812108039856,
          0.7242529392242432,
          0.8071613907814026,
          0.8817774653434753,
          0.9132696986198425,
          0.9338386058807373,
          0.9500160217285156,
          0.9573832154273987,
          0.9646480679512024,
          0.968235433101654,
          0.5405497550964355,
          0.7701888680458069,
          0.866605818271637,
          0.9114856123924255,
          0.9321451187133789,
          0.9455267786979675,
          0.9552174806594849,
          0.9618216156959534,
          0.9673455953598022,
          0.6934882402420044,
          0.7301363348960876,
          0.8423483371734619,
          0.8976096510887146,
          0.9273792505264282,
          0.940797746181488,
          0.9515769481658936,
          0.9594715237617493,
          0.9652224183082581
         ],
         "z": [
          0.4823382794857025,
          0.4844455122947693,
          0.4847230017185211,
          0.484905868768692,
          0.48573827743530273,
          0.019609123468399048,
          0.09705403447151184,
          0.49093228578567505,
          0.48408085107803345,
          0.4873635768890381,
          0.48577040433883667,
          0.48492100834846497,
          0.4860690236091614,
          0.48592835664749146,
          0.9648022651672363,
          0.4867977499961853,
          0.48474177718162537,
          0.4843641221523285,
          0.48355183005332947,
          0.4843074381351471,
          0.4858749806880951,
          0.48663631081581116,
          0.48580554127693176,
          0.04184633493423462,
          0.4846860468387604,
          0.4843522608280182,
          0.4833395183086395,
          0.4874994158744812,
          0.4860781133174896,
          0.4881121814250946,
          0.48653748631477356,
          0.4866654574871063,
          0.4848724603652954,
          0.4828164577484131,
          0.4848404824733734,
          0.4860290288925171,
          0.48812413215637207,
          0.48711270093917847,
          0.4851730763912201,
          0.4874318838119507,
          0.4846602976322174,
          0.48281657695770264,
          0.4856662452220917,
          0.4815782606601715,
          0.48747631907463074,
          0.4858896732330322,
          0.49160289764404297,
          0.48492854833602905,
          0.488809198141098,
          0.4891832768917084,
          0.7177186608314514,
          0.48973894119262695,
          0.4898008704185486,
          0.4959662854671478,
          0.48938924074172974,
          0.4886915683746338,
          0.4911973178386688,
          0.4913090169429779,
          0.49030065536499023,
          0.967856228351593,
          0.48881348967552185,
          0.4922259449958801,
          0.4890235662460327,
          0.4894958436489105,
          0.491230309009552,
          0.49138888716697693,
          0.48573747277259827,
          0.48968830704689026,
          0.030190393328666687,
          0.4937860071659088,
          0.499845415353775,
          0.4923344850540161,
          0.49199408292770386,
          0.4903426468372345,
          0.48688897490501404,
          0.4908831715583801,
          0.4895766079425812,
          0.9824130535125732,
          0.4965420961380005,
          0.4959440529346466,
          0.4982406198978424,
          0.4930994510650635,
          0.4920320510864258,
          0.4918326437473297,
          0.491276353597641,
          0.48919665813446045
         ]
        },
        {
         "hovertemplate": "color=blue<br>x=%{x}<br>y=%{y}<br>z=%{z}<extra></extra>",
         "legendgroup": "blue",
         "marker": {
          "color": "#00cc96",
          "symbol": "circle"
         },
         "mode": "markers",
         "name": "blue",
         "scene": "scene",
         "showlegend": true,
         "type": "scatter3d",
         "x": [
          0.5251473188400269,
          0.5247858762741089,
          0.47459909319877625,
          0.5251252055168152,
          0.5251303911209106
         ],
         "y": [
          0.5905584692955017,
          0.589336097240448,
          0.40942877531051636,
          0.5905734300613403,
          0.5905711650848389
         ],
         "z": [
          0.9980638027191162,
          0.991241455078125,
          0.0014688821975141764,
          0.9980601072311401,
          0.9980577230453491
         ]
        }
       ],
       "layout": {
        "autosize": true,
        "legend": {
         "title": {
          "text": "color"
         },
         "tracegroupgap": 0
        },
        "margin": {
         "t": 60
        },
        "scene": {
         "aspectmode": "auto",
         "aspectratio": {
          "x": 0.7784192458214457,
          "y": 0.8499671508259903,
          "z": 1.5114169675181737
         },
         "camera": {
          "center": {
           "x": 0,
           "y": 0,
           "z": 0
          },
          "eye": {
           "x": 2.412220543472201,
           "y": -0.4732041293578938,
           "z": 0.3863722918174792
          },
          "projection": {
           "type": "perspective"
          },
          "up": {
           "x": 0,
           "y": 0,
           "z": 1
          }
         },
         "domain": {
          "x": [
           0,
           1
          ],
          "y": [
           0,
           1
          ]
         },
         "xaxis": {
          "title": {
           "text": "x"
          },
          "type": "linear"
         },
         "yaxis": {
          "title": {
           "text": "y"
          },
          "type": "linear"
         },
         "zaxis": {
          "title": {
           "text": "z"
          },
          "type": "linear"
         }
        },
        "template": {
         "data": {
          "bar": [
           {
            "error_x": {
             "color": "#2a3f5f"
            },
            "error_y": {
             "color": "#2a3f5f"
            },
            "marker": {
             "line": {
              "color": "#E5ECF6",
              "width": 0.5
             },
             "pattern": {
              "fillmode": "overlay",
              "size": 10,
              "solidity": 0.2
             }
            },
            "type": "bar"
           }
          ],
          "barpolar": [
           {
            "marker": {
             "line": {
              "color": "#E5ECF6",
              "width": 0.5
             },
             "pattern": {
              "fillmode": "overlay",
              "size": 10,
              "solidity": 0.2
             }
            },
            "type": "barpolar"
           }
          ],
          "carpet": [
           {
            "aaxis": {
             "endlinecolor": "#2a3f5f",
             "gridcolor": "white",
             "linecolor": "white",
             "minorgridcolor": "white",
             "startlinecolor": "#2a3f5f"
            },
            "baxis": {
             "endlinecolor": "#2a3f5f",
             "gridcolor": "white",
             "linecolor": "white",
             "minorgridcolor": "white",
             "startlinecolor": "#2a3f5f"
            },
            "type": "carpet"
           }
          ],
          "choropleth": [
           {
            "colorbar": {
             "outlinewidth": 0,
             "ticks": ""
            },
            "type": "choropleth"
           }
          ],
          "contour": [
           {
            "colorbar": {
             "outlinewidth": 0,
             "ticks": ""
            },
            "colorscale": [
             [
              0,
              "#0d0887"
             ],
             [
              0.1111111111111111,
              "#46039f"
             ],
             [
              0.2222222222222222,
              "#7201a8"
             ],
             [
              0.3333333333333333,
              "#9c179e"
             ],
             [
              0.4444444444444444,
              "#bd3786"
             ],
             [
              0.5555555555555556,
              "#d8576b"
             ],
             [
              0.6666666666666666,
              "#ed7953"
             ],
             [
              0.7777777777777778,
              "#fb9f3a"
             ],
             [
              0.8888888888888888,
              "#fdca26"
             ],
             [
              1,
              "#f0f921"
             ]
            ],
            "type": "contour"
           }
          ],
          "contourcarpet": [
           {
            "colorbar": {
             "outlinewidth": 0,
             "ticks": ""
            },
            "type": "contourcarpet"
           }
          ],
          "heatmap": [
           {
            "colorbar": {
             "outlinewidth": 0,
             "ticks": ""
            },
            "colorscale": [
             [
              0,
              "#0d0887"
             ],
             [
              0.1111111111111111,
              "#46039f"
             ],
             [
              0.2222222222222222,
              "#7201a8"
             ],
             [
              0.3333333333333333,
              "#9c179e"
             ],
             [
              0.4444444444444444,
              "#bd3786"
             ],
             [
              0.5555555555555556,
              "#d8576b"
             ],
             [
              0.6666666666666666,
              "#ed7953"
             ],
             [
              0.7777777777777778,
              "#fb9f3a"
             ],
             [
              0.8888888888888888,
              "#fdca26"
             ],
             [
              1,
              "#f0f921"
             ]
            ],
            "type": "heatmap"
           }
          ],
          "heatmapgl": [
           {
            "colorbar": {
             "outlinewidth": 0,
             "ticks": ""
            },
            "colorscale": [
             [
              0,
              "#0d0887"
             ],
             [
              0.1111111111111111,
              "#46039f"
             ],
             [
              0.2222222222222222,
              "#7201a8"
             ],
             [
              0.3333333333333333,
              "#9c179e"
             ],
             [
              0.4444444444444444,
              "#bd3786"
             ],
             [
              0.5555555555555556,
              "#d8576b"
             ],
             [
              0.6666666666666666,
              "#ed7953"
             ],
             [
              0.7777777777777778,
              "#fb9f3a"
             ],
             [
              0.8888888888888888,
              "#fdca26"
             ],
             [
              1,
              "#f0f921"
             ]
            ],
            "type": "heatmapgl"
           }
          ],
          "histogram": [
           {
            "marker": {
             "pattern": {
              "fillmode": "overlay",
              "size": 10,
              "solidity": 0.2
             }
            },
            "type": "histogram"
           }
          ],
          "histogram2d": [
           {
            "colorbar": {
             "outlinewidth": 0,
             "ticks": ""
            },
            "colorscale": [
             [
              0,
              "#0d0887"
             ],
             [
              0.1111111111111111,
              "#46039f"
             ],
             [
              0.2222222222222222,
              "#7201a8"
             ],
             [
              0.3333333333333333,
              "#9c179e"
             ],
             [
              0.4444444444444444,
              "#bd3786"
             ],
             [
              0.5555555555555556,
              "#d8576b"
             ],
             [
              0.6666666666666666,
              "#ed7953"
             ],
             [
              0.7777777777777778,
              "#fb9f3a"
             ],
             [
              0.8888888888888888,
              "#fdca26"
             ],
             [
              1,
              "#f0f921"
             ]
            ],
            "type": "histogram2d"
           }
          ],
          "histogram2dcontour": [
           {
            "colorbar": {
             "outlinewidth": 0,
             "ticks": ""
            },
            "colorscale": [
             [
              0,
              "#0d0887"
             ],
             [
              0.1111111111111111,
              "#46039f"
             ],
             [
              0.2222222222222222,
              "#7201a8"
             ],
             [
              0.3333333333333333,
              "#9c179e"
             ],
             [
              0.4444444444444444,
              "#bd3786"
             ],
             [
              0.5555555555555556,
              "#d8576b"
             ],
             [
              0.6666666666666666,
              "#ed7953"
             ],
             [
              0.7777777777777778,
              "#fb9f3a"
             ],
             [
              0.8888888888888888,
              "#fdca26"
             ],
             [
              1,
              "#f0f921"
             ]
            ],
            "type": "histogram2dcontour"
           }
          ],
          "mesh3d": [
           {
            "colorbar": {
             "outlinewidth": 0,
             "ticks": ""
            },
            "type": "mesh3d"
           }
          ],
          "parcoords": [
           {
            "line": {
             "colorbar": {
              "outlinewidth": 0,
              "ticks": ""
             }
            },
            "type": "parcoords"
           }
          ],
          "pie": [
           {
            "automargin": true,
            "type": "pie"
           }
          ],
          "scatter": [
           {
            "fillpattern": {
             "fillmode": "overlay",
             "size": 10,
             "solidity": 0.2
            },
            "type": "scatter"
           }
          ],
          "scatter3d": [
           {
            "line": {
             "colorbar": {
              "outlinewidth": 0,
              "ticks": ""
             }
            },
            "marker": {
             "colorbar": {
              "outlinewidth": 0,
              "ticks": ""
             }
            },
            "type": "scatter3d"
           }
          ],
          "scattercarpet": [
           {
            "marker": {
             "colorbar": {
              "outlinewidth": 0,
              "ticks": ""
             }
            },
            "type": "scattercarpet"
           }
          ],
          "scattergeo": [
           {
            "marker": {
             "colorbar": {
              "outlinewidth": 0,
              "ticks": ""
             }
            },
            "type": "scattergeo"
           }
          ],
          "scattergl": [
           {
            "marker": {
             "colorbar": {
              "outlinewidth": 0,
              "ticks": ""
             }
            },
            "type": "scattergl"
           }
          ],
          "scattermapbox": [
           {
            "marker": {
             "colorbar": {
              "outlinewidth": 0,
              "ticks": ""
             }
            },
            "type": "scattermapbox"
           }
          ],
          "scatterpolar": [
           {
            "marker": {
             "colorbar": {
              "outlinewidth": 0,
              "ticks": ""
             }
            },
            "type": "scatterpolar"
           }
          ],
          "scatterpolargl": [
           {
            "marker": {
             "colorbar": {
              "outlinewidth": 0,
              "ticks": ""
             }
            },
            "type": "scatterpolargl"
           }
          ],
          "scatterternary": [
           {
            "marker": {
             "colorbar": {
              "outlinewidth": 0,
              "ticks": ""
             }
            },
            "type": "scatterternary"
           }
          ],
          "surface": [
           {
            "colorbar": {
             "outlinewidth": 0,
             "ticks": ""
            },
            "colorscale": [
             [
              0,
              "#0d0887"
             ],
             [
              0.1111111111111111,
              "#46039f"
             ],
             [
              0.2222222222222222,
              "#7201a8"
             ],
             [
              0.3333333333333333,
              "#9c179e"
             ],
             [
              0.4444444444444444,
              "#bd3786"
             ],
             [
              0.5555555555555556,
              "#d8576b"
             ],
             [
              0.6666666666666666,
              "#ed7953"
             ],
             [
              0.7777777777777778,
              "#fb9f3a"
             ],
             [
              0.8888888888888888,
              "#fdca26"
             ],
             [
              1,
              "#f0f921"
             ]
            ],
            "type": "surface"
           }
          ],
          "table": [
           {
            "cells": {
             "fill": {
              "color": "#EBF0F8"
             },
             "line": {
              "color": "white"
             }
            },
            "header": {
             "fill": {
              "color": "#C8D4E3"
             },
             "line": {
              "color": "white"
             }
            },
            "type": "table"
           }
          ]
         },
         "layout": {
          "annotationdefaults": {
           "arrowcolor": "#2a3f5f",
           "arrowhead": 0,
           "arrowwidth": 1
          },
          "autotypenumbers": "strict",
          "coloraxis": {
           "colorbar": {
            "outlinewidth": 0,
            "ticks": ""
           }
          },
          "colorscale": {
           "diverging": [
            [
             0,
             "#8e0152"
            ],
            [
             0.1,
             "#c51b7d"
            ],
            [
             0.2,
             "#de77ae"
            ],
            [
             0.3,
             "#f1b6da"
            ],
            [
             0.4,
             "#fde0ef"
            ],
            [
             0.5,
             "#f7f7f7"
            ],
            [
             0.6,
             "#e6f5d0"
            ],
            [
             0.7,
             "#b8e186"
            ],
            [
             0.8,
             "#7fbc41"
            ],
            [
             0.9,
             "#4d9221"
            ],
            [
             1,
             "#276419"
            ]
           ],
           "sequential": [
            [
             0,
             "#0d0887"
            ],
            [
             0.1111111111111111,
             "#46039f"
            ],
            [
             0.2222222222222222,
             "#7201a8"
            ],
            [
             0.3333333333333333,
             "#9c179e"
            ],
            [
             0.4444444444444444,
             "#bd3786"
            ],
            [
             0.5555555555555556,
             "#d8576b"
            ],
            [
             0.6666666666666666,
             "#ed7953"
            ],
            [
             0.7777777777777778,
             "#fb9f3a"
            ],
            [
             0.8888888888888888,
             "#fdca26"
            ],
            [
             1,
             "#f0f921"
            ]
           ],
           "sequentialminus": [
            [
             0,
             "#0d0887"
            ],
            [
             0.1111111111111111,
             "#46039f"
            ],
            [
             0.2222222222222222,
             "#7201a8"
            ],
            [
             0.3333333333333333,
             "#9c179e"
            ],
            [
             0.4444444444444444,
             "#bd3786"
            ],
            [
             0.5555555555555556,
             "#d8576b"
            ],
            [
             0.6666666666666666,
             "#ed7953"
            ],
            [
             0.7777777777777778,
             "#fb9f3a"
            ],
            [
             0.8888888888888888,
             "#fdca26"
            ],
            [
             1,
             "#f0f921"
            ]
           ]
          },
          "colorway": [
           "#636efa",
           "#EF553B",
           "#00cc96",
           "#ab63fa",
           "#FFA15A",
           "#19d3f3",
           "#FF6692",
           "#B6E880",
           "#FF97FF",
           "#FECB52"
          ],
          "font": {
           "color": "#2a3f5f"
          },
          "geo": {
           "bgcolor": "white",
           "lakecolor": "white",
           "landcolor": "#E5ECF6",
           "showlakes": true,
           "showland": true,
           "subunitcolor": "white"
          },
          "hoverlabel": {
           "align": "left"
          },
          "hovermode": "closest",
          "mapbox": {
           "style": "light"
          },
          "paper_bgcolor": "white",
          "plot_bgcolor": "#E5ECF6",
          "polar": {
           "angularaxis": {
            "gridcolor": "white",
            "linecolor": "white",
            "ticks": ""
           },
           "bgcolor": "#E5ECF6",
           "radialaxis": {
            "gridcolor": "white",
            "linecolor": "white",
            "ticks": ""
           }
          },
          "scene": {
           "xaxis": {
            "backgroundcolor": "#E5ECF6",
            "gridcolor": "white",
            "gridwidth": 2,
            "linecolor": "white",
            "showbackground": true,
            "ticks": "",
            "zerolinecolor": "white"
           },
           "yaxis": {
            "backgroundcolor": "#E5ECF6",
            "gridcolor": "white",
            "gridwidth": 2,
            "linecolor": "white",
            "showbackground": true,
            "ticks": "",
            "zerolinecolor": "white"
           },
           "zaxis": {
            "backgroundcolor": "#E5ECF6",
            "gridcolor": "white",
            "gridwidth": 2,
            "linecolor": "white",
            "showbackground": true,
            "ticks": "",
            "zerolinecolor": "white"
           }
          },
          "shapedefaults": {
           "line": {
            "color": "#2a3f5f"
           }
          },
          "ternary": {
           "aaxis": {
            "gridcolor": "white",
            "linecolor": "white",
            "ticks": ""
           },
           "baxis": {
            "gridcolor": "white",
            "linecolor": "white",
            "ticks": ""
           },
           "bgcolor": "#E5ECF6",
           "caxis": {
            "gridcolor": "white",
            "linecolor": "white",
            "ticks": ""
           }
          },
          "title": {
           "x": 0.05
          },
          "xaxis": {
           "automargin": true,
           "gridcolor": "white",
           "linecolor": "white",
           "ticks": "",
           "title": {
            "standoff": 15
           },
           "zerolinecolor": "white",
           "zerolinewidth": 2
          },
          "yaxis": {
           "automargin": true,
           "gridcolor": "white",
           "linecolor": "white",
           "ticks": "",
           "title": {
            "standoff": 15
           },
           "zerolinecolor": "white",
           "zerolinewidth": 2
          }
         }
        }
       }
      },
      "image/png": "[encoded data removed]",
      "text/html": [
       "<div>                            <div id=\"8e47cb70-7f4e-442d-b1f6-07c0e378c10e\" class=\"plotly-graph-div\" style=\"height:525px; width:100%;\"></div>            <script type=\"text/javascript\">                require([\"plotly\"], function(Plotly) {                    window.PLOTLYENV=window.PLOTLYENV || {};                                    if (document.getElementById(\"8e47cb70-7f4e-442d-b1f6-07c0e378c10e\")) {                    Plotly.newPlot(                        \"8e47cb70-7f4e-442d-b1f6-07c0e378c10e\",                        [{\"hovertemplate\":\"color=green<br>x=%{x}<br>y=%{y}<br>z=%{z}<extra></extra>\",\"legendgroup\":\"green\",\"marker\":{\"color\":\"#636efa\",\"symbol\":\"circle\"},\"mode\":\"markers\",\"name\":\"green\",\"scene\":\"scene\",\"showlegend\":true,\"x\":[0.474865198135376,0.4832019805908203,0.525398850440979,0.7332084774971008,0.8619443774223328,0.48840492963790894,0.47485798597335815,0.47484564781188965,0.4748656451702118],\"y\":[0.5905698537826538,0.6448302865028381,0.7009753584861755,0.7375540733337402,0.8334137201309204,0.5420432090759277,0.5905696749687195,0.5905701518058777,0.5905698537826538],\"z\":[0.0015821666456758976,0.014775527641177177,0.06998199969530106,0.48712217807769775,0.4837630093097687,0.2686898410320282,0.0015794807113707066,0.0015863305889070034,0.0015823686262592673],\"type\":\"scatter3d\"},{\"hovertemplate\":\"color=black<br>x=%{x}<br>y=%{y}<br>z=%{z}<extra></extra>\",\"legendgroup\":\"black\",\"marker\":{\"color\":\"#EF553B\",\"symbol\":\"circle\"},\"mode\":\"markers\",\"name\":\"black\",\"scene\":\"scene\",\"showlegend\":true,\"x\":[0.9287760853767395,0.95502769947052,0.96891850233078,0.9769893288612366,0.9825015068054199,0.4865064024925232,0.556532084941864,0.8221076726913452,0.9140545129776001,0.951345682144165,0.9679545760154724,0.9762270450592041,0.9819430708885193,0.9857513904571533,0.5391553640365601,0.7371644973754883,0.9006125330924988,0.9460651278495789,0.9651274681091309,0.9743461012840271,0.9804087281227112,0.9844700694084167,0.9873847365379333,0.528917133808136,0.8832255005836487,0.9392104744911194,0.9594900608062744,0.9705514907836914,0.9770119190216064,0.9819802641868591,0.9856193661689758,0.987871527671814,0.8765326738357544,0.9022247791290283,0.9394677877426147,0.9574638605117798,0.9701017737388611,0.9757789969444275,0.9807964563369751,0.9843934774398804,0.9870312809944153,0.6829472780227661,0.8402631282806396,0.9271265268325806,0.9488099813461304,0.9642917513847351,0.9723944067955017,0.9791557788848877,0.9812565445899963,0.9854536652565002,0.542971134185791,0.7698950171470642,0.8725708723068237,0.9323696494102478,0.9484037756919861,0.961715042591095,0.9729147553443909,0.9783986806869507,0.9818194508552551,0.5281131863594055,0.6655214428901672,0.8249281644821167,0.8994336724281311,0.9319763779640198,0.9551159143447876,0.96406090259552,0.9729400277137756,0.9769051671028137,0.4850808084011078,0.5984255075454712,0.7624547481536865,0.8687836527824402,0.9139060974121094,0.9381402730941772,0.9547964930534363,0.964760422706604,0.972095787525177,0.5237770080566406,0.5625935196876526,0.7034529447555542,0.8271236419677734,0.8899303674697876,0.923875093460083,0.943123459815979,0.9562929272651672,0.9653773903846741],\"y\":[0.8938018679618835,0.9232146739959717,0.9415624737739563,0.9535373449325562,0.9619649052619934,0.6485146284103394,0.7145940065383911,0.7793364524841309,0.8658311367034912,0.9087741374969482,0.9339338541030884,0.9483694434165955,0.9583528637886047,0.9648928642272949,0.48677271604537964,0.7002593874931335,0.8282325267791748,0.8894587755203247,0.9213569760322571,0.9403871893882751,0.952745795249939,0.9612944722175598,0.9671880006790161,0.6661190390586853,0.7702156901359558,0.8607789874076843,0.9041882753372192,0.9303957223892212,0.945634126663208,0.9559878706932068,0.9635083675384521,0.9685544967651367,0.6709774136543274,0.8046114444732666,0.8754225373268127,0.9129413962364197,0.935774564743042,0.948614776134491,0.9577723145484924,0.9643262624740601,0.9697052836418152,0.7030548453330994,0.8185300230979919,0.8903253078460693,0.9204421639442444,0.9382914900779724,0.9507878422737122,0.9589374661445618,0.9647772312164307,0.9698783159255981,0.7154347896575928,0.8322377800941467,0.8845950365066528,0.9227619171142578,0.9360376000404358,0.9493772983551025,0.9592729210853577,0.9640437364578247,0.968812108039856,0.7242529392242432,0.8071613907814026,0.8817774653434753,0.9132696986198425,0.9338386058807373,0.9500160217285156,0.9573832154273987,0.9646480679512024,0.968235433101654,0.5405497550964355,0.7701888680458069,0.866605818271637,0.9114856123924255,0.9321451187133789,0.9455267786979675,0.9552174806594849,0.9618216156959534,0.9673455953598022,0.6934882402420044,0.7301363348960876,0.8423483371734619,0.8976096510887146,0.9273792505264282,0.940797746181488,0.9515769481658936,0.9594715237617493,0.9652224183082581],\"z\":[0.4823382794857025,0.4844455122947693,0.4847230017185211,0.484905868768692,0.48573827743530273,0.019609123468399048,0.09705403447151184,0.49093228578567505,0.48408085107803345,0.4873635768890381,0.48577040433883667,0.48492100834846497,0.4860690236091614,0.48592835664749146,0.9648022651672363,0.4867977499961853,0.48474177718162537,0.4843641221523285,0.48355183005332947,0.4843074381351471,0.4858749806880951,0.48663631081581116,0.48580554127693176,0.04184633493423462,0.4846860468387604,0.4843522608280182,0.4833395183086395,0.4874994158744812,0.4860781133174896,0.4881121814250946,0.48653748631477356,0.4866654574871063,0.4848724603652954,0.4828164577484131,0.4848404824733734,0.4860290288925171,0.48812413215637207,0.48711270093917847,0.4851730763912201,0.4874318838119507,0.4846602976322174,0.48281657695770264,0.4856662452220917,0.4815782606601715,0.48747631907463074,0.4858896732330322,0.49160289764404297,0.48492854833602905,0.488809198141098,0.4891832768917084,0.7177186608314514,0.48973894119262695,0.4898008704185486,0.4959662854671478,0.48938924074172974,0.4886915683746338,0.4911973178386688,0.4913090169429779,0.49030065536499023,0.967856228351593,0.48881348967552185,0.4922259449958801,0.4890235662460327,0.4894958436489105,0.491230309009552,0.49138888716697693,0.48573747277259827,0.48968830704689026,0.030190393328666687,0.4937860071659088,0.499845415353775,0.4923344850540161,0.49199408292770386,0.4903426468372345,0.48688897490501404,0.4908831715583801,0.4895766079425812,0.9824130535125732,0.4965420961380005,0.4959440529346466,0.4982406198978424,0.4930994510650635,0.4920320510864258,0.4918326437473297,0.491276353597641,0.48919665813446045],\"type\":\"scatter3d\"},{\"hovertemplate\":\"color=blue<br>x=%{x}<br>y=%{y}<br>z=%{z}<extra></extra>\",\"legendgroup\":\"blue\",\"marker\":{\"color\":\"#00cc96\",\"symbol\":\"circle\"},\"mode\":\"markers\",\"name\":\"blue\",\"scene\":\"scene\",\"showlegend\":true,\"x\":[0.5251473188400269,0.5247858762741089,0.47459909319877625,0.5251252055168152,0.5251303911209106],\"y\":[0.5905584692955017,0.589336097240448,0.40942877531051636,0.5905734300613403,0.5905711650848389],\"z\":[0.9980638027191162,0.991241455078125,0.0014688821975141764,0.9980601072311401,0.9980577230453491],\"type\":\"scatter3d\"}],                        {\"template\":{\"data\":{\"histogram2dcontour\":[{\"type\":\"histogram2dcontour\",\"colorbar\":{\"outlinewidth\":0,\"ticks\":\"\"},\"colorscale\":[[0.0,\"#0d0887\"],[0.1111111111111111,\"#46039f\"],[0.2222222222222222,\"#7201a8\"],[0.3333333333333333,\"#9c179e\"],[0.4444444444444444,\"#bd3786\"],[0.5555555555555556,\"#d8576b\"],[0.6666666666666666,\"#ed7953\"],[0.7777777777777778,\"#fb9f3a\"],[0.8888888888888888,\"#fdca26\"],[1.0,\"#f0f921\"]]}],\"choropleth\":[{\"type\":\"choropleth\",\"colorbar\":{\"outlinewidth\":0,\"ticks\":\"\"}}],\"histogram2d\":[{\"type\":\"histogram2d\",\"colorbar\":{\"outlinewidth\":0,\"ticks\":\"\"},\"colorscale\":[[0.0,\"#0d0887\"],[0.1111111111111111,\"#46039f\"],[0.2222222222222222,\"#7201a8\"],[0.3333333333333333,\"#9c179e\"],[0.4444444444444444,\"#bd3786\"],[0.5555555555555556,\"#d8576b\"],[0.6666666666666666,\"#ed7953\"],[0.7777777777777778,\"#fb9f3a\"],[0.8888888888888888,\"#fdca26\"],[1.0,\"#f0f921\"]]}],\"heatmap\":[{\"type\":\"heatmap\",\"colorbar\":{\"outlinewidth\":0,\"ticks\":\"\"},\"colorscale\":[[0.0,\"#0d0887\"],[0.1111111111111111,\"#46039f\"],[0.2222222222222222,\"#7201a8\"],[0.3333333333333333,\"#9c179e\"],[0.4444444444444444,\"#bd3786\"],[0.5555555555555556,\"#d8576b\"],[0.6666666666666666,\"#ed7953\"],[0.7777777777777778,\"#fb9f3a\"],[0.8888888888888888,\"#fdca26\"],[1.0,\"#f0f921\"]]}],\"heatmapgl\":[{\"type\":\"heatmapgl\",\"colorbar\":{\"outlinewidth\":0,\"ticks\":\"\"},\"colorscale\":[[0.0,\"#0d0887\"],[0.1111111111111111,\"#46039f\"],[0.2222222222222222,\"#7201a8\"],[0.3333333333333333,\"#9c179e\"],[0.4444444444444444,\"#bd3786\"],[0.5555555555555556,\"#d8576b\"],[0.6666666666666666,\"#ed7953\"],[0.7777777777777778,\"#fb9f3a\"],[0.8888888888888888,\"#fdca26\"],[1.0,\"#f0f921\"]]}],\"contourcarpet\":[{\"type\":\"contourcarpet\",\"colorbar\":{\"outlinewidth\":0,\"ticks\":\"\"}}],\"contour\":[{\"type\":\"contour\",\"colorbar\":{\"outlinewidth\":0,\"ticks\":\"\"},\"colorscale\":[[0.0,\"#0d0887\"],[0.1111111111111111,\"#46039f\"],[0.2222222222222222,\"#7201a8\"],[0.3333333333333333,\"#9c179e\"],[0.4444444444444444,\"#bd3786\"],[0.5555555555555556,\"#d8576b\"],[0.6666666666666666,\"#ed7953\"],[0.7777777777777778,\"#fb9f3a\"],[0.8888888888888888,\"#fdca26\"],[1.0,\"#f0f921\"]]}],\"surface\":[{\"type\":\"surface\",\"colorbar\":{\"outlinewidth\":0,\"ticks\":\"\"},\"colorscale\":[[0.0,\"#0d0887\"],[0.1111111111111111,\"#46039f\"],[0.2222222222222222,\"#7201a8\"],[0.3333333333333333,\"#9c179e\"],[0.4444444444444444,\"#bd3786\"],[0.5555555555555556,\"#d8576b\"],[0.6666666666666666,\"#ed7953\"],[0.7777777777777778,\"#fb9f3a\"],[0.8888888888888888,\"#fdca26\"],[1.0,\"#f0f921\"]]}],\"mesh3d\":[{\"type\":\"mesh3d\",\"colorbar\":{\"outlinewidth\":0,\"ticks\":\"\"}}],\"scatter\":[{\"fillpattern\":{\"fillmode\":\"overlay\",\"size\":10,\"solidity\":0.2},\"type\":\"scatter\"}],\"parcoords\":[{\"type\":\"parcoords\",\"line\":{\"colorbar\":{\"outlinewidth\":0,\"ticks\":\"\"}}}],\"scatterpolargl\":[{\"type\":\"scatterpolargl\",\"marker\":{\"colorbar\":{\"outlinewidth\":0,\"ticks\":\"\"}}}],\"bar\":[{\"error_x\":{\"color\":\"#2a3f5f\"},\"error_y\":{\"color\":\"#2a3f5f\"},\"marker\":{\"line\":{\"color\":\"#E5ECF6\",\"width\":0.5},\"pattern\":{\"fillmode\":\"overlay\",\"size\":10,\"solidity\":0.2}},\"type\":\"bar\"}],\"scattergeo\":[{\"type\":\"scattergeo\",\"marker\":{\"colorbar\":{\"outlinewidth\":0,\"ticks\":\"\"}}}],\"scatterpolar\":[{\"type\":\"scatterpolar\",\"marker\":{\"colorbar\":{\"outlinewidth\":0,\"ticks\":\"\"}}}],\"histogram\":[{\"marker\":{\"pattern\":{\"fillmode\":\"overlay\",\"size\":10,\"solidity\":0.2}},\"type\":\"histogram\"}],\"scattergl\":[{\"type\":\"scattergl\",\"marker\":{\"colorbar\":{\"outlinewidth\":0,\"ticks\":\"\"}}}],\"scatter3d\":[{\"type\":\"scatter3d\",\"line\":{\"colorbar\":{\"outlinewidth\":0,\"ticks\":\"\"}},\"marker\":{\"colorbar\":{\"outlinewidth\":0,\"ticks\":\"\"}}}],\"scattermapbox\":[{\"type\":\"scattermapbox\",\"marker\":{\"colorbar\":{\"outlinewidth\":0,\"ticks\":\"\"}}}],\"scatterternary\":[{\"type\":\"scatterternary\",\"marker\":{\"colorbar\":{\"outlinewidth\":0,\"ticks\":\"\"}}}],\"scattercarpet\":[{\"type\":\"scattercarpet\",\"marker\":{\"colorbar\":{\"outlinewidth\":0,\"ticks\":\"\"}}}],\"carpet\":[{\"aaxis\":{\"endlinecolor\":\"#2a3f5f\",\"gridcolor\":\"white\",\"linecolor\":\"white\",\"minorgridcolor\":\"white\",\"startlinecolor\":\"#2a3f5f\"},\"baxis\":{\"endlinecolor\":\"#2a3f5f\",\"gridcolor\":\"white\",\"linecolor\":\"white\",\"minorgridcolor\":\"white\",\"startlinecolor\":\"#2a3f5f\"},\"type\":\"carpet\"}],\"table\":[{\"cells\":{\"fill\":{\"color\":\"#EBF0F8\"},\"line\":{\"color\":\"white\"}},\"header\":{\"fill\":{\"color\":\"#C8D4E3\"},\"line\":{\"color\":\"white\"}},\"type\":\"table\"}],\"barpolar\":[{\"marker\":{\"line\":{\"color\":\"#E5ECF6\",\"width\":0.5},\"pattern\":{\"fillmode\":\"overlay\",\"size\":10,\"solidity\":0.2}},\"type\":\"barpolar\"}],\"pie\":[{\"automargin\":true,\"type\":\"pie\"}]},\"layout\":{\"autotypenumbers\":\"strict\",\"colorway\":[\"#636efa\",\"#EF553B\",\"#00cc96\",\"#ab63fa\",\"#FFA15A\",\"#19d3f3\",\"#FF6692\",\"#B6E880\",\"#FF97FF\",\"#FECB52\"],\"font\":{\"color\":\"#2a3f5f\"},\"hovermode\":\"closest\",\"hoverlabel\":{\"align\":\"left\"},\"paper_bgcolor\":\"white\",\"plot_bgcolor\":\"#E5ECF6\",\"polar\":{\"bgcolor\":\"#E5ECF6\",\"angularaxis\":{\"gridcolor\":\"white\",\"linecolor\":\"white\",\"ticks\":\"\"},\"radialaxis\":{\"gridcolor\":\"white\",\"linecolor\":\"white\",\"ticks\":\"\"}},\"ternary\":{\"bgcolor\":\"#E5ECF6\",\"aaxis\":{\"gridcolor\":\"white\",\"linecolor\":\"white\",\"ticks\":\"\"},\"baxis\":{\"gridcolor\":\"white\",\"linecolor\":\"white\",\"ticks\":\"\"},\"caxis\":{\"gridcolor\":\"white\",\"linecolor\":\"white\",\"ticks\":\"\"}},\"coloraxis\":{\"colorbar\":{\"outlinewidth\":0,\"ticks\":\"\"}},\"colorscale\":{\"sequential\":[[0.0,\"#0d0887\"],[0.1111111111111111,\"#46039f\"],[0.2222222222222222,\"#7201a8\"],[0.3333333333333333,\"#9c179e\"],[0.4444444444444444,\"#bd3786\"],[0.5555555555555556,\"#d8576b\"],[0.6666666666666666,\"#ed7953\"],[0.7777777777777778,\"#fb9f3a\"],[0.8888888888888888,\"#fdca26\"],[1.0,\"#f0f921\"]],\"sequentialminus\":[[0.0,\"#0d0887\"],[0.1111111111111111,\"#46039f\"],[0.2222222222222222,\"#7201a8\"],[0.3333333333333333,\"#9c179e\"],[0.4444444444444444,\"#bd3786\"],[0.5555555555555556,\"#d8576b\"],[0.6666666666666666,\"#ed7953\"],[0.7777777777777778,\"#fb9f3a\"],[0.8888888888888888,\"#fdca26\"],[1.0,\"#f0f921\"]],\"diverging\":[[0,\"#8e0152\"],[0.1,\"#c51b7d\"],[0.2,\"#de77ae\"],[0.3,\"#f1b6da\"],[0.4,\"#fde0ef\"],[0.5,\"#f7f7f7\"],[0.6,\"#e6f5d0\"],[0.7,\"#b8e186\"],[0.8,\"#7fbc41\"],[0.9,\"#4d9221\"],[1,\"#276419\"]]},\"xaxis\":{\"gridcolor\":\"white\",\"linecolor\":\"white\",\"ticks\":\"\",\"title\":{\"standoff\":15},\"zerolinecolor\":\"white\",\"automargin\":true,\"zerolinewidth\":2},\"yaxis\":{\"gridcolor\":\"white\",\"linecolor\":\"white\",\"ticks\":\"\",\"title\":{\"standoff\":15},\"zerolinecolor\":\"white\",\"automargin\":true,\"zerolinewidth\":2},\"scene\":{\"xaxis\":{\"backgroundcolor\":\"#E5ECF6\",\"gridcolor\":\"white\",\"linecolor\":\"white\",\"showbackground\":true,\"ticks\":\"\",\"zerolinecolor\":\"white\",\"gridwidth\":2},\"yaxis\":{\"backgroundcolor\":\"#E5ECF6\",\"gridcolor\":\"white\",\"linecolor\":\"white\",\"showbackground\":true,\"ticks\":\"\",\"zerolinecolor\":\"white\",\"gridwidth\":2},\"zaxis\":{\"backgroundcolor\":\"#E5ECF6\",\"gridcolor\":\"white\",\"linecolor\":\"white\",\"showbackground\":true,\"ticks\":\"\",\"zerolinecolor\":\"white\",\"gridwidth\":2}},\"shapedefaults\":{\"line\":{\"color\":\"#2a3f5f\"}},\"annotationdefaults\":{\"arrowcolor\":\"#2a3f5f\",\"arrowhead\":0,\"arrowwidth\":1},\"geo\":{\"bgcolor\":\"white\",\"landcolor\":\"#E5ECF6\",\"subunitcolor\":\"white\",\"showland\":true,\"showlakes\":true,\"lakecolor\":\"white\"},\"title\":{\"x\":0.05},\"mapbox\":{\"style\":\"light\"}}},\"scene\":{\"domain\":{\"x\":[0.0,1.0],\"y\":[0.0,1.0]},\"xaxis\":{\"title\":{\"text\":\"x\"}},\"yaxis\":{\"title\":{\"text\":\"y\"}},\"zaxis\":{\"title\":{\"text\":\"z\"}}},\"legend\":{\"title\":{\"text\":\"color\"},\"tracegroupgap\":0},\"margin\":{\"t\":60}},                        {\"responsive\": true}                    ).then(function(){\n",
       "                            \n",
       "var gd = document.getElementById('8e47cb70-7f4e-442d-b1f6-07c0e378c10e');\n",
       "var x = new MutationObserver(function (mutations, observer) {{\n",
       "        var display = window.getComputedStyle(gd).display;\n",
       "        if (!display || display === 'none') {{\n",
       "            console.log([gd, 'removed!']);\n",
       "            Plotly.purge(gd);\n",
       "            observer.disconnect();\n",
       "        }}\n",
       "}});\n",
       "\n",
       "// Listen for the removal of the full notebook cells\n",
       "var notebookContainer = gd.closest('#notebook-container');\n",
       "if (notebookContainer) {{\n",
       "    x.observe(notebookContainer, {childList: true});\n",
       "}}\n",
       "\n",
       "// Listen for the clearing of the current output cell\n",
       "var outputEl = gd.closest('.output');\n",
       "if (outputEl) {{\n",
       "    x.observe(outputEl, {childList: true});\n",
       "}}\n",
       "\n",
       "                        })                };                });            </script>        </div>"
      ]
     },
     "metadata": {},
     "output_type": "display_data"
    }
   ],
   "source": [
    "show_latent_space(ae)"
   ]
  },
  {
   "cell_type": "code",
   "execution_count": null,
   "id": "b128ba0a-3495-4939-b413-832125378a07",
   "metadata": {},
   "outputs": [],
   "source": []
  }
 ],
 "metadata": {
  "kernelspec": {
   "display_name": "Python 3 (ipykernel)",
   "language": "python",
   "name": "python3"
  },
  "language_info": {
   "codemirror_mode": {
    "name": "ipython",
    "version": 3
   },
   "file_extension": ".py",
   "mimetype": "text/x-python",
   "name": "python",
   "nbconvert_exporter": "python",
   "pygments_lexer": "ipython3",
   "version": "3.10.4"
  }
 },
 "nbformat": 4,
 "nbformat_minor": 5
}
