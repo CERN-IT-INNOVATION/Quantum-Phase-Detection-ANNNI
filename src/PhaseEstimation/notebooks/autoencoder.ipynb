{
 "cells": [
  {
   "cell_type": "markdown",
   "id": "8fc39414-e3e1-4412-bdeb-eb1a683b8d98",
   "metadata": {},
   "source": [
    "# Demonstration: Latent space representation"
   ]
  },
  {
   "cell_type": "code",
   "execution_count": 1,
   "id": "abbec546-3ca2-4b82-88ff-aa8a711e85ea",
   "metadata": {},
   "outputs": [],
   "source": [
    "import pennylane as qml\n",
    "from pennylane import numpy as np\n",
    "import jax\n",
    "import jax.numpy as jnp\n",
    "from jax import jit\n",
    "from matplotlib import pyplot as plt\n",
    "\n",
    "import copy\n",
    "import tqdm  # Pretty progress bars\n",
    "import joblib  # Writing and loading\n",
    "from jax.example_libraries import optimizers"
   ]
  },
  {
   "cell_type": "code",
   "execution_count": 2,
   "id": "5ede249c-78fc-4a8e-9302-b9343c1876fe",
   "metadata": {},
   "outputs": [],
   "source": [
    "import sys\n",
    "sys.path.insert(0, '../')\n",
    "\n",
    "import vqe as vqe\n",
    "import losses as losses\n",
    "import autoencoder as aut"
   ]
  },
  {
   "cell_type": "code",
   "execution_count": null,
   "id": "7579335a-07e6-4907-9672-4197b94a99d7",
   "metadata": {},
   "outputs": [],
   "source": [
    "import pandas as pd\n",
    "import plotly.express as px"
   ]
  },
  {
   "cell_type": "code",
   "execution_count": 3,
   "id": "e5b55317-2141-41f9-ac3c-6eb2a71fde00",
   "metadata": {},
   "outputs": [],
   "source": [
    "ae = aut.autoencoder(vqe.load_vqe('../data/vqe_annni.pkl'), aut.autoencoder_circuit)"
   ]
  },
  {
   "cell_type": "code",
   "execution_count": 4,
   "id": "6b51cb15-eb00-42e8-adb3-91edb4e7c10b",
   "metadata": {},
   "outputs": [
    {
     "name": "stderr",
     "output_type": "stream",
     "text": [
      "Cost: 0.255840003490448 | Mean F. 0.7441598176956177: 100%|█| 1000/1000 [07:27<0\n"
     ]
    },
    {
     "data": {
      "image/png": "[encoded data removed]",
      "text/plain": [
       "<Figure size 432x288 with 1 Axes>"
      ]
     },
     "metadata": {
      "needs_background": "light"
     },
     "output_type": "display_data"
    }
   ],
   "source": [
    "ae.train(.1, 1000, np.arange(100), circuit=False, plot=True)"
   ]
  },
  {
   "cell_type": "code",
   "execution_count": 63,
   "id": "abed64ae-d56f-4adc-9b4c-4551d4a92bdf",
   "metadata": {},
   "outputs": [],
   "source": [
    "def show_latent_space(aeclass):\n",
    "    @qml.qnode(aeclass.device, interface=\"jax\")\n",
    "    def q_latent_probs(vqe_p, auto_p):\n",
    "        aeclass.circuit(vqe_p, auto_p, decode = False)\n",
    "\n",
    "        # return <psi|H|psi>\n",
    "        return [qml.probs(wires = int(tr)) for tr in aeclass.wires_trash]\n",
    "\n",
    "    jv_q_latent_probs = jax.jit(jax.vmap(lambda x, p : q_latent_probs(x, p), in_axes=(0,None)))\n",
    "\n",
    "    latent_vectors = jv_q_latent_probs(aeclass.vqe.vqe_params, aeclass.params)\n",
    "    \n",
    "    x = latent_vectors[:,0,0]\n",
    "    y = latent_vectors[:,1,0]\n",
    "    z = latent_vectors[:,2,0]\n",
    "    \n",
    "    c = []\n",
    "    for label in ae.vqe.Hs.labels:\n",
    "        if (label == [0,1]).all():\n",
    "            c.append('green')\n",
    "        elif (label == [0,0]).all():\n",
    "            c.append('red')\n",
    "        elif (label == [1,0]).all():\n",
    "            c.append('blue')\n",
    "        else: c.append('black')\n",
    "    \n",
    "    lv_df = pd.DataFrame(np.column_stack((x,y,z)),columns=['x','y','z'])\n",
    "    fig = px.scatter_3d(lv_df, x='x', y='y', z='z', color=c)\n",
    "    fig.show()\n",
    "    "
   ]
  },
  {
   "cell_type": "code",
   "execution_count": 64,
   "id": "d3c78aa8-c55d-4ef3-8d4d-1ca452c6b0ab",
   "metadata": {},
   "outputs": [
    {
     "data": {
      "application/vnd.plotly.v1+json": {
       "config": {
        "plotlyServerURL": "https://plot.ly"
       },
       "data": [
        {
         "hovertemplate": "color=green<br>x=%{x}<br>y=%{y}<br>z=%{z}<extra></extra>",
         "legendgroup": "green",
         "marker": {
          "color": "#636efa",
          "symbol": "circle"
         },
         "mode": "markers",
         "name": "green",
         "scene": "scene",
         "showlegend": true,
         "type": "scatter3d",
         "x": [
          0.5710310935974121,
          0.5858063101768494,
          0.6348280310630798,
          0.6902040243148804,
          0.8117051124572754,
          0.5699588060379028,
          0.5701090693473816,
          0.6185513734817505,
          0.5702112913131714
         ],
         "y": [
          0.23938076198101044,
          0.2426418662071228,
          0.8832617402076721,
          0.3458545506000519,
          0.8777716159820557,
          0.23869401216506958,
          0.23954249918460846,
          0.7593199014663696,
          0.23882079124450684
         ],
         "z": [
          0.4937380850315094,
          0.37300094962120056,
          0.26983335614204407,
          0.19122768938541412,
          0.13876736164093018,
          0.49983370304107666,
          0.4966221749782562,
          0.49953481554985046,
          0.4971691370010376
         ]
        },
        {
         "hovertemplate": "color=black<br>x=%{x}<br>y=%{y}<br>z=%{z}<extra></extra>",
         "legendgroup": "black",
         "marker": {
          "color": "#EF553B",
          "symbol": "circle"
         },
         "mode": "markers",
         "name": "black",
         "scene": "scene",
         "showlegend": true,
         "type": "scatter3d",
         "x": [
          0.8771441578865051,
          0.920655369758606,
          0.9407790303230286,
          0.9563196301460266,
          0.9647979140281677,
          0.6188257932662964,
          0.6373743414878845,
          0.7565887570381165,
          0.8559200167655945,
          0.8969029784202576,
          0.9309379458427429,
          0.9489955306053162,
          0.9587782025337219,
          0.9673739671707153,
          0.6228595972061157,
          0.6825422644615173,
          0.8096367120742798,
          0.8799067139625549,
          0.9168028235435486,
          0.9395629167556763,
          0.9533677697181702,
          0.9632138609886169,
          0.9695340394973755,
          0.6204988956451416,
          0.7538741827011108,
          0.842934250831604,
          0.8981624245643616,
          0.9265486598014832,
          0.945239782333374,
          0.9578695893287659,
          0.9657772183418274,
          0.9726854562759399,
          0.6669477820396423,
          0.8003524541854858,
          0.8636340498924255,
          0.9065093398094177,
          0.9324873685836792,
          0.9517756700515747,
          0.9586042761802673,
          0.966702401638031,
          0.9719992280006409,
          0.6525285243988037,
          0.8059964179992676,
          0.8700045347213745,
          0.9114068150520325,
          0.9329304695129395,
          0.951525092124939,
          0.9584556818008423,
          0.9663854837417603,
          0.9714967012405396,
          0.4654025733470917,
          0.7573657035827637,
          0.8591557145118713,
          0.9049080610275269,
          0.931546688079834,
          0.947188675403595,
          0.9577681422233582,
          0.9652923941612244,
          0.9710004329681396,
          0.453616201877594,
          0.6168139576911926,
          0.8330621123313904,
          0.8934063911437988,
          0.9247235655784607,
          0.9442348480224609,
          0.9533176422119141,
          0.9634791016578674,
          0.9728142619132996,
          0.4461490213871002,
          0.5173705816268921,
          0.7556421160697937,
          0.8756071329116821,
          0.9152953028678894,
          0.9411446452140808,
          0.9518739581108093,
          0.9574496746063232,
          0.967110812664032,
          0.40031683444976807,
          0.447696328163147,
          0.669313371181488,
          0.836601972579956,
          0.9074885845184326,
          0.9327253103256226,
          0.9472042918205261,
          0.9575217962265015,
          0.9608797430992126
         ],
         "y": [
          0.8763445615768433,
          0.8751093745231628,
          0.8746826648712158,
          0.8754768967628479,
          0.8744345903396606,
          0.7517883777618408,
          0.280046671628952,
          0.8825433254241943,
          0.8710735440254211,
          0.8776150345802307,
          0.8766697645187378,
          0.8751944303512573,
          0.8741912841796875,
          0.8706008195877075,
          0.7395426034927368,
          0.8818273544311523,
          0.8748507499694824,
          0.8757977485656738,
          0.8748847246170044,
          0.8751465678215027,
          0.8751028776168823,
          0.8742309212684631,
          0.874002993106842,
          0.7324971556663513,
          0.8789922595024109,
          0.8769906163215637,
          0.8758326768875122,
          0.8751547932624817,
          0.8743540048599243,
          0.8742255568504333,
          0.8742755055427551,
          0.8743542432785034,
          0.48062989115715027,
          0.8769655227661133,
          0.8764849305152893,
          0.8766127824783325,
          0.8751249313354492,
          0.8747661709785461,
          0.874404788017273,
          0.8741943836212158,
          0.8738723397254944,
          0.7422622442245483,
          0.8777459263801575,
          0.8770361542701721,
          0.8757556676864624,
          0.8751941323280334,
          0.8749212622642517,
          0.8749899864196777,
          0.8727584481239319,
          0.8739044666290283,
          0.2793600261211395,
          0.8793109655380249,
          0.8776314854621887,
          0.8762155175209045,
          0.8750916123390198,
          0.8749179244041443,
          0.8743957281112671,
          0.8721429109573364,
          0.8731632828712463,
          0.2592456340789795,
          0.8792787790298462,
          0.8777493834495544,
          0.8763434886932373,
          0.8755682110786438,
          0.8749117851257324,
          0.8749743103981018,
          0.8744415044784546,
          0.8740661144256592,
          0.2513015866279602,
          0.32144415378570557,
          0.87550288438797,
          0.8757427334785461,
          0.8752475380897522,
          0.8751651644706726,
          0.8746085166931152,
          0.8744857907295227,
          0.8740682005882263,
          0.7472624778747559,
          0.70809406042099,
          0.8775670528411865,
          0.8767005801200867,
          0.876278281211853,
          0.8753148913383484,
          0.87493497133255,
          0.8743029236793518,
          0.8743370175361633
         ],
         "z": [
          0.12117595225572586,
          0.10693199187517166,
          0.10174102336168289,
          0.09570024907588959,
          0.09285499155521393,
          0.3662794530391693,
          0.24922986328601837,
          0.1701577603816986,
          0.13685211539268494,
          0.11908810585737228,
          0.10684784501791,
          0.0996960774064064,
          0.09468290954828262,
          0.0930735394358635,
          0.3481024503707886,
          0.22041335701942444,
          0.15850162506103516,
          0.12945888936519623,
          0.11423979699611664,
          0.10488177090883255,
          0.09866609424352646,
          0.09491702914237976,
          0.09223733842372894,
          0.3255452811717987,
          0.19943048059940338,
          0.1515786498785019,
          0.1254044622182846,
          0.11179398000240326,
          0.10337866842746735,
          0.09753787517547607,
          0.09403879195451736,
          0.09086013585329056,
          0.3047230541706085,
          0.18771003186702728,
          0.14428427815437317,
          0.12163162976503372,
          0.10894110798835754,
          0.10038653016090393,
          0.0966498851776123,
          0.09316316992044449,
          0.09068873524665833,
          0.3440065085887909,
          0.1806757003068924,
          0.13862793147563934,
          0.1171874925494194,
          0.10697412490844727,
          0.1047012209892273,
          0.09524866938591003,
          0.09300433099269867,
          0.09017255902290344,
          0.34152600169181824,
          0.18779253959655762,
          0.13771066069602966,
          0.1173609048128128,
          0.10351947695016861,
          0.09782949835062027,
          0.0942884013056755,
          0.09130620211362839,
          0.08985957503318787,
          0.3661373555660248,
          0.2308083176612854,
          0.13416562974452972,
          0.11280963569879532,
          0.10255109518766403,
          0.0960717424750328,
          0.0933627113699913,
          0.0904267281293869,
          0.08729241788387299,
          0.379905641078949,
          0.2634254992008209,
          0.15456220507621765,
          0.11228840053081512,
          0.10116118937730789,
          0.09262233227491379,
          0.09105818718671799,
          0.09178853780031204,
          0.08753343671560287,
          0.3948803246021271,
          0.3001648783683777,
          0.18540410697460175,
          0.1186082512140274,
          0.10202254354953766,
          0.09381426870822906,
          0.09051258862018585,
          0.08782652020454407,
          0.08780711144208908
         ]
        },
        {
         "hovertemplate": "color=blue<br>x=%{x}<br>y=%{y}<br>z=%{z}<extra></extra>",
         "legendgroup": "blue",
         "marker": {
          "color": "#00cc96",
          "symbol": "circle"
         },
         "mode": "markers",
         "name": "blue",
         "scene": "scene",
         "showlegend": true,
         "type": "scatter3d",
         "x": [
          0.38541096448898315,
          0.43456771969795227,
          0.42989641427993774,
          0.41501691937446594,
          0.4342772960662842
         ],
         "y": [
          0.7613375782966614,
          0.23919813334941864,
          0.242252379655838,
          0.1628814935684204,
          0.33263856172561646
         ],
         "z": [
          0.49420270323753357,
          0.5017261505126953,
          0.49662256240844727,
          0.4971062242984772,
          0.5043400526046753
         ]
        }
       ],
       "layout": {
        "autosize": true,
        "legend": {
         "title": {
          "text": "color"
         },
         "tracegroupgap": 0
        },
        "margin": {
         "t": 60
        },
        "scene": {
         "aspectmode": "auto",
         "aspectratio": {
          "x": 1.04722925836934,
          "y": 1.284302071064125,
          "z": 0.7435172514836372
         },
         "camera": {
          "center": {
           "x": 0,
           "y": 0,
           "z": 0
          },
          "eye": {
           "x": -1.3145329089997602,
           "y": -1.0242746554693272,
           "z": 1.1428348398106738
          },
          "projection": {
           "type": "perspective"
          },
          "up": {
           "x": 0,
           "y": 0,
           "z": 1
          }
         },
         "domain": {
          "x": [
           0,
           1
          ],
          "y": [
           0,
           1
          ]
         },
         "xaxis": {
          "title": {
           "text": "x"
          },
          "type": "linear"
         },
         "yaxis": {
          "title": {
           "text": "y"
          },
          "type": "linear"
         },
         "zaxis": {
          "title": {
           "text": "z"
          },
          "type": "linear"
         }
        },
        "template": {
         "data": {
          "bar": [
           {
            "error_x": {
             "color": "#2a3f5f"
            },
            "error_y": {
             "color": "#2a3f5f"
            },
            "marker": {
             "line": {
              "color": "#E5ECF6",
              "width": 0.5
             },
             "pattern": {
              "fillmode": "overlay",
              "size": 10,
              "solidity": 0.2
             }
            },
            "type": "bar"
           }
          ],
          "barpolar": [
           {
            "marker": {
             "line": {
              "color": "#E5ECF6",
              "width": 0.5
             },
             "pattern": {
              "fillmode": "overlay",
              "size": 10,
              "solidity": 0.2
             }
            },
            "type": "barpolar"
           }
          ],
          "carpet": [
           {
            "aaxis": {
             "endlinecolor": "#2a3f5f",
             "gridcolor": "white",
             "linecolor": "white",
             "minorgridcolor": "white",
             "startlinecolor": "#2a3f5f"
            },
            "baxis": {
             "endlinecolor": "#2a3f5f",
             "gridcolor": "white",
             "linecolor": "white",
             "minorgridcolor": "white",
             "startlinecolor": "#2a3f5f"
            },
            "type": "carpet"
           }
          ],
          "choropleth": [
           {
            "colorbar": {
             "outlinewidth": 0,
             "ticks": ""
            },
            "type": "choropleth"
           }
          ],
          "contour": [
           {
            "colorbar": {
             "outlinewidth": 0,
             "ticks": ""
            },
            "colorscale": [
             [
              0,
              "#0d0887"
             ],
             [
              0.1111111111111111,
              "#46039f"
             ],
             [
              0.2222222222222222,
              "#7201a8"
             ],
             [
              0.3333333333333333,
              "#9c179e"
             ],
             [
              0.4444444444444444,
              "#bd3786"
             ],
             [
              0.5555555555555556,
              "#d8576b"
             ],
             [
              0.6666666666666666,
              "#ed7953"
             ],
             [
              0.7777777777777778,
              "#fb9f3a"
             ],
             [
              0.8888888888888888,
              "#fdca26"
             ],
             [
              1,
              "#f0f921"
             ]
            ],
            "type": "contour"
           }
          ],
          "contourcarpet": [
           {
            "colorbar": {
             "outlinewidth": 0,
             "ticks": ""
            },
            "type": "contourcarpet"
           }
          ],
          "heatmap": [
           {
            "colorbar": {
             "outlinewidth": 0,
             "ticks": ""
            },
            "colorscale": [
             [
              0,
              "#0d0887"
             ],
             [
              0.1111111111111111,
              "#46039f"
             ],
             [
              0.2222222222222222,
              "#7201a8"
             ],
             [
              0.3333333333333333,
              "#9c179e"
             ],
             [
              0.4444444444444444,
              "#bd3786"
             ],
             [
              0.5555555555555556,
              "#d8576b"
             ],
             [
              0.6666666666666666,
              "#ed7953"
             ],
             [
              0.7777777777777778,
              "#fb9f3a"
             ],
             [
              0.8888888888888888,
              "#fdca26"
             ],
             [
              1,
              "#f0f921"
             ]
            ],
            "type": "heatmap"
           }
          ],
          "heatmapgl": [
           {
            "colorbar": {
             "outlinewidth": 0,
             "ticks": ""
            },
            "colorscale": [
             [
              0,
              "#0d0887"
             ],
             [
              0.1111111111111111,
              "#46039f"
             ],
             [
              0.2222222222222222,
              "#7201a8"
             ],
             [
              0.3333333333333333,
              "#9c179e"
             ],
             [
              0.4444444444444444,
              "#bd3786"
             ],
             [
              0.5555555555555556,
              "#d8576b"
             ],
             [
              0.6666666666666666,
              "#ed7953"
             ],
             [
              0.7777777777777778,
              "#fb9f3a"
             ],
             [
              0.8888888888888888,
              "#fdca26"
             ],
             [
              1,
              "#f0f921"
             ]
            ],
            "type": "heatmapgl"
           }
          ],
          "histogram": [
           {
            "marker": {
             "pattern": {
              "fillmode": "overlay",
              "size": 10,
              "solidity": 0.2
             }
            },
            "type": "histogram"
           }
          ],
          "histogram2d": [
           {
            "colorbar": {
             "outlinewidth": 0,
             "ticks": ""
            },
            "colorscale": [
             [
              0,
              "#0d0887"
             ],
             [
              0.1111111111111111,
              "#46039f"
             ],
             [
              0.2222222222222222,
              "#7201a8"
             ],
             [
              0.3333333333333333,
              "#9c179e"
             ],
             [
              0.4444444444444444,
              "#bd3786"
             ],
             [
              0.5555555555555556,
              "#d8576b"
             ],
             [
              0.6666666666666666,
              "#ed7953"
             ],
             [
              0.7777777777777778,
              "#fb9f3a"
             ],
             [
              0.8888888888888888,
              "#fdca26"
             ],
             [
              1,
              "#f0f921"
             ]
            ],
            "type": "histogram2d"
           }
          ],
          "histogram2dcontour": [
           {
            "colorbar": {
             "outlinewidth": 0,
             "ticks": ""
            },
            "colorscale": [
             [
              0,
              "#0d0887"
             ],
             [
              0.1111111111111111,
              "#46039f"
             ],
             [
              0.2222222222222222,
              "#7201a8"
             ],
             [
              0.3333333333333333,
              "#9c179e"
             ],
             [
              0.4444444444444444,
              "#bd3786"
             ],
             [
              0.5555555555555556,
              "#d8576b"
             ],
             [
              0.6666666666666666,
              "#ed7953"
             ],
             [
              0.7777777777777778,
              "#fb9f3a"
             ],
             [
              0.8888888888888888,
              "#fdca26"
             ],
             [
              1,
              "#f0f921"
             ]
            ],
            "type": "histogram2dcontour"
           }
          ],
          "mesh3d": [
           {
            "colorbar": {
             "outlinewidth": 0,
             "ticks": ""
            },
            "type": "mesh3d"
           }
          ],
          "parcoords": [
           {
            "line": {
             "colorbar": {
              "outlinewidth": 0,
              "ticks": ""
             }
            },
            "type": "parcoords"
           }
          ],
          "pie": [
           {
            "automargin": true,
            "type": "pie"
           }
          ],
          "scatter": [
           {
            "fillpattern": {
             "fillmode": "overlay",
             "size": 10,
             "solidity": 0.2
            },
            "type": "scatter"
           }
          ],
          "scatter3d": [
           {
            "line": {
             "colorbar": {
              "outlinewidth": 0,
              "ticks": ""
             }
            },
            "marker": {
             "colorbar": {
              "outlinewidth": 0,
              "ticks": ""
             }
            },
            "type": "scatter3d"
           }
          ],
          "scattercarpet": [
           {
            "marker": {
             "colorbar": {
              "outlinewidth": 0,
              "ticks": ""
             }
            },
            "type": "scattercarpet"
           }
          ],
          "scattergeo": [
           {
            "marker": {
             "colorbar": {
              "outlinewidth": 0,
              "ticks": ""
             }
            },
            "type": "scattergeo"
           }
          ],
          "scattergl": [
           {
            "marker": {
             "colorbar": {
              "outlinewidth": 0,
              "ticks": ""
             }
            },
            "type": "scattergl"
           }
          ],
          "scattermapbox": [
           {
            "marker": {
             "colorbar": {
              "outlinewidth": 0,
              "ticks": ""
             }
            },
            "type": "scattermapbox"
           }
          ],
          "scatterpolar": [
           {
            "marker": {
             "colorbar": {
              "outlinewidth": 0,
              "ticks": ""
             }
            },
            "type": "scatterpolar"
           }
          ],
          "scatterpolargl": [
           {
            "marker": {
             "colorbar": {
              "outlinewidth": 0,
              "ticks": ""
             }
            },
            "type": "scatterpolargl"
           }
          ],
          "scatterternary": [
           {
            "marker": {
             "colorbar": {
              "outlinewidth": 0,
              "ticks": ""
             }
            },
            "type": "scatterternary"
           }
          ],
          "surface": [
           {
            "colorbar": {
             "outlinewidth": 0,
             "ticks": ""
            },
            "colorscale": [
             [
              0,
              "#0d0887"
             ],
             [
              0.1111111111111111,
              "#46039f"
             ],
             [
              0.2222222222222222,
              "#7201a8"
             ],
             [
              0.3333333333333333,
              "#9c179e"
             ],
             [
              0.4444444444444444,
              "#bd3786"
             ],
             [
              0.5555555555555556,
              "#d8576b"
             ],
             [
              0.6666666666666666,
              "#ed7953"
             ],
             [
              0.7777777777777778,
              "#fb9f3a"
             ],
             [
              0.8888888888888888,
              "#fdca26"
             ],
             [
              1,
              "#f0f921"
             ]
            ],
            "type": "surface"
           }
          ],
          "table": [
           {
            "cells": {
             "fill": {
              "color": "#EBF0F8"
             },
             "line": {
              "color": "white"
             }
            },
            "header": {
             "fill": {
              "color": "#C8D4E3"
             },
             "line": {
              "color": "white"
             }
            },
            "type": "table"
           }
          ]
         },
         "layout": {
          "annotationdefaults": {
           "arrowcolor": "#2a3f5f",
           "arrowhead": 0,
           "arrowwidth": 1
          },
          "autotypenumbers": "strict",
          "coloraxis": {
           "colorbar": {
            "outlinewidth": 0,
            "ticks": ""
           }
          },
          "colorscale": {
           "diverging": [
            [
             0,
             "#8e0152"
            ],
            [
             0.1,
             "#c51b7d"
            ],
            [
             0.2,
             "#de77ae"
            ],
            [
             0.3,
             "#f1b6da"
            ],
            [
             0.4,
             "#fde0ef"
            ],
            [
             0.5,
             "#f7f7f7"
            ],
            [
             0.6,
             "#e6f5d0"
            ],
            [
             0.7,
             "#b8e186"
            ],
            [
             0.8,
             "#7fbc41"
            ],
            [
             0.9,
             "#4d9221"
            ],
            [
             1,
             "#276419"
            ]
           ],
           "sequential": [
            [
             0,
             "#0d0887"
            ],
            [
             0.1111111111111111,
             "#46039f"
            ],
            [
             0.2222222222222222,
             "#7201a8"
            ],
            [
             0.3333333333333333,
             "#9c179e"
            ],
            [
             0.4444444444444444,
             "#bd3786"
            ],
            [
             0.5555555555555556,
             "#d8576b"
            ],
            [
             0.6666666666666666,
             "#ed7953"
            ],
            [
             0.7777777777777778,
             "#fb9f3a"
            ],
            [
             0.8888888888888888,
             "#fdca26"
            ],
            [
             1,
             "#f0f921"
            ]
           ],
           "sequentialminus": [
            [
             0,
             "#0d0887"
            ],
            [
             0.1111111111111111,
             "#46039f"
            ],
            [
             0.2222222222222222,
             "#7201a8"
            ],
            [
             0.3333333333333333,
             "#9c179e"
            ],
            [
             0.4444444444444444,
             "#bd3786"
            ],
            [
             0.5555555555555556,
             "#d8576b"
            ],
            [
             0.6666666666666666,
             "#ed7953"
            ],
            [
             0.7777777777777778,
             "#fb9f3a"
            ],
            [
             0.8888888888888888,
             "#fdca26"
            ],
            [
             1,
             "#f0f921"
            ]
           ]
          },
          "colorway": [
           "#636efa",
           "#EF553B",
           "#00cc96",
           "#ab63fa",
           "#FFA15A",
           "#19d3f3",
           "#FF6692",
           "#B6E880",
           "#FF97FF",
           "#FECB52"
          ],
          "font": {
           "color": "#2a3f5f"
          },
          "geo": {
           "bgcolor": "white",
           "lakecolor": "white",
           "landcolor": "#E5ECF6",
           "showlakes": true,
           "showland": true,
           "subunitcolor": "white"
          },
          "hoverlabel": {
           "align": "left"
          },
          "hovermode": "closest",
          "mapbox": {
           "style": "light"
          },
          "paper_bgcolor": "white",
          "plot_bgcolor": "#E5ECF6",
          "polar": {
           "angularaxis": {
            "gridcolor": "white",
            "linecolor": "white",
            "ticks": ""
           },
           "bgcolor": "#E5ECF6",
           "radialaxis": {
            "gridcolor": "white",
            "linecolor": "white",
            "ticks": ""
           }
          },
          "scene": {
           "xaxis": {
            "backgroundcolor": "#E5ECF6",
            "gridcolor": "white",
            "gridwidth": 2,
            "linecolor": "white",
            "showbackground": true,
            "ticks": "",
            "zerolinecolor": "white"
           },
           "yaxis": {
            "backgroundcolor": "#E5ECF6",
            "gridcolor": "white",
            "gridwidth": 2,
            "linecolor": "white",
            "showbackground": true,
            "ticks": "",
            "zerolinecolor": "white"
           },
           "zaxis": {
            "backgroundcolor": "#E5ECF6",
            "gridcolor": "white",
            "gridwidth": 2,
            "linecolor": "white",
            "showbackground": true,
            "ticks": "",
            "zerolinecolor": "white"
           }
          },
          "shapedefaults": {
           "line": {
            "color": "#2a3f5f"
           }
          },
          "ternary": {
           "aaxis": {
            "gridcolor": "white",
            "linecolor": "white",
            "ticks": ""
           },
           "baxis": {
            "gridcolor": "white",
            "linecolor": "white",
            "ticks": ""
           },
           "bgcolor": "#E5ECF6",
           "caxis": {
            "gridcolor": "white",
            "linecolor": "white",
            "ticks": ""
           }
          },
          "title": {
           "x": 0.05
          },
          "xaxis": {
           "automargin": true,
           "gridcolor": "white",
           "linecolor": "white",
           "ticks": "",
           "title": {
            "standoff": 15
           },
           "zerolinecolor": "white",
           "zerolinewidth": 2
          },
          "yaxis": {
           "automargin": true,
           "gridcolor": "white",
           "linecolor": "white",
           "ticks": "",
           "title": {
            "standoff": 15
           },
           "zerolinecolor": "white",
           "zerolinewidth": 2
          }
         }
        }
       }
      },
      "image/png": "[encoded data removed]",
      "text/html": [
       "<div>                            <div id=\"18b4273b-80cc-4a6b-94f8-86b6bd17c783\" class=\"plotly-graph-div\" style=\"height:525px; width:100%;\"></div>            <script type=\"text/javascript\">                require([\"plotly\"], function(Plotly) {                    window.PLOTLYENV=window.PLOTLYENV || {};                                    if (document.getElementById(\"18b4273b-80cc-4a6b-94f8-86b6bd17c783\")) {                    Plotly.newPlot(                        \"18b4273b-80cc-4a6b-94f8-86b6bd17c783\",                        [{\"hovertemplate\":\"color=green<br>x=%{x}<br>y=%{y}<br>z=%{z}<extra></extra>\",\"legendgroup\":\"green\",\"marker\":{\"color\":\"#636efa\",\"symbol\":\"circle\"},\"mode\":\"markers\",\"name\":\"green\",\"scene\":\"scene\",\"showlegend\":true,\"x\":[0.5710310935974121,0.5858063101768494,0.6348280310630798,0.6902040243148804,0.8117051124572754,0.5699588060379028,0.5701090693473816,0.6185513734817505,0.5702112913131714],\"y\":[0.23938076198101044,0.2426418662071228,0.8832617402076721,0.3458545506000519,0.8777716159820557,0.23869401216506958,0.23954249918460846,0.7593199014663696,0.23882079124450684],\"z\":[0.4937380850315094,0.37300094962120056,0.26983335614204407,0.19122768938541412,0.13876736164093018,0.49983370304107666,0.4966221749782562,0.49953481554985046,0.4971691370010376],\"type\":\"scatter3d\"},{\"hovertemplate\":\"color=black<br>x=%{x}<br>y=%{y}<br>z=%{z}<extra></extra>\",\"legendgroup\":\"black\",\"marker\":{\"color\":\"#EF553B\",\"symbol\":\"circle\"},\"mode\":\"markers\",\"name\":\"black\",\"scene\":\"scene\",\"showlegend\":true,\"x\":[0.8771441578865051,0.920655369758606,0.9407790303230286,0.9563196301460266,0.9647979140281677,0.6188257932662964,0.6373743414878845,0.7565887570381165,0.8559200167655945,0.8969029784202576,0.9309379458427429,0.9489955306053162,0.9587782025337219,0.9673739671707153,0.6228595972061157,0.6825422644615173,0.8096367120742798,0.8799067139625549,0.9168028235435486,0.9395629167556763,0.9533677697181702,0.9632138609886169,0.9695340394973755,0.6204988956451416,0.7538741827011108,0.842934250831604,0.8981624245643616,0.9265486598014832,0.945239782333374,0.9578695893287659,0.9657772183418274,0.9726854562759399,0.6669477820396423,0.8003524541854858,0.8636340498924255,0.9065093398094177,0.9324873685836792,0.9517756700515747,0.9586042761802673,0.966702401638031,0.9719992280006409,0.6525285243988037,0.8059964179992676,0.8700045347213745,0.9114068150520325,0.9329304695129395,0.951525092124939,0.9584556818008423,0.9663854837417603,0.9714967012405396,0.4654025733470917,0.7573657035827637,0.8591557145118713,0.9049080610275269,0.931546688079834,0.947188675403595,0.9577681422233582,0.9652923941612244,0.9710004329681396,0.453616201877594,0.6168139576911926,0.8330621123313904,0.8934063911437988,0.9247235655784607,0.9442348480224609,0.9533176422119141,0.9634791016578674,0.9728142619132996,0.4461490213871002,0.5173705816268921,0.7556421160697937,0.8756071329116821,0.9152953028678894,0.9411446452140808,0.9518739581108093,0.9574496746063232,0.967110812664032,0.40031683444976807,0.447696328163147,0.669313371181488,0.836601972579956,0.9074885845184326,0.9327253103256226,0.9472042918205261,0.9575217962265015,0.9608797430992126],\"y\":[0.8763445615768433,0.8751093745231628,0.8746826648712158,0.8754768967628479,0.8744345903396606,0.7517883777618408,0.280046671628952,0.8825433254241943,0.8710735440254211,0.8776150345802307,0.8766697645187378,0.8751944303512573,0.8741912841796875,0.8706008195877075,0.7395426034927368,0.8818273544311523,0.8748507499694824,0.8757977485656738,0.8748847246170044,0.8751465678215027,0.8751028776168823,0.8742309212684631,0.874002993106842,0.7324971556663513,0.8789922595024109,0.8769906163215637,0.8758326768875122,0.8751547932624817,0.8743540048599243,0.8742255568504333,0.8742755055427551,0.8743542432785034,0.48062989115715027,0.8769655227661133,0.8764849305152893,0.8766127824783325,0.8751249313354492,0.8747661709785461,0.874404788017273,0.8741943836212158,0.8738723397254944,0.7422622442245483,0.8777459263801575,0.8770361542701721,0.8757556676864624,0.8751941323280334,0.8749212622642517,0.8749899864196777,0.8727584481239319,0.8739044666290283,0.2793600261211395,0.8793109655380249,0.8776314854621887,0.8762155175209045,0.8750916123390198,0.8749179244041443,0.8743957281112671,0.8721429109573364,0.8731632828712463,0.2592456340789795,0.8792787790298462,0.8777493834495544,0.8763434886932373,0.8755682110786438,0.8749117851257324,0.8749743103981018,0.8744415044784546,0.8740661144256592,0.2513015866279602,0.32144415378570557,0.87550288438797,0.8757427334785461,0.8752475380897522,0.8751651644706726,0.8746085166931152,0.8744857907295227,0.8740682005882263,0.7472624778747559,0.70809406042099,0.8775670528411865,0.8767005801200867,0.876278281211853,0.8753148913383484,0.87493497133255,0.8743029236793518,0.8743370175361633],\"z\":[0.12117595225572586,0.10693199187517166,0.10174102336168289,0.09570024907588959,0.09285499155521393,0.3662794530391693,0.24922986328601837,0.1701577603816986,0.13685211539268494,0.11908810585737228,0.10684784501791,0.0996960774064064,0.09468290954828262,0.0930735394358635,0.3481024503707886,0.22041335701942444,0.15850162506103516,0.12945888936519623,0.11423979699611664,0.10488177090883255,0.09866609424352646,0.09491702914237976,0.09223733842372894,0.3255452811717987,0.19943048059940338,0.1515786498785019,0.1254044622182846,0.11179398000240326,0.10337866842746735,0.09753787517547607,0.09403879195451736,0.09086013585329056,0.3047230541706085,0.18771003186702728,0.14428427815437317,0.12163162976503372,0.10894110798835754,0.10038653016090393,0.0966498851776123,0.09316316992044449,0.09068873524665833,0.3440065085887909,0.1806757003068924,0.13862793147563934,0.1171874925494194,0.10697412490844727,0.1047012209892273,0.09524866938591003,0.09300433099269867,0.09017255902290344,0.34152600169181824,0.18779253959655762,0.13771066069602966,0.1173609048128128,0.10351947695016861,0.09782949835062027,0.0942884013056755,0.09130620211362839,0.08985957503318787,0.3661373555660248,0.2308083176612854,0.13416562974452972,0.11280963569879532,0.10255109518766403,0.0960717424750328,0.0933627113699913,0.0904267281293869,0.08729241788387299,0.379905641078949,0.2634254992008209,0.15456220507621765,0.11228840053081512,0.10116118937730789,0.09262233227491379,0.09105818718671799,0.09178853780031204,0.08753343671560287,0.3948803246021271,0.3001648783683777,0.18540410697460175,0.1186082512140274,0.10202254354953766,0.09381426870822906,0.09051258862018585,0.08782652020454407,0.08780711144208908],\"type\":\"scatter3d\"},{\"hovertemplate\":\"color=blue<br>x=%{x}<br>y=%{y}<br>z=%{z}<extra></extra>\",\"legendgroup\":\"blue\",\"marker\":{\"color\":\"#00cc96\",\"symbol\":\"circle\"},\"mode\":\"markers\",\"name\":\"blue\",\"scene\":\"scene\",\"showlegend\":true,\"x\":[0.38541096448898315,0.43456771969795227,0.42989641427993774,0.41501691937446594,0.4342772960662842],\"y\":[0.7613375782966614,0.23919813334941864,0.242252379655838,0.1628814935684204,0.33263856172561646],\"z\":[0.49420270323753357,0.5017261505126953,0.49662256240844727,0.4971062242984772,0.5043400526046753],\"type\":\"scatter3d\"}],                        {\"template\":{\"data\":{\"histogram2dcontour\":[{\"type\":\"histogram2dcontour\",\"colorbar\":{\"outlinewidth\":0,\"ticks\":\"\"},\"colorscale\":[[0.0,\"#0d0887\"],[0.1111111111111111,\"#46039f\"],[0.2222222222222222,\"#7201a8\"],[0.3333333333333333,\"#9c179e\"],[0.4444444444444444,\"#bd3786\"],[0.5555555555555556,\"#d8576b\"],[0.6666666666666666,\"#ed7953\"],[0.7777777777777778,\"#fb9f3a\"],[0.8888888888888888,\"#fdca26\"],[1.0,\"#f0f921\"]]}],\"choropleth\":[{\"type\":\"choropleth\",\"colorbar\":{\"outlinewidth\":0,\"ticks\":\"\"}}],\"histogram2d\":[{\"type\":\"histogram2d\",\"colorbar\":{\"outlinewidth\":0,\"ticks\":\"\"},\"colorscale\":[[0.0,\"#0d0887\"],[0.1111111111111111,\"#46039f\"],[0.2222222222222222,\"#7201a8\"],[0.3333333333333333,\"#9c179e\"],[0.4444444444444444,\"#bd3786\"],[0.5555555555555556,\"#d8576b\"],[0.6666666666666666,\"#ed7953\"],[0.7777777777777778,\"#fb9f3a\"],[0.8888888888888888,\"#fdca26\"],[1.0,\"#f0f921\"]]}],\"heatmap\":[{\"type\":\"heatmap\",\"colorbar\":{\"outlinewidth\":0,\"ticks\":\"\"},\"colorscale\":[[0.0,\"#0d0887\"],[0.1111111111111111,\"#46039f\"],[0.2222222222222222,\"#7201a8\"],[0.3333333333333333,\"#9c179e\"],[0.4444444444444444,\"#bd3786\"],[0.5555555555555556,\"#d8576b\"],[0.6666666666666666,\"#ed7953\"],[0.7777777777777778,\"#fb9f3a\"],[0.8888888888888888,\"#fdca26\"],[1.0,\"#f0f921\"]]}],\"heatmapgl\":[{\"type\":\"heatmapgl\",\"colorbar\":{\"outlinewidth\":0,\"ticks\":\"\"},\"colorscale\":[[0.0,\"#0d0887\"],[0.1111111111111111,\"#46039f\"],[0.2222222222222222,\"#7201a8\"],[0.3333333333333333,\"#9c179e\"],[0.4444444444444444,\"#bd3786\"],[0.5555555555555556,\"#d8576b\"],[0.6666666666666666,\"#ed7953\"],[0.7777777777777778,\"#fb9f3a\"],[0.8888888888888888,\"#fdca26\"],[1.0,\"#f0f921\"]]}],\"contourcarpet\":[{\"type\":\"contourcarpet\",\"colorbar\":{\"outlinewidth\":0,\"ticks\":\"\"}}],\"contour\":[{\"type\":\"contour\",\"colorbar\":{\"outlinewidth\":0,\"ticks\":\"\"},\"colorscale\":[[0.0,\"#0d0887\"],[0.1111111111111111,\"#46039f\"],[0.2222222222222222,\"#7201a8\"],[0.3333333333333333,\"#9c179e\"],[0.4444444444444444,\"#bd3786\"],[0.5555555555555556,\"#d8576b\"],[0.6666666666666666,\"#ed7953\"],[0.7777777777777778,\"#fb9f3a\"],[0.8888888888888888,\"#fdca26\"],[1.0,\"#f0f921\"]]}],\"surface\":[{\"type\":\"surface\",\"colorbar\":{\"outlinewidth\":0,\"ticks\":\"\"},\"colorscale\":[[0.0,\"#0d0887\"],[0.1111111111111111,\"#46039f\"],[0.2222222222222222,\"#7201a8\"],[0.3333333333333333,\"#9c179e\"],[0.4444444444444444,\"#bd3786\"],[0.5555555555555556,\"#d8576b\"],[0.6666666666666666,\"#ed7953\"],[0.7777777777777778,\"#fb9f3a\"],[0.8888888888888888,\"#fdca26\"],[1.0,\"#f0f921\"]]}],\"mesh3d\":[{\"type\":\"mesh3d\",\"colorbar\":{\"outlinewidth\":0,\"ticks\":\"\"}}],\"scatter\":[{\"fillpattern\":{\"fillmode\":\"overlay\",\"size\":10,\"solidity\":0.2},\"type\":\"scatter\"}],\"parcoords\":[{\"type\":\"parcoords\",\"line\":{\"colorbar\":{\"outlinewidth\":0,\"ticks\":\"\"}}}],\"scatterpolargl\":[{\"type\":\"scatterpolargl\",\"marker\":{\"colorbar\":{\"outlinewidth\":0,\"ticks\":\"\"}}}],\"bar\":[{\"error_x\":{\"color\":\"#2a3f5f\"},\"error_y\":{\"color\":\"#2a3f5f\"},\"marker\":{\"line\":{\"color\":\"#E5ECF6\",\"width\":0.5},\"pattern\":{\"fillmode\":\"overlay\",\"size\":10,\"solidity\":0.2}},\"type\":\"bar\"}],\"scattergeo\":[{\"type\":\"scattergeo\",\"marker\":{\"colorbar\":{\"outlinewidth\":0,\"ticks\":\"\"}}}],\"scatterpolar\":[{\"type\":\"scatterpolar\",\"marker\":{\"colorbar\":{\"outlinewidth\":0,\"ticks\":\"\"}}}],\"histogram\":[{\"marker\":{\"pattern\":{\"fillmode\":\"overlay\",\"size\":10,\"solidity\":0.2}},\"type\":\"histogram\"}],\"scattergl\":[{\"type\":\"scattergl\",\"marker\":{\"colorbar\":{\"outlinewidth\":0,\"ticks\":\"\"}}}],\"scatter3d\":[{\"type\":\"scatter3d\",\"line\":{\"colorbar\":{\"outlinewidth\":0,\"ticks\":\"\"}},\"marker\":{\"colorbar\":{\"outlinewidth\":0,\"ticks\":\"\"}}}],\"scattermapbox\":[{\"type\":\"scattermapbox\",\"marker\":{\"colorbar\":{\"outlinewidth\":0,\"ticks\":\"\"}}}],\"scatterternary\":[{\"type\":\"scatterternary\",\"marker\":{\"colorbar\":{\"outlinewidth\":0,\"ticks\":\"\"}}}],\"scattercarpet\":[{\"type\":\"scattercarpet\",\"marker\":{\"colorbar\":{\"outlinewidth\":0,\"ticks\":\"\"}}}],\"carpet\":[{\"aaxis\":{\"endlinecolor\":\"#2a3f5f\",\"gridcolor\":\"white\",\"linecolor\":\"white\",\"minorgridcolor\":\"white\",\"startlinecolor\":\"#2a3f5f\"},\"baxis\":{\"endlinecolor\":\"#2a3f5f\",\"gridcolor\":\"white\",\"linecolor\":\"white\",\"minorgridcolor\":\"white\",\"startlinecolor\":\"#2a3f5f\"},\"type\":\"carpet\"}],\"table\":[{\"cells\":{\"fill\":{\"color\":\"#EBF0F8\"},\"line\":{\"color\":\"white\"}},\"header\":{\"fill\":{\"color\":\"#C8D4E3\"},\"line\":{\"color\":\"white\"}},\"type\":\"table\"}],\"barpolar\":[{\"marker\":{\"line\":{\"color\":\"#E5ECF6\",\"width\":0.5},\"pattern\":{\"fillmode\":\"overlay\",\"size\":10,\"solidity\":0.2}},\"type\":\"barpolar\"}],\"pie\":[{\"automargin\":true,\"type\":\"pie\"}]},\"layout\":{\"autotypenumbers\":\"strict\",\"colorway\":[\"#636efa\",\"#EF553B\",\"#00cc96\",\"#ab63fa\",\"#FFA15A\",\"#19d3f3\",\"#FF6692\",\"#B6E880\",\"#FF97FF\",\"#FECB52\"],\"font\":{\"color\":\"#2a3f5f\"},\"hovermode\":\"closest\",\"hoverlabel\":{\"align\":\"left\"},\"paper_bgcolor\":\"white\",\"plot_bgcolor\":\"#E5ECF6\",\"polar\":{\"bgcolor\":\"#E5ECF6\",\"angularaxis\":{\"gridcolor\":\"white\",\"linecolor\":\"white\",\"ticks\":\"\"},\"radialaxis\":{\"gridcolor\":\"white\",\"linecolor\":\"white\",\"ticks\":\"\"}},\"ternary\":{\"bgcolor\":\"#E5ECF6\",\"aaxis\":{\"gridcolor\":\"white\",\"linecolor\":\"white\",\"ticks\":\"\"},\"baxis\":{\"gridcolor\":\"white\",\"linecolor\":\"white\",\"ticks\":\"\"},\"caxis\":{\"gridcolor\":\"white\",\"linecolor\":\"white\",\"ticks\":\"\"}},\"coloraxis\":{\"colorbar\":{\"outlinewidth\":0,\"ticks\":\"\"}},\"colorscale\":{\"sequential\":[[0.0,\"#0d0887\"],[0.1111111111111111,\"#46039f\"],[0.2222222222222222,\"#7201a8\"],[0.3333333333333333,\"#9c179e\"],[0.4444444444444444,\"#bd3786\"],[0.5555555555555556,\"#d8576b\"],[0.6666666666666666,\"#ed7953\"],[0.7777777777777778,\"#fb9f3a\"],[0.8888888888888888,\"#fdca26\"],[1.0,\"#f0f921\"]],\"sequentialminus\":[[0.0,\"#0d0887\"],[0.1111111111111111,\"#46039f\"],[0.2222222222222222,\"#7201a8\"],[0.3333333333333333,\"#9c179e\"],[0.4444444444444444,\"#bd3786\"],[0.5555555555555556,\"#d8576b\"],[0.6666666666666666,\"#ed7953\"],[0.7777777777777778,\"#fb9f3a\"],[0.8888888888888888,\"#fdca26\"],[1.0,\"#f0f921\"]],\"diverging\":[[0,\"#8e0152\"],[0.1,\"#c51b7d\"],[0.2,\"#de77ae\"],[0.3,\"#f1b6da\"],[0.4,\"#fde0ef\"],[0.5,\"#f7f7f7\"],[0.6,\"#e6f5d0\"],[0.7,\"#b8e186\"],[0.8,\"#7fbc41\"],[0.9,\"#4d9221\"],[1,\"#276419\"]]},\"xaxis\":{\"gridcolor\":\"white\",\"linecolor\":\"white\",\"ticks\":\"\",\"title\":{\"standoff\":15},\"zerolinecolor\":\"white\",\"automargin\":true,\"zerolinewidth\":2},\"yaxis\":{\"gridcolor\":\"white\",\"linecolor\":\"white\",\"ticks\":\"\",\"title\":{\"standoff\":15},\"zerolinecolor\":\"white\",\"automargin\":true,\"zerolinewidth\":2},\"scene\":{\"xaxis\":{\"backgroundcolor\":\"#E5ECF6\",\"gridcolor\":\"white\",\"linecolor\":\"white\",\"showbackground\":true,\"ticks\":\"\",\"zerolinecolor\":\"white\",\"gridwidth\":2},\"yaxis\":{\"backgroundcolor\":\"#E5ECF6\",\"gridcolor\":\"white\",\"linecolor\":\"white\",\"showbackground\":true,\"ticks\":\"\",\"zerolinecolor\":\"white\",\"gridwidth\":2},\"zaxis\":{\"backgroundcolor\":\"#E5ECF6\",\"gridcolor\":\"white\",\"linecolor\":\"white\",\"showbackground\":true,\"ticks\":\"\",\"zerolinecolor\":\"white\",\"gridwidth\":2}},\"shapedefaults\":{\"line\":{\"color\":\"#2a3f5f\"}},\"annotationdefaults\":{\"arrowcolor\":\"#2a3f5f\",\"arrowhead\":0,\"arrowwidth\":1},\"geo\":{\"bgcolor\":\"white\",\"landcolor\":\"#E5ECF6\",\"subunitcolor\":\"white\",\"showland\":true,\"showlakes\":true,\"lakecolor\":\"white\"},\"title\":{\"x\":0.05},\"mapbox\":{\"style\":\"light\"}}},\"scene\":{\"domain\":{\"x\":[0.0,1.0],\"y\":[0.0,1.0]},\"xaxis\":{\"title\":{\"text\":\"x\"}},\"yaxis\":{\"title\":{\"text\":\"y\"}},\"zaxis\":{\"title\":{\"text\":\"z\"}}},\"legend\":{\"title\":{\"text\":\"color\"},\"tracegroupgap\":0},\"margin\":{\"t\":60}},                        {\"responsive\": true}                    ).then(function(){\n",
       "                            \n",
       "var gd = document.getElementById('18b4273b-80cc-4a6b-94f8-86b6bd17c783');\n",
       "var x = new MutationObserver(function (mutations, observer) {{\n",
       "        var display = window.getComputedStyle(gd).display;\n",
       "        if (!display || display === 'none') {{\n",
       "            console.log([gd, 'removed!']);\n",
       "            Plotly.purge(gd);\n",
       "            observer.disconnect();\n",
       "        }}\n",
       "}});\n",
       "\n",
       "// Listen for the removal of the full notebook cells\n",
       "var notebookContainer = gd.closest('#notebook-container');\n",
       "if (notebookContainer) {{\n",
       "    x.observe(notebookContainer, {childList: true});\n",
       "}}\n",
       "\n",
       "// Listen for the clearing of the current output cell\n",
       "var outputEl = gd.closest('.output');\n",
       "if (outputEl) {{\n",
       "    x.observe(outputEl, {childList: true});\n",
       "}}\n",
       "\n",
       "                        })                };                });            </script>        </div>"
      ]
     },
     "metadata": {},
     "output_type": "display_data"
    }
   ],
   "source": [
    "show_latent_space(ae)"
   ]
  }
 ],
 "metadata": {
  "kernelspec": {
   "display_name": "Python 3 (ipykernel)",
   "language": "python",
   "name": "python3"
  },
  "language_info": {
   "codemirror_mode": {
    "name": "ipython",
    "version": 3
   },
   "file_extension": ".py",
   "mimetype": "text/x-python",
   "name": "python",
   "nbconvert_exporter": "python",
   "pygments_lexer": "ipython3",
   "version": "3.10.4"
  }
 },
 "nbformat": 4,
 "nbformat_minor": 5
}
