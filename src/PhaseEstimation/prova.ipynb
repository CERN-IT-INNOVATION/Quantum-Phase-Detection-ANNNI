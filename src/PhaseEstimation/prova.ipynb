{
 "cells": [
  {
   "cell_type": "code",
   "execution_count": 11,
   "metadata": {},
   "outputs": [],
   "source": [
    "\"\"\" This module implements the base function to implement a VQE for a Ising Chain. \"\"\"\n",
    "import pennylane as qml\n",
    "from pennylane import numpy as np\n",
    "import jax\n",
    "import jax.numpy as jnp\n",
    "from jax.example_libraries import optimizers\n",
    "\n",
    "import copy\n",
    "from tqdm.auto import tqdm\n",
    "import pickle  # Writing and loading\n",
    "\n",
    "import warnings\n",
    "\n",
    "warnings.filterwarnings(\n",
    "    \"ignore\",\n",
    "    message=\"For Hamiltonians, the eigenvalues will be computed numerically. This may be computationally intensive for a large number of wires.Consider using a sparse representation of the Hamiltonian with qml.SparseHamiltonian.\",\n",
    ")\n",
    "\n",
    "import PhaseEstimation.circuits as circuits\n",
    "import PhaseEstimation.losses as losses\n",
    "import PhaseEstimation.general as qmlgen\n",
    "\n",
    "from typing import List, Set, Dict, Tuple, Optional\n",
    "from numbers import Number\n",
    "##############\n",
    "\n",
    "def circuit_ising(N : int, params : List[Number]) -> int:\n",
    "    \"\"\"\n",
    "    Full VQE circuit\n",
    "    Number of parameters (gates): 7*N\n",
    "    Parameters\n",
    "    ----------\n",
    "    N : int\n",
    "        Number of qubits\n",
    "    params: np.ndarray\n",
    "        Array of parameters/rotation for the circuit\n",
    "\n",
    "    Returns\n",
    "    -------\n",
    "    int\n",
    "        Total number of parameters needed to build this circuit\n",
    "    \"\"\"\n",
    "    # No wire will be measured until the end, the array of active\n",
    "    # wire will correspond to np.arange(N) throughout the whole circuit\n",
    "    active_wires = np.arange(N)\n",
    "    index = 0\n",
    "    qml.Barrier()\n",
    "    for _ in range(6): # Depth of the circuit\n",
    "        # Iterate circuit_ID9, the deeper the merrier\n",
    "        index = circuits.circuit_ID9(active_wires, params, index)\n",
    "        qml.Barrier()\n",
    "    \n",
    "    # Final independent rotations RX for each wire\n",
    "    index = circuits.wall_gate(active_wires, qml.RX, params, index)\n",
    "    \n",
    "    return index\n",
    "\n",
    "\n",
    "def circuit_ising2(N, params):\n",
    "    \"\"\"\n",
    "    Full VQE circuit, enhanced version of circuit_ising, higher number of parameters\n",
    "    Number of parameters (gates): 11*N\n",
    "\n",
    "    Parameters\n",
    "    ----------\n",
    "    N : int\n",
    "        Number of qubits\n",
    "    params: np.ndarray\n",
    "        Array of parameters/rotation for the circuit\n",
    "\n",
    "    Returns\n",
    "    -------\n",
    "    int\n",
    "        Total number of parameters needed to build this circuit\n",
    "    \"\"\"\n",
    "    # No wire will be measured until the end, the array of active\n",
    "    # wire will correspont to np.arange(N) throughout the whole circuit\n",
    "    active_wires = np.arange(N)\n",
    "    index = 0\n",
    "    qml.Barrier()\n",
    "    for _ in range(9):\n",
    "        index = circuits.circuit_ID9(active_wires, params, index)\n",
    "        qml.Barrier()\n",
    "        \n",
    "    index = circuits.wall_gate(active_wires, qml.RX, params, index)\n",
    "    index = circuits.wall_gate(active_wires, qml.RY, params, index)\n",
    "    \n",
    "    return index\n",
    "\n",
    "class vqe:\n",
    "    def __init__(self, Hs, circuit):\n",
    "        \"\"\"\n",
    "        Class for the VQE algorithm\n",
    "\n",
    "        Parameters\n",
    "        ----------\n",
    "        Hs : class\n",
    "            Custom Hamiltonian class\n",
    "        circuit : function\n",
    "            Function of the VQE circuit\n",
    "        \"\"\"\n",
    "        self.Hs = Hs\n",
    "        self.circuit = lambda p: circuit(self.Hs.N, p)\n",
    "        self.circuit_fun = circuit\n",
    "        # Pass the parameter array [0]*10000 (intentionally large) to the circuit\n",
    "        # which it will output `index`, namely the number of parameters\n",
    "        self.n_params = self.circuit([0] * 10000)\n",
    "        # Initialize randomly all the parameter-arrays for each state\n",
    "        self.vqe_params0 = jnp.array( np.random.uniform(-np.pi, np.pi, size=(self.Hs.n_states,self.n_params)) )\n",
    "        self.device = qml.device(\"default.qubit.jax\", wires=self.Hs.N, shots=None)\n",
    "        \n",
    "    def __repr__(self):\n",
    "        # QCircuit just for printing it\n",
    "        @qml.qnode(self.device, interface=\"jax\")\n",
    "        def vqe_state(self):\n",
    "            self.circuit(np.arange(self.n_params))\n",
    "\n",
    "            return qml.state()\n",
    "\n",
    "        return qml.draw(vqe_state)(self)"
   ]
  },
  {
   "cell_type": "code",
   "execution_count": 18,
   "metadata": {},
   "outputs": [
    {
     "data": {
      "text/plain": [
       "(pennylane.ops.qubit.non_parametric_ops.CNOT,\n",
       " pennylane.operation.Operation,\n",
       " pennylane.operation.Operator,\n",
       " abc.ABC,\n",
       " object)"
      ]
     },
     "execution_count": 18,
     "metadata": {},
     "output_type": "execute_result"
    }
   ],
   "source": [
    "from inspect import getmro\n",
    "getmro(qml.CNOT)"
   ]
  },
  {
   "cell_type": "code",
   "execution_count": 13,
   "metadata": {},
   "outputs": [
    {
     "data": {
      "text/plain": [
       "abc.ABCMeta"
      ]
     },
     "execution_count": 13,
     "metadata": {},
     "output_type": "execute_result"
    }
   ],
   "source": [
    "type(qml.RX)"
   ]
  },
  {
   "cell_type": "code",
   "execution_count": 7,
   "metadata": {},
   "outputs": [],
   "source": [
    "import hamiltonians as hamiltonians\n",
    "import annni_model as annni_model"
   ]
  },
  {
   "cell_type": "code",
   "execution_count": 10,
   "metadata": {},
   "outputs": [
    {
     "data": {
      "text/plain": [
       "pennylane.ops.qubit.hamiltonian.Hamiltonian"
      ]
     },
     "execution_count": 10,
     "metadata": {},
     "output_type": "execute_result"
    }
   ],
   "source": [
    "type(Hs.qml_Hs[0])"
   ]
  },
  {
   "cell_type": "code",
   "execution_count": 8,
   "metadata": {},
   "outputs": [],
   "source": [
    "Hs = hamiltonians.hamiltonian(annni_model.build_Hs, N = 6, n_states = 10, ring = False)"
   ]
  },
  {
   "cell_type": "code",
   "execution_count": 29,
   "metadata": {},
   "outputs": [],
   "source": [
    "myvqe = vqe(Hs, circuit_ising2)"
   ]
  },
  {
   "cell_type": "code",
   "execution_count": 30,
   "metadata": {},
   "outputs": [
    {
     "name": "stdout",
     "output_type": "stream",
     "text": [
      "0: ──||──H─╭C──RY(0.00)──────────────────────────────────────────||──H─╭C──RY(6.00)──────────\n",
      "1: ──||──H─╰X─╭C─────────RY(1.00)────────────────────────────────||──H─╰X─╭C─────────RY(7.00)\n",
      "2: ──||──H────╰X────────╭C─────────RY(2.00)──────────────────────||──H────╰X────────╭C───────\n",
      "3: ──||──H──────────────╰X────────╭C─────────RY(3.00)────────────||──H──────────────╰X───────\n",
      "4: ──||──H────────────────────────╰X────────╭C─────────RY(4.00)──||──H───────────────────────\n",
      "5: ──||──H──────────────────────────────────╰X─────────RY(5.00)──||──H───────────────────────\n",
      "\n",
      "──────────────────────────────────||──H─╭C──RY(12.00)────────────────────────────────────────────\n",
      "──────────────────────────────────||──H─╰X─╭C──────────RY(13.00)─────────────────────────────────\n",
      "───RY(8.00)───────────────────────||──H────╰X─────────╭C──────────RY(14.00)──────────────────────\n",
      "──╭C─────────RY(9.00)─────────────||──H───────────────╰X─────────╭C──────────RY(15.00)───────────\n",
      "──╰X────────╭C─────────RY(10.00)──||──H──────────────────────────╰X─────────╭C──────────RY(16.00)\n",
      "────────────╰X─────────RY(11.00)──||──H─────────────────────────────────────╰X──────────RY(17.00)\n",
      "\n",
      "───||──H─╭C──RY(18.00)──────────────────────────────────────────────||──H─╭C──RY(24.00)───────────\n",
      "───||──H─╰X─╭C──────────RY(19.00)───────────────────────────────────||──H─╰X─╭C──────────RY(25.00)\n",
      "───||──H────╰X─────────╭C──────────RY(20.00)────────────────────────||──H────╰X─────────╭C────────\n",
      "───||──H───────────────╰X─────────╭C──────────RY(21.00)─────────────||──H───────────────╰X────────\n",
      "───||──H──────────────────────────╰X─────────╭C──────────RY(22.00)──||──H─────────────────────────\n",
      "───||──H─────────────────────────────────────╰X──────────RY(23.00)──||──H─────────────────────────\n",
      "\n",
      "────────────────────────────────────||──H─╭C──RY(30.00)────────────────────────────────────────────\n",
      "────────────────────────────────────||──H─╰X─╭C──────────RY(31.00)─────────────────────────────────\n",
      "───RY(26.00)────────────────────────||──H────╰X─────────╭C──────────RY(32.00)──────────────────────\n",
      "──╭C──────────RY(27.00)─────────────||──H───────────────╰X─────────╭C──────────RY(33.00)───────────\n",
      "──╰X─────────╭C──────────RY(28.00)──||──H──────────────────────────╰X─────────╭C──────────RY(34.00)\n",
      "─────────────╰X──────────RY(29.00)──||──H─────────────────────────────────────╰X──────────RY(35.00)\n",
      "\n",
      "───||──H─╭C──RY(36.00)──────────────────────────────────────────────||──H─╭C──RY(42.00)───────────\n",
      "───||──H─╰X─╭C──────────RY(37.00)───────────────────────────────────||──H─╰X─╭C──────────RY(43.00)\n",
      "───||──H────╰X─────────╭C──────────RY(38.00)────────────────────────||──H────╰X─────────╭C────────\n",
      "───||──H───────────────╰X─────────╭C──────────RY(39.00)─────────────||──H───────────────╰X────────\n",
      "───||──H──────────────────────────╰X─────────╭C──────────RY(40.00)──||──H─────────────────────────\n",
      "───||──H─────────────────────────────────────╰X──────────RY(41.00)──||──H─────────────────────────\n",
      "\n",
      "────────────────────────────────────||──H─╭C──RY(48.00)────────────────────────────────────────────\n",
      "────────────────────────────────────||──H─╰X─╭C──────────RY(49.00)─────────────────────────────────\n",
      "───RY(44.00)────────────────────────||──H────╰X─────────╭C──────────RY(50.00)──────────────────────\n",
      "──╭C──────────RY(45.00)─────────────||──H───────────────╰X─────────╭C──────────RY(51.00)───────────\n",
      "──╰X─────────╭C──────────RY(46.00)──||──H──────────────────────────╰X─────────╭C──────────RY(52.00)\n",
      "─────────────╰X──────────RY(47.00)──||──H─────────────────────────────────────╰X──────────RY(53.00)\n",
      "\n",
      "───||──RX(54.00)──RY(60.00)─┤  State\n",
      "───||──RX(55.00)──RY(61.00)─┤  State\n",
      "───||──RX(56.00)──RY(62.00)─┤  State\n",
      "───||──RX(57.00)──RY(63.00)─┤  State\n",
      "───||──RX(58.00)──RY(64.00)─┤  State\n",
      "───||──RX(59.00)──RY(65.00)─┤  State\n"
     ]
    }
   ],
   "source": [
    "print(myvqe)"
   ]
  },
  {
   "cell_type": "code",
   "execution_count": null,
   "metadata": {},
   "outputs": [],
   "source": []
  }
 ],
 "metadata": {
  "kernelspec": {
   "display_name": "Python 3.10.4 ('qua')",
   "language": "python",
   "name": "python3"
  },
  "language_info": {
   "codemirror_mode": {
    "name": "ipython",
    "version": 3
   },
   "file_extension": ".py",
   "mimetype": "text/x-python",
   "name": "python",
   "nbconvert_exporter": "python",
   "pygments_lexer": "ipython3",
   "version": "3.10.4"
  },
  "orig_nbformat": 4,
  "vscode": {
   "interpreter": {
    "hash": "c5a280c659689588c80374f8159eedd48769b963aa0e88bf0673218d0e8e84fd"
   }
  }
 },
 "nbformat": 4,
 "nbformat_minor": 2
}
