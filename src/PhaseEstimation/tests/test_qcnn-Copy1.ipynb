{
 "cells": [
  {
   "cell_type": "code",
   "execution_count": 3,
   "id": "3b509866-a676-4f55-8f1f-0f295db98826",
   "metadata": {},
   "outputs": [],
   "source": [
    "import sys\n",
    "sys.path.insert(0, '../')\n",
    "\n",
    "\"\"\" This module implements the base function to implement a VQE for a Ising Chain with Transverse Field. \"\"\"\n",
    "import pennylane as qml\n",
    "from pennylane import numpy as np\n",
    "import numpy as onp\n",
    "import jax\n",
    "import jax.numpy as jnp\n",
    "from jax import jit\n",
    "from functools import partial\n",
    "\n",
    "from matplotlib import pyplot as plt\n",
    "\n",
    "import copy\n",
    "import tqdm  # Pretty progress bars\n",
    "\n",
    "\n",
    "import vqe as vqe\n",
    "import annni_model as annni\n",
    "import hamiltonians as ham\n",
    "import ising_chain as ising_chain\n",
    "import jax.profiler\n",
    "\n",
    "# System parameters\n",
    "N = 4\n",
    "J = 1\n",
    "\n",
    "# Learning parameters\n",
    "lr = .05\n",
    "epochs = 500000\n",
    "reg = 1"
   ]
  },
  {
   "cell_type": "code",
   "execution_count": 2,
   "id": "bb7880d5-4987-4ac7-bb8f-8243bb85ea60",
   "metadata": {},
   "outputs": [
    {
     "name": "stdout",
     "output_type": "stream",
     "text": [
      "+--- CIRCUIT ---+\n",
      "0: ──RY(0.00)──||─╭IsingXX(8.00)───────────────────────────────────────────────────────────────\n",
      "1: ──RY(1.00)──||─╰IsingXX(8.00)─╭IsingXX(9.00)────────────────────────────────────────────────\n",
      "2: ──RY(2.00)──||────────────────╰IsingXX(9.00)─╭IsingXX(10.00)────────────────────────────────\n",
      "3: ──RY(3.00)──||───────────────────────────────╰IsingXX(10.00)─╭IsingXX(11.00)────────────────\n",
      "4: ──RY(4.00)──||───────────────────────────────────────────────╰IsingXX(11.00)─╭IsingXX(12.00)\n",
      "5: ──RY(5.00)──||───────────────────────────────────────────────────────────────╰IsingXX(12.00)\n",
      "6: ──RY(6.00)──||──────────────────────────────────────────────────────────────────────────────\n",
      "7: ──RY(7.00)──||──────────────────────────────────────────────────────────────────────────────\n",
      "\n",
      "───────────────────────────────────||──RZ(15.00)──RX(23.00)──||─╭IsingXX(31.00)────────────────\n",
      "───────────────────────────────────||──RZ(16.00)──RX(24.00)──||─│───────────────╭IsingXX(32.00)\n",
      "───────────────────────────────────||──RZ(17.00)──RX(25.00)──||─╰IsingXX(31.00)─│──────────────\n",
      "───────────────────────────────────||──RZ(18.00)──RX(26.00)──||─────────────────╰IsingXX(32.00)\n",
      "───────────────────────────────────||──RZ(19.00)──RX(27.00)──||────────────────────────────────\n",
      "──╭IsingXX(13.00)──────────────────||──RZ(20.00)──RX(28.00)──||────────────────────────────────\n",
      "──╰IsingXX(13.00)─╭IsingXX(14.00)──||──RZ(21.00)──RX(29.00)──||────────────────────────────────\n",
      "──────────────────╰IsingXX(14.00)──||──RZ(22.00)──RX(30.00)──||────────────────────────────────\n",
      "\n",
      "───────────────────────────────────────────────────────────────────||─╭IsingXX(37.00)\n",
      "───────────────────────────────────────────────────────────────────||─╰IsingXX(37.00)\n",
      "──╭IsingXX(33.00)──────────────────────────────────────────────────||────────────────\n",
      "──│───────────────╭IsingXX(34.00)──────────────────────────────────||────────────────\n",
      "──╰IsingXX(33.00)─│───────────────╭IsingXX(35.00)──────────────────||────────────────\n",
      "──────────────────╰IsingXX(34.00)─│───────────────╭IsingXX(36.00)──||────────────────\n",
      "──────────────────────────────────╰IsingXX(35.00)─│────────────────||────────────────\n",
      "──────────────────────────────────────────────────╰IsingXX(36.00)──||────────────────\n",
      "\n",
      "─────────────────────────────────────────────────────────────────────────────────────────────────\n",
      "──╭IsingXX(38.00)────────────────────────────────────────────────────────────────────────────────\n",
      "──╰IsingXX(38.00)─╭IsingXX(39.00)────────────────────────────────────────────────────────────────\n",
      "──────────────────╰IsingXX(39.00)─╭IsingXX(40.00)────────────────────────────────────────────────\n",
      "──────────────────────────────────╰IsingXX(40.00)─╭IsingXX(41.00)────────────────────────────────\n",
      "──────────────────────────────────────────────────╰IsingXX(41.00)─╭IsingXX(42.00)────────────────\n",
      "──────────────────────────────────────────────────────────────────╰IsingXX(42.00)─╭IsingXX(43.00)\n",
      "──────────────────────────────────────────────────────────────────────────────────╰IsingXX(43.00)\n",
      "\n",
      "───||──RZ(44.00)──RX(52.00)──||─╭IsingXX(60.00)────────────────────────────────────────────────\n",
      "───||──RZ(45.00)──RX(53.00)──||─│───────────────╭IsingXX(61.00)────────────────────────────────\n",
      "───||──RZ(46.00)──RX(54.00)──||─╰IsingXX(60.00)─│───────────────╭IsingXX(62.00)────────────────\n",
      "───||──RZ(47.00)──RX(55.00)──||─────────────────╰IsingXX(61.00)─│───────────────╭IsingXX(63.00)\n",
      "───||──RZ(48.00)──RX(56.00)──||─────────────────────────────────╰IsingXX(62.00)─│──────────────\n",
      "───||──RZ(49.00)──RX(57.00)──||─────────────────────────────────────────────────╰IsingXX(63.00)\n",
      "───||──RZ(50.00)──RX(58.00)──||────────────────────────────────────────────────────────────────\n",
      "───||──RZ(51.00)──RX(59.00)──||────────────────────────────────────────────────────────────────\n",
      "\n",
      "───────────────────────────────────||─╭IsingXX(66.00)────────────────────────────────\n",
      "───────────────────────────────────||─╰IsingXX(66.00)─╭IsingXX(67.00)────────────────\n",
      "───────────────────────────────────||─────────────────╰IsingXX(67.00)─╭IsingXX(68.00)\n",
      "───────────────────────────────────||─────────────────────────────────╰IsingXX(68.00)\n",
      "──╭IsingXX(64.00)──────────────────||────────────────────────────────────────────────\n",
      "──│───────────────╭IsingXX(65.00)──||────────────────────────────────────────────────\n",
      "──╰IsingXX(64.00)─│────────────────||────────────────────────────────────────────────\n",
      "──────────────────╰IsingXX(65.00)──||────────────────────────────────────────────────\n",
      "\n",
      "───────────────────────────────────────────────────────────────────||──RZ(73.00)──RX(81.00)──||\n",
      "───────────────────────────────────────────────────────────────────||──RZ(74.00)──RX(82.00)──||\n",
      "───────────────────────────────────────────────────────────────────||──RZ(75.00)──RX(83.00)──||\n",
      "──╭IsingXX(69.00)──────────────────────────────────────────────────||──RZ(76.00)──RX(84.00)──||\n",
      "──╰IsingXX(69.00)─╭IsingXX(70.00)──────────────────────────────────||──RZ(77.00)──RX(85.00)──||\n",
      "──────────────────╰IsingXX(70.00)─╭IsingXX(71.00)──────────────────||──RZ(78.00)──RX(86.00)──||\n",
      "──────────────────────────────────╰IsingXX(71.00)─╭IsingXX(72.00)──||──RZ(79.00)──RX(87.00)──||\n",
      "──────────────────────────────────────────────────╰IsingXX(72.00)──||──RZ(80.00)──RX(88.00)──||\n",
      "\n",
      "──╭IsingXX(89.00)────────────────────────────────────────────────────────────────────────────────\n",
      "──│───────────────╭IsingXX(90.00)────────────────────────────────────────────────────────────────\n",
      "──╰IsingXX(89.00)─│───────────────╭IsingXX(91.00)────────────────────────────────────────────────\n",
      "──────────────────╰IsingXX(90.00)─│───────────────╭IsingXX(92.00)────────────────────────────────\n",
      "──────────────────────────────────╰IsingXX(91.00)─│───────────────╭IsingXX(93.00)────────────────\n",
      "──────────────────────────────────────────────────╰IsingXX(92.00)─│───────────────╭IsingXX(94.00)\n",
      "──────────────────────────────────────────────────────────────────╰IsingXX(93.00)─│──────────────\n",
      "──────────────────────────────────────────────────────────────────────────────────╰IsingXX(94.00)\n",
      "\n",
      "───||─╭IsingXX(95.00)────────────────────────────────────────────────────────────────\n",
      "───||─╰IsingXX(95.00)─╭IsingXX(96.00)────────────────────────────────────────────────\n",
      "───||─────────────────╰IsingXX(96.00)─╭IsingXX(97.00)────────────────────────────────\n",
      "───||─────────────────────────────────╰IsingXX(97.00)─╭IsingXX(98.00)────────────────\n",
      "───||─────────────────────────────────────────────────╰IsingXX(98.00)─╭IsingXX(99.00)\n",
      "───||─────────────────────────────────────────────────────────────────╰IsingXX(99.00)\n",
      "───||────────────────────────────────────────────────────────────────────────────────\n",
      "───||────────────────────────────────────────────────────────────────────────────────\n",
      "\n",
      "─────────────────────────────────────||──RZ(102.00)──RX(110.00)──||─╭IsingXX(118.00)\n",
      "─────────────────────────────────────||──RZ(103.00)──RX(111.00)──||─│───────────────\n",
      "─────────────────────────────────────||──RZ(104.00)──RX(112.00)──||─╰IsingXX(118.00)\n",
      "─────────────────────────────────────||──RZ(105.00)──RX(113.00)──||─────────────────\n",
      "─────────────────────────────────────||──RZ(106.00)──RX(114.00)──||─────────────────\n",
      "──╭IsingXX(100.00)───────────────────||──RZ(107.00)──RX(115.00)──||─────────────────\n",
      "──╰IsingXX(100.00)─╭IsingXX(101.00)──||──RZ(108.00)──RX(116.00)──||─────────────────\n",
      "───────────────────╰IsingXX(101.00)──||──RZ(109.00)──RX(117.00)──||─────────────────\n",
      "\n",
      "────────────────────────────────────────────────────────────────────────────────────────||\n",
      "──╭IsingXX(119.00)──────────────────────────────────────────────────────────────────────||\n",
      "──│────────────────╭IsingXX(120.00)─────────────────────────────────────────────────────||\n",
      "──╰IsingXX(119.00)─│────────────────╭IsingXX(121.00)────────────────────────────────────||\n",
      "───────────────────╰IsingXX(120.00)─│────────────────╭IsingXX(122.00)───────────────────||\n",
      "────────────────────────────────────╰IsingXX(121.00)─│────────────────╭IsingXX(123.00)──||\n",
      "─────────────────────────────────────────────────────╰IsingXX(122.00)─│─────────────────||\n",
      "──────────────────────────────────────────────────────────────────────╰IsingXX(123.00)──||\n",
      "\n",
      "──╭IsingXX(124.00)────────────────────────────────────────────────────────────────────\n",
      "──╰IsingXX(124.00)─╭IsingXX(125.00)───────────────────────────────────────────────────\n",
      "───────────────────╰IsingXX(125.00)─╭IsingXX(126.00)──────────────────────────────────\n",
      "────────────────────────────────────╰IsingXX(126.00)─╭IsingXX(127.00)─────────────────\n",
      "─────────────────────────────────────────────────────╰IsingXX(127.00)─╭IsingXX(128.00)\n",
      "──────────────────────────────────────────────────────────────────────╰IsingXX(128.00)\n",
      "──────────────────────────────────────────────────────────────────────────────────────\n",
      "──────────────────────────────────────────────────────────────────────────────────────\n",
      "\n",
      "─────────────────────────────────────||──RZ(131.00)──RX(139.00)──||─╭IsingXX(147.00)\n",
      "─────────────────────────────────────||──RZ(132.00)──RX(140.00)──||─│───────────────\n",
      "─────────────────────────────────────||──RZ(133.00)──RX(141.00)──||─╰IsingXX(147.00)\n",
      "─────────────────────────────────────||──RZ(134.00)──RX(142.00)──||─────────────────\n",
      "─────────────────────────────────────||──RZ(135.00)──RX(143.00)──||─────────────────\n",
      "──╭IsingXX(129.00)───────────────────||──RZ(136.00)──RX(144.00)──||─────────────────\n",
      "──╰IsingXX(129.00)─╭IsingXX(130.00)──||──RZ(137.00)──RX(145.00)──||─────────────────\n",
      "───────────────────╰IsingXX(130.00)──||──RZ(138.00)──RX(146.00)──||─────────────────\n",
      "\n",
      "────────────────────────────────────────────────────────────────────────────────────────||\n",
      "──╭IsingXX(148.00)──────────────────────────────────────────────────────────────────────||\n",
      "──│────────────────╭IsingXX(149.00)─────────────────────────────────────────────────────||\n",
      "──╰IsingXX(148.00)─│────────────────╭IsingXX(150.00)────────────────────────────────────||\n",
      "───────────────────╰IsingXX(149.00)─│────────────────╭IsingXX(151.00)───────────────────||\n",
      "────────────────────────────────────╰IsingXX(150.00)─│────────────────╭IsingXX(152.00)──||\n",
      "─────────────────────────────────────────────────────╰IsingXX(151.00)─│─────────────────||\n",
      "──────────────────────────────────────────────────────────────────────╰IsingXX(152.00)──||\n",
      "\n",
      "───RY(153.00)──RX(161.00)─┤  State\n",
      "───RY(154.00)──RX(162.00)─┤  State\n",
      "───RY(155.00)──RX(163.00)─┤  State\n",
      "───RY(156.00)──RX(164.00)─┤  State\n",
      "───RY(157.00)──RX(165.00)─┤  State\n",
      "───RY(158.00)──RX(166.00)─┤  State\n",
      "───RY(159.00)──RX(167.00)─┤  State\n",
      "───RY(160.00)──RX(168.00)─┤  State\n"
     ]
    },
    {
     "name": "stderr",
     "output_type": "stream",
     "text": [
      "91/100: 100%|███████████████████████████████████| 99/99 [00:34<00:00,  2.90it/s]\n",
      "Cost: 0.0000 | Mean F.: 0.8001: 100%|█| 500000/500000 [1:33:35<00:00, 89.05it/s]\n"
     ]
    }
   ],
   "source": [
    "Hs = ham.hamiltonian(annni.build_Hs, N = 8, n_states = 10)\n",
    "\n",
    "myvqe = vqe.vqe(Hs, vqe.circuit_annni)\n",
    "\n",
    "myvqe.train(lr, 10, circuit = True, recycle = True, reg = 0)\n",
    "myvqe.train(lr, epochs, circuit = False, recycle = False, reg = reg)"
   ]
  },
  {
   "cell_type": "code",
   "execution_count": 3,
   "id": "e0e01fd4-ae59-4da1-a3d7-2bca83fa7f7d",
   "metadata": {},
   "outputs": [
    {
     "data": {
      "text/plain": [
       "Text(0, 0.5, 'L')"
      ]
     },
     "execution_count": 3,
     "metadata": {},
     "output_type": "execute_result"
    },
    {
     "data": {
      "image/png": "[encoded data removed]",
      "text/plain": [
       "<Figure size 432x288 with 2 Axes>"
      ]
     },
     "metadata": {
      "needs_background": "light"
     },
     "output_type": "display_data"
    }
   ],
   "source": [
    "plt.imshow( np.rot90( np.reshape(myvqe.get_fidelties(myvqe.vqe_states),(10,10)) ) )\n",
    "plt.colorbar()\n",
    "plt.xlabel('K')\n",
    "plt.ylabel('L')"
   ]
  },
  {
   "cell_type": "code",
   "execution_count": 6,
   "id": "31443398-8309-4741-9fb2-986fc47b2fb8",
   "metadata": {},
   "outputs": [],
   "source": [
    "myvqe.save('bigrun.plk')"
   ]
  },
  {
   "cell_type": "code",
   "execution_count": 7,
   "id": "0ba1717c-fb75-42ff-8e71-7e70fb383203",
   "metadata": {},
   "outputs": [
    {
     "data": {
      "application/vnd.plotly.v1+json": {
       "config": {
        "plotlyServerURL": "https://plot.ly"
       },
       "data": [
        {
         "colorscale": [
          [
           0,
           "rgb(255,245,240)"
          ],
          [
           0.125,
           "rgb(254,224,210)"
          ],
          [
           0.25,
           "rgb(252,187,161)"
          ],
          [
           0.375,
           "rgb(252,146,114)"
          ],
          [
           0.5,
           "rgb(251,106,74)"
          ],
          [
           0.625,
           "rgb(239,59,44)"
          ],
          [
           0.75,
           "rgb(203,24,29)"
          ],
          [
           0.875,
           "rgb(165,15,21)"
          ],
          [
           1,
           "rgb(103,0,13)"
          ]
         ],
         "opacity": 0.2,
         "type": "surface",
         "x": [
          1,
          0.8888888888888888,
          0.7777777777777778,
          0.6666666666666667,
          0.5555555555555556,
          0.4444444444444444,
          0.33333333333333337,
          0.22222222222222232,
          0.11111111111111116,
          0
         ],
         "y": [
          0,
          0.2222222222222222,
          0.4444444444444444,
          0.6666666666666666,
          0.8888888888888888,
          1.1111111111111112,
          1.3333333333333333,
          1.5555555555555554,
          1.7777777777777777,
          2
         ],
         "z": [
          [
           -7,
           -7.123926639556885,
           -7.502824306488037,
           -8.174699783325195,
           -9.203764915466309,
           -10.527410507202148,
           -12.014962196350098,
           -13.591526985168457,
           -15.221181869506836,
           -16.885141372680664
          ],
          [
           -7.666666507720947,
           -7.779191970825195,
           -8.12032413482666,
           -8.7087984085083,
           -9.593666076660156,
           -10.785530090332031,
           -12.191730499267578,
           -13.719902992248535,
           -15.318991661071777,
           -16.962432861328125
          ],
          [
           -8.333333015441895,
           -8.43649959564209,
           -8.747931480407715,
           -9.277600288391113,
           -10.056622505187988,
           -11.11868953704834,
           -12.425615310668945,
           -13.890901565551758,
           -15.450005531311035,
           -17.066728591918945
          ],
          [
           -9,
           -9.095317840576172,
           -9.382386207580566,
           -9.86686897277832,
           -10.567941665649414,
           -11.518410682678223,
           -12.71834659576416,
           -14.107332229614258,
           -15.616292953491211,
           -17.19940948486328
          ],
          [
           -9.666666984558105,
           -9.755292892456055,
           -10.02184772491455,
           -10.469719886779785,
           -11.110899925231934,
           -11.971049308776855,
           -13.067670822143555,
           -14.371016502380371,
           -15.819855690002441,
           -17.361957550048828
          ],
          [
           -10.333333015441895,
           -10.416179656982422,
           -10.665143966674805,
           -11.082343101501465,
           -11.67547607421875,
           -12.46324348449707,
           -13.46744441986084,
           -14.681947708129883,
           -16.062267303466797,
           -17.555843353271484
          ],
          [
           -11,
           -11.077797889709473,
           -11.311468124389648,
           -11.702386856079102,
           -12.255633354187012,
           -12.984570503234863,
           -13.909444808959961,
           -15.037858963012695,
           -16.344236373901367,
           -17.782350540161133
          ],
          [
           -11.666666984558105,
           -11.740013122558594,
           -11.960241317749023,
           -12.32827377319336,
           -12.84755802154541,
           -13.527644157409668,
           -14.385428428649902,
           -15.434528350830078,
           -16.665250778198242,
           -18.042333602905273
          ],
          [
           -12.333333015441895,
           -12.402724266052246,
           -12.611028671264648,
           -12.958887100219727,
           -13.448699951171875,
           -14.087357521057129,
           -14.888327598571777,
           -15.86663818359375,
           -17.023481369018555,
           -18.336008071899414
          ],
          [
           -13,
           -13.065850257873535,
           -13.263497352600098,
           -13.593399047851562,
           -14.057270050048828,
           -14.660146713256836,
           -15.412564277648926,
           -16.328699111938477,
           -17.41598892211914,
           -18.66278839111328
          ]
         ]
        },
        {
         "colorscale": [
          [
           0,
           "rgb(247,251,255)"
          ],
          [
           0.125,
           "rgb(222,235,247)"
          ],
          [
           0.25,
           "rgb(198,219,239)"
          ],
          [
           0.375,
           "rgb(158,202,225)"
          ],
          [
           0.5,
           "rgb(107,174,214)"
          ],
          [
           0.625,
           "rgb(66,146,198)"
          ],
          [
           0.75,
           "rgb(33,113,181)"
          ],
          [
           0.875,
           "rgb(8,81,156)"
          ],
          [
           1,
           "rgb(8,48,107)"
          ]
         ],
         "opacity": 1,
         "type": "surface",
         "x": [
          1,
          0.8888888888888888,
          0.7777777777777778,
          0.6666666666666667,
          0.5555555555555556,
          0.4444444444444444,
          0.33333333333333337,
          0.22222222222222232,
          0.11111111111111116,
          0
         ],
         "y": [
          0,
          0.2222222222222222,
          0.4444444444444444,
          0.6666666666666666,
          0.8888888888888888,
          1.1111111111111112,
          1.3333333333333333,
          1.5555555555555554,
          1.7777777777777777,
          2
         ],
         "z": [
          [
           -6.999966621398926,
           -7.1239399909973145,
           -7.501588821411133,
           -8.173810005187988,
           -9.203767776489258,
           -10.52725887298584,
           -12.014845848083496,
           -13.591154098510742,
           -15.221198081970215,
           -16.885103225708008
          ],
          [
           -7.6665873527526855,
           -7.779157638549805,
           -8.119789123535156,
           -8.708768844604492,
           -9.593378067016602,
           -10.785455703735352,
           -12.19167423248291,
           -13.719457626342773,
           -15.318755149841309,
           -16.962467193603516
          ],
          [
           -8.333349227905273,
           -8.436347961425781,
           -8.747671127319336,
           -9.277467727661133,
           -10.056595802307129,
           -11.118626594543457,
           -12.425620079040527,
           -13.890756607055664,
           -15.449851989746094,
           -17.066688537597656
          ],
          [
           -9.000017166137695,
           -9.095328330993652,
           -9.382165908813477,
           -9.86650562286377,
           -10.567870140075684,
           -11.518068313598633,
           -12.718094825744629,
           -14.107023239135742,
           -15.616166114807129,
           -17.199373245239258
          ],
          [
           -9.666683197021484,
           -9.755216598510742,
           -10.021478652954102,
           -10.468161582946777,
           -11.110855102539062,
           -11.970970153808594,
           -13.06678295135498,
           -14.370925903320312,
           -15.819673538208008,
           -17.361961364746094
          ],
          [
           -10.333358764648438,
           -10.416093826293945,
           -10.665098190307617,
           -11.081342697143555,
           -11.675397872924805,
           -12.463203430175781,
           -13.46729564666748,
           -14.681612968444824,
           -16.062191009521484,
           -17.55582618713379
          ],
          [
           -10.999914169311523,
           -11.077803611755371,
           -11.310981750488281,
           -11.701784133911133,
           -12.250679016113281,
           -12.984457015991211,
           -13.909143447875977,
           -15.037677764892578,
           -16.34388542175293,
           -17.782146453857422
          ],
          [
           -11.666630744934082,
           -11.739970207214355,
           -11.96013069152832,
           -12.327909469604492,
           -12.844264030456543,
           -13.527412414550781,
           -14.38521671295166,
           -15.434351921081543,
           -16.664888381958008,
           -18.041738510131836
          ],
          [
           -12.333271026611328,
           -12.402737617492676,
           -12.611029624938965,
           -12.958661079406738,
           -13.446464538574219,
           -14.087238311767578,
           -14.888261795043945,
           -15.86642074584961,
           -17.02334213256836,
           -18.335895538330078
          ],
          [
           -13.00003433227539,
           -13.065866470336914,
           -13.263153076171875,
           -13.593147277832031,
           -14.05569839477539,
           -14.65996265411377,
           -15.412544250488281,
           -16.328563690185547,
           -17.41583824157715,
           -18.662654876708984
          ]
         ]
        }
       ],
       "layout": {
        "autosize": true,
        "scene": {
         "aspectmode": "auto",
         "aspectratio": {
          "x": 1,
          "y": 1,
          "z": 1
         },
         "camera": {
          "center": {
           "x": 0,
           "y": 0,
           "z": 0
          },
          "eye": {
           "x": -2.6117235358472346,
           "y": 1.618196738735025,
           "z": -0.0266152949277323
          },
          "projection": {
           "type": "perspective"
          },
          "up": {
           "x": 0,
           "y": 0,
           "z": 1
          }
         }
        },
        "template": {
         "data": {
          "bar": [
           {
            "error_x": {
             "color": "#2a3f5f"
            },
            "error_y": {
             "color": "#2a3f5f"
            },
            "marker": {
             "line": {
              "color": "#E5ECF6",
              "width": 0.5
             },
             "pattern": {
              "fillmode": "overlay",
              "size": 10,
              "solidity": 0.2
             }
            },
            "type": "bar"
           }
          ],
          "barpolar": [
           {
            "marker": {
             "line": {
              "color": "#E5ECF6",
              "width": 0.5
             },
             "pattern": {
              "fillmode": "overlay",
              "size": 10,
              "solidity": 0.2
             }
            },
            "type": "barpolar"
           }
          ],
          "carpet": [
           {
            "aaxis": {
             "endlinecolor": "#2a3f5f",
             "gridcolor": "white",
             "linecolor": "white",
             "minorgridcolor": "white",
             "startlinecolor": "#2a3f5f"
            },
            "baxis": {
             "endlinecolor": "#2a3f5f",
             "gridcolor": "white",
             "linecolor": "white",
             "minorgridcolor": "white",
             "startlinecolor": "#2a3f5f"
            },
            "type": "carpet"
           }
          ],
          "choropleth": [
           {
            "colorbar": {
             "outlinewidth": 0,
             "ticks": ""
            },
            "type": "choropleth"
           }
          ],
          "contour": [
           {
            "colorbar": {
             "outlinewidth": 0,
             "ticks": ""
            },
            "colorscale": [
             [
              0,
              "#0d0887"
             ],
             [
              0.1111111111111111,
              "#46039f"
             ],
             [
              0.2222222222222222,
              "#7201a8"
             ],
             [
              0.3333333333333333,
              "#9c179e"
             ],
             [
              0.4444444444444444,
              "#bd3786"
             ],
             [
              0.5555555555555556,
              "#d8576b"
             ],
             [
              0.6666666666666666,
              "#ed7953"
             ],
             [
              0.7777777777777778,
              "#fb9f3a"
             ],
             [
              0.8888888888888888,
              "#fdca26"
             ],
             [
              1,
              "#f0f921"
             ]
            ],
            "type": "contour"
           }
          ],
          "contourcarpet": [
           {
            "colorbar": {
             "outlinewidth": 0,
             "ticks": ""
            },
            "type": "contourcarpet"
           }
          ],
          "heatmap": [
           {
            "colorbar": {
             "outlinewidth": 0,
             "ticks": ""
            },
            "colorscale": [
             [
              0,
              "#0d0887"
             ],
             [
              0.1111111111111111,
              "#46039f"
             ],
             [
              0.2222222222222222,
              "#7201a8"
             ],
             [
              0.3333333333333333,
              "#9c179e"
             ],
             [
              0.4444444444444444,
              "#bd3786"
             ],
             [
              0.5555555555555556,
              "#d8576b"
             ],
             [
              0.6666666666666666,
              "#ed7953"
             ],
             [
              0.7777777777777778,
              "#fb9f3a"
             ],
             [
              0.8888888888888888,
              "#fdca26"
             ],
             [
              1,
              "#f0f921"
             ]
            ],
            "type": "heatmap"
           }
          ],
          "heatmapgl": [
           {
            "colorbar": {
             "outlinewidth": 0,
             "ticks": ""
            },
            "colorscale": [
             [
              0,
              "#0d0887"
             ],
             [
              0.1111111111111111,
              "#46039f"
             ],
             [
              0.2222222222222222,
              "#7201a8"
             ],
             [
              0.3333333333333333,
              "#9c179e"
             ],
             [
              0.4444444444444444,
              "#bd3786"
             ],
             [
              0.5555555555555556,
              "#d8576b"
             ],
             [
              0.6666666666666666,
              "#ed7953"
             ],
             [
              0.7777777777777778,
              "#fb9f3a"
             ],
             [
              0.8888888888888888,
              "#fdca26"
             ],
             [
              1,
              "#f0f921"
             ]
            ],
            "type": "heatmapgl"
           }
          ],
          "histogram": [
           {
            "marker": {
             "pattern": {
              "fillmode": "overlay",
              "size": 10,
              "solidity": 0.2
             }
            },
            "type": "histogram"
           }
          ],
          "histogram2d": [
           {
            "colorbar": {
             "outlinewidth": 0,
             "ticks": ""
            },
            "colorscale": [
             [
              0,
              "#0d0887"
             ],
             [
              0.1111111111111111,
              "#46039f"
             ],
             [
              0.2222222222222222,
              "#7201a8"
             ],
             [
              0.3333333333333333,
              "#9c179e"
             ],
             [
              0.4444444444444444,
              "#bd3786"
             ],
             [
              0.5555555555555556,
              "#d8576b"
             ],
             [
              0.6666666666666666,
              "#ed7953"
             ],
             [
              0.7777777777777778,
              "#fb9f3a"
             ],
             [
              0.8888888888888888,
              "#fdca26"
             ],
             [
              1,
              "#f0f921"
             ]
            ],
            "type": "histogram2d"
           }
          ],
          "histogram2dcontour": [
           {
            "colorbar": {
             "outlinewidth": 0,
             "ticks": ""
            },
            "colorscale": [
             [
              0,
              "#0d0887"
             ],
             [
              0.1111111111111111,
              "#46039f"
             ],
             [
              0.2222222222222222,
              "#7201a8"
             ],
             [
              0.3333333333333333,
              "#9c179e"
             ],
             [
              0.4444444444444444,
              "#bd3786"
             ],
             [
              0.5555555555555556,
              "#d8576b"
             ],
             [
              0.6666666666666666,
              "#ed7953"
             ],
             [
              0.7777777777777778,
              "#fb9f3a"
             ],
             [
              0.8888888888888888,
              "#fdca26"
             ],
             [
              1,
              "#f0f921"
             ]
            ],
            "type": "histogram2dcontour"
           }
          ],
          "mesh3d": [
           {
            "colorbar": {
             "outlinewidth": 0,
             "ticks": ""
            },
            "type": "mesh3d"
           }
          ],
          "parcoords": [
           {
            "line": {
             "colorbar": {
              "outlinewidth": 0,
              "ticks": ""
             }
            },
            "type": "parcoords"
           }
          ],
          "pie": [
           {
            "automargin": true,
            "type": "pie"
           }
          ],
          "scatter": [
           {
            "fillpattern": {
             "fillmode": "overlay",
             "size": 10,
             "solidity": 0.2
            },
            "type": "scatter"
           }
          ],
          "scatter3d": [
           {
            "line": {
             "colorbar": {
              "outlinewidth": 0,
              "ticks": ""
             }
            },
            "marker": {
             "colorbar": {
              "outlinewidth": 0,
              "ticks": ""
             }
            },
            "type": "scatter3d"
           }
          ],
          "scattercarpet": [
           {
            "marker": {
             "colorbar": {
              "outlinewidth": 0,
              "ticks": ""
             }
            },
            "type": "scattercarpet"
           }
          ],
          "scattergeo": [
           {
            "marker": {
             "colorbar": {
              "outlinewidth": 0,
              "ticks": ""
             }
            },
            "type": "scattergeo"
           }
          ],
          "scattergl": [
           {
            "marker": {
             "colorbar": {
              "outlinewidth": 0,
              "ticks": ""
             }
            },
            "type": "scattergl"
           }
          ],
          "scattermapbox": [
           {
            "marker": {
             "colorbar": {
              "outlinewidth": 0,
              "ticks": ""
             }
            },
            "type": "scattermapbox"
           }
          ],
          "scatterpolar": [
           {
            "marker": {
             "colorbar": {
              "outlinewidth": 0,
              "ticks": ""
             }
            },
            "type": "scatterpolar"
           }
          ],
          "scatterpolargl": [
           {
            "marker": {
             "colorbar": {
              "outlinewidth": 0,
              "ticks": ""
             }
            },
            "type": "scatterpolargl"
           }
          ],
          "scatterternary": [
           {
            "marker": {
             "colorbar": {
              "outlinewidth": 0,
              "ticks": ""
             }
            },
            "type": "scatterternary"
           }
          ],
          "surface": [
           {
            "colorbar": {
             "outlinewidth": 0,
             "ticks": ""
            },
            "colorscale": [
             [
              0,
              "#0d0887"
             ],
             [
              0.1111111111111111,
              "#46039f"
             ],
             [
              0.2222222222222222,
              "#7201a8"
             ],
             [
              0.3333333333333333,
              "#9c179e"
             ],
             [
              0.4444444444444444,
              "#bd3786"
             ],
             [
              0.5555555555555556,
              "#d8576b"
             ],
             [
              0.6666666666666666,
              "#ed7953"
             ],
             [
              0.7777777777777778,
              "#fb9f3a"
             ],
             [
              0.8888888888888888,
              "#fdca26"
             ],
             [
              1,
              "#f0f921"
             ]
            ],
            "type": "surface"
           }
          ],
          "table": [
           {
            "cells": {
             "fill": {
              "color": "#EBF0F8"
             },
             "line": {
              "color": "white"
             }
            },
            "header": {
             "fill": {
              "color": "#C8D4E3"
             },
             "line": {
              "color": "white"
             }
            },
            "type": "table"
           }
          ]
         },
         "layout": {
          "annotationdefaults": {
           "arrowcolor": "#2a3f5f",
           "arrowhead": 0,
           "arrowwidth": 1
          },
          "autotypenumbers": "strict",
          "coloraxis": {
           "colorbar": {
            "outlinewidth": 0,
            "ticks": ""
           }
          },
          "colorscale": {
           "diverging": [
            [
             0,
             "#8e0152"
            ],
            [
             0.1,
             "#c51b7d"
            ],
            [
             0.2,
             "#de77ae"
            ],
            [
             0.3,
             "#f1b6da"
            ],
            [
             0.4,
             "#fde0ef"
            ],
            [
             0.5,
             "#f7f7f7"
            ],
            [
             0.6,
             "#e6f5d0"
            ],
            [
             0.7,
             "#b8e186"
            ],
            [
             0.8,
             "#7fbc41"
            ],
            [
             0.9,
             "#4d9221"
            ],
            [
             1,
             "#276419"
            ]
           ],
           "sequential": [
            [
             0,
             "#0d0887"
            ],
            [
             0.1111111111111111,
             "#46039f"
            ],
            [
             0.2222222222222222,
             "#7201a8"
            ],
            [
             0.3333333333333333,
             "#9c179e"
            ],
            [
             0.4444444444444444,
             "#bd3786"
            ],
            [
             0.5555555555555556,
             "#d8576b"
            ],
            [
             0.6666666666666666,
             "#ed7953"
            ],
            [
             0.7777777777777778,
             "#fb9f3a"
            ],
            [
             0.8888888888888888,
             "#fdca26"
            ],
            [
             1,
             "#f0f921"
            ]
           ],
           "sequentialminus": [
            [
             0,
             "#0d0887"
            ],
            [
             0.1111111111111111,
             "#46039f"
            ],
            [
             0.2222222222222222,
             "#7201a8"
            ],
            [
             0.3333333333333333,
             "#9c179e"
            ],
            [
             0.4444444444444444,
             "#bd3786"
            ],
            [
             0.5555555555555556,
             "#d8576b"
            ],
            [
             0.6666666666666666,
             "#ed7953"
            ],
            [
             0.7777777777777778,
             "#fb9f3a"
            ],
            [
             0.8888888888888888,
             "#fdca26"
            ],
            [
             1,
             "#f0f921"
            ]
           ]
          },
          "colorway": [
           "#636efa",
           "#EF553B",
           "#00cc96",
           "#ab63fa",
           "#FFA15A",
           "#19d3f3",
           "#FF6692",
           "#B6E880",
           "#FF97FF",
           "#FECB52"
          ],
          "font": {
           "color": "#2a3f5f"
          },
          "geo": {
           "bgcolor": "white",
           "lakecolor": "white",
           "landcolor": "#E5ECF6",
           "showlakes": true,
           "showland": true,
           "subunitcolor": "white"
          },
          "hoverlabel": {
           "align": "left"
          },
          "hovermode": "closest",
          "mapbox": {
           "style": "light"
          },
          "paper_bgcolor": "white",
          "plot_bgcolor": "#E5ECF6",
          "polar": {
           "angularaxis": {
            "gridcolor": "white",
            "linecolor": "white",
            "ticks": ""
           },
           "bgcolor": "#E5ECF6",
           "radialaxis": {
            "gridcolor": "white",
            "linecolor": "white",
            "ticks": ""
           }
          },
          "scene": {
           "xaxis": {
            "backgroundcolor": "#E5ECF6",
            "gridcolor": "white",
            "gridwidth": 2,
            "linecolor": "white",
            "showbackground": true,
            "ticks": "",
            "zerolinecolor": "white"
           },
           "yaxis": {
            "backgroundcolor": "#E5ECF6",
            "gridcolor": "white",
            "gridwidth": 2,
            "linecolor": "white",
            "showbackground": true,
            "ticks": "",
            "zerolinecolor": "white"
           },
           "zaxis": {
            "backgroundcolor": "#E5ECF6",
            "gridcolor": "white",
            "gridwidth": 2,
            "linecolor": "white",
            "showbackground": true,
            "ticks": "",
            "zerolinecolor": "white"
           }
          },
          "shapedefaults": {
           "line": {
            "color": "#2a3f5f"
           }
          },
          "ternary": {
           "aaxis": {
            "gridcolor": "white",
            "linecolor": "white",
            "ticks": ""
           },
           "baxis": {
            "gridcolor": "white",
            "linecolor": "white",
            "ticks": ""
           },
           "bgcolor": "#E5ECF6",
           "caxis": {
            "gridcolor": "white",
            "linecolor": "white",
            "ticks": ""
           }
          },
          "title": {
           "x": 0.05
          },
          "xaxis": {
           "automargin": true,
           "gridcolor": "white",
           "linecolor": "white",
           "ticks": "",
           "title": {
            "standoff": 15
           },
           "zerolinecolor": "white",
           "zerolinewidth": 2
          },
          "yaxis": {
           "automargin": true,
           "gridcolor": "white",
           "linecolor": "white",
           "ticks": "",
           "title": {
            "standoff": 15
           },
           "zerolinecolor": "white",
           "zerolinewidth": 2
          }
         }
        }
       }
      },
      "image/png": "[encoded data removed]",
      "text/html": [
       "<div>                            <div id=\"e67cbaeb-99fb-47be-b70a-8b50b2cb27a8\" class=\"plotly-graph-div\" style=\"height:500px; width:100%;\"></div>            <script type=\"text/javascript\">                require([\"plotly\"], function(Plotly) {                    window.PLOTLYENV=window.PLOTLYENV || {};                                    if (document.getElementById(\"e67cbaeb-99fb-47be-b70a-8b50b2cb27a8\")) {                    Plotly.newPlot(                        \"e67cbaeb-99fb-47be-b70a-8b50b2cb27a8\",                        [{\"colorscale\":[[0.0,\"rgb(255,245,240)\"],[0.125,\"rgb(254,224,210)\"],[0.25,\"rgb(252,187,161)\"],[0.375,\"rgb(252,146,114)\"],[0.5,\"rgb(251,106,74)\"],[0.625,\"rgb(239,59,44)\"],[0.75,\"rgb(203,24,29)\"],[0.875,\"rgb(165,15,21)\"],[1.0,\"rgb(103,0,13)\"]],\"opacity\":0.2,\"x\":[1.0,0.8888888888888888,0.7777777777777778,0.6666666666666667,0.5555555555555556,0.4444444444444444,0.33333333333333337,0.22222222222222232,0.11111111111111116,0.0],\"y\":[0.0,0.2222222222222222,0.4444444444444444,0.6666666666666666,0.8888888888888888,1.1111111111111112,1.3333333333333333,1.5555555555555554,1.7777777777777777,2.0],\"z\":[[-7.0,-7.123926639556885,-7.502824306488037,-8.174699783325195,-9.203764915466309,-10.527410507202148,-12.014962196350098,-13.591526985168457,-15.221181869506836,-16.885141372680664],[-7.666666507720947,-7.779191970825195,-8.12032413482666,-8.7087984085083,-9.593666076660156,-10.785530090332031,-12.191730499267578,-13.719902992248535,-15.318991661071777,-16.962432861328125],[-8.333333015441895,-8.43649959564209,-8.747931480407715,-9.277600288391113,-10.056622505187988,-11.11868953704834,-12.425615310668945,-13.890901565551758,-15.450005531311035,-17.066728591918945],[-9.0,-9.095317840576172,-9.382386207580566,-9.86686897277832,-10.567941665649414,-11.518410682678223,-12.71834659576416,-14.107332229614258,-15.616292953491211,-17.19940948486328],[-9.666666984558105,-9.755292892456055,-10.02184772491455,-10.469719886779785,-11.110899925231934,-11.971049308776855,-13.067670822143555,-14.371016502380371,-15.819855690002441,-17.361957550048828],[-10.333333015441895,-10.416179656982422,-10.665143966674805,-11.082343101501465,-11.67547607421875,-12.46324348449707,-13.46744441986084,-14.681947708129883,-16.062267303466797,-17.555843353271484],[-11.0,-11.077797889709473,-11.311468124389648,-11.702386856079102,-12.255633354187012,-12.984570503234863,-13.909444808959961,-15.037858963012695,-16.344236373901367,-17.782350540161133],[-11.666666984558105,-11.740013122558594,-11.960241317749023,-12.32827377319336,-12.84755802154541,-13.527644157409668,-14.385428428649902,-15.434528350830078,-16.665250778198242,-18.042333602905273],[-12.333333015441895,-12.402724266052246,-12.611028671264648,-12.958887100219727,-13.448699951171875,-14.087357521057129,-14.888327598571777,-15.86663818359375,-17.023481369018555,-18.336008071899414],[-13.0,-13.065850257873535,-13.263497352600098,-13.593399047851562,-14.057270050048828,-14.660146713256836,-15.412564277648926,-16.328699111938477,-17.41598892211914,-18.66278839111328]],\"type\":\"surface\"},{\"colorscale\":[[0.0,\"rgb(247,251,255)\"],[0.125,\"rgb(222,235,247)\"],[0.25,\"rgb(198,219,239)\"],[0.375,\"rgb(158,202,225)\"],[0.5,\"rgb(107,174,214)\"],[0.625,\"rgb(66,146,198)\"],[0.75,\"rgb(33,113,181)\"],[0.875,\"rgb(8,81,156)\"],[1.0,\"rgb(8,48,107)\"]],\"opacity\":1,\"x\":[1.0,0.8888888888888888,0.7777777777777778,0.6666666666666667,0.5555555555555556,0.4444444444444444,0.33333333333333337,0.22222222222222232,0.11111111111111116,0.0],\"y\":[0.0,0.2222222222222222,0.4444444444444444,0.6666666666666666,0.8888888888888888,1.1111111111111112,1.3333333333333333,1.5555555555555554,1.7777777777777777,2.0],\"z\":[[-6.999966621398926,-7.1239399909973145,-7.501588821411133,-8.173810005187988,-9.203767776489258,-10.52725887298584,-12.014845848083496,-13.591154098510742,-15.221198081970215,-16.885103225708008],[-7.6665873527526855,-7.779157638549805,-8.119789123535156,-8.708768844604492,-9.593378067016602,-10.785455703735352,-12.19167423248291,-13.719457626342773,-15.318755149841309,-16.962467193603516],[-8.333349227905273,-8.436347961425781,-8.747671127319336,-9.277467727661133,-10.056595802307129,-11.118626594543457,-12.425620079040527,-13.890756607055664,-15.449851989746094,-17.066688537597656],[-9.000017166137695,-9.095328330993652,-9.382165908813477,-9.86650562286377,-10.567870140075684,-11.518068313598633,-12.718094825744629,-14.107023239135742,-15.616166114807129,-17.199373245239258],[-9.666683197021484,-9.755216598510742,-10.021478652954102,-10.468161582946777,-11.110855102539062,-11.970970153808594,-13.06678295135498,-14.370925903320312,-15.819673538208008,-17.361961364746094],[-10.333358764648438,-10.416093826293945,-10.665098190307617,-11.081342697143555,-11.675397872924805,-12.463203430175781,-13.46729564666748,-14.681612968444824,-16.062191009521484,-17.55582618713379],[-10.999914169311523,-11.077803611755371,-11.310981750488281,-11.701784133911133,-12.250679016113281,-12.984457015991211,-13.909143447875977,-15.037677764892578,-16.34388542175293,-17.782146453857422],[-11.666630744934082,-11.739970207214355,-11.96013069152832,-12.327909469604492,-12.844264030456543,-13.527412414550781,-14.38521671295166,-15.434351921081543,-16.664888381958008,-18.041738510131836],[-12.333271026611328,-12.402737617492676,-12.611029624938965,-12.958661079406738,-13.446464538574219,-14.087238311767578,-14.888261795043945,-15.86642074584961,-17.02334213256836,-18.335895538330078],[-13.00003433227539,-13.065866470336914,-13.263153076171875,-13.593147277832031,-14.05569839477539,-14.65996265411377,-15.412544250488281,-16.328563690185547,-17.41583824157715,-18.662654876708984]],\"type\":\"surface\"}],                        {\"template\":{\"data\":{\"histogram2dcontour\":[{\"type\":\"histogram2dcontour\",\"colorbar\":{\"outlinewidth\":0,\"ticks\":\"\"},\"colorscale\":[[0.0,\"#0d0887\"],[0.1111111111111111,\"#46039f\"],[0.2222222222222222,\"#7201a8\"],[0.3333333333333333,\"#9c179e\"],[0.4444444444444444,\"#bd3786\"],[0.5555555555555556,\"#d8576b\"],[0.6666666666666666,\"#ed7953\"],[0.7777777777777778,\"#fb9f3a\"],[0.8888888888888888,\"#fdca26\"],[1.0,\"#f0f921\"]]}],\"choropleth\":[{\"type\":\"choropleth\",\"colorbar\":{\"outlinewidth\":0,\"ticks\":\"\"}}],\"histogram2d\":[{\"type\":\"histogram2d\",\"colorbar\":{\"outlinewidth\":0,\"ticks\":\"\"},\"colorscale\":[[0.0,\"#0d0887\"],[0.1111111111111111,\"#46039f\"],[0.2222222222222222,\"#7201a8\"],[0.3333333333333333,\"#9c179e\"],[0.4444444444444444,\"#bd3786\"],[0.5555555555555556,\"#d8576b\"],[0.6666666666666666,\"#ed7953\"],[0.7777777777777778,\"#fb9f3a\"],[0.8888888888888888,\"#fdca26\"],[1.0,\"#f0f921\"]]}],\"heatmap\":[{\"type\":\"heatmap\",\"colorbar\":{\"outlinewidth\":0,\"ticks\":\"\"},\"colorscale\":[[0.0,\"#0d0887\"],[0.1111111111111111,\"#46039f\"],[0.2222222222222222,\"#7201a8\"],[0.3333333333333333,\"#9c179e\"],[0.4444444444444444,\"#bd3786\"],[0.5555555555555556,\"#d8576b\"],[0.6666666666666666,\"#ed7953\"],[0.7777777777777778,\"#fb9f3a\"],[0.8888888888888888,\"#fdca26\"],[1.0,\"#f0f921\"]]}],\"heatmapgl\":[{\"type\":\"heatmapgl\",\"colorbar\":{\"outlinewidth\":0,\"ticks\":\"\"},\"colorscale\":[[0.0,\"#0d0887\"],[0.1111111111111111,\"#46039f\"],[0.2222222222222222,\"#7201a8\"],[0.3333333333333333,\"#9c179e\"],[0.4444444444444444,\"#bd3786\"],[0.5555555555555556,\"#d8576b\"],[0.6666666666666666,\"#ed7953\"],[0.7777777777777778,\"#fb9f3a\"],[0.8888888888888888,\"#fdca26\"],[1.0,\"#f0f921\"]]}],\"contourcarpet\":[{\"type\":\"contourcarpet\",\"colorbar\":{\"outlinewidth\":0,\"ticks\":\"\"}}],\"contour\":[{\"type\":\"contour\",\"colorbar\":{\"outlinewidth\":0,\"ticks\":\"\"},\"colorscale\":[[0.0,\"#0d0887\"],[0.1111111111111111,\"#46039f\"],[0.2222222222222222,\"#7201a8\"],[0.3333333333333333,\"#9c179e\"],[0.4444444444444444,\"#bd3786\"],[0.5555555555555556,\"#d8576b\"],[0.6666666666666666,\"#ed7953\"],[0.7777777777777778,\"#fb9f3a\"],[0.8888888888888888,\"#fdca26\"],[1.0,\"#f0f921\"]]}],\"surface\":[{\"type\":\"surface\",\"colorbar\":{\"outlinewidth\":0,\"ticks\":\"\"},\"colorscale\":[[0.0,\"#0d0887\"],[0.1111111111111111,\"#46039f\"],[0.2222222222222222,\"#7201a8\"],[0.3333333333333333,\"#9c179e\"],[0.4444444444444444,\"#bd3786\"],[0.5555555555555556,\"#d8576b\"],[0.6666666666666666,\"#ed7953\"],[0.7777777777777778,\"#fb9f3a\"],[0.8888888888888888,\"#fdca26\"],[1.0,\"#f0f921\"]]}],\"mesh3d\":[{\"type\":\"mesh3d\",\"colorbar\":{\"outlinewidth\":0,\"ticks\":\"\"}}],\"scatter\":[{\"fillpattern\":{\"fillmode\":\"overlay\",\"size\":10,\"solidity\":0.2},\"type\":\"scatter\"}],\"parcoords\":[{\"type\":\"parcoords\",\"line\":{\"colorbar\":{\"outlinewidth\":0,\"ticks\":\"\"}}}],\"scatterpolargl\":[{\"type\":\"scatterpolargl\",\"marker\":{\"colorbar\":{\"outlinewidth\":0,\"ticks\":\"\"}}}],\"bar\":[{\"error_x\":{\"color\":\"#2a3f5f\"},\"error_y\":{\"color\":\"#2a3f5f\"},\"marker\":{\"line\":{\"color\":\"#E5ECF6\",\"width\":0.5},\"pattern\":{\"fillmode\":\"overlay\",\"size\":10,\"solidity\":0.2}},\"type\":\"bar\"}],\"scattergeo\":[{\"type\":\"scattergeo\",\"marker\":{\"colorbar\":{\"outlinewidth\":0,\"ticks\":\"\"}}}],\"scatterpolar\":[{\"type\":\"scatterpolar\",\"marker\":{\"colorbar\":{\"outlinewidth\":0,\"ticks\":\"\"}}}],\"histogram\":[{\"marker\":{\"pattern\":{\"fillmode\":\"overlay\",\"size\":10,\"solidity\":0.2}},\"type\":\"histogram\"}],\"scattergl\":[{\"type\":\"scattergl\",\"marker\":{\"colorbar\":{\"outlinewidth\":0,\"ticks\":\"\"}}}],\"scatter3d\":[{\"type\":\"scatter3d\",\"line\":{\"colorbar\":{\"outlinewidth\":0,\"ticks\":\"\"}},\"marker\":{\"colorbar\":{\"outlinewidth\":0,\"ticks\":\"\"}}}],\"scattermapbox\":[{\"type\":\"scattermapbox\",\"marker\":{\"colorbar\":{\"outlinewidth\":0,\"ticks\":\"\"}}}],\"scatterternary\":[{\"type\":\"scatterternary\",\"marker\":{\"colorbar\":{\"outlinewidth\":0,\"ticks\":\"\"}}}],\"scattercarpet\":[{\"type\":\"scattercarpet\",\"marker\":{\"colorbar\":{\"outlinewidth\":0,\"ticks\":\"\"}}}],\"carpet\":[{\"aaxis\":{\"endlinecolor\":\"#2a3f5f\",\"gridcolor\":\"white\",\"linecolor\":\"white\",\"minorgridcolor\":\"white\",\"startlinecolor\":\"#2a3f5f\"},\"baxis\":{\"endlinecolor\":\"#2a3f5f\",\"gridcolor\":\"white\",\"linecolor\":\"white\",\"minorgridcolor\":\"white\",\"startlinecolor\":\"#2a3f5f\"},\"type\":\"carpet\"}],\"table\":[{\"cells\":{\"fill\":{\"color\":\"#EBF0F8\"},\"line\":{\"color\":\"white\"}},\"header\":{\"fill\":{\"color\":\"#C8D4E3\"},\"line\":{\"color\":\"white\"}},\"type\":\"table\"}],\"barpolar\":[{\"marker\":{\"line\":{\"color\":\"#E5ECF6\",\"width\":0.5},\"pattern\":{\"fillmode\":\"overlay\",\"size\":10,\"solidity\":0.2}},\"type\":\"barpolar\"}],\"pie\":[{\"automargin\":true,\"type\":\"pie\"}]},\"layout\":{\"autotypenumbers\":\"strict\",\"colorway\":[\"#636efa\",\"#EF553B\",\"#00cc96\",\"#ab63fa\",\"#FFA15A\",\"#19d3f3\",\"#FF6692\",\"#B6E880\",\"#FF97FF\",\"#FECB52\"],\"font\":{\"color\":\"#2a3f5f\"},\"hovermode\":\"closest\",\"hoverlabel\":{\"align\":\"left\"},\"paper_bgcolor\":\"white\",\"plot_bgcolor\":\"#E5ECF6\",\"polar\":{\"bgcolor\":\"#E5ECF6\",\"angularaxis\":{\"gridcolor\":\"white\",\"linecolor\":\"white\",\"ticks\":\"\"},\"radialaxis\":{\"gridcolor\":\"white\",\"linecolor\":\"white\",\"ticks\":\"\"}},\"ternary\":{\"bgcolor\":\"#E5ECF6\",\"aaxis\":{\"gridcolor\":\"white\",\"linecolor\":\"white\",\"ticks\":\"\"},\"baxis\":{\"gridcolor\":\"white\",\"linecolor\":\"white\",\"ticks\":\"\"},\"caxis\":{\"gridcolor\":\"white\",\"linecolor\":\"white\",\"ticks\":\"\"}},\"coloraxis\":{\"colorbar\":{\"outlinewidth\":0,\"ticks\":\"\"}},\"colorscale\":{\"sequential\":[[0.0,\"#0d0887\"],[0.1111111111111111,\"#46039f\"],[0.2222222222222222,\"#7201a8\"],[0.3333333333333333,\"#9c179e\"],[0.4444444444444444,\"#bd3786\"],[0.5555555555555556,\"#d8576b\"],[0.6666666666666666,\"#ed7953\"],[0.7777777777777778,\"#fb9f3a\"],[0.8888888888888888,\"#fdca26\"],[1.0,\"#f0f921\"]],\"sequentialminus\":[[0.0,\"#0d0887\"],[0.1111111111111111,\"#46039f\"],[0.2222222222222222,\"#7201a8\"],[0.3333333333333333,\"#9c179e\"],[0.4444444444444444,\"#bd3786\"],[0.5555555555555556,\"#d8576b\"],[0.6666666666666666,\"#ed7953\"],[0.7777777777777778,\"#fb9f3a\"],[0.8888888888888888,\"#fdca26\"],[1.0,\"#f0f921\"]],\"diverging\":[[0,\"#8e0152\"],[0.1,\"#c51b7d\"],[0.2,\"#de77ae\"],[0.3,\"#f1b6da\"],[0.4,\"#fde0ef\"],[0.5,\"#f7f7f7\"],[0.6,\"#e6f5d0\"],[0.7,\"#b8e186\"],[0.8,\"#7fbc41\"],[0.9,\"#4d9221\"],[1,\"#276419\"]]},\"xaxis\":{\"gridcolor\":\"white\",\"linecolor\":\"white\",\"ticks\":\"\",\"title\":{\"standoff\":15},\"zerolinecolor\":\"white\",\"automargin\":true,\"zerolinewidth\":2},\"yaxis\":{\"gridcolor\":\"white\",\"linecolor\":\"white\",\"ticks\":\"\",\"title\":{\"standoff\":15},\"zerolinecolor\":\"white\",\"automargin\":true,\"zerolinewidth\":2},\"scene\":{\"xaxis\":{\"backgroundcolor\":\"#E5ECF6\",\"gridcolor\":\"white\",\"linecolor\":\"white\",\"showbackground\":true,\"ticks\":\"\",\"zerolinecolor\":\"white\",\"gridwidth\":2},\"yaxis\":{\"backgroundcolor\":\"#E5ECF6\",\"gridcolor\":\"white\",\"linecolor\":\"white\",\"showbackground\":true,\"ticks\":\"\",\"zerolinecolor\":\"white\",\"gridwidth\":2},\"zaxis\":{\"backgroundcolor\":\"#E5ECF6\",\"gridcolor\":\"white\",\"linecolor\":\"white\",\"showbackground\":true,\"ticks\":\"\",\"zerolinecolor\":\"white\",\"gridwidth\":2}},\"shapedefaults\":{\"line\":{\"color\":\"#2a3f5f\"}},\"annotationdefaults\":{\"arrowcolor\":\"#2a3f5f\",\"arrowhead\":0,\"arrowwidth\":1},\"geo\":{\"bgcolor\":\"white\",\"landcolor\":\"#E5ECF6\",\"subunitcolor\":\"white\",\"showland\":true,\"showlakes\":true,\"lakecolor\":\"white\"},\"title\":{\"x\":0.05},\"mapbox\":{\"style\":\"light\"}}},\"height\":500},                        {\"responsive\": true}                    ).then(function(){\n",
       "                            \n",
       "var gd = document.getElementById('e67cbaeb-99fb-47be-b70a-8b50b2cb27a8');\n",
       "var x = new MutationObserver(function (mutations, observer) {{\n",
       "        var display = window.getComputedStyle(gd).display;\n",
       "        if (!display || display === 'none') {{\n",
       "            console.log([gd, 'removed!']);\n",
       "            Plotly.purge(gd);\n",
       "            observer.disconnect();\n",
       "        }}\n",
       "}});\n",
       "\n",
       "// Listen for the removal of the full notebook cells\n",
       "var notebookContainer = gd.closest('#notebook-container');\n",
       "if (notebookContainer) {{\n",
       "    x.observe(notebookContainer, {childList: true});\n",
       "}}\n",
       "\n",
       "// Listen for the clearing of the current output cell\n",
       "var outputEl = gd.closest('.output');\n",
       "if (outputEl) {{\n",
       "    x.observe(outputEl, {childList: true});\n",
       "}}\n",
       "\n",
       "                        })                };                });            </script>        </div>"
      ]
     },
     "metadata": {},
     "output_type": "display_data"
    },
    {
     "data": {
      "image/png": "[encoded data removed]",
      "text/plain": [
       "<Figure size 1080x216 with 1 Axes>"
      ]
     },
     "metadata": {
      "needs_background": "light"
     },
     "output_type": "display_data"
    },
    {
     "data": {
      "image/png": "[encoded data removed]",
      "text/plain": [
       "<Figure size 720x2880 with 4 Axes>"
      ]
     },
     "metadata": {
      "needs_background": "light"
     },
     "output_type": "display_data"
    }
   ],
   "source": [
    "myvqe.show_results_annni()"
   ]
  },
  {
   "cell_type": "code",
   "execution_count": 4,
   "id": "ae4e38ba-44b4-4daf-a23d-5528dc32f092",
   "metadata": {},
   "outputs": [],
   "source": [
    "\"\"\" This module implements the base functions to implement a VQE for a Ising Chain with Transverse Field. \"\"\"\n",
    "import pennylane as qml\n",
    "from pennylane import numpy as np\n",
    "import jax\n",
    "import jax.numpy as jnp\n",
    "from jax import jit\n",
    "from jax.example_libraries import optimizers\n",
    "\n",
    "from matplotlib import pyplot as plt\n",
    "\n",
    "import copy\n",
    "import tqdm  # Pretty progress bars\n",
    "import joblib  # Writing and loading\n",
    "\n",
    "import warnings\n",
    "\n",
    "warnings.filterwarnings(\n",
    "    \"ignore\",\n",
    "    message=\"For Hamiltonians, the eigenvalues will be computed numerically. This may be computationally intensive for a large number of wires.Consider using a sparse representation of the Hamiltonian with qml.SparseHamiltonian.\",\n",
    ")\n",
    "\n",
    "import sys, os\n",
    "sys.path.insert(0, '../../')\n",
    "import PhaseEstimation.circuits as circuits\n",
    "\n",
    "##############\n",
    "\n",
    "def qcnn_circuit(params_vqe, vqe_circuit_fun, params, N, n_outputs):\n",
    "    \"\"\"\n",
    "    Building function for the circuit:\n",
    "          VQE(params_vqe) + QCNN(params)\n",
    "\n",
    "    Parameters\n",
    "    ----------\n",
    "    params_vqe : np.ndarray\n",
    "        Array of VQE parameters (states)\n",
    "    vqe_circuit_fun : function\n",
    "        Function of the VQE circuit\n",
    "    params : np.ndarray\n",
    "        Array of QCNN parameters\n",
    "    N : int\n",
    "        Number of qubits\n",
    "\n",
    "    Returns\n",
    "    -------\n",
    "    int\n",
    "        Total number of parameters needed to build this circuit\n",
    "    \"\"\"\n",
    "\n",
    "    # Wires that are not measured (through pooling)\n",
    "    active_wires = np.arange(N)\n",
    "\n",
    "    # Input: State through VQE\n",
    "    vqe_circuit_fun(N, params_vqe)\n",
    "\n",
    "    # Visual Separation VQE||QCNN\n",
    "    qml.Barrier()\n",
    "    qml.Barrier()\n",
    "\n",
    "    # Index of the parameter vector\n",
    "    index = 0\n",
    "\n",
    "    # Iterate Convolution+Pooling until we only have a single wires\n",
    "    while len(active_wires) > n_outputs:\n",
    "        index = circuits.convolution(active_wires, params, index)\n",
    "        qml.Barrier()\n",
    "        index, active_wires = circuits.pooling(active_wires, qml.RY, params, index)\n",
    "        qml.Barrier()\n",
    "        index = circuits.convolution(active_wires, params, index)\n",
    "        qml.Barrier()\n",
    "        index, active_wires = circuits.pooling(active_wires, qml.RY, params, index)\n",
    "        qml.Barrier()\n",
    "\n",
    "    # Return the number of parameters\n",
    "    return index + 1\n",
    "\n",
    "\n",
    "class qcnn:\n",
    "    def __init__(self, vqe, qcnn_circuit, n_outputs = 1):\n",
    "        \"\"\"\n",
    "        Class for the QCNN algorithm\n",
    "\n",
    "        Parameters\n",
    "        ----------\n",
    "        vqe : class\n",
    "            VQE class\n",
    "        qcnn_circuit :\n",
    "            Function of the QCNN circuit\n",
    "        \"\"\"\n",
    "        self.vqe = vqe\n",
    "        self.N = vqe.N\n",
    "        self.n_states = vqe.n_states\n",
    "        self.circuit = lambda vqe_p, qcnn_p: qcnn_circuit(\n",
    "            vqe_p, vqe.circuit_fun, qcnn_p, self.N, n_outputs\n",
    "        )\n",
    "        print('a')\n",
    "        self.n_params, _ = self.circuit([0] * 10000, [0] * 10000)\n",
    "        print(self.n_params)\n",
    "        self.params = np.random.rand(self.n_params)*np.pi\n",
    "        self.device = qml.device(\"default.qubit.jax\", wires=self.N, shots=None)\n",
    "\n",
    "        self.vqe_states = np.array(vqe.vqe_states)\n",
    "        self.labels = np.array(vqe.Hs.labels)\n",
    "        self.train_index = []\n",
    "        self.loss_train = []\n",
    "        self.loss_test = []\n",
    "\n",
    "        self.circuit_fun = qcnn_circuit\n",
    "\n",
    "    def show_circuit(self):\n",
    "        \"\"\"\n",
    "        Prints the current circuit defined by self.circuit\n",
    "        \"\"\"\n",
    "\n",
    "        @qml.qnode(self.device, interface=\"jax\")\n",
    "        def qcnn_state(self):\n",
    "            self.circuit([0] * 1000, np.arange(self.n_params))\n",
    "\n",
    "            return qml.state()\n",
    "\n",
    "        drawer = qml.draw(qcnn_state)\n",
    "        print(drawer(self))\n",
    "\n",
    "    # Training function\n",
    "    def train(self, lr, n_epochs, train_index, circuit=False, plot=False):\n",
    "        \"\"\"\n",
    "        Training function for the QCNN.\n",
    "\n",
    "        Parameters\n",
    "        ----------\n",
    "        lr : float\n",
    "            Learning rate to be multiplied in the circuit-gradient output\n",
    "        n_epochs : int\n",
    "            Total number of epochs for each learning\n",
    "        train_index : np.ndarray\n",
    "            Index of training points\n",
    "        circuit : bool\n",
    "            if True -> Prints the circuit\n",
    "        plot : bool\n",
    "            if True -> It displays loss curve\n",
    "        \"\"\"\n",
    "        if None not in self.labels:\n",
    "            X_train, Y_train = jnp.array(self.vqe_states[train_index]), jnp.array(\n",
    "                self.labels[train_index]\n",
    "            )\n",
    "            test_index = np.setdiff1d(np.arange(len(self.vqe_states)), train_index)\n",
    "            X_test, Y_test = jnp.array(self.vqe_states[test_index]), jnp.array(\n",
    "                self.labels[test_index]\n",
    "            )\n",
    "        else:\n",
    "            mask = jnp.array(jnp.logical_or(jnp.array(self.vqe.Hs.model_params)[:,1] == 0, jnp.array(self.vqe.Hs.model_params)[:,2] == 0))\n",
    "            #mask = jnp.array(self.vqe.Hs.model_params)[:,1] == 0\n",
    "            self.vqe_states = jnp.array(self.vqe_states)\n",
    "            \n",
    "            #mask = jnp.array(myqcnn.vqe.Hs.model_params)[:,1] == 0\n",
    "            X, Y = self.vqe_states[mask], self.labels[mask,:].astype(int)\n",
    "            test_index = np.setdiff1d(np.arange(len(Y)), train_index)\n",
    "            \n",
    "            X_train, Y_train = X[train_index], Y[train_index]\n",
    "            X_test, Y_test   = X[test_index], Y[test_index]\n",
    "        \n",
    "        if circuit:\n",
    "            # Display the circuit\n",
    "            print(\"+--- CIRCUIT ---+\")\n",
    "            self.show_circuit()\n",
    "\n",
    "        @qml.qnode(self.device, interface=\"jax\")\n",
    "        def qcnn_circuit_prob(params_vqe, params):\n",
    "            _, active_wires = self.circuit(params_vqe, params)\n",
    "            print(active_wires)\n",
    "            if len(active_wires) == 1:\n",
    "                return qml.probs(wires=self.N - 1)\n",
    "            else: return [qml.probs(wires=int(wire)) for wire in active_wires]\n",
    "\n",
    "        def compute_cross_entropy_OLD(X, Y, params):\n",
    "            v_qcnn_prob = jax.vmap(lambda v: qcnn_circuit_prob(v, params))\n",
    "\n",
    "            predictions = v_qcnn_prob(X)\n",
    "            logprobs = jnp.log(predictions)\n",
    "\n",
    "            nll = jnp.take_along_axis(logprobs, jnp.expand_dims(Y, axis=1), axis=1)\n",
    "            ce = -jnp.mean(nll)\n",
    "\n",
    "            return ce\n",
    "        \n",
    "        def compute_cross_entropy(X, Y, params):\n",
    "            v_qcnn_prob = jax.vmap(lambda v: qcnn_circuit_prob(v, params))\n",
    "\n",
    "            predictions = v_qcnn_prob(X)\n",
    "            logprobs = jnp.log(predictions)\n",
    "            Y = Y.flatten()\n",
    "            logprobs = (jnp.reshape(logprobs.flatten(), (len(Y),2)))\n",
    "\n",
    "            nll = jnp.take_along_axis(logprobs, jnp.expand_dims(Y, axis=1), axis=1)\n",
    "            ce = - jnp.mean(nll)\n",
    "\n",
    "            return ce\n",
    "        \n",
    "        def compute_cross_entropy1(X, Y, params):\n",
    "            v_qcnn_prob = jax.vmap(lambda v: qcnn_circuit_prob(v, params))\n",
    "\n",
    "            predictions = v_qcnn_prob(X)\n",
    "            \n",
    "            predictions = predictions[:,:,1]\n",
    "            \n",
    "            return jnp.mean(jnp.square(predictions - Y))\n",
    "\n",
    "        # Gradient of the Loss function\n",
    "        d_compute_cross_entropy = jax.jit(\n",
    "            jax.grad(lambda p: compute_cross_entropy(X_train, Y_train, p))\n",
    "        )\n",
    "\n",
    "        def update(params, opt_state):\n",
    "            grads = d_compute_cross_entropy(params)\n",
    "            opt_state = opt_update(0, grads, opt_state)\n",
    "            \n",
    "            return get_params(opt_state), opt_state\n",
    "        \n",
    "        # Compute Loss of whole sets\n",
    "        train_compute_cross_entropy = jax.jit(\n",
    "            lambda p: compute_cross_entropy(X_train, Y_train, p)\n",
    "        )\n",
    "        test_compute_cross_entropy = jax.jit(\n",
    "            lambda p: compute_cross_entropy(X_test, Y_test, p)\n",
    "        )\n",
    "\n",
    "        params = copy.copy(self.params)\n",
    "\n",
    "        progress = tqdm.tqdm(range(n_epochs), position=0, leave=True)\n",
    "\n",
    "        # Defining an optimizer in Jax\n",
    "        opt_init, opt_update, get_params = optimizers.adam(lr)\n",
    "        opt_state = opt_init(params)\n",
    "        \n",
    "        loss_history = []\n",
    "        loss_history_test = []\n",
    "        for epoch in range(n_epochs):\n",
    "            params, opt_state = update(params, opt_state)\n",
    "\n",
    "            if epoch % 100 == 0:\n",
    "                loss_history.append(train_compute_cross_entropy(params))\n",
    "                if len(Y_test) > 0:\n",
    "                    loss_history_test.append(test_compute_cross_entropy(params))\n",
    "            progress.update(1)\n",
    "            progress.set_description(\"Cost: {0}\".format(loss_history[-1]))\n",
    "\n",
    "        self.loss_train = loss_history\n",
    "        self.loss_test = loss_history_test\n",
    "        self.params = params\n",
    "        self.train_index = train_index\n",
    "        \n",
    "        if plot:\n",
    "            plt.figure(figsize=(15, 5))\n",
    "            plt.plot(\n",
    "                np.arange(len(loss_history)) * 100,\n",
    "                np.asarray(loss_history),\n",
    "                label=\"Training Loss\",\n",
    "            )\n",
    "            if len(X_test) > 0:\n",
    "                plt.plot(\n",
    "                    np.arange(len(loss_history_test)) * 100,\n",
    "                    np.asarray(loss_history_test),\n",
    "                    label=\"Test Loss\",\n",
    "                )\n",
    "            plt.axhline(y=0, color=\"r\", linestyle=\"--\")\n",
    "            plt.title(\"Loss history\")\n",
    "            plt.ylabel(\"Average Cross entropy\")\n",
    "            plt.xlabel(\"Epoch\")\n",
    "            plt.grid(True)\n",
    "            plt.legend()\n",
    "\n",
    "    def show_results_isingchain(self):\n",
    "        \"\"\"\n",
    "        Plots performance of the classifier on the whole data\n",
    "        \"\"\"\n",
    "        train_index = self.train_index\n",
    "            \n",
    "        @qml.qnode(self.device, interface=\"jax\")\n",
    "        def qcnn_circuit_prob(params_vqe, params):\n",
    "            self.circuit(params_vqe, params)\n",
    "\n",
    "            return qml.probs(wires=self.N - 1)\n",
    "\n",
    "        test_index = np.setdiff1d(np.arange(len(self.vqe_states)), train_index)\n",
    "\n",
    "        predictions_train = []\n",
    "        predictions_test = []\n",
    "\n",
    "        colors_train = []\n",
    "        colors_test = []\n",
    "\n",
    "        vcircuit = jax.vmap(lambda v: qcnn_circuit_prob(v, self.params), in_axes=(0))\n",
    "        predictions = vcircuit(self.vqe_states)[:, 1]\n",
    "\n",
    "        for i, prediction in enumerate(predictions):\n",
    "            # if data in training set\n",
    "            if i in train_index:\n",
    "                predictions_train.append(prediction)\n",
    "                if np.round(prediction) == 0:\n",
    "                    colors_train.append(\"green\") if self.labels[\n",
    "                        i\n",
    "                    ] == 0 else colors_train.append(\"red\")\n",
    "                else:\n",
    "                    colors_train.append(\"red\") if self.labels[\n",
    "                        i\n",
    "                    ] == 0 else colors_train.append(\"green\")\n",
    "            else:\n",
    "                predictions_test.append(prediction)\n",
    "                if np.round(prediction) == 0:\n",
    "                    colors_test.append(\"green\") if self.labels[\n",
    "                        i\n",
    "                    ] == 0 else colors_test.append(\"red\")\n",
    "                else:\n",
    "                    colors_test.append(\"red\") if self.labels[\n",
    "                        i\n",
    "                    ] == 0 else colors_test.append(\"green\")\n",
    "\n",
    "        fig, ax = plt.subplots(2, 1, figsize=(16, 10))\n",
    "\n",
    "        ax[0].set_xlim(-0.1, 2.1)\n",
    "        ax[0].set_ylim(0, 1)\n",
    "        ax[0].grid(True)\n",
    "        ax[0].axhline(y=0.5, color=\"gray\", linestyle=\"--\")\n",
    "        ax[0].axvline(x=1, color=\"gray\", linestyle=\"--\")\n",
    "        ax[0].text(0.375, 0.68, \"I\", fontsize=24, fontfamily=\"serif\")\n",
    "        ax[0].text(1.6, 0.68, \"II\", fontsize=24, fontfamily=\"serif\")\n",
    "        ax[0].set_xlabel(\"Transverse field\")\n",
    "        ax[0].set_ylabel(\"Prediction of label II\")\n",
    "        ax[0].set_title(\"Predictions of labels; J = 1\")\n",
    "        ax[0].scatter(\n",
    "            2 * np.sort(train_index) / len(self.vqe_states),\n",
    "            predictions_train,\n",
    "            c=\"royalblue\",\n",
    "            label=\"Training samples\",\n",
    "        )\n",
    "        ax[0].scatter(\n",
    "            2 * np.sort(test_index) / len(self.vqe_states),\n",
    "            predictions_test,\n",
    "            c=\"orange\",\n",
    "            label=\"Test samples\",\n",
    "        )\n",
    "        ax[0].legend()\n",
    "\n",
    "        ax[1].set_xlim(-0.1, 2.1)\n",
    "        ax[1].set_ylim(0, 1)\n",
    "        ax[1].grid(True)\n",
    "        ax[1].axhline(y=0.5, color=\"gray\", linestyle=\"--\")\n",
    "        ax[1].axvline(x=1, color=\"gray\", linestyle=\"--\")\n",
    "        ax[1].text(0.375, 0.68, \"I\", fontsize=24, fontfamily=\"serif\")\n",
    "        ax[1].text(1.6, 0.68, \"II\", fontsize=24, fontfamily=\"serif\")\n",
    "        ax[1].set_xlabel(\"Transverse field\")\n",
    "        ax[1].set_ylabel(\"Prediction of label II\")\n",
    "        ax[1].set_title(\"Predictions of labels; J = 1\")\n",
    "        ax[1].scatter(\n",
    "            2 * np.sort(train_index) / len(self.vqe_states),\n",
    "            predictions_train,\n",
    "            c=colors_train,\n",
    "        )\n",
    "        ax[1].scatter(\n",
    "            2 * np.sort(test_index) / len(self.vqe_states),\n",
    "            predictions_test,\n",
    "            c=colors_test,\n",
    "        )\n",
    "        \n",
    "    def show_results_annni(self):\n",
    "        mask1 = jnp.array(myqcnn.vqe.Hs.model_params)[:,1] == 0\n",
    "        mask2 = jnp.array(myqcnn.vqe.Hs.model_params)[:,2] == 0\n",
    "        \n",
    "        print(mask1, mask2)\n",
    "        \n",
    "        ising_1, label_1  = self.vqe_states[mask1], self.labels[mask1,:].astype(int)\n",
    "        ising_2, label_2  = self.vqe_states[mask2], self.labels[mask2,:].astype(int)\n",
    "    \n",
    "        @qml.qnode(self.device, interface=\"jax\")\n",
    "        def qcnn_circuit_prob(params_vqe, params):\n",
    "            _, active_wires = self.circuit(params_vqe, params)\n",
    "\n",
    "            if len(active_wires) == 1:\n",
    "                return qml.probs(wires=self.N - 1)\n",
    "            else: return [qml.probs(wires=int(wire)) for wire in active_wires]\n",
    "        \n",
    "        vcircuit = jax.vmap(lambda v: qcnn_circuit_prob(v, self.params), in_axes=(0))\n",
    "        predictions1 = vcircuit(ising_1)\n",
    "        predictions2 = vcircuit(ising_2)\n",
    "        \n",
    "        out1_p1, out2_p1, c1 = [], [], []\n",
    "        for idx, pred in enumerate(predictions1):\n",
    "            print(pred)\n",
    "            print(label_1[idx])\n",
    "            out1_p1.append(pred[0][1])\n",
    "            out2_p1.append(pred[1][1])\n",
    "            \n",
    "            if (np.argmax(pred[0]) == label_1[idx][0]) and (np.argmax(pred[1]) == label_1[idx][1]):\n",
    "                c1.append('green')\n",
    "            else:\n",
    "                c1.append('red')\n",
    "        \n",
    "        fig, ax = plt.subplots(1, 2, figsize=(20, 6))\n",
    "        \n",
    "        x = np.arange(int(np.sqrt(self.n_states)))\n",
    "        ax[0].grid(True)\n",
    "        ax[0].scatter(x, out1_p1, c=c1)\n",
    "        ax[0].set_ylim(-.1,1.1)\n",
    "        ax[1].grid(True)\n",
    "        ax[1].scatter(x, out2_p1, c=c1)\n",
    "        ax[1].set_ylim(-.1,1.1)\n",
    "        \n",
    "        plt.show()\n",
    "        \n",
    "        out1_p2, out2_p2, c2 = [], [], []\n",
    "        for idx, pred in enumerate(predictions2):\n",
    "            print(pred)\n",
    "            print(label_2[idx])\n",
    "            out1_p2.append(pred[0][1])\n",
    "            out2_p2.append(pred[1][1])\n",
    "        \n",
    "            if (np.argmax(pred[0]) == label_2[idx][0]) and (np.argmax(pred[1]) == label_2[idx][1]):\n",
    "                c2.append('green')\n",
    "            else:\n",
    "                c2.append('red')\n",
    "                \n",
    "        fig, ax = plt.subplots(1, 2, figsize=(20, 6))\n",
    "        \n",
    "        x = np.arange(int(np.sqrt(self.n_states)))\n",
    "        ax[0].grid(True)\n",
    "        ax[0].scatter(x, out1_p2, c=c2)\n",
    "        ax[0].set_ylim(-.1,1.1)\n",
    "        ax[1].grid(True)\n",
    "        ax[1].scatter(x, out2_p2, c=c2)\n",
    "        ax[1].set_ylim(-.1,1.1)\n",
    "        \n",
    "        plt.show()\n",
    "        \n",
    "        return ising_1, label_1\n",
    "\n",
    "    def save(filename):\n",
    "        \"\"\"\n",
    "        Saves QCNN parameters to file\n",
    "\n",
    "        Parameters\n",
    "        ----------\n",
    "        filename : str\n",
    "            File where to save the parameters\n",
    "        \"\"\"\n",
    "\n",
    "        things_to_save = [self.params, self.circuit_fun]\n",
    "\n",
    "        with open(filename, \"wb\") as f:\n",
    "            pickle.dump(things_to_save, f)\n",
    "\n",
    "\n",
    "def load(filename_vqe, filename_qcnn):\n",
    "    \"\"\"\n",
    "    Load QCNN from VQE file and QCNN file\n",
    "    \n",
    "    Parameters\n",
    "    ----------\n",
    "    filename_vqe : str\n",
    "        Name of the file from where to load the VQE class\n",
    "    filename_qcnn : str\n",
    "        Name of the file from where to load the main parameters of the QCNN class\n",
    "    \"\"\"\n",
    "    loaded_vqe = vqe.load(filename_vqe)\n",
    "\n",
    "    with open(filename_qcnn, \"rb\") as f:\n",
    "        params, qcnn_circuit_fun = pickle.load(f)\n",
    "\n",
    "    loaded_qcnn = qcnn(vqe, qcnn_circuit_fun)\n",
    "    loaded_qcnn.params = params\n",
    "\n",
    "    return loaded_qcnn\n"
   ]
  },
  {
   "cell_type": "code",
   "execution_count": 5,
   "id": "7a0efca7-6fb6-4c41-a816-facfc1f533ab",
   "metadata": {},
   "outputs": [],
   "source": [
    "def pooling2(active_wires, qmlrot_func, params, index = 0):\n",
    "    \"\"\"\n",
    "    Pooling block for the QCNN\n",
    "\n",
    "    Parameters\n",
    "    ----------\n",
    "    active_wires : np.ndarray\n",
    "        Array of wires that are not measured during a previous pooling\n",
    "    params: np.ndarray\n",
    "        Array of parameters/rotation for the circuit\n",
    "    qmlrot_func : function\n",
    "        Pennylane Gate function to apply\n",
    "    index: int\n",
    "        Index from where to pick the elements from the params array\n",
    "\n",
    "    Returns\n",
    "    -------\n",
    "    int\n",
    "        Updated starting index of params array for further rotations\n",
    "    np.ndarray\n",
    "        Updated array of active wires (not measured)\n",
    "    \"\"\"\n",
    "    # Pooling:\n",
    "    isodd = True if len(active_wires) % 2 != 0 else False\n",
    "\n",
    "    for wire_meas, wire_next in zip(active_wires[0::2], active_wires[2::2]):\n",
    "        qml.IsingZZ(params[index], wires = [int(wire_meas), int(wire_next)])\n",
    "        m_0 = qml.measure(int(wire_meas))\n",
    "        qml.cond(m_0 == 0, qmlrot_func)(params[index + 1], wires=int(wire_next))\n",
    "        qml.cond(m_0 == 1, qmlrot_func)(params[index + 2], wires=int(wire_next))\n",
    "        index = index + 3\n",
    "\n",
    "        # Removing measured wires from active_wires:\n",
    "        active_wires = np.delete(active_wires, np.where(active_wires == wire_meas))\n",
    "\n",
    "    # ---- > If the number of wires is odd, the last wires is not pooled\n",
    "    #        so we apply a gate\n",
    "    if isodd:\n",
    "        qmlrot_func(params[index], wires = int(active_wires[-1]) )\n",
    "        index = index + 1\n",
    "\n",
    "    return index, active_wires"
   ]
  },
  {
   "cell_type": "code",
   "execution_count": 6,
   "id": "8acc3ab2-722c-492b-a782-865e2cffc2ab",
   "metadata": {},
   "outputs": [],
   "source": [
    "def convolution2(active_wires, params, index = 0):\n",
    "    \"\"\"\n",
    "    Convolution block for the QCNN\n",
    "\n",
    "    Parameters\n",
    "    ----------\n",
    "    active_wires : np.ndarray\n",
    "        Array of wires that are not measured during a previous pooling\n",
    "    params: np.ndarray\n",
    "        Array of parameters/rotation for the circuit\n",
    "    index: int\n",
    "        Index from where to pick the elements from the params array\n",
    "\n",
    "    Returns\n",
    "    -------\n",
    "    int\n",
    "        Updated starting index of params array for further rotations\n",
    "    \"\"\"\n",
    "    if len(active_wires) > 1:\n",
    "        # Convolution:\n",
    "        index = circuits.wall_RX(active_wires, params, index)\n",
    "        index = circuits.wall_RY(active_wires, params, index)\n",
    "        index = circuits.wall_RX(active_wires, params, index)\n",
    "\n",
    "        for k, wire in enumerate(active_wires):\n",
    "            for wire_next in active_wires[k+1:]:\n",
    "                qml.IsingXX(params[index], wires = [int(wire), int(wire_next)] )\n",
    "                index += 1\n",
    "\n",
    "    return index"
   ]
  },
  {
   "cell_type": "code",
   "execution_count": 7,
   "id": "beadf359-a021-429e-bc88-f0a49d330cba",
   "metadata": {},
   "outputs": [],
   "source": [
    "def block_pooling(active_wires, params, conv_rot, pool_rot, index):\n",
    "    if not active_wires[-1] - active_wires[0] < 1:\n",
    "        conv_rot(params[index], wires = [int(active_wires[2]), int(active_wires[0])] )\n",
    "        index += 1\n",
    "        conv_rot(params[index], wires = [int(active_wires[1]), int(active_wires[0])] )\n",
    "        index += 1\n",
    "        conv_rot(params[index], wires = [int(active_wires[-3]), int(active_wires[-1])] )\n",
    "        index += 1\n",
    "        conv_rot(params[index], wires = [int(active_wires[-2]), int(active_wires[-1])] )\n",
    "        index += 1\n",
    "        \n",
    "        qml.Barrier()\n",
    "        \n",
    "        m_0 = qml.measure(int(active_wires[0]))\n",
    "        m_1 = qml.measure(int(active_wires[-1]))\n",
    "        \n",
    "        qml.cond(m_0 == 0, pool_rot)(params[index    ], wires=int(active_wires[1]) )\n",
    "        qml.cond(m_0 == 0, pool_rot)(params[index + 1], wires=int(active_wires[2]) )\n",
    "        index += 2\n",
    "        qml.cond(m_0 == 0, pool_rot)(params[index    ], wires=int(active_wires[1]) )\n",
    "        qml.cond(m_0 == 1, pool_rot)(params[index + 1], wires=int(active_wires[2]) )\n",
    "        index += 2\n",
    "        \n",
    "        qml.cond(m_1 == 0, pool_rot)(params[index    ], wires=int(active_wires[-3]) )\n",
    "        qml.cond(m_1 == 1, pool_rot)(params[index + 1], wires=int(active_wires[-2]) )\n",
    "        index += 2\n",
    "        qml.cond(m_1 == 0, pool_rot)(params[index    ], wires=int(active_wires[-3]) )\n",
    "        qml.cond(m_1 == 1, pool_rot)(params[index + 1], wires=int(active_wires[-2]) )\n",
    "        index += 2\n",
    "        \n",
    "        active_wires = np.delete(active_wires, np.where(active_wires == active_wires[0]))\n",
    "        active_wires = np.delete(active_wires, np.where(active_wires == active_wires[-1]))\n",
    "    \n",
    "    return index, active_wires"
   ]
  },
  {
   "cell_type": "code",
   "execution_count": 11,
   "id": "35a9f895-926a-4c17-bfd2-7ce17e52aa05",
   "metadata": {},
   "outputs": [],
   "source": [
    "def annni_block(conv_wires, active_wires, params, index = 0):\n",
    "    if len(conv_wires) == 4:\n",
    "        index = circuits.wall_RX(conv_wires, params, index)\n",
    "        index = circuits.CRX_neighbour(conv_wires, params, index)\n",
    "        index = circuits.CRX_nextneighbour(np.flip(conv_wires), params, index)\n",
    "        index = circuits.CRX_neighbour(np.flip(conv_wires[:2]), params, index)\n",
    "        \n",
    "        m_0 = qml.measure(int(conv_wires[0]))\n",
    "        m_1 = qml.measure(int(conv_wires[-1]))\n",
    "        \n",
    "        qml.cond(m_0 == 0, qml.RY)(params[index    ], wires=int(conv_wires[1]) )\n",
    "        qml.cond(m_0 == 0, qml.RY)(params[index + 1], wires=int(conv_wires[1]) )\n",
    "        qml.cond(m_1 == 0, qml.RY)(params[index + 2], wires=int(conv_wires[2]) )\n",
    "        qml.cond(m_1 == 0, qml.RY)(params[index + 3], wires=int(conv_wires[2]) )\n",
    "        \n",
    "        index = index + 4\n",
    "        \n",
    "        active_wires = np.delete(active_wires, np.where(active_wires == conv_wires[0 ]))\n",
    "        active_wires = np.delete(active_wires, np.where(active_wires == conv_wires[-1]))\n",
    "        \n",
    "        index = circuits.wall_RY(conv_wires[1:3], params, index)\n",
    "        m_0 = qml.measure(int(conv_wires[1]))\n",
    "        qml.cond(m_0 == 0, qml.RY)(params[index    ], wires=int(conv_wires[2]) )\n",
    "        qml.cond(m_0 == 1, qml.RY)(params[index + 1], wires=int(conv_wires[2]) )\n",
    "        \n",
    "        active_wires = np.delete(active_wires, np.where(active_wires == conv_wires[1]))\n",
    "        \n",
    "        index = index + 2\n",
    "        \n",
    "    return index, active_wires"
   ]
  },
  {
   "cell_type": "code",
   "execution_count": 12,
   "id": "9e7739a8-315c-4537-82b7-ce2c53540b24",
   "metadata": {},
   "outputs": [],
   "source": [
    "def qcnn_circuit_annni1(params_vqe, vqe_circuit_fun, params, N, n_outputs):\n",
    "    \"\"\"\n",
    "    Building function for the circuit:\n",
    "          VQE(params_vqe) + QCNN(params)\n",
    "\n",
    "    Parameters\n",
    "    ----------\n",
    "    params_vqe : np.ndarray\n",
    "        Array of VQE parameters (states)\n",
    "    vqe_circuit_fun : function\n",
    "        Function of the VQE circuit\n",
    "    params : np.ndarray\n",
    "        Array of QCNN parameters\n",
    "    N : int\n",
    "        Number of qubits\n",
    "\n",
    "    Returns\n",
    "    -------\n",
    "    int\n",
    "        Total number of parameters needed to build this circuit\n",
    "    \"\"\"\n",
    "\n",
    "    # Wires that are not measured (through pooling)\n",
    "    active_wires = np.arange(N)\n",
    "\n",
    "    # Input: State through VQE\n",
    "    vqe_circuit_fun(N, params_vqe)\n",
    "\n",
    "    # Visual Separation VQE||QCNN\n",
    "    qml.Barrier()\n",
    "    qml.Barrier()\n",
    "\n",
    "    # Index of the parameter vector\n",
    "    index = 0\n",
    "    # Iterate Convolution+Pooling until we only have a single wires\n",
    "    index = circuits.wall_RX(active_wires, params, index)\n",
    "    \n",
    "    index, active_wires = annni_block(np.arange(4), active_wires, params, index)\n",
    "    index, active_wires = annni_block(np.arange(4,8), active_wires, params, index)\n",
    "    \n",
    "    index = circuits.wall_RX(active_wires, params, index)\n",
    "    qml.CRY(params[index + 1], wires = [int(active_wires[0]), int(active_wires[1])] )\n",
    "    \n",
    "    return index + 2, active_wires"
   ]
  },
  {
   "cell_type": "code",
   "execution_count": 13,
   "id": "0ed98a7a-47e4-462b-92af-cab1f4a35b7a",
   "metadata": {},
   "outputs": [
    {
     "name": "stdout",
     "output_type": "stream",
     "text": [
      "a\n",
      "48\n"
     ]
    }
   ],
   "source": [
    "myqcnn = qcnn(vqe.load_vqe('./bigrun.plk'), qcnn_circuit_annni1, n_outputs = 2)"
   ]
  },
  {
   "cell_type": "code",
   "execution_count": 14,
   "id": "450bd8e2-5c37-4594-9ffc-c27a3d334df8",
   "metadata": {},
   "outputs": [
    {
     "name": "stdout",
     "output_type": "stream",
     "text": [
      "+--- CIRCUIT ---+\n",
      "0: ──RY(0.00)──||─╭IsingXX(0.00)────────────────────────────────────────────────────────────\n",
      "1: ──RY(0.00)──||─╰IsingXX(0.00)─╭IsingXX(0.00)─────────────────────────────────────────────\n",
      "2: ──RY(0.00)──||────────────────╰IsingXX(0.00)─╭IsingXX(0.00)──────────────────────────────\n",
      "3: ──RY(0.00)──||───────────────────────────────╰IsingXX(0.00)─╭IsingXX(0.00)───────────────\n",
      "4: ──RY(0.00)──||──────────────────────────────────────────────╰IsingXX(0.00)─╭IsingXX(0.00)\n",
      "5: ──RY(0.00)──||─────────────────────────────────────────────────────────────╰IsingXX(0.00)\n",
      "6: ──RY(0.00)──||───────────────────────────────────────────────────────────────────────────\n",
      "7: ──RY(0.00)──||───────────────────────────────────────────────────────────────────────────\n",
      "\n",
      "─────────────────────────────────||──RZ(0.00)──RX(0.00)──||─╭IsingXX(0.00)───────────────\n",
      "─────────────────────────────────||──RZ(0.00)──RX(0.00)──||─│──────────────╭IsingXX(0.00)\n",
      "─────────────────────────────────||──RZ(0.00)──RX(0.00)──||─╰IsingXX(0.00)─│─────────────\n",
      "─────────────────────────────────||──RZ(0.00)──RX(0.00)──||────────────────╰IsingXX(0.00)\n",
      "─────────────────────────────────||──RZ(0.00)──RX(0.00)──||──────────────────────────────\n",
      "──╭IsingXX(0.00)─────────────────||──RZ(0.00)──RX(0.00)──||──────────────────────────────\n",
      "──╰IsingXX(0.00)─╭IsingXX(0.00)──||──RZ(0.00)──RX(0.00)──||──────────────────────────────\n",
      "─────────────────╰IsingXX(0.00)──||──RZ(0.00)──RX(0.00)──||──────────────────────────────\n",
      "\n",
      "───────────────────────────────────────────────────────────────||─╭IsingXX(0.00)───────────────\n",
      "───────────────────────────────────────────────────────────────||─╰IsingXX(0.00)─╭IsingXX(0.00)\n",
      "──╭IsingXX(0.00)───────────────────────────────────────────────||────────────────╰IsingXX(0.00)\n",
      "──│──────────────╭IsingXX(0.00)────────────────────────────────||──────────────────────────────\n",
      "──╰IsingXX(0.00)─│──────────────╭IsingXX(0.00)─────────────────||──────────────────────────────\n",
      "─────────────────╰IsingXX(0.00)─│──────────────╭IsingXX(0.00)──||──────────────────────────────\n",
      "────────────────────────────────╰IsingXX(0.00)─│───────────────||──────────────────────────────\n",
      "───────────────────────────────────────────────╰IsingXX(0.00)──||──────────────────────────────\n",
      "\n",
      "──────────────────────────────────────────────────────────────────────────────||──RZ(0.00)──RX(0.00)\n",
      "──────────────────────────────────────────────────────────────────────────────||──RZ(0.00)──RX(0.00)\n",
      "──╭IsingXX(0.00)──────────────────────────────────────────────────────────────||──RZ(0.00)──RX(0.00)\n",
      "──╰IsingXX(0.00)─╭IsingXX(0.00)───────────────────────────────────────────────||──RZ(0.00)──RX(0.00)\n",
      "─────────────────╰IsingXX(0.00)─╭IsingXX(0.00)────────────────────────────────||──RZ(0.00)──RX(0.00)\n",
      "────────────────────────────────╰IsingXX(0.00)─╭IsingXX(0.00)─────────────────||──RZ(0.00)──RX(0.00)\n",
      "───────────────────────────────────────────────╰IsingXX(0.00)─╭IsingXX(0.00)──||──RZ(0.00)──RX(0.00)\n",
      "──────────────────────────────────────────────────────────────╰IsingXX(0.00)──||──RZ(0.00)──RX(0.00)\n",
      "\n",
      "───||─╭IsingXX(0.00)─────────────────────────────────────────────────────────────────────────────||\n",
      "───||─│──────────────╭IsingXX(0.00)──────────────────────────────────────────────────────────────||\n",
      "───||─╰IsingXX(0.00)─│──────────────╭IsingXX(0.00)───────────────────────────────────────────────||\n",
      "───||────────────────╰IsingXX(0.00)─│──────────────╭IsingXX(0.00)────────────────────────────────||\n",
      "───||───────────────────────────────╰IsingXX(0.00)─│──────────────╭IsingXX(0.00)─────────────────||\n",
      "───||──────────────────────────────────────────────╰IsingXX(0.00)─│──────────────╭IsingXX(0.00)──||\n",
      "───||─────────────────────────────────────────────────────────────╰IsingXX(0.00)─│───────────────||\n",
      "───||────────────────────────────────────────────────────────────────────────────╰IsingXX(0.00)──||\n",
      "\n",
      "──╭IsingXX(0.00)───────────────────────────────────────────────────────────────────────────\n",
      "──╰IsingXX(0.00)─╭IsingXX(0.00)────────────────────────────────────────────────────────────\n",
      "─────────────────╰IsingXX(0.00)─╭IsingXX(0.00)─────────────────────────────────────────────\n",
      "────────────────────────────────╰IsingXX(0.00)─╭IsingXX(0.00)──────────────────────────────\n",
      "───────────────────────────────────────────────╰IsingXX(0.00)─╭IsingXX(0.00)───────────────\n",
      "──────────────────────────────────────────────────────────────╰IsingXX(0.00)─╭IsingXX(0.00)\n",
      "─────────────────────────────────────────────────────────────────────────────╰IsingXX(0.00)\n",
      "───────────────────────────────────────────────────────────────────────────────────────────\n",
      "\n",
      "──────────────────||──RZ(0.00)──RX(0.00)──||─╭IsingXX(0.00)──────────────────────────────\n",
      "──────────────────||──RZ(0.00)──RX(0.00)──||─│──────────────╭IsingXX(0.00)───────────────\n",
      "──────────────────||──RZ(0.00)──RX(0.00)──||─╰IsingXX(0.00)─│──────────────╭IsingXX(0.00)\n",
      "──────────────────||──RZ(0.00)──RX(0.00)──||────────────────╰IsingXX(0.00)─│─────────────\n",
      "──────────────────||──RZ(0.00)──RX(0.00)──||───────────────────────────────╰IsingXX(0.00)\n",
      "──────────────────||──RZ(0.00)──RX(0.00)──||─────────────────────────────────────────────\n",
      "──╭IsingXX(0.00)──||──RZ(0.00)──RX(0.00)──||─────────────────────────────────────────────\n",
      "──╰IsingXX(0.00)──||──RZ(0.00)──RX(0.00)──||─────────────────────────────────────────────\n",
      "\n",
      "────────────────────────────────────────────────||─╭IsingXX(0.00)──────────────────────────────\n",
      "────────────────────────────────────────────────||─╰IsingXX(0.00)─╭IsingXX(0.00)───────────────\n",
      "────────────────────────────────────────────────||────────────────╰IsingXX(0.00)─╭IsingXX(0.00)\n",
      "──╭IsingXX(0.00)────────────────────────────────||───────────────────────────────╰IsingXX(0.00)\n",
      "──│──────────────╭IsingXX(0.00)─────────────────||─────────────────────────────────────────────\n",
      "──╰IsingXX(0.00)─│──────────────╭IsingXX(0.00)──||─────────────────────────────────────────────\n",
      "─────────────────╰IsingXX(0.00)─│───────────────||─────────────────────────────────────────────\n",
      "────────────────────────────────╰IsingXX(0.00)──||─────────────────────────────────────────────\n",
      "\n",
      "───────────────────────────────────────────────────────────────||──RZ(0.00)──RX(0.00)──||\n",
      "───────────────────────────────────────────────────────────────||──RZ(0.00)──RX(0.00)──||\n",
      "───────────────────────────────────────────────────────────────||──RZ(0.00)──RX(0.00)──||\n",
      "──╭IsingXX(0.00)───────────────────────────────────────────────||──RZ(0.00)──RX(0.00)──||\n",
      "──╰IsingXX(0.00)─╭IsingXX(0.00)────────────────────────────────||──RZ(0.00)──RX(0.00)──||\n",
      "─────────────────╰IsingXX(0.00)─╭IsingXX(0.00)─────────────────||──RZ(0.00)──RX(0.00)──||\n",
      "────────────────────────────────╰IsingXX(0.00)─╭IsingXX(0.00)──||──RZ(0.00)──RX(0.00)──||\n",
      "───────────────────────────────────────────────╰IsingXX(0.00)──||──RZ(0.00)──RX(0.00)──||\n",
      "\n",
      "──╭IsingXX(0.00)─────────────────────────────────────────────────────────────────────────────||\n",
      "──│──────────────╭IsingXX(0.00)──────────────────────────────────────────────────────────────||\n",
      "──╰IsingXX(0.00)─│──────────────╭IsingXX(0.00)───────────────────────────────────────────────||\n",
      "─────────────────╰IsingXX(0.00)─│──────────────╭IsingXX(0.00)────────────────────────────────||\n",
      "────────────────────────────────╰IsingXX(0.00)─│──────────────╭IsingXX(0.00)─────────────────||\n",
      "───────────────────────────────────────────────╰IsingXX(0.00)─│──────────────╭IsingXX(0.00)──||\n",
      "──────────────────────────────────────────────────────────────╰IsingXX(0.00)─│───────────────||\n",
      "─────────────────────────────────────────────────────────────────────────────╰IsingXX(0.00)──||\n",
      "\n",
      "──╭IsingXX(0.00)───────────────────────────────────────────────────────────────────────────\n",
      "──╰IsingXX(0.00)─╭IsingXX(0.00)────────────────────────────────────────────────────────────\n",
      "─────────────────╰IsingXX(0.00)─╭IsingXX(0.00)─────────────────────────────────────────────\n",
      "────────────────────────────────╰IsingXX(0.00)─╭IsingXX(0.00)──────────────────────────────\n",
      "───────────────────────────────────────────────╰IsingXX(0.00)─╭IsingXX(0.00)───────────────\n",
      "──────────────────────────────────────────────────────────────╰IsingXX(0.00)─╭IsingXX(0.00)\n",
      "─────────────────────────────────────────────────────────────────────────────╰IsingXX(0.00)\n",
      "───────────────────────────────────────────────────────────────────────────────────────────\n",
      "\n",
      "──────────────────||──RZ(0.00)──RX(0.00)──||─╭IsingXX(0.00)──────────────────────────────\n",
      "──────────────────||──RZ(0.00)──RX(0.00)──||─│──────────────╭IsingXX(0.00)───────────────\n",
      "──────────────────||──RZ(0.00)──RX(0.00)──||─╰IsingXX(0.00)─│──────────────╭IsingXX(0.00)\n",
      "──────────────────||──RZ(0.00)──RX(0.00)──||────────────────╰IsingXX(0.00)─│─────────────\n",
      "──────────────────||──RZ(0.00)──RX(0.00)──||───────────────────────────────╰IsingXX(0.00)\n",
      "──────────────────||──RZ(0.00)──RX(0.00)──||─────────────────────────────────────────────\n",
      "──╭IsingXX(0.00)──||──RZ(0.00)──RX(0.00)──||─────────────────────────────────────────────\n",
      "──╰IsingXX(0.00)──||──RZ(0.00)──RX(0.00)──||─────────────────────────────────────────────\n",
      "\n",
      "────────────────────────────────────────────────||──RY(0.00)──RX(0.00)──||──||──RX(0.00)──RX(8.00)─\n",
      "────────────────────────────────────────────────||──RY(0.00)──RX(0.00)──||──||──RX(1.00)──RX(9.00)─\n",
      "────────────────────────────────────────────────||──RY(0.00)──RX(0.00)──||──||──RX(2.00)──RX(10.00)\n",
      "──╭IsingXX(0.00)────────────────────────────────||──RY(0.00)──RX(0.00)──||──||──RX(3.00)──RX(11.00)\n",
      "──│──────────────╭IsingXX(0.00)─────────────────||──RY(0.00)──RX(0.00)──||──||──RX(4.00)──RX(26.00)\n",
      "──╰IsingXX(0.00)─│──────────────╭IsingXX(0.00)──||──RY(0.00)──RX(0.00)──||──||──RX(5.00)──RX(27.00)\n",
      "─────────────────╰IsingXX(0.00)─│───────────────||──RY(0.00)──RX(0.00)──||──||──RX(6.00)──RX(28.00)\n",
      "────────────────────────────────╰IsingXX(0.00)──||──RY(0.00)──RX(0.00)──||──||──RX(7.00)──RX(29.00)\n",
      "\n",
      "──╭C──────────────────────────────────────────╭RX(16.00)─╭RX(17.00)───────────────────X\n",
      "──╰RX(12.00)─╭C────────────────────╭RX(15.00)─│──────────╰C────────────────────────────\n",
      "─────────────╰RX(13.00)─╭C─────────│──────────╰C─────────╭ControlledOperation(20.00)───\n",
      "────────────────────────╰RX(14.00)─╰C──────────X─────────╰C───────────────────────────X\n",
      "──╭C──────────────────────────────────────────╭RX(34.00)─╭RX(35.00)───────────────────X\n",
      "──╰RX(30.00)─╭C────────────────────╭RX(33.00)─│──────────╰C────────────────────────────\n",
      "─────────────╰RX(31.00)─╭C─────────│──────────╰C─────────╭ControlledOperation(38.00)───\n",
      "────────────────────────╰RX(32.00)─╰C──────────X─────────╰C───────────────────────────X\n",
      "\n",
      "──╭C───────────────────────────X───────────────────────────X─────────╭C─────────────────────────\n",
      "──╰ControlledOperation(18.00)────────────────────────────────────────╰ControlledOperation(19.00)\n",
      "──────────────────────────────╭ControlledOperation(21.00)──RY(23.00)────────────────────────────\n",
      "───X──────────────────────────╰C───────────────────────────X────────────────────────────────────\n",
      "──╭C───────────────────────────X───────────────────────────X─────────╭C─────────────────────────\n",
      "──╰ControlledOperation(36.00)────────────────────────────────────────╰ControlledOperation(37.00)\n",
      "──────────────────────────────╭ControlledOperation(39.00)──RY(41.00)────────────────────────────\n",
      "───X──────────────────────────╰C───────────────────────────X────────────────────────────────────\n",
      "\n",
      "───X───────────────────────────────────────────────────────────────────────────────────────┤  State\n",
      "───RY(22.00)─╭C──────────────────────────╭C────────────────────────────────────────────────┤  State\n",
      "─────────────╰ControlledOperation(24.00)─╰ControlledOperation(25.00)──RX(44.00)─╭C─────────┤  State\n",
      "────────────────────────────────────────────────────────────────────────────────│──────────┤  State\n",
      "───X────────────────────────────────────────────────────────────────────────────│──────────┤  State\n",
      "───RY(40.00)─╭C──────────────────────────╭C─────────────────────────────────────│──────────┤  State\n",
      "─────────────╰ControlledOperation(42.00)─╰ControlledOperation(43.00)──RX(45.00)─╰RY(47.00)─┤  State\n",
      "───────────────────────────────────────────────────────────────────────────────────────────┤  State\n"
     ]
    },
    {
     "name": "stderr",
     "output_type": "stream",
     "text": [
      "  0%|                                                  | 0/1000 [00:00<?, ?it/s]"
     ]
    },
    {
     "name": "stdout",
     "output_type": "stream",
     "text": [
      "[2 6]\n",
      "[2 6]\n"
     ]
    },
    {
     "name": "stderr",
     "output_type": "stream",
     "text": [
      "Cost: 0.4767126441001892: 100%|█████████████| 1000/1000 [00:17<00:00, 55.79it/s]\n"
     ]
    },
    {
     "data": {
      "image/png": "[encoded data removed]",
      "text/plain": [
       "<Figure size 1080x360 with 1 Axes>"
      ]
     },
     "metadata": {
      "needs_background": "light"
     },
     "output_type": "display_data"
    }
   ],
   "source": [
    "myqcnn.train(.5, 1000, np.arange(19), circuit=True, plot=True)"
   ]
  },
  {
   "cell_type": "code",
   "execution_count": 72,
   "id": "5d888ee5-a4af-4215-81e4-d7a0be751a47",
   "metadata": {},
   "outputs": [
    {
     "name": "stdout",
     "output_type": "stream",
     "text": [
      "[ True False False False False False False False False False  True False\n",
      " False False False False False False False False  True False False False\n",
      " False False False False False False  True False False False False False\n",
      " False False False False  True False False False False False False False\n",
      " False False  True False False False False False False False False False\n",
      "  True False False False False False False False False False  True False\n",
      " False False False False False False False False  True False False False\n",
      " False False False False False False  True False False False False False\n",
      " False False False False] [ True  True  True  True  True  True  True  True  True  True False False\n",
      " False False False False False False False False False False False False\n",
      " False False False False False False False False False False False False\n",
      " False False False False False False False False False False False False\n",
      " False False False False False False False False False False False False\n",
      " False False False False False False False False False False False False\n",
      " False False False False False False False False False False False False\n",
      " False False False False False False False False False False False False\n",
      " False False False False]\n",
      "[[0.5735359  0.42646766]\n",
      " [0.4261479  0.5738557 ]]\n",
      "[0 1]\n",
      "[[0.57533425 0.42466798]\n",
      " [0.4293458  0.5706564 ]]\n",
      "[0 1]\n",
      "[[0.5735348  0.42646787]\n",
      " [0.4294374  0.57056534]]\n",
      "[0 1]\n",
      "[[0.57354677 0.42645594]\n",
      " [0.42886525 0.5711376 ]]\n",
      "[0 1]\n",
      "[[0.57353836 0.42646408]\n",
      " [0.4288024  0.5712004 ]]\n",
      "[0 1]\n",
      "[[0.5735323  0.42647082]\n",
      " [0.429436   0.5705672 ]]\n",
      "[1 0]\n",
      "[[0.5737419  0.42625996]\n",
      " [0.42943475 0.5705675 ]]\n",
      "[1 0]\n",
      "[[0.57280266 0.4272    ]\n",
      " [0.42943543 0.5705671 ]]\n",
      "[1 0]\n",
      "[[0.57388    0.42612326]\n",
      " [0.42943427 0.5705688 ]]\n",
      "[1 0]\n",
      "[[0.573538   0.42646533]\n",
      " [0.42943713 0.57056624]]\n",
      "[1 0]\n"
     ]
    },
    {
     "data": {
      "image/png": "[encoded data removed]",
      "text/plain": [
       "<Figure size 1440x432 with 2 Axes>"
      ]
     },
     "metadata": {
      "needs_background": "light"
     },
     "output_type": "display_data"
    },
    {
     "name": "stdout",
     "output_type": "stream",
     "text": [
      "[[0.5735359  0.42646766]\n",
      " [0.4261479  0.5738557 ]]\n",
      "[0 1]\n",
      "[[0.5954314  0.40457243]\n",
      " [0.31174463 0.6882589 ]]\n",
      "[0 1]\n",
      "[[0.60436    0.39564323]\n",
      " [0.19777979 0.8022231 ]]\n",
      "[0 1]\n",
      "[[0.50983334 0.4901704 ]\n",
      " [0.08864447 0.91135913]]\n",
      "[0 1]\n",
      "[[0.37112734 0.6288763 ]\n",
      " [0.02396537 0.976038  ]]\n",
      "[0 1]\n",
      "[[0.25983745 0.7401659 ]\n",
      " [0.00433051 0.9956729 ]]\n",
      "[1 1]\n",
      "[[0.19524436 0.804759  ]\n",
      " [0.00125488 0.99874866]]\n",
      "[1 1]\n",
      "[[0.15619549 0.84380805]\n",
      " [0.00285658 0.997147  ]]\n",
      "[1 1]\n",
      "[[0.131357   0.86864734]\n",
      " [0.00568837 0.9943159 ]]\n",
      "[1 1]\n",
      "[[0.1142033  0.885801  ]\n",
      " [0.00874843 0.9912558 ]]\n",
      "[1 1]\n"
     ]
    },
    {
     "data": {
      "image/png": "[encoded data removed]",
      "text/plain": [
       "<Figure size 1440x432 with 2 Axes>"
      ]
     },
     "metadata": {
      "needs_background": "light"
     },
     "output_type": "display_data"
    }
   ],
   "source": [
    "x1, y1 = myqcnn.show_results_annni()"
   ]
  },
  {
   "cell_type": "code",
   "execution_count": 12,
   "id": "585845c4-f9e8-4ae7-8714-bbdede97b6dc",
   "metadata": {},
   "outputs": [],
   "source": [
    "@qml.qnode(myqcnn.device, interface=\"jax\")\n",
    "def qcnn_circuit_prob(params_vqe, params):\n",
    "    _, active_wires = myqcnn.circuit(params_vqe, params)\n",
    "\n",
    "    if len(active_wires) == 1:\n",
    "        return qml.probs(wires=myqcnn.N - 1)\n",
    "    else: return [qml.probs(wires=int(wire)) for wire in active_wires]\n",
    "\n",
    "def compute_cross_entropy(X, Y, params):\n",
    "    v_qcnn_prob = jax.vmap(lambda v: qcnn_circuit_prob(v, params))\n",
    "\n",
    "    predictions = v_qcnn_prob(X)\n",
    "    logprobs = jnp.log(predictions)\n",
    "    \n",
    "    print('Pred')\n",
    "    print(predictions)\n",
    "    return predictions\n",
    "    print('Log')\n",
    "    print(logprobs)\n",
    "    print('Y')\n",
    "    print(Y)\n",
    "    Y = Y.flatten()\n",
    "    logprobs = (jnp.reshape(logprobs.flatten(), (len(Y),2)))\n",
    "\n",
    "    nll = jnp.take_along_axis(logprobs, jnp.expand_dims(Y, axis=1), axis=1)\n",
    "    ce = - jnp.mean(nll)\n",
    "\n",
    "    return ce"
   ]
  },
  {
   "cell_type": "code",
   "execution_count": 13,
   "id": "2fee3618-bfac-4ee7-8d98-6aa3a0839b17",
   "metadata": {},
   "outputs": [
    {
     "ename": "NameError",
     "evalue": "name 'x' is not defined",
     "output_type": "error",
     "traceback": [
      "\u001b[0;31m---------------------------------------------------------------------------\u001b[0m",
      "\u001b[0;31mNameError\u001b[0m                                 Traceback (most recent call last)",
      "Input \u001b[0;32mIn [13]\u001b[0m, in \u001b[0;36m<cell line: 1>\u001b[0;34m()\u001b[0m\n\u001b[0;32m----> 1\u001b[0m pre \u001b[38;5;241m=\u001b[39m compute_cross_entropy(\u001b[43mx\u001b[49m[:\u001b[38;5;241m2\u001b[39m], y[:\u001b[38;5;241m2\u001b[39m], myqcnn\u001b[38;5;241m.\u001b[39mparams)\n",
      "\u001b[0;31mNameError\u001b[0m: name 'x' is not defined"
     ]
    }
   ],
   "source": [
    "pre = compute_cross_entropy(x[:2], y[:2], myqcnn.params)"
   ]
  },
  {
   "cell_type": "code",
   "execution_count": 20,
   "id": "0b9ad1de-c644-4684-8ccd-77690f80b8f9",
   "metadata": {},
   "outputs": [
    {
     "data": {
      "text/plain": [
       "DeviceArray([[ 0.,  0.,  0., -1.,  0.,  0., -1.,  0.,  0.,  0.,  0.,  0.,\n",
       "              -1.,  0.,  0.,  0.],\n",
       "             [ 0.,  0., -1.,  0.,  0.,  0.,  0., -1.,  0.,  0.,  0.,  0.,\n",
       "               0., -1.,  0.,  0.],\n",
       "             [ 0., -1.,  0.,  0., -1.,  0.,  0.,  0.,  0.,  0.,  0.,  0.,\n",
       "               0.,  0., -1.,  0.],\n",
       "             [-1.,  0.,  0.,  0.,  0., -1.,  0.,  0.,  0.,  0.,  0.,  0.,\n",
       "               0.,  0.,  0., -1.],\n",
       "             [ 0.,  0., -1.,  0.,  0.,  0.,  0., -1., -1.,  0.,  0.,  0.,\n",
       "               0.,  0.,  0.,  0.],\n",
       "             [ 0.,  0.,  0., -1.,  0.,  0., -1.,  0.,  0., -1.,  0.,  0.,\n",
       "               0.,  0.,  0.,  0.],\n",
       "             [-1.,  0.,  0.,  0.,  0., -1.,  0.,  0.,  0.,  0., -1.,  0.,\n",
       "               0.,  0.,  0.,  0.],\n",
       "             [ 0., -1.,  0.,  0., -1.,  0.,  0.,  0.,  0.,  0.,  0., -1.,\n",
       "               0.,  0.,  0.,  0.],\n",
       "             [ 0.,  0.,  0.,  0., -1.,  0.,  0.,  0.,  0.,  0.,  0., -1.,\n",
       "               0.,  0., -1.,  0.],\n",
       "             [ 0.,  0.,  0.,  0.,  0., -1.,  0.,  0.,  0.,  0., -1.,  0.,\n",
       "               0.,  0.,  0., -1.],\n",
       "             [ 0.,  0.,  0.,  0.,  0.,  0., -1.,  0.,  0., -1.,  0.,  0.,\n",
       "              -1.,  0.,  0.,  0.],\n",
       "             [ 0.,  0.,  0.,  0.,  0.,  0.,  0., -1., -1.,  0.,  0.,  0.,\n",
       "               0., -1.,  0.,  0.],\n",
       "             [-1.,  0.,  0.,  0.,  0.,  0.,  0.,  0.,  0.,  0., -1.,  0.,\n",
       "               0.,  0.,  0., -1.],\n",
       "             [ 0., -1.,  0.,  0.,  0.,  0.,  0.,  0.,  0.,  0.,  0., -1.,\n",
       "               0.,  0., -1.,  0.],\n",
       "             [ 0.,  0., -1.,  0.,  0.,  0.,  0.,  0., -1.,  0.,  0.,  0.,\n",
       "               0., -1.,  0.,  0.],\n",
       "             [ 0.,  0.,  0., -1.,  0.,  0.,  0.,  0.,  0., -1.,  0.,  0.,\n",
       "              -1.,  0.,  0.,  0.]], dtype=float32)"
      ]
     },
     "execution_count": 20,
     "metadata": {},
     "output_type": "execute_result"
    }
   ],
   "source": [
    "np.real( myqcnn.vqe.Hs.mat_Hs[0] )"
   ]
  },
  {
   "cell_type": "code",
   "execution_count": null,
   "id": "1ceb749e-58f8-4ae6-b417-ce591ed977cd",
   "metadata": {},
   "outputs": [],
   "source": [
    "y[:2]"
   ]
  },
  {
   "cell_type": "code",
   "execution_count": null,
   "id": "5ce6125b-2cd9-411c-a610-edc96f2011e4",
   "metadata": {},
   "outputs": [],
   "source": [
    "np.shape(pre)"
   ]
  },
  {
   "cell_type": "code",
   "execution_count": null,
   "id": "f898c48f-6dbc-4efd-b183-9699d9d1f892",
   "metadata": {},
   "outputs": [],
   "source": [
    "pre[:,:,1]"
   ]
  },
  {
   "cell_type": "code",
   "execution_count": null,
   "id": "a44aff24-01bc-4d59-a5ad-fcb6581b2380",
   "metadata": {},
   "outputs": [],
   "source": [
    "pre"
   ]
  },
  {
   "cell_type": "code",
   "execution_count": null,
   "id": "59d0ab08-a655-4b67-93f6-c5b937205f60",
   "metadata": {},
   "outputs": [],
   "source": [
    "(- np.log(1 - 0.03034729) - np.log(0.6870267) - np.log(1-0.04464145) - np.log(0.7675656) )/4"
   ]
  },
  {
   "cell_type": "code",
   "execution_count": null,
   "id": "4608f785-3ad8-44ac-bc7e-5ca136538552",
   "metadata": {},
   "outputs": [],
   "source": [
    "myqcnn.params"
   ]
  },
  {
   "cell_type": "code",
   "execution_count": null,
   "id": "cabf86b3-6263-48d0-8cd0-c432100450c5",
   "metadata": {},
   "outputs": [],
   "source": []
  },
  {
   "cell_type": "code",
   "execution_count": null,
   "id": "6f1ffd2e-87fd-4a8f-a0b7-0e699496808d",
   "metadata": {},
   "outputs": [],
   "source": [
    "(- np.log(1 - 0.4561925) - np.log(0.4434047))/2"
   ]
  }
 ],
 "metadata": {
  "kernelspec": {
   "display_name": "Python 3 (ipykernel)",
   "language": "python",
   "name": "python3"
  },
  "language_info": {
   "codemirror_mode": {
    "name": "ipython",
    "version": 3
   },
   "file_extension": ".py",
   "mimetype": "text/x-python",
   "name": "python",
   "nbconvert_exporter": "python",
   "pygments_lexer": "ipython3",
   "version": "3.10.4"
  }
 },
 "nbformat": 4,
 "nbformat_minor": 5
}
