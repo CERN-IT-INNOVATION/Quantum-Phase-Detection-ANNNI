{
 "cells": [
  {
   "cell_type": "code",
   "execution_count": 1,
   "id": "abbec546-3ca2-4b82-88ff-aa8a711e85ea",
   "metadata": {},
   "outputs": [],
   "source": [
    "import pennylane as qml\n",
    "from pennylane import numpy as np\n",
    "import jax\n",
    "import jax.numpy as jnp\n",
    "from jax import jit\n",
    "from matplotlib import pyplot as plt\n",
    "\n",
    "import copy\n",
    "import tqdm  # Pretty progress bars\n",
    "import joblib  # Writing and loading\n"
   ]
  },
  {
   "cell_type": "code",
   "execution_count": 3,
   "id": "5ede249c-78fc-4a8e-9302-b9343c1876fe",
   "metadata": {},
   "outputs": [],
   "source": [
    "import sys\n",
    "sys.path.insert(0, '../')\n",
    "\n",
    "import hamiltonians as ham\n",
    "import ising_chain as ic\n",
    "import vqe as vqe\n",
    "import qcnn as qcnn"
   ]
  },
  {
   "cell_type": "code",
   "execution_count": 6,
   "id": "6d85c2b0-5e64-4c42-98ba-2c1a8e31e3d4",
   "metadata": {},
   "outputs": [
    {
     "data": {
      "text/plain": [
       "pennylane.ops.qubit.hamiltonian.Hamiltonian"
      ]
     },
     "execution_count": 6,
     "metadata": {},
     "output_type": "execute_result"
    }
   ],
   "source": [
    "type( ic.get_H(2,2,2) )"
   ]
  },
  {
   "cell_type": "code",
   "execution_count": 14,
   "id": "26b58f60-5287-4a7a-94f3-fc5fe0904aba",
   "metadata": {},
   "outputs": [],
   "source": [
    "my = ae.encoder(vqe.load_vqe('./test.pkl'), ae.anomaly_circuit)"
   ]
  },
  {
   "cell_type": "code",
   "execution_count": 15,
   "id": "6c3135c2-623e-439f-95e7-06c5b0c1a1a6",
   "metadata": {},
   "outputs": [
    {
     "name": "stdout",
     "output_type": "stream",
     "text": [
      "+--- CIRCUIT ---+\n",
      "0: ──RY(0.00)──||─╭IsingXX(0.00)────────────────────────────────────────────────────────────\n",
      "1: ──RY(0.00)──||─╰IsingXX(0.00)─╭IsingXX(0.00)─────────────────────────────────────────────\n",
      "2: ──RY(0.00)──||────────────────╰IsingXX(0.00)─╭IsingXX(0.00)──────────────────────────────\n",
      "3: ──RY(0.00)──||───────────────────────────────╰IsingXX(0.00)─╭IsingXX(0.00)───────────────\n",
      "4: ──RY(0.00)──||──────────────────────────────────────────────╰IsingXX(0.00)─╭IsingXX(0.00)\n",
      "5: ──RY(0.00)──||─────────────────────────────────────────────────────────────╰IsingXX(0.00)\n",
      "6: ──RY(0.00)──||───────────────────────────────────────────────────────────────────────────\n",
      "7: ──RY(0.00)──||───────────────────────────────────────────────────────────────────────────\n",
      "\n",
      "─────────────────────────────────||──RY(0.00)──||─╭IsingXX(0.00)──────────────────────────────\n",
      "─────────────────────────────────||──RY(0.00)──||─╰IsingXX(0.00)─╭IsingXX(0.00)───────────────\n",
      "─────────────────────────────────||──RY(0.00)──||────────────────╰IsingXX(0.00)─╭IsingXX(0.00)\n",
      "─────────────────────────────────||──RY(0.00)──||───────────────────────────────╰IsingXX(0.00)\n",
      "─────────────────────────────────||──RY(0.00)──||─────────────────────────────────────────────\n",
      "──╭IsingXX(0.00)─────────────────||──RY(0.00)──||─────────────────────────────────────────────\n",
      "──╰IsingXX(0.00)─╭IsingXX(0.00)──||──RY(0.00)──||─────────────────────────────────────────────\n",
      "─────────────────╰IsingXX(0.00)──||──RY(0.00)──||─────────────────────────────────────────────\n",
      "\n",
      "───────────────────────────────────────────────────────────────||──RY(0.00)──||──||──RY(0.00)──────\n",
      "───────────────────────────────────────────────────────────────||──RY(0.00)──||──||──RY(1.00)──────\n",
      "───────────────────────────────────────────────────────────────||──RY(0.00)──||──||──RY(2.00)─╭C───\n",
      "──╭IsingXX(0.00)───────────────────────────────────────────────||──RY(0.00)──||──||──RY(3.00)─╰X─╭C\n",
      "──╰IsingXX(0.00)─╭IsingXX(0.00)────────────────────────────────||──RY(0.00)──||──||──RY(4.00)────╰X\n",
      "─────────────────╰IsingXX(0.00)─╭IsingXX(0.00)─────────────────||──RY(0.00)──||──||──RY(5.00)──────\n",
      "────────────────────────────────╰IsingXX(0.00)─╭IsingXX(0.00)──||──RY(0.00)──||──||──RY(6.00)──────\n",
      "───────────────────────────────────────────────╰IsingXX(0.00)──||──RY(0.00)──||──||──RY(7.00)──────\n",
      "\n",
      "────────╭C─────||──RY(8.00)──────────────╭C─────||──RY(16.00)─┤  State\n",
      "────────│──╭C──||──RY(9.00)──────────────│──╭C──||──RY(17.00)─┤  State\n",
      "─────╭X─╰X─│───||──RY(10.00)─╭C───────╭X─╰X─│───||──RY(18.00)─┤  State\n",
      "─────│─────╰X──||──RY(11.00)─╰X─╭C────│─────╰X──||──RY(19.00)─┤  State\n",
      "──╭C─│──╭X─────||──RY(12.00)────╰X─╭C─│──╭X─────||──RY(20.00)─┤  State\n",
      "──╰X─╰C─│──╭X──||──RY(13.00)───────╰X─╰C─│──╭X──||──RY(21.00)─┤  State\n",
      "────────╰C─│───||──RY(14.00)─────────────╰C─│───||──RY(22.00)─┤  State\n",
      "───────────╰C──||──RY(15.00)────────────────╰C──||──RY(23.00)─┤  State\n"
     ]
    },
    {
     "name": "stderr",
     "output_type": "stream",
     "text": [
      "Cost: 0.10239408910274506: 100%|███████████| 1000/1000 [00:07<00:00, 132.10it/s]\n"
     ]
    },
    {
     "data": {
      "image/png": "[encoded data removed]",
      "text/plain": [
       "<Figure size 432x288 with 1 Axes>"
      ]
     },
     "metadata": {
      "needs_background": "light"
     },
     "output_type": "display_data"
    }
   ],
   "source": [
    "my.train(.1, 1000, [80,90], circuit = True, plot = True)"
   ]
  },
  {
   "cell_type": "code",
   "execution_count": 16,
   "id": "fead6e91-2eaf-4934-93d3-13445363031b",
   "metadata": {},
   "outputs": [
    {
     "data": {
      "image/png": "[encoded data removed]",
      "text/plain": [
       "<Figure size 720x216 with 1 Axes>"
      ]
     },
     "metadata": {
      "needs_background": "light"
     },
     "output_type": "display_data"
    }
   ],
   "source": [
    "my.show_compression_isingchain()"
   ]
  },
  {
   "cell_type": "code",
   "execution_count": null,
   "id": "e5b55317-2141-41f9-ac3c-6eb2a71fde00",
   "metadata": {},
   "outputs": [],
   "source": []
  }
 ],
 "metadata": {
  "kernelspec": {
   "display_name": "Python 3 (ipykernel)",
   "language": "python",
   "name": "python3"
  },
  "language_info": {
   "codemirror_mode": {
    "name": "ipython",
    "version": 3
   },
   "file_extension": ".py",
   "mimetype": "text/x-python",
   "name": "python",
   "nbconvert_exporter": "python",
   "pygments_lexer": "ipython3",
   "version": "3.10.4"
  }
 },
 "nbformat": 4,
 "nbformat_minor": 5
}
