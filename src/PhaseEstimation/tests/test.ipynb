{
 "cells": [
  {
   "cell_type": "code",
   "execution_count": 1,
   "id": "73cf3e11-11fe-435d-9c37-4bfc3b5d2ff3",
   "metadata": {},
   "outputs": [],
   "source": [
    "import sys\n",
    "sys.path.insert(0, '../')"
   ]
  },
  {
   "cell_type": "code",
   "execution_count": 2,
   "id": "1a4c812c-cb8c-4045-bcae-08043b33ed95",
   "metadata": {},
   "outputs": [],
   "source": [
    "\"\"\" This module implements the base function to implement a VQE for a Ising Chain with Transverse Field. \"\"\"\n",
    "import pennylane as qml\n",
    "from pennylane import numpy as np\n",
    "import numpy as onp\n",
    "import jax\n",
    "import jax.numpy as jnp\n",
    "from jax import jit\n",
    "from functools import partial\n",
    "\n",
    "from matplotlib import pyplot as plt\n",
    "\n",
    "import copy\n",
    "import tqdm  # Pretty progress bars\n",
    "\n",
    "import warnings\n",
    "\n",
    "warnings.filterwarnings(\n",
    "    \"ignore\",\n",
    "    message=\"For Hamiltonians, the eigenvalues will be computed numerically. This may be computationally intensive for a large number of wires.Consider using a sparse representation of the Hamiltonian with qml.SparseHamiltonian.\",\n",
    ")\n",
    "\n",
    "\n",
    "import vqe as vqe\n",
    "import annni_model as annni\n",
    "import hamiltonians as ham"
   ]
  },
  {
   "cell_type": "code",
   "execution_count": 3,
   "id": "20baf05c-1ebe-4456-bc1f-372c9b26c9cb",
   "metadata": {},
   "outputs": [],
   "source": [
    "N=8\n",
    "n_states = 100"
   ]
  },
  {
   "cell_type": "code",
   "execution_count": 4,
   "id": "4337f9df-d4b0-4e7f-9f47-6f3fc735d463",
   "metadata": {},
   "outputs": [],
   "source": [
    "H_annni = ham.hamiltonian(annni.build_Hs, N = 8, n_states = 10)"
   ]
  },
  {
   "cell_type": "code",
   "execution_count": 27,
   "id": "bf10a54f-468b-402b-ad58-f10cd0f86904",
   "metadata": {},
   "outputs": [],
   "source": [
    "myvqe = vqe.vqe(H_annni, vqe.vqe_circuit_annni)"
   ]
  },
  {
   "cell_type": "code",
   "execution_count": 28,
   "id": "3a4db27a-3dce-4546-9316-2d2a9cc088bf",
   "metadata": {},
   "outputs": [],
   "source": [
    "lr = 60\n",
    "n_epochs = 50000\n",
    "reg = 100\n"
   ]
  },
  {
   "cell_type": "code",
   "execution_count": 29,
   "id": "7bfea965-a050-46c3-926d-7fdedeefbb9e",
   "metadata": {},
   "outputs": [
    {
     "name": "stdout",
     "output_type": "stream",
     "text": [
      "+--- CIRCUIT ---+\n",
      "0: ──RY(0.00)──||─╭IsingXX(8.00)───────────────────────────────────────────────────────────────\n",
      "1: ──RY(1.00)──||─╰IsingXX(8.00)─╭IsingXX(9.00)────────────────────────────────────────────────\n",
      "2: ──RY(2.00)──||────────────────╰IsingXX(9.00)─╭IsingXX(10.00)────────────────────────────────\n",
      "3: ──RY(3.00)──||───────────────────────────────╰IsingXX(10.00)─╭IsingXX(11.00)────────────────\n",
      "4: ──RY(4.00)──||───────────────────────────────────────────────╰IsingXX(11.00)─╭IsingXX(12.00)\n",
      "5: ──RY(5.00)──||───────────────────────────────────────────────────────────────╰IsingXX(12.00)\n",
      "6: ──RY(6.00)──||──────────────────────────────────────────────────────────────────────────────\n",
      "7: ──RY(7.00)──||──────────────────────────────────────────────────────────────────────────────\n",
      "\n",
      "───────────────────────────────────||──RY(15.00)──||─╭IsingXX(23.00)────────────────────────────────\n",
      "───────────────────────────────────||──RY(16.00)──||─│───────────────╭IsingXX(24.00)────────────────\n",
      "───────────────────────────────────||──RY(17.00)──||─╰IsingXX(23.00)─│───────────────╭IsingXX(25.00)\n",
      "───────────────────────────────────||──RY(18.00)──||─────────────────╰IsingXX(24.00)─│──────────────\n",
      "───────────────────────────────────||──RY(19.00)──||─────────────────────────────────╰IsingXX(25.00)\n",
      "──╭IsingXX(13.00)──────────────────||──RY(20.00)──||────────────────────────────────────────────────\n",
      "──╰IsingXX(13.00)─╭IsingXX(14.00)──||──RY(21.00)──||────────────────────────────────────────────────\n",
      "──────────────────╰IsingXX(14.00)──||──RY(22.00)──||────────────────────────────────────────────────\n",
      "\n",
      "───────────────────────────────────────────────────||──RY(29.00)──RX(37.00)──RY(45.00)─┤  State\n",
      "───────────────────────────────────────────────────||──RY(30.00)──RX(38.00)──RY(46.00)─┤  State\n",
      "───────────────────────────────────────────────────||──RY(31.00)──RX(39.00)──RY(47.00)─┤  State\n",
      "──╭IsingXX(26.00)──────────────────────────────────||──RY(32.00)──RX(40.00)──RY(48.00)─┤  State\n",
      "──│───────────────╭IsingXX(27.00)──────────────────||──RY(33.00)──RX(41.00)──RY(49.00)─┤  State\n",
      "──╰IsingXX(26.00)─│───────────────╭IsingXX(28.00)──||──RY(34.00)──RX(42.00)──RY(50.00)─┤  State\n",
      "──────────────────╰IsingXX(27.00)─│────────────────||──RY(35.00)──RX(43.00)──RY(51.00)─┤  State\n",
      "──────────────────────────────────╰IsingXX(28.00)──||──RY(36.00)──RX(44.00)──RY(52.00)─┤  State\n"
     ]
    },
    {
     "name": "stderr",
     "output_type": "stream",
     "text": [
      "Cost: 0.01409230101853609: 100%|█████████| 50000/50000 [02:35<00:00, 320.80it/s]\n"
     ]
    }
   ],
   "source": [
    "myvqe.train(lr, n_epochs, reg, circuit = True, recycle = False, lr_decay = .9)"
   ]
  },
  {
   "cell_type": "code",
   "execution_count": 30,
   "id": "0173c80f-9d4a-4264-a97d-ee9520debd64",
   "metadata": {},
   "outputs": [
    {
     "data": {
      "application/vnd.plotly.v1+json": {
       "config": {
        "plotlyServerURL": "https://plot.ly"
       },
       "data": [
        {
         "colorscale": [
          [
           0,
           "rgb(255,245,240)"
          ],
          [
           0.125,
           "rgb(254,224,210)"
          ],
          [
           0.25,
           "rgb(252,187,161)"
          ],
          [
           0.375,
           "rgb(252,146,114)"
          ],
          [
           0.5,
           "rgb(251,106,74)"
          ],
          [
           0.625,
           "rgb(239,59,44)"
          ],
          [
           0.75,
           "rgb(203,24,29)"
          ],
          [
           0.875,
           "rgb(165,15,21)"
          ],
          [
           1,
           "rgb(103,0,13)"
          ]
         ],
         "opacity": 0.2,
         "type": "surface",
         "x": [
          1,
          0.8888888888888888,
          0.7777777777777778,
          0.6666666666666667,
          0.5555555555555556,
          0.4444444444444444,
          0.33333333333333337,
          0.22222222222222232,
          0.11111111111111116,
          0
         ],
         "y": [
          0,
          0.2222222222222222,
          0.4444444444444444,
          0.6666666666666666,
          0.8888888888888888,
          1.1111111111111112,
          1.3333333333333333,
          1.5555555555555554,
          1.7777777777777777,
          2
         ],
         "z": [
          [
           -7,
           -7.123926639556885,
           -7.502824306488037,
           -8.174699783325195,
           -9.203764915466309,
           -10.527410507202148,
           -12.014962196350098,
           -13.591526985168457,
           -15.221181869506836,
           -16.885141372680664
          ],
          [
           -7.666666507720947,
           -7.779191970825195,
           -8.12032413482666,
           -8.7087984085083,
           -9.593666076660156,
           -10.785530090332031,
           -12.191730499267578,
           -13.719902992248535,
           -15.318991661071777,
           -16.962432861328125
          ],
          [
           -8.333333015441895,
           -8.43649959564209,
           -8.747931480407715,
           -9.277600288391113,
           -10.056622505187988,
           -11.11868953704834,
           -12.425615310668945,
           -13.890901565551758,
           -15.450005531311035,
           -17.066728591918945
          ],
          [
           -9,
           -9.095317840576172,
           -9.382386207580566,
           -9.86686897277832,
           -10.567941665649414,
           -11.518410682678223,
           -12.71834659576416,
           -14.107332229614258,
           -15.616292953491211,
           -17.19940948486328
          ],
          [
           -9.666666984558105,
           -9.755292892456055,
           -10.02184772491455,
           -10.469719886779785,
           -11.110899925231934,
           -11.971049308776855,
           -13.067670822143555,
           -14.371016502380371,
           -15.819855690002441,
           -17.361957550048828
          ],
          [
           -10.333333015441895,
           -10.416179656982422,
           -10.665143966674805,
           -11.082343101501465,
           -11.67547607421875,
           -12.46324348449707,
           -13.46744441986084,
           -14.681947708129883,
           -16.062267303466797,
           -17.555843353271484
          ],
          [
           -11,
           -11.077797889709473,
           -11.311468124389648,
           -11.702386856079102,
           -12.255633354187012,
           -12.984570503234863,
           -13.909444808959961,
           -15.037858963012695,
           -16.344236373901367,
           -17.782350540161133
          ],
          [
           -11.666666984558105,
           -11.740013122558594,
           -11.960241317749023,
           -12.32827377319336,
           -12.84755802154541,
           -13.527644157409668,
           -14.385428428649902,
           -15.434528350830078,
           -16.665250778198242,
           -18.042333602905273
          ],
          [
           -12.333333015441895,
           -12.402724266052246,
           -12.611028671264648,
           -12.958887100219727,
           -13.448699951171875,
           -14.087357521057129,
           -14.888327598571777,
           -15.86663818359375,
           -17.023481369018555,
           -18.336008071899414
          ],
          [
           -13,
           -13.065850257873535,
           -13.263497352600098,
           -13.593399047851562,
           -14.057270050048828,
           -14.660146713256836,
           -15.412564277648926,
           -16.328699111938477,
           -17.41598892211914,
           -18.66278839111328
          ]
         ]
        },
        {
         "colorscale": [
          [
           0,
           "rgb(247,251,255)"
          ],
          [
           0.125,
           "rgb(222,235,247)"
          ],
          [
           0.25,
           "rgb(198,219,239)"
          ],
          [
           0.375,
           "rgb(158,202,225)"
          ],
          [
           0.5,
           "rgb(107,174,214)"
          ],
          [
           0.625,
           "rgb(66,146,198)"
          ],
          [
           0.75,
           "rgb(33,113,181)"
          ],
          [
           0.875,
           "rgb(8,81,156)"
          ],
          [
           1,
           "rgb(8,48,107)"
          ]
         ],
         "opacity": 1,
         "type": "surface",
         "x": [
          1,
          0.8888888888888888,
          0.7777777777777778,
          0.6666666666666667,
          0.5555555555555556,
          0.4444444444444444,
          0.33333333333333337,
          0.22222222222222232,
          0.11111111111111116,
          0
         ],
         "y": [
          0,
          0.2222222222222222,
          0.4444444444444444,
          0.6666666666666666,
          0.8888888888888888,
          1.1111111111111112,
          1.3333333333333333,
          1.5555555555555554,
          1.7777777777777777,
          2
         ],
         "z": [
          [
           -7.00000524520874,
           -7.123749732971191,
           -7.498571395874023,
           -8.142621040344238,
           -9.081904411315918,
           -10.409847259521484,
           -11.95366096496582,
           -13.55886459350586,
           -15.20142650604248,
           -16.872220993041992
          ],
          [
           -7.666671276092529,
           -7.7791218757629395,
           -8.117862701416016,
           -8.685765266418457,
           -9.520730972290039,
           -10.619213104248047,
           -12.0693359375,
           -13.65166187286377,
           -15.278079986572266,
           -16.93520736694336
          ],
          [
           -8.33333969116211,
           -8.436433792114258,
           -8.746800422668457,
           -9.267515182495117,
           -10.007906913757324,
           -10.985544204711914,
           -12.220147132873535,
           -13.662727355957031,
           -15.373619079589844,
           -17.0175838470459
          ],
          [
           -9.000007629394531,
           -9.095279693603516,
           -9.381657600402832,
           -9.86113452911377,
           -10.538253784179688,
           -11.428378105163574,
           -12.531184196472168,
           -13.847119331359863,
           -15.487030982971191,
           -17.116008758544922
          ],
          [
           -9.66667366027832,
           -9.75521469116211,
           -10.021184921264648,
           -10.464401245117188,
           -11.088242530822754,
           -11.908690452575684,
           -12.915680885314941,
           -14.130529403686523,
           -15.52851676940918,
           -17.230127334594727
          ],
          [
           -10.333343505859375,
           -10.416095733642578,
           -10.664688110351562,
           -11.078840255737305,
           -11.657997131347656,
           -12.421470642089844,
           -13.35127067565918,
           -14.464378356933594,
           -15.779505729675293,
           -17.268606185913086
          ],
          [
           -11.00001049041748,
           -11.077756881713867,
           -11.311147689819336,
           -11.699970245361328,
           -12.243646621704102,
           -12.953375816345215,
           -13.822358131408691,
           -14.859981536865234,
           -16.081584930419922,
           -17.46908187866211
          ],
          [
           -11.666675567626953,
           -11.740012168884277,
           -11.960002899169922,
           -12.326528549194336,
           -12.839022636413574,
           -13.498416900634766,
           -14.319371223449707,
           -15.298827171325684,
           -16.421646118164062,
           -17.73358154296875
          ],
          [
           -12.333353042602539,
           -12.402709007263184,
           -12.610857963562012,
           -12.957612991333008,
           -13.442525863647461,
           -14.064737319946289,
           -14.839664459228516,
           -15.751748085021973,
           -16.81752586364746,
           -18.024274826049805
          ],
          [
           -13.000015258789062,
           -13.065860748291016,
           -13.263189315795898,
           -13.592436790466309,
           -14.052694320678711,
           -14.643539428710938,
           -15.374882698059082,
           -16.239885330200195,
           -17.24186134338379,
           -18.406017303466797
          ]
         ]
        }
       ],
       "layout": {
        "autosize": true,
        "scene": {
         "aspectmode": "auto",
         "aspectratio": {
          "x": 1,
          "y": 1,
          "z": 1
         },
         "camera": {
          "center": {
           "x": 0,
           "y": 0,
           "z": 0
          },
          "eye": {
           "x": -1.1531362323062986,
           "y": 0.9027220758177081,
           "z": -1.6466520490825955
          },
          "projection": {
           "type": "perspective"
          },
          "up": {
           "x": 0,
           "y": 0,
           "z": 1
          }
         }
        },
        "template": {
         "data": {
          "bar": [
           {
            "error_x": {
             "color": "#2a3f5f"
            },
            "error_y": {
             "color": "#2a3f5f"
            },
            "marker": {
             "line": {
              "color": "#E5ECF6",
              "width": 0.5
             },
             "pattern": {
              "fillmode": "overlay",
              "size": 10,
              "solidity": 0.2
             }
            },
            "type": "bar"
           }
          ],
          "barpolar": [
           {
            "marker": {
             "line": {
              "color": "#E5ECF6",
              "width": 0.5
             },
             "pattern": {
              "fillmode": "overlay",
              "size": 10,
              "solidity": 0.2
             }
            },
            "type": "barpolar"
           }
          ],
          "carpet": [
           {
            "aaxis": {
             "endlinecolor": "#2a3f5f",
             "gridcolor": "white",
             "linecolor": "white",
             "minorgridcolor": "white",
             "startlinecolor": "#2a3f5f"
            },
            "baxis": {
             "endlinecolor": "#2a3f5f",
             "gridcolor": "white",
             "linecolor": "white",
             "minorgridcolor": "white",
             "startlinecolor": "#2a3f5f"
            },
            "type": "carpet"
           }
          ],
          "choropleth": [
           {
            "colorbar": {
             "outlinewidth": 0,
             "ticks": ""
            },
            "type": "choropleth"
           }
          ],
          "contour": [
           {
            "colorbar": {
             "outlinewidth": 0,
             "ticks": ""
            },
            "colorscale": [
             [
              0,
              "#0d0887"
             ],
             [
              0.1111111111111111,
              "#46039f"
             ],
             [
              0.2222222222222222,
              "#7201a8"
             ],
             [
              0.3333333333333333,
              "#9c179e"
             ],
             [
              0.4444444444444444,
              "#bd3786"
             ],
             [
              0.5555555555555556,
              "#d8576b"
             ],
             [
              0.6666666666666666,
              "#ed7953"
             ],
             [
              0.7777777777777778,
              "#fb9f3a"
             ],
             [
              0.8888888888888888,
              "#fdca26"
             ],
             [
              1,
              "#f0f921"
             ]
            ],
            "type": "contour"
           }
          ],
          "contourcarpet": [
           {
            "colorbar": {
             "outlinewidth": 0,
             "ticks": ""
            },
            "type": "contourcarpet"
           }
          ],
          "heatmap": [
           {
            "colorbar": {
             "outlinewidth": 0,
             "ticks": ""
            },
            "colorscale": [
             [
              0,
              "#0d0887"
             ],
             [
              0.1111111111111111,
              "#46039f"
             ],
             [
              0.2222222222222222,
              "#7201a8"
             ],
             [
              0.3333333333333333,
              "#9c179e"
             ],
             [
              0.4444444444444444,
              "#bd3786"
             ],
             [
              0.5555555555555556,
              "#d8576b"
             ],
             [
              0.6666666666666666,
              "#ed7953"
             ],
             [
              0.7777777777777778,
              "#fb9f3a"
             ],
             [
              0.8888888888888888,
              "#fdca26"
             ],
             [
              1,
              "#f0f921"
             ]
            ],
            "type": "heatmap"
           }
          ],
          "heatmapgl": [
           {
            "colorbar": {
             "outlinewidth": 0,
             "ticks": ""
            },
            "colorscale": [
             [
              0,
              "#0d0887"
             ],
             [
              0.1111111111111111,
              "#46039f"
             ],
             [
              0.2222222222222222,
              "#7201a8"
             ],
             [
              0.3333333333333333,
              "#9c179e"
             ],
             [
              0.4444444444444444,
              "#bd3786"
             ],
             [
              0.5555555555555556,
              "#d8576b"
             ],
             [
              0.6666666666666666,
              "#ed7953"
             ],
             [
              0.7777777777777778,
              "#fb9f3a"
             ],
             [
              0.8888888888888888,
              "#fdca26"
             ],
             [
              1,
              "#f0f921"
             ]
            ],
            "type": "heatmapgl"
           }
          ],
          "histogram": [
           {
            "marker": {
             "pattern": {
              "fillmode": "overlay",
              "size": 10,
              "solidity": 0.2
             }
            },
            "type": "histogram"
           }
          ],
          "histogram2d": [
           {
            "colorbar": {
             "outlinewidth": 0,
             "ticks": ""
            },
            "colorscale": [
             [
              0,
              "#0d0887"
             ],
             [
              0.1111111111111111,
              "#46039f"
             ],
             [
              0.2222222222222222,
              "#7201a8"
             ],
             [
              0.3333333333333333,
              "#9c179e"
             ],
             [
              0.4444444444444444,
              "#bd3786"
             ],
             [
              0.5555555555555556,
              "#d8576b"
             ],
             [
              0.6666666666666666,
              "#ed7953"
             ],
             [
              0.7777777777777778,
              "#fb9f3a"
             ],
             [
              0.8888888888888888,
              "#fdca26"
             ],
             [
              1,
              "#f0f921"
             ]
            ],
            "type": "histogram2d"
           }
          ],
          "histogram2dcontour": [
           {
            "colorbar": {
             "outlinewidth": 0,
             "ticks": ""
            },
            "colorscale": [
             [
              0,
              "#0d0887"
             ],
             [
              0.1111111111111111,
              "#46039f"
             ],
             [
              0.2222222222222222,
              "#7201a8"
             ],
             [
              0.3333333333333333,
              "#9c179e"
             ],
             [
              0.4444444444444444,
              "#bd3786"
             ],
             [
              0.5555555555555556,
              "#d8576b"
             ],
             [
              0.6666666666666666,
              "#ed7953"
             ],
             [
              0.7777777777777778,
              "#fb9f3a"
             ],
             [
              0.8888888888888888,
              "#fdca26"
             ],
             [
              1,
              "#f0f921"
             ]
            ],
            "type": "histogram2dcontour"
           }
          ],
          "mesh3d": [
           {
            "colorbar": {
             "outlinewidth": 0,
             "ticks": ""
            },
            "type": "mesh3d"
           }
          ],
          "parcoords": [
           {
            "line": {
             "colorbar": {
              "outlinewidth": 0,
              "ticks": ""
             }
            },
            "type": "parcoords"
           }
          ],
          "pie": [
           {
            "automargin": true,
            "type": "pie"
           }
          ],
          "scatter": [
           {
            "fillpattern": {
             "fillmode": "overlay",
             "size": 10,
             "solidity": 0.2
            },
            "type": "scatter"
           }
          ],
          "scatter3d": [
           {
            "line": {
             "colorbar": {
              "outlinewidth": 0,
              "ticks": ""
             }
            },
            "marker": {
             "colorbar": {
              "outlinewidth": 0,
              "ticks": ""
             }
            },
            "type": "scatter3d"
           }
          ],
          "scattercarpet": [
           {
            "marker": {
             "colorbar": {
              "outlinewidth": 0,
              "ticks": ""
             }
            },
            "type": "scattercarpet"
           }
          ],
          "scattergeo": [
           {
            "marker": {
             "colorbar": {
              "outlinewidth": 0,
              "ticks": ""
             }
            },
            "type": "scattergeo"
           }
          ],
          "scattergl": [
           {
            "marker": {
             "colorbar": {
              "outlinewidth": 0,
              "ticks": ""
             }
            },
            "type": "scattergl"
           }
          ],
          "scattermapbox": [
           {
            "marker": {
             "colorbar": {
              "outlinewidth": 0,
              "ticks": ""
             }
            },
            "type": "scattermapbox"
           }
          ],
          "scatterpolar": [
           {
            "marker": {
             "colorbar": {
              "outlinewidth": 0,
              "ticks": ""
             }
            },
            "type": "scatterpolar"
           }
          ],
          "scatterpolargl": [
           {
            "marker": {
             "colorbar": {
              "outlinewidth": 0,
              "ticks": ""
             }
            },
            "type": "scatterpolargl"
           }
          ],
          "scatterternary": [
           {
            "marker": {
             "colorbar": {
              "outlinewidth": 0,
              "ticks": ""
             }
            },
            "type": "scatterternary"
           }
          ],
          "surface": [
           {
            "colorbar": {
             "outlinewidth": 0,
             "ticks": ""
            },
            "colorscale": [
             [
              0,
              "#0d0887"
             ],
             [
              0.1111111111111111,
              "#46039f"
             ],
             [
              0.2222222222222222,
              "#7201a8"
             ],
             [
              0.3333333333333333,
              "#9c179e"
             ],
             [
              0.4444444444444444,
              "#bd3786"
             ],
             [
              0.5555555555555556,
              "#d8576b"
             ],
             [
              0.6666666666666666,
              "#ed7953"
             ],
             [
              0.7777777777777778,
              "#fb9f3a"
             ],
             [
              0.8888888888888888,
              "#fdca26"
             ],
             [
              1,
              "#f0f921"
             ]
            ],
            "type": "surface"
           }
          ],
          "table": [
           {
            "cells": {
             "fill": {
              "color": "#EBF0F8"
             },
             "line": {
              "color": "white"
             }
            },
            "header": {
             "fill": {
              "color": "#C8D4E3"
             },
             "line": {
              "color": "white"
             }
            },
            "type": "table"
           }
          ]
         },
         "layout": {
          "annotationdefaults": {
           "arrowcolor": "#2a3f5f",
           "arrowhead": 0,
           "arrowwidth": 1
          },
          "autotypenumbers": "strict",
          "coloraxis": {
           "colorbar": {
            "outlinewidth": 0,
            "ticks": ""
           }
          },
          "colorscale": {
           "diverging": [
            [
             0,
             "#8e0152"
            ],
            [
             0.1,
             "#c51b7d"
            ],
            [
             0.2,
             "#de77ae"
            ],
            [
             0.3,
             "#f1b6da"
            ],
            [
             0.4,
             "#fde0ef"
            ],
            [
             0.5,
             "#f7f7f7"
            ],
            [
             0.6,
             "#e6f5d0"
            ],
            [
             0.7,
             "#b8e186"
            ],
            [
             0.8,
             "#7fbc41"
            ],
            [
             0.9,
             "#4d9221"
            ],
            [
             1,
             "#276419"
            ]
           ],
           "sequential": [
            [
             0,
             "#0d0887"
            ],
            [
             0.1111111111111111,
             "#46039f"
            ],
            [
             0.2222222222222222,
             "#7201a8"
            ],
            [
             0.3333333333333333,
             "#9c179e"
            ],
            [
             0.4444444444444444,
             "#bd3786"
            ],
            [
             0.5555555555555556,
             "#d8576b"
            ],
            [
             0.6666666666666666,
             "#ed7953"
            ],
            [
             0.7777777777777778,
             "#fb9f3a"
            ],
            [
             0.8888888888888888,
             "#fdca26"
            ],
            [
             1,
             "#f0f921"
            ]
           ],
           "sequentialminus": [
            [
             0,
             "#0d0887"
            ],
            [
             0.1111111111111111,
             "#46039f"
            ],
            [
             0.2222222222222222,
             "#7201a8"
            ],
            [
             0.3333333333333333,
             "#9c179e"
            ],
            [
             0.4444444444444444,
             "#bd3786"
            ],
            [
             0.5555555555555556,
             "#d8576b"
            ],
            [
             0.6666666666666666,
             "#ed7953"
            ],
            [
             0.7777777777777778,
             "#fb9f3a"
            ],
            [
             0.8888888888888888,
             "#fdca26"
            ],
            [
             1,
             "#f0f921"
            ]
           ]
          },
          "colorway": [
           "#636efa",
           "#EF553B",
           "#00cc96",
           "#ab63fa",
           "#FFA15A",
           "#19d3f3",
           "#FF6692",
           "#B6E880",
           "#FF97FF",
           "#FECB52"
          ],
          "font": {
           "color": "#2a3f5f"
          },
          "geo": {
           "bgcolor": "white",
           "lakecolor": "white",
           "landcolor": "#E5ECF6",
           "showlakes": true,
           "showland": true,
           "subunitcolor": "white"
          },
          "hoverlabel": {
           "align": "left"
          },
          "hovermode": "closest",
          "mapbox": {
           "style": "light"
          },
          "paper_bgcolor": "white",
          "plot_bgcolor": "#E5ECF6",
          "polar": {
           "angularaxis": {
            "gridcolor": "white",
            "linecolor": "white",
            "ticks": ""
           },
           "bgcolor": "#E5ECF6",
           "radialaxis": {
            "gridcolor": "white",
            "linecolor": "white",
            "ticks": ""
           }
          },
          "scene": {
           "xaxis": {
            "backgroundcolor": "#E5ECF6",
            "gridcolor": "white",
            "gridwidth": 2,
            "linecolor": "white",
            "showbackground": true,
            "ticks": "",
            "zerolinecolor": "white"
           },
           "yaxis": {
            "backgroundcolor": "#E5ECF6",
            "gridcolor": "white",
            "gridwidth": 2,
            "linecolor": "white",
            "showbackground": true,
            "ticks": "",
            "zerolinecolor": "white"
           },
           "zaxis": {
            "backgroundcolor": "#E5ECF6",
            "gridcolor": "white",
            "gridwidth": 2,
            "linecolor": "white",
            "showbackground": true,
            "ticks": "",
            "zerolinecolor": "white"
           }
          },
          "shapedefaults": {
           "line": {
            "color": "#2a3f5f"
           }
          },
          "ternary": {
           "aaxis": {
            "gridcolor": "white",
            "linecolor": "white",
            "ticks": ""
           },
           "baxis": {
            "gridcolor": "white",
            "linecolor": "white",
            "ticks": ""
           },
           "bgcolor": "#E5ECF6",
           "caxis": {
            "gridcolor": "white",
            "linecolor": "white",
            "ticks": ""
           }
          },
          "title": {
           "x": 0.05
          },
          "xaxis": {
           "automargin": true,
           "gridcolor": "white",
           "linecolor": "white",
           "ticks": "",
           "title": {
            "standoff": 15
           },
           "zerolinecolor": "white",
           "zerolinewidth": 2
          },
          "yaxis": {
           "automargin": true,
           "gridcolor": "white",
           "linecolor": "white",
           "ticks": "",
           "title": {
            "standoff": 15
           },
           "zerolinecolor": "white",
           "zerolinewidth": 2
          }
         }
        }
       }
      },
      "image/png": "[encoded data removed]",
      "text/html": [
       "<div>                            <div id=\"abf87ad9-249c-43c6-a21e-7d2c827e931f\" class=\"plotly-graph-div\" style=\"height:500px; width:100%;\"></div>            <script type=\"text/javascript\">                require([\"plotly\"], function(Plotly) {                    window.PLOTLYENV=window.PLOTLYENV || {};                                    if (document.getElementById(\"abf87ad9-249c-43c6-a21e-7d2c827e931f\")) {                    Plotly.newPlot(                        \"abf87ad9-249c-43c6-a21e-7d2c827e931f\",                        [{\"colorscale\":[[0.0,\"rgb(255,245,240)\"],[0.125,\"rgb(254,224,210)\"],[0.25,\"rgb(252,187,161)\"],[0.375,\"rgb(252,146,114)\"],[0.5,\"rgb(251,106,74)\"],[0.625,\"rgb(239,59,44)\"],[0.75,\"rgb(203,24,29)\"],[0.875,\"rgb(165,15,21)\"],[1.0,\"rgb(103,0,13)\"]],\"opacity\":0.2,\"x\":[1.0,0.8888888888888888,0.7777777777777778,0.6666666666666667,0.5555555555555556,0.4444444444444444,0.33333333333333337,0.22222222222222232,0.11111111111111116,0.0],\"y\":[0.0,0.2222222222222222,0.4444444444444444,0.6666666666666666,0.8888888888888888,1.1111111111111112,1.3333333333333333,1.5555555555555554,1.7777777777777777,2.0],\"z\":[[-7.0,-7.123926639556885,-7.502824306488037,-8.174699783325195,-9.203764915466309,-10.527410507202148,-12.014962196350098,-13.591526985168457,-15.221181869506836,-16.885141372680664],[-7.666666507720947,-7.779191970825195,-8.12032413482666,-8.7087984085083,-9.593666076660156,-10.785530090332031,-12.191730499267578,-13.719902992248535,-15.318991661071777,-16.962432861328125],[-8.333333015441895,-8.43649959564209,-8.747931480407715,-9.277600288391113,-10.056622505187988,-11.11868953704834,-12.425615310668945,-13.890901565551758,-15.450005531311035,-17.066728591918945],[-9.0,-9.095317840576172,-9.382386207580566,-9.86686897277832,-10.567941665649414,-11.518410682678223,-12.71834659576416,-14.107332229614258,-15.616292953491211,-17.19940948486328],[-9.666666984558105,-9.755292892456055,-10.02184772491455,-10.469719886779785,-11.110899925231934,-11.971049308776855,-13.067670822143555,-14.371016502380371,-15.819855690002441,-17.361957550048828],[-10.333333015441895,-10.416179656982422,-10.665143966674805,-11.082343101501465,-11.67547607421875,-12.46324348449707,-13.46744441986084,-14.681947708129883,-16.062267303466797,-17.555843353271484],[-11.0,-11.077797889709473,-11.311468124389648,-11.702386856079102,-12.255633354187012,-12.984570503234863,-13.909444808959961,-15.037858963012695,-16.344236373901367,-17.782350540161133],[-11.666666984558105,-11.740013122558594,-11.960241317749023,-12.32827377319336,-12.84755802154541,-13.527644157409668,-14.385428428649902,-15.434528350830078,-16.665250778198242,-18.042333602905273],[-12.333333015441895,-12.402724266052246,-12.611028671264648,-12.958887100219727,-13.448699951171875,-14.087357521057129,-14.888327598571777,-15.86663818359375,-17.023481369018555,-18.336008071899414],[-13.0,-13.065850257873535,-13.263497352600098,-13.593399047851562,-14.057270050048828,-14.660146713256836,-15.412564277648926,-16.328699111938477,-17.41598892211914,-18.66278839111328]],\"type\":\"surface\"},{\"colorscale\":[[0.0,\"rgb(247,251,255)\"],[0.125,\"rgb(222,235,247)\"],[0.25,\"rgb(198,219,239)\"],[0.375,\"rgb(158,202,225)\"],[0.5,\"rgb(107,174,214)\"],[0.625,\"rgb(66,146,198)\"],[0.75,\"rgb(33,113,181)\"],[0.875,\"rgb(8,81,156)\"],[1.0,\"rgb(8,48,107)\"]],\"opacity\":1,\"x\":[1.0,0.8888888888888888,0.7777777777777778,0.6666666666666667,0.5555555555555556,0.4444444444444444,0.33333333333333337,0.22222222222222232,0.11111111111111116,0.0],\"y\":[0.0,0.2222222222222222,0.4444444444444444,0.6666666666666666,0.8888888888888888,1.1111111111111112,1.3333333333333333,1.5555555555555554,1.7777777777777777,2.0],\"z\":[[-7.00000524520874,-7.123749732971191,-7.498571395874023,-8.142621040344238,-9.081904411315918,-10.409847259521484,-11.95366096496582,-13.55886459350586,-15.20142650604248,-16.872220993041992],[-7.666671276092529,-7.7791218757629395,-8.117862701416016,-8.685765266418457,-9.520730972290039,-10.619213104248047,-12.0693359375,-13.65166187286377,-15.278079986572266,-16.93520736694336],[-8.33333969116211,-8.436433792114258,-8.746800422668457,-9.267515182495117,-10.007906913757324,-10.985544204711914,-12.220147132873535,-13.662727355957031,-15.373619079589844,-17.0175838470459],[-9.000007629394531,-9.095279693603516,-9.381657600402832,-9.86113452911377,-10.538253784179688,-11.428378105163574,-12.531184196472168,-13.847119331359863,-15.487030982971191,-17.116008758544922],[-9.66667366027832,-9.75521469116211,-10.021184921264648,-10.464401245117188,-11.088242530822754,-11.908690452575684,-12.915680885314941,-14.130529403686523,-15.52851676940918,-17.230127334594727],[-10.333343505859375,-10.416095733642578,-10.664688110351562,-11.078840255737305,-11.657997131347656,-12.421470642089844,-13.35127067565918,-14.464378356933594,-15.779505729675293,-17.268606185913086],[-11.00001049041748,-11.077756881713867,-11.311147689819336,-11.699970245361328,-12.243646621704102,-12.953375816345215,-13.822358131408691,-14.859981536865234,-16.081584930419922,-17.46908187866211],[-11.666675567626953,-11.740012168884277,-11.960002899169922,-12.326528549194336,-12.839022636413574,-13.498416900634766,-14.319371223449707,-15.298827171325684,-16.421646118164062,-17.73358154296875],[-12.333353042602539,-12.402709007263184,-12.610857963562012,-12.957612991333008,-13.442525863647461,-14.064737319946289,-14.839664459228516,-15.751748085021973,-16.81752586364746,-18.024274826049805],[-13.000015258789062,-13.065860748291016,-13.263189315795898,-13.592436790466309,-14.052694320678711,-14.643539428710938,-15.374882698059082,-16.239885330200195,-17.24186134338379,-18.406017303466797]],\"type\":\"surface\"}],                        {\"template\":{\"data\":{\"histogram2dcontour\":[{\"type\":\"histogram2dcontour\",\"colorbar\":{\"outlinewidth\":0,\"ticks\":\"\"},\"colorscale\":[[0.0,\"#0d0887\"],[0.1111111111111111,\"#46039f\"],[0.2222222222222222,\"#7201a8\"],[0.3333333333333333,\"#9c179e\"],[0.4444444444444444,\"#bd3786\"],[0.5555555555555556,\"#d8576b\"],[0.6666666666666666,\"#ed7953\"],[0.7777777777777778,\"#fb9f3a\"],[0.8888888888888888,\"#fdca26\"],[1.0,\"#f0f921\"]]}],\"choropleth\":[{\"type\":\"choropleth\",\"colorbar\":{\"outlinewidth\":0,\"ticks\":\"\"}}],\"histogram2d\":[{\"type\":\"histogram2d\",\"colorbar\":{\"outlinewidth\":0,\"ticks\":\"\"},\"colorscale\":[[0.0,\"#0d0887\"],[0.1111111111111111,\"#46039f\"],[0.2222222222222222,\"#7201a8\"],[0.3333333333333333,\"#9c179e\"],[0.4444444444444444,\"#bd3786\"],[0.5555555555555556,\"#d8576b\"],[0.6666666666666666,\"#ed7953\"],[0.7777777777777778,\"#fb9f3a\"],[0.8888888888888888,\"#fdca26\"],[1.0,\"#f0f921\"]]}],\"heatmap\":[{\"type\":\"heatmap\",\"colorbar\":{\"outlinewidth\":0,\"ticks\":\"\"},\"colorscale\":[[0.0,\"#0d0887\"],[0.1111111111111111,\"#46039f\"],[0.2222222222222222,\"#7201a8\"],[0.3333333333333333,\"#9c179e\"],[0.4444444444444444,\"#bd3786\"],[0.5555555555555556,\"#d8576b\"],[0.6666666666666666,\"#ed7953\"],[0.7777777777777778,\"#fb9f3a\"],[0.8888888888888888,\"#fdca26\"],[1.0,\"#f0f921\"]]}],\"heatmapgl\":[{\"type\":\"heatmapgl\",\"colorbar\":{\"outlinewidth\":0,\"ticks\":\"\"},\"colorscale\":[[0.0,\"#0d0887\"],[0.1111111111111111,\"#46039f\"],[0.2222222222222222,\"#7201a8\"],[0.3333333333333333,\"#9c179e\"],[0.4444444444444444,\"#bd3786\"],[0.5555555555555556,\"#d8576b\"],[0.6666666666666666,\"#ed7953\"],[0.7777777777777778,\"#fb9f3a\"],[0.8888888888888888,\"#fdca26\"],[1.0,\"#f0f921\"]]}],\"contourcarpet\":[{\"type\":\"contourcarpet\",\"colorbar\":{\"outlinewidth\":0,\"ticks\":\"\"}}],\"contour\":[{\"type\":\"contour\",\"colorbar\":{\"outlinewidth\":0,\"ticks\":\"\"},\"colorscale\":[[0.0,\"#0d0887\"],[0.1111111111111111,\"#46039f\"],[0.2222222222222222,\"#7201a8\"],[0.3333333333333333,\"#9c179e\"],[0.4444444444444444,\"#bd3786\"],[0.5555555555555556,\"#d8576b\"],[0.6666666666666666,\"#ed7953\"],[0.7777777777777778,\"#fb9f3a\"],[0.8888888888888888,\"#fdca26\"],[1.0,\"#f0f921\"]]}],\"surface\":[{\"type\":\"surface\",\"colorbar\":{\"outlinewidth\":0,\"ticks\":\"\"},\"colorscale\":[[0.0,\"#0d0887\"],[0.1111111111111111,\"#46039f\"],[0.2222222222222222,\"#7201a8\"],[0.3333333333333333,\"#9c179e\"],[0.4444444444444444,\"#bd3786\"],[0.5555555555555556,\"#d8576b\"],[0.6666666666666666,\"#ed7953\"],[0.7777777777777778,\"#fb9f3a\"],[0.8888888888888888,\"#fdca26\"],[1.0,\"#f0f921\"]]}],\"mesh3d\":[{\"type\":\"mesh3d\",\"colorbar\":{\"outlinewidth\":0,\"ticks\":\"\"}}],\"scatter\":[{\"fillpattern\":{\"fillmode\":\"overlay\",\"size\":10,\"solidity\":0.2},\"type\":\"scatter\"}],\"parcoords\":[{\"type\":\"parcoords\",\"line\":{\"colorbar\":{\"outlinewidth\":0,\"ticks\":\"\"}}}],\"scatterpolargl\":[{\"type\":\"scatterpolargl\",\"marker\":{\"colorbar\":{\"outlinewidth\":0,\"ticks\":\"\"}}}],\"bar\":[{\"error_x\":{\"color\":\"#2a3f5f\"},\"error_y\":{\"color\":\"#2a3f5f\"},\"marker\":{\"line\":{\"color\":\"#E5ECF6\",\"width\":0.5},\"pattern\":{\"fillmode\":\"overlay\",\"size\":10,\"solidity\":0.2}},\"type\":\"bar\"}],\"scattergeo\":[{\"type\":\"scattergeo\",\"marker\":{\"colorbar\":{\"outlinewidth\":0,\"ticks\":\"\"}}}],\"scatterpolar\":[{\"type\":\"scatterpolar\",\"marker\":{\"colorbar\":{\"outlinewidth\":0,\"ticks\":\"\"}}}],\"histogram\":[{\"marker\":{\"pattern\":{\"fillmode\":\"overlay\",\"size\":10,\"solidity\":0.2}},\"type\":\"histogram\"}],\"scattergl\":[{\"type\":\"scattergl\",\"marker\":{\"colorbar\":{\"outlinewidth\":0,\"ticks\":\"\"}}}],\"scatter3d\":[{\"type\":\"scatter3d\",\"line\":{\"colorbar\":{\"outlinewidth\":0,\"ticks\":\"\"}},\"marker\":{\"colorbar\":{\"outlinewidth\":0,\"ticks\":\"\"}}}],\"scattermapbox\":[{\"type\":\"scattermapbox\",\"marker\":{\"colorbar\":{\"outlinewidth\":0,\"ticks\":\"\"}}}],\"scatterternary\":[{\"type\":\"scatterternary\",\"marker\":{\"colorbar\":{\"outlinewidth\":0,\"ticks\":\"\"}}}],\"scattercarpet\":[{\"type\":\"scattercarpet\",\"marker\":{\"colorbar\":{\"outlinewidth\":0,\"ticks\":\"\"}}}],\"carpet\":[{\"aaxis\":{\"endlinecolor\":\"#2a3f5f\",\"gridcolor\":\"white\",\"linecolor\":\"white\",\"minorgridcolor\":\"white\",\"startlinecolor\":\"#2a3f5f\"},\"baxis\":{\"endlinecolor\":\"#2a3f5f\",\"gridcolor\":\"white\",\"linecolor\":\"white\",\"minorgridcolor\":\"white\",\"startlinecolor\":\"#2a3f5f\"},\"type\":\"carpet\"}],\"table\":[{\"cells\":{\"fill\":{\"color\":\"#EBF0F8\"},\"line\":{\"color\":\"white\"}},\"header\":{\"fill\":{\"color\":\"#C8D4E3\"},\"line\":{\"color\":\"white\"}},\"type\":\"table\"}],\"barpolar\":[{\"marker\":{\"line\":{\"color\":\"#E5ECF6\",\"width\":0.5},\"pattern\":{\"fillmode\":\"overlay\",\"size\":10,\"solidity\":0.2}},\"type\":\"barpolar\"}],\"pie\":[{\"automargin\":true,\"type\":\"pie\"}]},\"layout\":{\"autotypenumbers\":\"strict\",\"colorway\":[\"#636efa\",\"#EF553B\",\"#00cc96\",\"#ab63fa\",\"#FFA15A\",\"#19d3f3\",\"#FF6692\",\"#B6E880\",\"#FF97FF\",\"#FECB52\"],\"font\":{\"color\":\"#2a3f5f\"},\"hovermode\":\"closest\",\"hoverlabel\":{\"align\":\"left\"},\"paper_bgcolor\":\"white\",\"plot_bgcolor\":\"#E5ECF6\",\"polar\":{\"bgcolor\":\"#E5ECF6\",\"angularaxis\":{\"gridcolor\":\"white\",\"linecolor\":\"white\",\"ticks\":\"\"},\"radialaxis\":{\"gridcolor\":\"white\",\"linecolor\":\"white\",\"ticks\":\"\"}},\"ternary\":{\"bgcolor\":\"#E5ECF6\",\"aaxis\":{\"gridcolor\":\"white\",\"linecolor\":\"white\",\"ticks\":\"\"},\"baxis\":{\"gridcolor\":\"white\",\"linecolor\":\"white\",\"ticks\":\"\"},\"caxis\":{\"gridcolor\":\"white\",\"linecolor\":\"white\",\"ticks\":\"\"}},\"coloraxis\":{\"colorbar\":{\"outlinewidth\":0,\"ticks\":\"\"}},\"colorscale\":{\"sequential\":[[0.0,\"#0d0887\"],[0.1111111111111111,\"#46039f\"],[0.2222222222222222,\"#7201a8\"],[0.3333333333333333,\"#9c179e\"],[0.4444444444444444,\"#bd3786\"],[0.5555555555555556,\"#d8576b\"],[0.6666666666666666,\"#ed7953\"],[0.7777777777777778,\"#fb9f3a\"],[0.8888888888888888,\"#fdca26\"],[1.0,\"#f0f921\"]],\"sequentialminus\":[[0.0,\"#0d0887\"],[0.1111111111111111,\"#46039f\"],[0.2222222222222222,\"#7201a8\"],[0.3333333333333333,\"#9c179e\"],[0.4444444444444444,\"#bd3786\"],[0.5555555555555556,\"#d8576b\"],[0.6666666666666666,\"#ed7953\"],[0.7777777777777778,\"#fb9f3a\"],[0.8888888888888888,\"#fdca26\"],[1.0,\"#f0f921\"]],\"diverging\":[[0,\"#8e0152\"],[0.1,\"#c51b7d\"],[0.2,\"#de77ae\"],[0.3,\"#f1b6da\"],[0.4,\"#fde0ef\"],[0.5,\"#f7f7f7\"],[0.6,\"#e6f5d0\"],[0.7,\"#b8e186\"],[0.8,\"#7fbc41\"],[0.9,\"#4d9221\"],[1,\"#276419\"]]},\"xaxis\":{\"gridcolor\":\"white\",\"linecolor\":\"white\",\"ticks\":\"\",\"title\":{\"standoff\":15},\"zerolinecolor\":\"white\",\"automargin\":true,\"zerolinewidth\":2},\"yaxis\":{\"gridcolor\":\"white\",\"linecolor\":\"white\",\"ticks\":\"\",\"title\":{\"standoff\":15},\"zerolinecolor\":\"white\",\"automargin\":true,\"zerolinewidth\":2},\"scene\":{\"xaxis\":{\"backgroundcolor\":\"#E5ECF6\",\"gridcolor\":\"white\",\"linecolor\":\"white\",\"showbackground\":true,\"ticks\":\"\",\"zerolinecolor\":\"white\",\"gridwidth\":2},\"yaxis\":{\"backgroundcolor\":\"#E5ECF6\",\"gridcolor\":\"white\",\"linecolor\":\"white\",\"showbackground\":true,\"ticks\":\"\",\"zerolinecolor\":\"white\",\"gridwidth\":2},\"zaxis\":{\"backgroundcolor\":\"#E5ECF6\",\"gridcolor\":\"white\",\"linecolor\":\"white\",\"showbackground\":true,\"ticks\":\"\",\"zerolinecolor\":\"white\",\"gridwidth\":2}},\"shapedefaults\":{\"line\":{\"color\":\"#2a3f5f\"}},\"annotationdefaults\":{\"arrowcolor\":\"#2a3f5f\",\"arrowhead\":0,\"arrowwidth\":1},\"geo\":{\"bgcolor\":\"white\",\"landcolor\":\"#E5ECF6\",\"subunitcolor\":\"white\",\"showland\":true,\"showlakes\":true,\"lakecolor\":\"white\"},\"title\":{\"x\":0.05},\"mapbox\":{\"style\":\"light\"}}},\"height\":500},                        {\"responsive\": true}                    ).then(function(){\n",
       "                            \n",
       "var gd = document.getElementById('abf87ad9-249c-43c6-a21e-7d2c827e931f');\n",
       "var x = new MutationObserver(function (mutations, observer) {{\n",
       "        var display = window.getComputedStyle(gd).display;\n",
       "        if (!display || display === 'none') {{\n",
       "            console.log([gd, 'removed!']);\n",
       "            Plotly.purge(gd);\n",
       "            observer.disconnect();\n",
       "        }}\n",
       "}});\n",
       "\n",
       "// Listen for the removal of the full notebook cells\n",
       "var notebookContainer = gd.closest('#notebook-container');\n",
       "if (notebookContainer) {{\n",
       "    x.observe(notebookContainer, {childList: true});\n",
       "}}\n",
       "\n",
       "// Listen for the clearing of the current output cell\n",
       "var outputEl = gd.closest('.output');\n",
       "if (outputEl) {{\n",
       "    x.observe(outputEl, {childList: true});\n",
       "}}\n",
       "\n",
       "                        })                };                });            </script>        </div>"
      ]
     },
     "metadata": {},
     "output_type": "display_data"
    },
    {
     "data": {
      "image/png": "[encoded data removed]",
      "text/plain": [
       "<Figure size 1080x216 with 1 Axes>"
      ]
     },
     "metadata": {
      "needs_background": "light"
     },
     "output_type": "display_data"
    },
    {
     "data": {
      "image/png": "[encoded data removed]",
      "text/plain": [
       "<Figure size 720x2880 with 4 Axes>"
      ]
     },
     "metadata": {
      "needs_background": "light"
     },
     "output_type": "display_data"
    }
   ],
   "source": [
    "myvqe.show_results_annni()"
   ]
  },
  {
   "cell_type": "code",
   "execution_count": 79,
   "id": "4e034afc-9e3c-4cea-bfb6-fb2f63f170df",
   "metadata": {},
   "outputs": [
    {
     "name": "stdout",
     "output_type": "stream",
     "text": [
      "+--- CIRCUIT ---+\n",
      "0: ──RY(0.00)──||─╭IsingXX(8.00)───────────────────────────────────────────────────────────────\n",
      "1: ──RY(1.00)──||─╰IsingXX(8.00)─╭IsingXX(9.00)────────────────────────────────────────────────\n",
      "2: ──RY(2.00)──||────────────────╰IsingXX(9.00)─╭IsingXX(10.00)────────────────────────────────\n",
      "3: ──RY(3.00)──||───────────────────────────────╰IsingXX(10.00)─╭IsingXX(11.00)────────────────\n",
      "4: ──RY(4.00)──||───────────────────────────────────────────────╰IsingXX(11.00)─╭IsingXX(12.00)\n",
      "5: ──RY(5.00)──||───────────────────────────────────────────────────────────────╰IsingXX(12.00)\n",
      "6: ──RY(6.00)──||──────────────────────────────────────────────────────────────────────────────\n",
      "7: ──RY(7.00)──||──────────────────────────────────────────────────────────────────────────────\n",
      "\n",
      "───────────────────────────────────||──RY(15.00)──||─╭IsingXX(23.00)────────────────────────────────\n",
      "───────────────────────────────────||──RY(16.00)──||─╰IsingXX(23.00)─╭IsingXX(24.00)────────────────\n",
      "───────────────────────────────────||──RY(17.00)──||─────────────────╰IsingXX(24.00)─╭IsingXX(25.00)\n",
      "───────────────────────────────────||──RY(18.00)──||─────────────────────────────────╰IsingXX(25.00)\n",
      "───────────────────────────────────||──RY(19.00)──||────────────────────────────────────────────────\n",
      "──╭IsingXX(13.00)──────────────────||──RY(20.00)──||────────────────────────────────────────────────\n",
      "──╰IsingXX(13.00)─╭IsingXX(14.00)──||──RY(21.00)──||────────────────────────────────────────────────\n",
      "──────────────────╰IsingXX(14.00)──||──RY(22.00)──||────────────────────────────────────────────────\n",
      "\n",
      "───────────────────────────────────────────────────────────────────||──RY(30.00)─┤  State\n",
      "───────────────────────────────────────────────────────────────────||──RY(31.00)─┤  State\n",
      "───────────────────────────────────────────────────────────────────||──RY(32.00)─┤  State\n",
      "──╭IsingXX(26.00)──────────────────────────────────────────────────||──RY(33.00)─┤  State\n",
      "──╰IsingXX(26.00)─╭IsingXX(27.00)──────────────────────────────────||──RY(34.00)─┤  State\n",
      "──────────────────╰IsingXX(27.00)─╭IsingXX(28.00)──────────────────||──RY(35.00)─┤  State\n",
      "──────────────────────────────────╰IsingXX(28.00)─╭IsingXX(29.00)──||──RY(36.00)─┤  State\n",
      "──────────────────────────────────────────────────╰IsingXX(29.00)──||──RY(37.00)─┤  State\n"
     ]
    },
    {
     "name": "stderr",
     "output_type": "stream",
     "text": [
      "Cost: 0.02917996607720852: 100%|███████| 100000/100000 [03:32<00:00, 469.82it/s]\n"
     ]
    },
    {
     "data": {
      "application/vnd.plotly.v1+json": {
       "config": {
        "plotlyServerURL": "https://plot.ly"
       },
       "data": [
        {
         "colorscale": [
          [
           0,
           "rgb(255,245,240)"
          ],
          [
           0.125,
           "rgb(254,224,210)"
          ],
          [
           0.25,
           "rgb(252,187,161)"
          ],
          [
           0.375,
           "rgb(252,146,114)"
          ],
          [
           0.5,
           "rgb(251,106,74)"
          ],
          [
           0.625,
           "rgb(239,59,44)"
          ],
          [
           0.75,
           "rgb(203,24,29)"
          ],
          [
           0.875,
           "rgb(165,15,21)"
          ],
          [
           1,
           "rgb(103,0,13)"
          ]
         ],
         "opacity": 0.2,
         "type": "surface",
         "x": [
          1,
          0.8888888888888888,
          0.7777777777777778,
          0.6666666666666667,
          0.5555555555555556,
          0.4444444444444444,
          0.33333333333333337,
          0.22222222222222232,
          0.11111111111111116,
          0
         ],
         "y": [
          0,
          0.2222222222222222,
          0.4444444444444444,
          0.6666666666666666,
          0.8888888888888888,
          1.1111111111111112,
          1.3333333333333333,
          1.5555555555555554,
          1.7777777777777777,
          2
         ],
         "z": [
          [
           -7,
           -7.123926639556885,
           -7.502824306488037,
           -8.174699783325195,
           -9.203764915466309,
           -10.527410507202148,
           -12.014962196350098,
           -13.591526985168457,
           -15.221181869506836,
           -16.885141372680664
          ],
          [
           -7.666666507720947,
           -7.779191970825195,
           -8.12032413482666,
           -8.7087984085083,
           -9.593666076660156,
           -10.785530090332031,
           -12.191730499267578,
           -13.719902992248535,
           -15.318991661071777,
           -16.962432861328125
          ],
          [
           -8.333333015441895,
           -8.43649959564209,
           -8.747931480407715,
           -9.277600288391113,
           -10.056622505187988,
           -11.11868953704834,
           -12.425615310668945,
           -13.890901565551758,
           -15.450005531311035,
           -17.066728591918945
          ],
          [
           -9,
           -9.095317840576172,
           -9.382386207580566,
           -9.86686897277832,
           -10.567941665649414,
           -11.518410682678223,
           -12.71834659576416,
           -14.107332229614258,
           -15.616292953491211,
           -17.19940948486328
          ],
          [
           -9.666666984558105,
           -9.755292892456055,
           -10.02184772491455,
           -10.469719886779785,
           -11.110899925231934,
           -11.971049308776855,
           -13.067670822143555,
           -14.371016502380371,
           -15.819855690002441,
           -17.361957550048828
          ],
          [
           -10.333333015441895,
           -10.416179656982422,
           -10.665143966674805,
           -11.082343101501465,
           -11.67547607421875,
           -12.46324348449707,
           -13.46744441986084,
           -14.681947708129883,
           -16.062267303466797,
           -17.555843353271484
          ],
          [
           -11,
           -11.077797889709473,
           -11.311468124389648,
           -11.702386856079102,
           -12.255633354187012,
           -12.984570503234863,
           -13.909444808959961,
           -15.037858963012695,
           -16.344236373901367,
           -17.782350540161133
          ],
          [
           -11.666666984558105,
           -11.740013122558594,
           -11.960241317749023,
           -12.32827377319336,
           -12.84755802154541,
           -13.527644157409668,
           -14.385428428649902,
           -15.434528350830078,
           -16.665250778198242,
           -18.042333602905273
          ],
          [
           -12.333333015441895,
           -12.402724266052246,
           -12.611028671264648,
           -12.958887100219727,
           -13.448699951171875,
           -14.087357521057129,
           -14.888327598571777,
           -15.86663818359375,
           -17.023481369018555,
           -18.336008071899414
          ],
          [
           -13,
           -13.065850257873535,
           -13.263497352600098,
           -13.593399047851562,
           -14.057270050048828,
           -14.660146713256836,
           -15.412564277648926,
           -16.328699111938477,
           -17.41598892211914,
           -18.66278839111328
          ]
         ]
        },
        {
         "colorscale": [
          [
           0,
           "rgb(247,251,255)"
          ],
          [
           0.125,
           "rgb(222,235,247)"
          ],
          [
           0.25,
           "rgb(198,219,239)"
          ],
          [
           0.375,
           "rgb(158,202,225)"
          ],
          [
           0.5,
           "rgb(107,174,214)"
          ],
          [
           0.625,
           "rgb(66,146,198)"
          ],
          [
           0.75,
           "rgb(33,113,181)"
          ],
          [
           0.875,
           "rgb(8,81,156)"
          ],
          [
           1,
           "rgb(8,48,107)"
          ]
         ],
         "opacity": 1,
         "type": "surface",
         "x": [
          1,
          0.8888888888888888,
          0.7777777777777778,
          0.6666666666666667,
          0.5555555555555556,
          0.4444444444444444,
          0.33333333333333337,
          0.22222222222222232,
          0.11111111111111116,
          0
         ],
         "y": [
          0,
          0.2222222222222222,
          0.4444444444444444,
          0.6666666666666666,
          0.8888888888888888,
          1.1111111111111112,
          1.3333333333333333,
          1.5555555555555554,
          1.7777777777777777,
          2
         ],
         "z": [
          [
           -7.000001430511475,
           -7.12350606918335,
           -7.4953508377075195,
           -8.1484375,
           -9.08456802368164,
           -10.321179389953613,
           -11.865852355957031,
           -13.483572006225586,
           -15.154979705810547,
           -16.831768035888672
          ],
          [
           -7.666669845581055,
           -7.778942584991455,
           -8.116097450256348,
           -8.679390907287598,
           -9.521041870117188,
           -10.6030912399292,
           -11.948959350585938,
           -13.537442207336426,
           -15.20032787322998,
           -16.8749942779541
          ],
          [
           -8.333335876464844,
           -8.43634033203125,
           -8.745272636413574,
           -9.260139465332031,
           -10.01303482055664,
           -10.980175018310547,
           -12.177188873291016,
           -13.609182357788086,
           -15.24991512298584,
           -16.906618118286133
          ],
          [
           -9.000003814697266,
           -9.095211029052734,
           -9.380559921264648,
           -9.855554580688477,
           -10.540523529052734,
           -11.419459342956543,
           -12.502182006835938,
           -13.79174518585205,
           -15.293089866638184,
           -16.95935821533203
          ],
          [
           -9.666669845581055,
           -9.755215644836426,
           -10.020505905151367,
           -10.461847305297852,
           -11.07800006866455,
           -11.90099811553955,
           -12.893392562866211,
           -14.071146965026855,
           -15.436661720275879,
           -17.00737190246582
          ],
          [
           -10.33333969116211,
           -10.416120529174805,
           -10.664119720458984,
           -11.076539993286133,
           -11.652009010314941,
           -12.412683486938477,
           -13.331503868103027,
           -14.419021606445312,
           -15.676057815551758,
           -17.110130310058594
          ],
          [
           -11.000001907348633,
           -11.077749252319336,
           -11.310660362243652,
           -11.697896003723145,
           -12.238100051879883,
           -12.929567337036133,
           -13.804171562194824,
           -14.81693172454834,
           -15.985027313232422,
           -17.309120178222656
          ],
          [
           -11.666667938232422,
           -11.739974975585938,
           -11.959579467773438,
           -12.324657440185547,
           -12.833932876586914,
           -13.485686302185059,
           -14.30324935913086,
           -15.252669334411621,
           -16.34604835510254,
           -17.583112716674805
          ],
          [
           -12.33333969116211,
           -12.402688026428223,
           -12.610471725463867,
           -12.955886840820312,
           -13.437752723693848,
           -14.054384231567383,
           -14.803916931152344,
           -15.717912673950195,
           -16.74726676940918,
           -17.91042137145996
          ],
          [
           -13.000003814697266,
           -13.06582260131836,
           -13.263026237487793,
           -13.59084701538086,
           -14.04821491241455,
           -14.633533477783203,
           -15.3450288772583,
           -16.206722259521484,
           -17.180356979370117,
           -18.279571533203125
          ]
         ]
        }
       ],
       "layout": {
        "autosize": true,
        "scene": {
         "aspectmode": "auto",
         "aspectratio": {
          "x": 1,
          "y": 1,
          "z": 1
         },
         "camera": {
          "center": {
           "x": 0,
           "y": 0,
           "z": 0
          },
          "eye": {
           "x": 1.1690209982054884,
           "y": 1.1690209982054882,
           "z": 1.1690209982054884
          },
          "projection": {
           "type": "perspective"
          },
          "up": {
           "x": 0,
           "y": 0,
           "z": 1
          }
         }
        },
        "template": {
         "data": {
          "bar": [
           {
            "error_x": {
             "color": "#2a3f5f"
            },
            "error_y": {
             "color": "#2a3f5f"
            },
            "marker": {
             "line": {
              "color": "#E5ECF6",
              "width": 0.5
             },
             "pattern": {
              "fillmode": "overlay",
              "size": 10,
              "solidity": 0.2
             }
            },
            "type": "bar"
           }
          ],
          "barpolar": [
           {
            "marker": {
             "line": {
              "color": "#E5ECF6",
              "width": 0.5
             },
             "pattern": {
              "fillmode": "overlay",
              "size": 10,
              "solidity": 0.2
             }
            },
            "type": "barpolar"
           }
          ],
          "carpet": [
           {
            "aaxis": {
             "endlinecolor": "#2a3f5f",
             "gridcolor": "white",
             "linecolor": "white",
             "minorgridcolor": "white",
             "startlinecolor": "#2a3f5f"
            },
            "baxis": {
             "endlinecolor": "#2a3f5f",
             "gridcolor": "white",
             "linecolor": "white",
             "minorgridcolor": "white",
             "startlinecolor": "#2a3f5f"
            },
            "type": "carpet"
           }
          ],
          "choropleth": [
           {
            "colorbar": {
             "outlinewidth": 0,
             "ticks": ""
            },
            "type": "choropleth"
           }
          ],
          "contour": [
           {
            "colorbar": {
             "outlinewidth": 0,
             "ticks": ""
            },
            "colorscale": [
             [
              0,
              "#0d0887"
             ],
             [
              0.1111111111111111,
              "#46039f"
             ],
             [
              0.2222222222222222,
              "#7201a8"
             ],
             [
              0.3333333333333333,
              "#9c179e"
             ],
             [
              0.4444444444444444,
              "#bd3786"
             ],
             [
              0.5555555555555556,
              "#d8576b"
             ],
             [
              0.6666666666666666,
              "#ed7953"
             ],
             [
              0.7777777777777778,
              "#fb9f3a"
             ],
             [
              0.8888888888888888,
              "#fdca26"
             ],
             [
              1,
              "#f0f921"
             ]
            ],
            "type": "contour"
           }
          ],
          "contourcarpet": [
           {
            "colorbar": {
             "outlinewidth": 0,
             "ticks": ""
            },
            "type": "contourcarpet"
           }
          ],
          "heatmap": [
           {
            "colorbar": {
             "outlinewidth": 0,
             "ticks": ""
            },
            "colorscale": [
             [
              0,
              "#0d0887"
             ],
             [
              0.1111111111111111,
              "#46039f"
             ],
             [
              0.2222222222222222,
              "#7201a8"
             ],
             [
              0.3333333333333333,
              "#9c179e"
             ],
             [
              0.4444444444444444,
              "#bd3786"
             ],
             [
              0.5555555555555556,
              "#d8576b"
             ],
             [
              0.6666666666666666,
              "#ed7953"
             ],
             [
              0.7777777777777778,
              "#fb9f3a"
             ],
             [
              0.8888888888888888,
              "#fdca26"
             ],
             [
              1,
              "#f0f921"
             ]
            ],
            "type": "heatmap"
           }
          ],
          "heatmapgl": [
           {
            "colorbar": {
             "outlinewidth": 0,
             "ticks": ""
            },
            "colorscale": [
             [
              0,
              "#0d0887"
             ],
             [
              0.1111111111111111,
              "#46039f"
             ],
             [
              0.2222222222222222,
              "#7201a8"
             ],
             [
              0.3333333333333333,
              "#9c179e"
             ],
             [
              0.4444444444444444,
              "#bd3786"
             ],
             [
              0.5555555555555556,
              "#d8576b"
             ],
             [
              0.6666666666666666,
              "#ed7953"
             ],
             [
              0.7777777777777778,
              "#fb9f3a"
             ],
             [
              0.8888888888888888,
              "#fdca26"
             ],
             [
              1,
              "#f0f921"
             ]
            ],
            "type": "heatmapgl"
           }
          ],
          "histogram": [
           {
            "marker": {
             "pattern": {
              "fillmode": "overlay",
              "size": 10,
              "solidity": 0.2
             }
            },
            "type": "histogram"
           }
          ],
          "histogram2d": [
           {
            "colorbar": {
             "outlinewidth": 0,
             "ticks": ""
            },
            "colorscale": [
             [
              0,
              "#0d0887"
             ],
             [
              0.1111111111111111,
              "#46039f"
             ],
             [
              0.2222222222222222,
              "#7201a8"
             ],
             [
              0.3333333333333333,
              "#9c179e"
             ],
             [
              0.4444444444444444,
              "#bd3786"
             ],
             [
              0.5555555555555556,
              "#d8576b"
             ],
             [
              0.6666666666666666,
              "#ed7953"
             ],
             [
              0.7777777777777778,
              "#fb9f3a"
             ],
             [
              0.8888888888888888,
              "#fdca26"
             ],
             [
              1,
              "#f0f921"
             ]
            ],
            "type": "histogram2d"
           }
          ],
          "histogram2dcontour": [
           {
            "colorbar": {
             "outlinewidth": 0,
             "ticks": ""
            },
            "colorscale": [
             [
              0,
              "#0d0887"
             ],
             [
              0.1111111111111111,
              "#46039f"
             ],
             [
              0.2222222222222222,
              "#7201a8"
             ],
             [
              0.3333333333333333,
              "#9c179e"
             ],
             [
              0.4444444444444444,
              "#bd3786"
             ],
             [
              0.5555555555555556,
              "#d8576b"
             ],
             [
              0.6666666666666666,
              "#ed7953"
             ],
             [
              0.7777777777777778,
              "#fb9f3a"
             ],
             [
              0.8888888888888888,
              "#fdca26"
             ],
             [
              1,
              "#f0f921"
             ]
            ],
            "type": "histogram2dcontour"
           }
          ],
          "mesh3d": [
           {
            "colorbar": {
             "outlinewidth": 0,
             "ticks": ""
            },
            "type": "mesh3d"
           }
          ],
          "parcoords": [
           {
            "line": {
             "colorbar": {
              "outlinewidth": 0,
              "ticks": ""
             }
            },
            "type": "parcoords"
           }
          ],
          "pie": [
           {
            "automargin": true,
            "type": "pie"
           }
          ],
          "scatter": [
           {
            "fillpattern": {
             "fillmode": "overlay",
             "size": 10,
             "solidity": 0.2
            },
            "type": "scatter"
           }
          ],
          "scatter3d": [
           {
            "line": {
             "colorbar": {
              "outlinewidth": 0,
              "ticks": ""
             }
            },
            "marker": {
             "colorbar": {
              "outlinewidth": 0,
              "ticks": ""
             }
            },
            "type": "scatter3d"
           }
          ],
          "scattercarpet": [
           {
            "marker": {
             "colorbar": {
              "outlinewidth": 0,
              "ticks": ""
             }
            },
            "type": "scattercarpet"
           }
          ],
          "scattergeo": [
           {
            "marker": {
             "colorbar": {
              "outlinewidth": 0,
              "ticks": ""
             }
            },
            "type": "scattergeo"
           }
          ],
          "scattergl": [
           {
            "marker": {
             "colorbar": {
              "outlinewidth": 0,
              "ticks": ""
             }
            },
            "type": "scattergl"
           }
          ],
          "scattermapbox": [
           {
            "marker": {
             "colorbar": {
              "outlinewidth": 0,
              "ticks": ""
             }
            },
            "type": "scattermapbox"
           }
          ],
          "scatterpolar": [
           {
            "marker": {
             "colorbar": {
              "outlinewidth": 0,
              "ticks": ""
             }
            },
            "type": "scatterpolar"
           }
          ],
          "scatterpolargl": [
           {
            "marker": {
             "colorbar": {
              "outlinewidth": 0,
              "ticks": ""
             }
            },
            "type": "scatterpolargl"
           }
          ],
          "scatterternary": [
           {
            "marker": {
             "colorbar": {
              "outlinewidth": 0,
              "ticks": ""
             }
            },
            "type": "scatterternary"
           }
          ],
          "surface": [
           {
            "colorbar": {
             "outlinewidth": 0,
             "ticks": ""
            },
            "colorscale": [
             [
              0,
              "#0d0887"
             ],
             [
              0.1111111111111111,
              "#46039f"
             ],
             [
              0.2222222222222222,
              "#7201a8"
             ],
             [
              0.3333333333333333,
              "#9c179e"
             ],
             [
              0.4444444444444444,
              "#bd3786"
             ],
             [
              0.5555555555555556,
              "#d8576b"
             ],
             [
              0.6666666666666666,
              "#ed7953"
             ],
             [
              0.7777777777777778,
              "#fb9f3a"
             ],
             [
              0.8888888888888888,
              "#fdca26"
             ],
             [
              1,
              "#f0f921"
             ]
            ],
            "type": "surface"
           }
          ],
          "table": [
           {
            "cells": {
             "fill": {
              "color": "#EBF0F8"
             },
             "line": {
              "color": "white"
             }
            },
            "header": {
             "fill": {
              "color": "#C8D4E3"
             },
             "line": {
              "color": "white"
             }
            },
            "type": "table"
           }
          ]
         },
         "layout": {
          "annotationdefaults": {
           "arrowcolor": "#2a3f5f",
           "arrowhead": 0,
           "arrowwidth": 1
          },
          "autotypenumbers": "strict",
          "coloraxis": {
           "colorbar": {
            "outlinewidth": 0,
            "ticks": ""
           }
          },
          "colorscale": {
           "diverging": [
            [
             0,
             "#8e0152"
            ],
            [
             0.1,
             "#c51b7d"
            ],
            [
             0.2,
             "#de77ae"
            ],
            [
             0.3,
             "#f1b6da"
            ],
            [
             0.4,
             "#fde0ef"
            ],
            [
             0.5,
             "#f7f7f7"
            ],
            [
             0.6,
             "#e6f5d0"
            ],
            [
             0.7,
             "#b8e186"
            ],
            [
             0.8,
             "#7fbc41"
            ],
            [
             0.9,
             "#4d9221"
            ],
            [
             1,
             "#276419"
            ]
           ],
           "sequential": [
            [
             0,
             "#0d0887"
            ],
            [
             0.1111111111111111,
             "#46039f"
            ],
            [
             0.2222222222222222,
             "#7201a8"
            ],
            [
             0.3333333333333333,
             "#9c179e"
            ],
            [
             0.4444444444444444,
             "#bd3786"
            ],
            [
             0.5555555555555556,
             "#d8576b"
            ],
            [
             0.6666666666666666,
             "#ed7953"
            ],
            [
             0.7777777777777778,
             "#fb9f3a"
            ],
            [
             0.8888888888888888,
             "#fdca26"
            ],
            [
             1,
             "#f0f921"
            ]
           ],
           "sequentialminus": [
            [
             0,
             "#0d0887"
            ],
            [
             0.1111111111111111,
             "#46039f"
            ],
            [
             0.2222222222222222,
             "#7201a8"
            ],
            [
             0.3333333333333333,
             "#9c179e"
            ],
            [
             0.4444444444444444,
             "#bd3786"
            ],
            [
             0.5555555555555556,
             "#d8576b"
            ],
            [
             0.6666666666666666,
             "#ed7953"
            ],
            [
             0.7777777777777778,
             "#fb9f3a"
            ],
            [
             0.8888888888888888,
             "#fdca26"
            ],
            [
             1,
             "#f0f921"
            ]
           ]
          },
          "colorway": [
           "#636efa",
           "#EF553B",
           "#00cc96",
           "#ab63fa",
           "#FFA15A",
           "#19d3f3",
           "#FF6692",
           "#B6E880",
           "#FF97FF",
           "#FECB52"
          ],
          "font": {
           "color": "#2a3f5f"
          },
          "geo": {
           "bgcolor": "white",
           "lakecolor": "white",
           "landcolor": "#E5ECF6",
           "showlakes": true,
           "showland": true,
           "subunitcolor": "white"
          },
          "hoverlabel": {
           "align": "left"
          },
          "hovermode": "closest",
          "mapbox": {
           "style": "light"
          },
          "paper_bgcolor": "white",
          "plot_bgcolor": "#E5ECF6",
          "polar": {
           "angularaxis": {
            "gridcolor": "white",
            "linecolor": "white",
            "ticks": ""
           },
           "bgcolor": "#E5ECF6",
           "radialaxis": {
            "gridcolor": "white",
            "linecolor": "white",
            "ticks": ""
           }
          },
          "scene": {
           "xaxis": {
            "backgroundcolor": "#E5ECF6",
            "gridcolor": "white",
            "gridwidth": 2,
            "linecolor": "white",
            "showbackground": true,
            "ticks": "",
            "zerolinecolor": "white"
           },
           "yaxis": {
            "backgroundcolor": "#E5ECF6",
            "gridcolor": "white",
            "gridwidth": 2,
            "linecolor": "white",
            "showbackground": true,
            "ticks": "",
            "zerolinecolor": "white"
           },
           "zaxis": {
            "backgroundcolor": "#E5ECF6",
            "gridcolor": "white",
            "gridwidth": 2,
            "linecolor": "white",
            "showbackground": true,
            "ticks": "",
            "zerolinecolor": "white"
           }
          },
          "shapedefaults": {
           "line": {
            "color": "#2a3f5f"
           }
          },
          "ternary": {
           "aaxis": {
            "gridcolor": "white",
            "linecolor": "white",
            "ticks": ""
           },
           "baxis": {
            "gridcolor": "white",
            "linecolor": "white",
            "ticks": ""
           },
           "bgcolor": "#E5ECF6",
           "caxis": {
            "gridcolor": "white",
            "linecolor": "white",
            "ticks": ""
           }
          },
          "title": {
           "x": 0.05
          },
          "xaxis": {
           "automargin": true,
           "gridcolor": "white",
           "linecolor": "white",
           "ticks": "",
           "title": {
            "standoff": 15
           },
           "zerolinecolor": "white",
           "zerolinewidth": 2
          },
          "yaxis": {
           "automargin": true,
           "gridcolor": "white",
           "linecolor": "white",
           "ticks": "",
           "title": {
            "standoff": 15
           },
           "zerolinecolor": "white",
           "zerolinewidth": 2
          }
         }
        }
       }
      },
      "image/png": "[encoded data removed]",
      "text/html": [
       "<div>                            <div id=\"333b7d5a-205d-40bb-bd83-c256b47edaee\" class=\"plotly-graph-div\" style=\"height:500px; width:100%;\"></div>            <script type=\"text/javascript\">                require([\"plotly\"], function(Plotly) {                    window.PLOTLYENV=window.PLOTLYENV || {};                                    if (document.getElementById(\"333b7d5a-205d-40bb-bd83-c256b47edaee\")) {                    Plotly.newPlot(                        \"333b7d5a-205d-40bb-bd83-c256b47edaee\",                        [{\"colorscale\":[[0.0,\"rgb(255,245,240)\"],[0.125,\"rgb(254,224,210)\"],[0.25,\"rgb(252,187,161)\"],[0.375,\"rgb(252,146,114)\"],[0.5,\"rgb(251,106,74)\"],[0.625,\"rgb(239,59,44)\"],[0.75,\"rgb(203,24,29)\"],[0.875,\"rgb(165,15,21)\"],[1.0,\"rgb(103,0,13)\"]],\"opacity\":0.2,\"x\":[1.0,0.8888888888888888,0.7777777777777778,0.6666666666666667,0.5555555555555556,0.4444444444444444,0.33333333333333337,0.22222222222222232,0.11111111111111116,0.0],\"y\":[0.0,0.2222222222222222,0.4444444444444444,0.6666666666666666,0.8888888888888888,1.1111111111111112,1.3333333333333333,1.5555555555555554,1.7777777777777777,2.0],\"z\":[[-7.0,-7.123926639556885,-7.502824306488037,-8.174699783325195,-9.203764915466309,-10.527410507202148,-12.014962196350098,-13.591526985168457,-15.221181869506836,-16.885141372680664],[-7.666666507720947,-7.779191970825195,-8.12032413482666,-8.7087984085083,-9.593666076660156,-10.785530090332031,-12.191730499267578,-13.719902992248535,-15.318991661071777,-16.962432861328125],[-8.333333015441895,-8.43649959564209,-8.747931480407715,-9.277600288391113,-10.056622505187988,-11.11868953704834,-12.425615310668945,-13.890901565551758,-15.450005531311035,-17.066728591918945],[-9.0,-9.095317840576172,-9.382386207580566,-9.86686897277832,-10.567941665649414,-11.518410682678223,-12.71834659576416,-14.107332229614258,-15.616292953491211,-17.19940948486328],[-9.666666984558105,-9.755292892456055,-10.02184772491455,-10.469719886779785,-11.110899925231934,-11.971049308776855,-13.067670822143555,-14.371016502380371,-15.819855690002441,-17.361957550048828],[-10.333333015441895,-10.416179656982422,-10.665143966674805,-11.082343101501465,-11.67547607421875,-12.46324348449707,-13.46744441986084,-14.681947708129883,-16.062267303466797,-17.555843353271484],[-11.0,-11.077797889709473,-11.311468124389648,-11.702386856079102,-12.255633354187012,-12.984570503234863,-13.909444808959961,-15.037858963012695,-16.344236373901367,-17.782350540161133],[-11.666666984558105,-11.740013122558594,-11.960241317749023,-12.32827377319336,-12.84755802154541,-13.527644157409668,-14.385428428649902,-15.434528350830078,-16.665250778198242,-18.042333602905273],[-12.333333015441895,-12.402724266052246,-12.611028671264648,-12.958887100219727,-13.448699951171875,-14.087357521057129,-14.888327598571777,-15.86663818359375,-17.023481369018555,-18.336008071899414],[-13.0,-13.065850257873535,-13.263497352600098,-13.593399047851562,-14.057270050048828,-14.660146713256836,-15.412564277648926,-16.328699111938477,-17.41598892211914,-18.66278839111328]],\"type\":\"surface\"},{\"colorscale\":[[0.0,\"rgb(247,251,255)\"],[0.125,\"rgb(222,235,247)\"],[0.25,\"rgb(198,219,239)\"],[0.375,\"rgb(158,202,225)\"],[0.5,\"rgb(107,174,214)\"],[0.625,\"rgb(66,146,198)\"],[0.75,\"rgb(33,113,181)\"],[0.875,\"rgb(8,81,156)\"],[1.0,\"rgb(8,48,107)\"]],\"opacity\":1,\"x\":[1.0,0.8888888888888888,0.7777777777777778,0.6666666666666667,0.5555555555555556,0.4444444444444444,0.33333333333333337,0.22222222222222232,0.11111111111111116,0.0],\"y\":[0.0,0.2222222222222222,0.4444444444444444,0.6666666666666666,0.8888888888888888,1.1111111111111112,1.3333333333333333,1.5555555555555554,1.7777777777777777,2.0],\"z\":[[-7.000001430511475,-7.12350606918335,-7.4953508377075195,-8.1484375,-9.08456802368164,-10.321179389953613,-11.865852355957031,-13.483572006225586,-15.154979705810547,-16.831768035888672],[-7.666669845581055,-7.778942584991455,-8.116097450256348,-8.679390907287598,-9.521041870117188,-10.6030912399292,-11.948959350585938,-13.537442207336426,-15.20032787322998,-16.8749942779541],[-8.333335876464844,-8.43634033203125,-8.745272636413574,-9.260139465332031,-10.01303482055664,-10.980175018310547,-12.177188873291016,-13.609182357788086,-15.24991512298584,-16.906618118286133],[-9.000003814697266,-9.095211029052734,-9.380559921264648,-9.855554580688477,-10.540523529052734,-11.419459342956543,-12.502182006835938,-13.79174518585205,-15.293089866638184,-16.95935821533203],[-9.666669845581055,-9.755215644836426,-10.020505905151367,-10.461847305297852,-11.07800006866455,-11.90099811553955,-12.893392562866211,-14.071146965026855,-15.436661720275879,-17.00737190246582],[-10.33333969116211,-10.416120529174805,-10.664119720458984,-11.076539993286133,-11.652009010314941,-12.412683486938477,-13.331503868103027,-14.419021606445312,-15.676057815551758,-17.110130310058594],[-11.000001907348633,-11.077749252319336,-11.310660362243652,-11.697896003723145,-12.238100051879883,-12.929567337036133,-13.804171562194824,-14.81693172454834,-15.985027313232422,-17.309120178222656],[-11.666667938232422,-11.739974975585938,-11.959579467773438,-12.324657440185547,-12.833932876586914,-13.485686302185059,-14.30324935913086,-15.252669334411621,-16.34604835510254,-17.583112716674805],[-12.33333969116211,-12.402688026428223,-12.610471725463867,-12.955886840820312,-13.437752723693848,-14.054384231567383,-14.803916931152344,-15.717912673950195,-16.74726676940918,-17.91042137145996],[-13.000003814697266,-13.06582260131836,-13.263026237487793,-13.59084701538086,-14.04821491241455,-14.633533477783203,-15.3450288772583,-16.206722259521484,-17.180356979370117,-18.279571533203125]],\"type\":\"surface\"}],                        {\"template\":{\"data\":{\"histogram2dcontour\":[{\"type\":\"histogram2dcontour\",\"colorbar\":{\"outlinewidth\":0,\"ticks\":\"\"},\"colorscale\":[[0.0,\"#0d0887\"],[0.1111111111111111,\"#46039f\"],[0.2222222222222222,\"#7201a8\"],[0.3333333333333333,\"#9c179e\"],[0.4444444444444444,\"#bd3786\"],[0.5555555555555556,\"#d8576b\"],[0.6666666666666666,\"#ed7953\"],[0.7777777777777778,\"#fb9f3a\"],[0.8888888888888888,\"#fdca26\"],[1.0,\"#f0f921\"]]}],\"choropleth\":[{\"type\":\"choropleth\",\"colorbar\":{\"outlinewidth\":0,\"ticks\":\"\"}}],\"histogram2d\":[{\"type\":\"histogram2d\",\"colorbar\":{\"outlinewidth\":0,\"ticks\":\"\"},\"colorscale\":[[0.0,\"#0d0887\"],[0.1111111111111111,\"#46039f\"],[0.2222222222222222,\"#7201a8\"],[0.3333333333333333,\"#9c179e\"],[0.4444444444444444,\"#bd3786\"],[0.5555555555555556,\"#d8576b\"],[0.6666666666666666,\"#ed7953\"],[0.7777777777777778,\"#fb9f3a\"],[0.8888888888888888,\"#fdca26\"],[1.0,\"#f0f921\"]]}],\"heatmap\":[{\"type\":\"heatmap\",\"colorbar\":{\"outlinewidth\":0,\"ticks\":\"\"},\"colorscale\":[[0.0,\"#0d0887\"],[0.1111111111111111,\"#46039f\"],[0.2222222222222222,\"#7201a8\"],[0.3333333333333333,\"#9c179e\"],[0.4444444444444444,\"#bd3786\"],[0.5555555555555556,\"#d8576b\"],[0.6666666666666666,\"#ed7953\"],[0.7777777777777778,\"#fb9f3a\"],[0.8888888888888888,\"#fdca26\"],[1.0,\"#f0f921\"]]}],\"heatmapgl\":[{\"type\":\"heatmapgl\",\"colorbar\":{\"outlinewidth\":0,\"ticks\":\"\"},\"colorscale\":[[0.0,\"#0d0887\"],[0.1111111111111111,\"#46039f\"],[0.2222222222222222,\"#7201a8\"],[0.3333333333333333,\"#9c179e\"],[0.4444444444444444,\"#bd3786\"],[0.5555555555555556,\"#d8576b\"],[0.6666666666666666,\"#ed7953\"],[0.7777777777777778,\"#fb9f3a\"],[0.8888888888888888,\"#fdca26\"],[1.0,\"#f0f921\"]]}],\"contourcarpet\":[{\"type\":\"contourcarpet\",\"colorbar\":{\"outlinewidth\":0,\"ticks\":\"\"}}],\"contour\":[{\"type\":\"contour\",\"colorbar\":{\"outlinewidth\":0,\"ticks\":\"\"},\"colorscale\":[[0.0,\"#0d0887\"],[0.1111111111111111,\"#46039f\"],[0.2222222222222222,\"#7201a8\"],[0.3333333333333333,\"#9c179e\"],[0.4444444444444444,\"#bd3786\"],[0.5555555555555556,\"#d8576b\"],[0.6666666666666666,\"#ed7953\"],[0.7777777777777778,\"#fb9f3a\"],[0.8888888888888888,\"#fdca26\"],[1.0,\"#f0f921\"]]}],\"surface\":[{\"type\":\"surface\",\"colorbar\":{\"outlinewidth\":0,\"ticks\":\"\"},\"colorscale\":[[0.0,\"#0d0887\"],[0.1111111111111111,\"#46039f\"],[0.2222222222222222,\"#7201a8\"],[0.3333333333333333,\"#9c179e\"],[0.4444444444444444,\"#bd3786\"],[0.5555555555555556,\"#d8576b\"],[0.6666666666666666,\"#ed7953\"],[0.7777777777777778,\"#fb9f3a\"],[0.8888888888888888,\"#fdca26\"],[1.0,\"#f0f921\"]]}],\"mesh3d\":[{\"type\":\"mesh3d\",\"colorbar\":{\"outlinewidth\":0,\"ticks\":\"\"}}],\"scatter\":[{\"fillpattern\":{\"fillmode\":\"overlay\",\"size\":10,\"solidity\":0.2},\"type\":\"scatter\"}],\"parcoords\":[{\"type\":\"parcoords\",\"line\":{\"colorbar\":{\"outlinewidth\":0,\"ticks\":\"\"}}}],\"scatterpolargl\":[{\"type\":\"scatterpolargl\",\"marker\":{\"colorbar\":{\"outlinewidth\":0,\"ticks\":\"\"}}}],\"bar\":[{\"error_x\":{\"color\":\"#2a3f5f\"},\"error_y\":{\"color\":\"#2a3f5f\"},\"marker\":{\"line\":{\"color\":\"#E5ECF6\",\"width\":0.5},\"pattern\":{\"fillmode\":\"overlay\",\"size\":10,\"solidity\":0.2}},\"type\":\"bar\"}],\"scattergeo\":[{\"type\":\"scattergeo\",\"marker\":{\"colorbar\":{\"outlinewidth\":0,\"ticks\":\"\"}}}],\"scatterpolar\":[{\"type\":\"scatterpolar\",\"marker\":{\"colorbar\":{\"outlinewidth\":0,\"ticks\":\"\"}}}],\"histogram\":[{\"marker\":{\"pattern\":{\"fillmode\":\"overlay\",\"size\":10,\"solidity\":0.2}},\"type\":\"histogram\"}],\"scattergl\":[{\"type\":\"scattergl\",\"marker\":{\"colorbar\":{\"outlinewidth\":0,\"ticks\":\"\"}}}],\"scatter3d\":[{\"type\":\"scatter3d\",\"line\":{\"colorbar\":{\"outlinewidth\":0,\"ticks\":\"\"}},\"marker\":{\"colorbar\":{\"outlinewidth\":0,\"ticks\":\"\"}}}],\"scattermapbox\":[{\"type\":\"scattermapbox\",\"marker\":{\"colorbar\":{\"outlinewidth\":0,\"ticks\":\"\"}}}],\"scatterternary\":[{\"type\":\"scatterternary\",\"marker\":{\"colorbar\":{\"outlinewidth\":0,\"ticks\":\"\"}}}],\"scattercarpet\":[{\"type\":\"scattercarpet\",\"marker\":{\"colorbar\":{\"outlinewidth\":0,\"ticks\":\"\"}}}],\"carpet\":[{\"aaxis\":{\"endlinecolor\":\"#2a3f5f\",\"gridcolor\":\"white\",\"linecolor\":\"white\",\"minorgridcolor\":\"white\",\"startlinecolor\":\"#2a3f5f\"},\"baxis\":{\"endlinecolor\":\"#2a3f5f\",\"gridcolor\":\"white\",\"linecolor\":\"white\",\"minorgridcolor\":\"white\",\"startlinecolor\":\"#2a3f5f\"},\"type\":\"carpet\"}],\"table\":[{\"cells\":{\"fill\":{\"color\":\"#EBF0F8\"},\"line\":{\"color\":\"white\"}},\"header\":{\"fill\":{\"color\":\"#C8D4E3\"},\"line\":{\"color\":\"white\"}},\"type\":\"table\"}],\"barpolar\":[{\"marker\":{\"line\":{\"color\":\"#E5ECF6\",\"width\":0.5},\"pattern\":{\"fillmode\":\"overlay\",\"size\":10,\"solidity\":0.2}},\"type\":\"barpolar\"}],\"pie\":[{\"automargin\":true,\"type\":\"pie\"}]},\"layout\":{\"autotypenumbers\":\"strict\",\"colorway\":[\"#636efa\",\"#EF553B\",\"#00cc96\",\"#ab63fa\",\"#FFA15A\",\"#19d3f3\",\"#FF6692\",\"#B6E880\",\"#FF97FF\",\"#FECB52\"],\"font\":{\"color\":\"#2a3f5f\"},\"hovermode\":\"closest\",\"hoverlabel\":{\"align\":\"left\"},\"paper_bgcolor\":\"white\",\"plot_bgcolor\":\"#E5ECF6\",\"polar\":{\"bgcolor\":\"#E5ECF6\",\"angularaxis\":{\"gridcolor\":\"white\",\"linecolor\":\"white\",\"ticks\":\"\"},\"radialaxis\":{\"gridcolor\":\"white\",\"linecolor\":\"white\",\"ticks\":\"\"}},\"ternary\":{\"bgcolor\":\"#E5ECF6\",\"aaxis\":{\"gridcolor\":\"white\",\"linecolor\":\"white\",\"ticks\":\"\"},\"baxis\":{\"gridcolor\":\"white\",\"linecolor\":\"white\",\"ticks\":\"\"},\"caxis\":{\"gridcolor\":\"white\",\"linecolor\":\"white\",\"ticks\":\"\"}},\"coloraxis\":{\"colorbar\":{\"outlinewidth\":0,\"ticks\":\"\"}},\"colorscale\":{\"sequential\":[[0.0,\"#0d0887\"],[0.1111111111111111,\"#46039f\"],[0.2222222222222222,\"#7201a8\"],[0.3333333333333333,\"#9c179e\"],[0.4444444444444444,\"#bd3786\"],[0.5555555555555556,\"#d8576b\"],[0.6666666666666666,\"#ed7953\"],[0.7777777777777778,\"#fb9f3a\"],[0.8888888888888888,\"#fdca26\"],[1.0,\"#f0f921\"]],\"sequentialminus\":[[0.0,\"#0d0887\"],[0.1111111111111111,\"#46039f\"],[0.2222222222222222,\"#7201a8\"],[0.3333333333333333,\"#9c179e\"],[0.4444444444444444,\"#bd3786\"],[0.5555555555555556,\"#d8576b\"],[0.6666666666666666,\"#ed7953\"],[0.7777777777777778,\"#fb9f3a\"],[0.8888888888888888,\"#fdca26\"],[1.0,\"#f0f921\"]],\"diverging\":[[0,\"#8e0152\"],[0.1,\"#c51b7d\"],[0.2,\"#de77ae\"],[0.3,\"#f1b6da\"],[0.4,\"#fde0ef\"],[0.5,\"#f7f7f7\"],[0.6,\"#e6f5d0\"],[0.7,\"#b8e186\"],[0.8,\"#7fbc41\"],[0.9,\"#4d9221\"],[1,\"#276419\"]]},\"xaxis\":{\"gridcolor\":\"white\",\"linecolor\":\"white\",\"ticks\":\"\",\"title\":{\"standoff\":15},\"zerolinecolor\":\"white\",\"automargin\":true,\"zerolinewidth\":2},\"yaxis\":{\"gridcolor\":\"white\",\"linecolor\":\"white\",\"ticks\":\"\",\"title\":{\"standoff\":15},\"zerolinecolor\":\"white\",\"automargin\":true,\"zerolinewidth\":2},\"scene\":{\"xaxis\":{\"backgroundcolor\":\"#E5ECF6\",\"gridcolor\":\"white\",\"linecolor\":\"white\",\"showbackground\":true,\"ticks\":\"\",\"zerolinecolor\":\"white\",\"gridwidth\":2},\"yaxis\":{\"backgroundcolor\":\"#E5ECF6\",\"gridcolor\":\"white\",\"linecolor\":\"white\",\"showbackground\":true,\"ticks\":\"\",\"zerolinecolor\":\"white\",\"gridwidth\":2},\"zaxis\":{\"backgroundcolor\":\"#E5ECF6\",\"gridcolor\":\"white\",\"linecolor\":\"white\",\"showbackground\":true,\"ticks\":\"\",\"zerolinecolor\":\"white\",\"gridwidth\":2}},\"shapedefaults\":{\"line\":{\"color\":\"#2a3f5f\"}},\"annotationdefaults\":{\"arrowcolor\":\"#2a3f5f\",\"arrowhead\":0,\"arrowwidth\":1},\"geo\":{\"bgcolor\":\"white\",\"landcolor\":\"#E5ECF6\",\"subunitcolor\":\"white\",\"showland\":true,\"showlakes\":true,\"lakecolor\":\"white\"},\"title\":{\"x\":0.05},\"mapbox\":{\"style\":\"light\"}}},\"height\":500},                        {\"responsive\": true}                    ).then(function(){\n",
       "                            \n",
       "var gd = document.getElementById('333b7d5a-205d-40bb-bd83-c256b47edaee');\n",
       "var x = new MutationObserver(function (mutations, observer) {{\n",
       "        var display = window.getComputedStyle(gd).display;\n",
       "        if (!display || display === 'none') {{\n",
       "            console.log([gd, 'removed!']);\n",
       "            Plotly.purge(gd);\n",
       "            observer.disconnect();\n",
       "        }}\n",
       "}});\n",
       "\n",
       "// Listen for the removal of the full notebook cells\n",
       "var notebookContainer = gd.closest('#notebook-container');\n",
       "if (notebookContainer) {{\n",
       "    x.observe(notebookContainer, {childList: true});\n",
       "}}\n",
       "\n",
       "// Listen for the clearing of the current output cell\n",
       "var outputEl = gd.closest('.output');\n",
       "if (outputEl) {{\n",
       "    x.observe(outputEl, {childList: true});\n",
       "}}\n",
       "\n",
       "                        })                };                });            </script>        </div>"
      ]
     },
     "metadata": {},
     "output_type": "display_data"
    },
    {
     "data": {
      "image/png": "[encoded data removed]",
      "text/plain": [
       "<Figure size 1080x216 with 1 Axes>"
      ]
     },
     "metadata": {
      "needs_background": "light"
     },
     "output_type": "display_data"
    },
    {
     "data": {
      "image/png": "[encoded data removed]",
      "text/plain": [
       "<Figure size 720x2880 with 4 Axes>"
      ]
     },
     "metadata": {
      "needs_background": "light"
     },
     "output_type": "display_data"
    }
   ],
   "source": [
    "myvqe2 = vqe.vqe(H_annni, vqe.vqe_circuit_ising)\n",
    "myvqe2.train(lr, n_epochs, reg, circuit = True, recycle = False, lr_decay = 0.99)\n",
    "myvqe2.show_results_annni()"
   ]
  },
  {
   "cell_type": "code",
   "execution_count": null,
   "id": "7a8bb138-13df-48cb-a69e-95c7473e061a",
   "metadata": {},
   "outputs": [],
   "source": []
  }
 ],
 "metadata": {
  "kernelspec": {
   "display_name": "Python 3 (ipykernel)",
   "language": "python",
   "name": "python3"
  },
  "language_info": {
   "codemirror_mode": {
    "name": "ipython",
    "version": 3
   },
   "file_extension": ".py",
   "mimetype": "text/x-python",
   "name": "python",
   "nbconvert_exporter": "python",
   "pygments_lexer": "ipython3",
   "version": "3.10.4"
  }
 },
 "nbformat": 4,
 "nbformat_minor": 5
}
