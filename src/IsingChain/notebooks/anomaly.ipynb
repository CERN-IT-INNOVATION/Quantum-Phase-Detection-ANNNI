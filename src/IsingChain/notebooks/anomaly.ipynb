{
 "cells": [
  {
   "cell_type": "code",
   "execution_count": 1,
   "id": "dc5fbbd1-17a3-46f3-97ee-2e444d6a526f",
   "metadata": {},
   "outputs": [],
   "source": [
    "### IMPORTS ###\n",
    "\n",
    "# Quantum libraries:\n",
    "import pennylane as qml\n",
    "#from pennylane \n",
    "import numpy as np\n",
    "import jax\n",
    "import jax.numpy as jnp\n",
    "from jax import jit\n",
    "from functools import partial\n",
    "\n",
    "# Plotting\n",
    "from matplotlib import pyplot as plt\n",
    "import plotly\n",
    "\n",
    "# Other\n",
    "import sys, os\n",
    "import time\n",
    "import copy\n",
    "import tqdm\n",
    "import joblib # Writing and loading\n",
    "from noisyopt import minimizeSPSA\n",
    "import optuna # Automatic tuning tool\n",
    "import multiprocessing\n",
    "\n",
    "import warnings\n",
    "warnings.filterwarnings(\"ignore\", message=\"For Hamiltonians, the eigenvalues will be computed numerically. This may be computationally intensive for a large number of wires.Consider using a sparse representation of the Hamiltonian with qml.SparseHamiltonian.\")\n",
    "##############\n"
   ]
  },
  {
   "cell_type": "code",
   "execution_count": 2,
   "id": "c835a907-24e2-4414-b0a1-49385966f10e",
   "metadata": {},
   "outputs": [],
   "source": [
    "# My functions:\n",
    "sys.path.insert(0, '../')\n",
    "import vqe as vqe\n",
    "import anomaly as ae"
   ]
  },
  {
   "cell_type": "code",
   "execution_count": 3,
   "id": "55b94258-09e8-4961-adf5-2db7c61e3350",
   "metadata": {},
   "outputs": [],
   "source": [
    "N = 8\n",
    "J = 1\n",
    "\n",
    "epochs = 10000\n",
    "lr = 0.025\n"
   ]
  },
  {
   "cell_type": "code",
   "execution_count": 4,
   "id": "472e2f00-6305-4f39-9acf-bad44511f4a1",
   "metadata": {},
   "outputs": [
    {
     "name": "stdout",
     "output_type": "stream",
     "text": [
      "CLEAN DATA:\n",
      "______________________________\n",
      "Size of Data Set: 100\n",
      "Size of Training Set: 50\n",
      "Size of Test Set    : 50\n"
     ]
    }
   ],
   "source": [
    "# Load data and separate in training and test set\n",
    "data = joblib.load('./data/vqeN'+str(N)+'.job')\n",
    "\n",
    "#train_index = np.sort(np.random.choice(np.arange(len(data)), size=int(0.8*len(data)), replace=False ))\n",
    "#train_index = np.sort(np.arange(len(data)//2, len(data)) )\n",
    "train_index = np.sort(np.arange(len(data)//2) )\n",
    "\n",
    "X_train, Y_train = [], []\n",
    "X_test, Y_test   = [], []\n",
    "X, Y             = [], []\n",
    "for i in range(len(data)): \n",
    "    if i in train_index:\n",
    "        X_train.append(data[i][0])\n",
    "        Y_train.append(data[i][1])\n",
    "        X.append(data[i][0])\n",
    "        Y.append(data[i][1])\n",
    "    else:\n",
    "        X_test.append(data[i][0])\n",
    "        Y_test.append(data[i][1])\n",
    "        X.append(data[i][0])\n",
    "        Y.append(data[i][1])\n",
    "        \n",
    "X_train, Y_train = jnp.array(X_train), jnp.array(Y_train)\n",
    "X_test, Y_test   = jnp.array(X_test), jnp.array(Y_test)\n",
    "\n",
    "\n",
    "print('CLEAN DATA:')\n",
    "print('______________________________')\n",
    "print('Size of Data Set: {0}'.format(len(data)))\n",
    "print('Size of Training Set: {0}'.format(np.shape(X_train)[0]))\n",
    "print('Size of Test Set    : {0}'.format(np.shape(X_test)[0]))"
   ]
  },
  {
   "cell_type": "code",
   "execution_count": 5,
   "id": "67ed8e10-527a-4a4f-bb6f-1e4ea68a971b",
   "metadata": {},
   "outputs": [
    {
     "name": "stdout",
     "output_type": "stream",
     "text": [
      "+-- CIRCUIT ---+\n",
      "[ 0  1  2  3  4  5  6  7  8  9 10 11 12 13 14 15 16 17 18 19 20 21 22 23]\n"
     ]
    },
    {
     "ename": "KeyError",
     "evalue": "tensor(2, requires_grad=True)",
     "output_type": "error",
     "traceback": [
      "\u001b[0;31m---------------------------------------------------------------------------\u001b[0m",
      "\u001b[0;31mKeyError\u001b[0m                                  Traceback (most recent call last)",
      "Input \u001b[0;32mIn [5]\u001b[0m, in \u001b[0;36m<cell line: 1>\u001b[0;34m()\u001b[0m\n\u001b[0;32m----> 1\u001b[0m params \u001b[38;5;241m=\u001b[39m \u001b[43mae\u001b[49m\u001b[38;5;241;43m.\u001b[39;49m\u001b[43mtrain\u001b[49m\u001b[43m(\u001b[49m\u001b[43mepochs\u001b[49m\u001b[43m,\u001b[49m\u001b[43m \u001b[49m\u001b[43mlr\u001b[49m\u001b[43m,\u001b[49m\u001b[43m \u001b[49m\u001b[43mN\u001b[49m\u001b[43m,\u001b[49m\u001b[43m \u001b[49m\u001b[43mvqe\u001b[49m\u001b[38;5;241;43m.\u001b[39;49m\u001b[43mvqe_circuit\u001b[49m\u001b[43m,\u001b[49m\u001b[43m \u001b[49m\u001b[43mX_train\u001b[49m\u001b[43m,\u001b[49m\u001b[43m \u001b[49m\u001b[43mX_test\u001b[49m\u001b[43m,\u001b[49m\u001b[43m \u001b[49m\u001b[43mtrain_index\u001b[49m\u001b[43m,\u001b[49m\u001b[43m \u001b[49m\u001b[43mplot\u001b[49m\u001b[43m \u001b[49m\u001b[38;5;241;43m=\u001b[39;49m\u001b[43m \u001b[49m\u001b[38;5;28;43;01mTrue\u001b[39;49;00m\u001b[43m,\u001b[49m\u001b[43m \u001b[49m\u001b[43mcircuit\u001b[49m\u001b[43m \u001b[49m\u001b[38;5;241;43m=\u001b[39;49m\u001b[43m \u001b[49m\u001b[38;5;28;43;01mTrue\u001b[39;49;00m\u001b[43m)\u001b[49m\n",
      "File \u001b[0;32m~/Desktop/CERN/code/src/PhaseEstimationThroughQML/anomaly.py:147\u001b[0m, in \u001b[0;36mtrain\u001b[0;34m(epochs, lr, N, vqe_circuit, X_train, X_test, train_index, plot, circuit)\u001b[0m\n\u001b[1;32m    145\u001b[0m     drawer \u001b[38;5;241m=\u001b[39m qml\u001b[38;5;241m.\u001b[39mdraw(encoder_circuit)\n\u001b[1;32m    146\u001b[0m     \u001b[38;5;28mprint\u001b[39m(np\u001b[38;5;241m.\u001b[39marange(n_params))\n\u001b[0;32m--> 147\u001b[0m     \u001b[38;5;28mprint\u001b[39m(\u001b[43mdrawer\u001b[49m\u001b[43m(\u001b[49m\u001b[43mN\u001b[49m\u001b[43m,\u001b[49m\u001b[43m \u001b[49m\u001b[43mvqe_circuit\u001b[49m\u001b[43m,\u001b[49m\u001b[43m \u001b[49m\u001b[43m[\u001b[49m\u001b[38;5;241;43m0\u001b[39;49m\u001b[43m]\u001b[49m\u001b[38;5;241;43m*\u001b[39;49m\u001b[38;5;28;43mlen\u001b[39;49m\u001b[43m(\u001b[49m\u001b[43mX_train\u001b[49m\u001b[43m[\u001b[49m\u001b[38;5;241;43m0\u001b[39;49m\u001b[43m]\u001b[49m\u001b[43m)\u001b[49m\u001b[43m,\u001b[49m\u001b[43m \u001b[49m\u001b[43mnp\u001b[49m\u001b[38;5;241;43m.\u001b[39;49m\u001b[43marange\u001b[49m\u001b[43m(\u001b[49m\u001b[43mn_params\u001b[49m\u001b[43m)\u001b[49m\u001b[43m)\u001b[49m )\n\u001b[1;32m    149\u001b[0m jd_compress     \u001b[38;5;241m=\u001b[39m jax\u001b[38;5;241m.\u001b[39mjit(jax\u001b[38;5;241m.\u001b[39mgrad(\u001b[38;5;28;01mlambda\u001b[39;00m p: compress(p, X_train)) )\n\u001b[1;32m    150\u001b[0m j_compress      \u001b[38;5;241m=\u001b[39m jax\u001b[38;5;241m.\u001b[39mjit(\u001b[38;5;28;01mlambda\u001b[39;00m p: compress(p, X_train))\n",
      "File \u001b[0;32m~/Desktop/CERN/code/qua/lib/python3.10/site-packages/pennylane/drawer/draw.py:216\u001b[0m, in \u001b[0;36mdraw.<locals>.wrapper\u001b[0;34m(*args, **kwargs)\u001b[0m\n\u001b[1;32m    213\u001b[0m         \u001b[38;5;28;01mreturn\u001b[39;00m \u001b[38;5;124m\"\u001b[39m\u001b[38;5;130;01m\\n\u001b[39;00m\u001b[38;5;130;01m\\n\u001b[39;00m\u001b[38;5;124m\"\u001b[39m\u001b[38;5;241m.\u001b[39mjoin(res) \u001b[38;5;241m+\u001b[39m mat_str\n\u001b[1;32m    214\u001b[0m     \u001b[38;5;28;01mreturn\u001b[39;00m \u001b[38;5;124m\"\u001b[39m\u001b[38;5;130;01m\\n\u001b[39;00m\u001b[38;5;130;01m\\n\u001b[39;00m\u001b[38;5;124m\"\u001b[39m\u001b[38;5;241m.\u001b[39mjoin(res)\n\u001b[0;32m--> 216\u001b[0m \u001b[38;5;28;01mreturn\u001b[39;00m \u001b[43mtape_text\u001b[49m\u001b[43m(\u001b[49m\n\u001b[1;32m    217\u001b[0m \u001b[43m    \u001b[49m\u001b[43mqnode\u001b[49m\u001b[38;5;241;43m.\u001b[39;49m\u001b[43mqtape\u001b[49m\u001b[43m,\u001b[49m\n\u001b[1;32m    218\u001b[0m \u001b[43m    \u001b[49m\u001b[43mwire_order\u001b[49m\u001b[38;5;241;43m=\u001b[39;49m\u001b[43m_wire_order\u001b[49m\u001b[43m,\u001b[49m\n\u001b[1;32m    219\u001b[0m \u001b[43m    \u001b[49m\u001b[43mshow_all_wires\u001b[49m\u001b[38;5;241;43m=\u001b[39;49m\u001b[43mshow_all_wires\u001b[49m\u001b[43m,\u001b[49m\n\u001b[1;32m    220\u001b[0m \u001b[43m    \u001b[49m\u001b[43mdecimals\u001b[49m\u001b[38;5;241;43m=\u001b[39;49m\u001b[43mdecimals\u001b[49m\u001b[43m,\u001b[49m\n\u001b[1;32m    221\u001b[0m \u001b[43m    \u001b[49m\u001b[43mshow_matrices\u001b[49m\u001b[38;5;241;43m=\u001b[39;49m\u001b[43mshow_matrices\u001b[49m\u001b[43m,\u001b[49m\n\u001b[1;32m    222\u001b[0m \u001b[43m    \u001b[49m\u001b[43mmax_length\u001b[49m\u001b[38;5;241;43m=\u001b[39;49m\u001b[43mmax_length\u001b[49m\u001b[43m,\u001b[49m\n\u001b[1;32m    223\u001b[0m \u001b[43m\u001b[49m\u001b[43m)\u001b[49m\n",
      "File \u001b[0;32m~/Desktop/CERN/code/qua/lib/python3.10/site-packages/pennylane/drawer/tape_text.py:289\u001b[0m, in \u001b[0;36mtape_text\u001b[0;34m(tape, wire_order, show_all_wires, decimals, max_length, show_matrices, cache)\u001b[0m\n\u001b[1;32m    285\u001b[0m \u001b[38;5;66;03m# Used to store lines that are hitting the maximum length\u001b[39;00m\n\u001b[1;32m    286\u001b[0m finished_lines \u001b[38;5;241m=\u001b[39m []\n\u001b[1;32m    288\u001b[0m layers_list \u001b[38;5;241m=\u001b[39m [\n\u001b[0;32m--> 289\u001b[0m     \u001b[43mdrawable_layers\u001b[49m\u001b[43m(\u001b[49m\u001b[43mtape\u001b[49m\u001b[38;5;241;43m.\u001b[39;49m\u001b[43moperations\u001b[49m\u001b[43m,\u001b[49m\u001b[43m \u001b[49m\u001b[43mwire_map\u001b[49m\u001b[38;5;241;43m=\u001b[39;49m\u001b[43mwire_map\u001b[49m\u001b[43m)\u001b[49m,\n\u001b[1;32m    290\u001b[0m     drawable_layers(tape\u001b[38;5;241m.\u001b[39mmeasurements, wire_map\u001b[38;5;241m=\u001b[39mwire_map),\n\u001b[1;32m    291\u001b[0m ]\n\u001b[1;32m    292\u001b[0m add_list \u001b[38;5;241m=\u001b[39m [_add_op, _add_measurement]\n\u001b[1;32m    293\u001b[0m fillers \u001b[38;5;241m=\u001b[39m [\u001b[38;5;124m\"\u001b[39m\u001b[38;5;124m─\u001b[39m\u001b[38;5;124m\"\u001b[39m, \u001b[38;5;124m\"\u001b[39m\u001b[38;5;124m \u001b[39m\u001b[38;5;124m\"\u001b[39m]\n",
      "File \u001b[0;32m~/Desktop/CERN/code/qua/lib/python3.10/site-packages/pennylane/drawer/drawable_layers.py:101\u001b[0m, in \u001b[0;36mdrawable_layers\u001b[0;34m(ops, wire_map)\u001b[0m\n\u001b[1;32m     99\u001b[0m     op_occupied_wires \u001b[38;5;241m=\u001b[39m mapped_wires\n\u001b[1;32m    100\u001b[0m \u001b[38;5;28;01melse\u001b[39;00m:\n\u001b[0;32m--> 101\u001b[0m     mapped_wires \u001b[38;5;241m=\u001b[39m {wire_map[wire] \u001b[38;5;28;01mfor\u001b[39;00m wire \u001b[38;5;129;01min\u001b[39;00m op\u001b[38;5;241m.\u001b[39mwires}\n\u001b[1;32m    102\u001b[0m     \u001b[38;5;66;03m# get all integers from the minimum to the maximum\u001b[39;00m\n\u001b[1;32m    103\u001b[0m     min_wire \u001b[38;5;241m=\u001b[39m \u001b[38;5;28mmin\u001b[39m(mapped_wires)\n",
      "File \u001b[0;32m~/Desktop/CERN/code/qua/lib/python3.10/site-packages/pennylane/drawer/drawable_layers.py:101\u001b[0m, in \u001b[0;36m<setcomp>\u001b[0;34m(.0)\u001b[0m\n\u001b[1;32m     99\u001b[0m     op_occupied_wires \u001b[38;5;241m=\u001b[39m mapped_wires\n\u001b[1;32m    100\u001b[0m \u001b[38;5;28;01melse\u001b[39;00m:\n\u001b[0;32m--> 101\u001b[0m     mapped_wires \u001b[38;5;241m=\u001b[39m {\u001b[43mwire_map\u001b[49m\u001b[43m[\u001b[49m\u001b[43mwire\u001b[49m\u001b[43m]\u001b[49m \u001b[38;5;28;01mfor\u001b[39;00m wire \u001b[38;5;129;01min\u001b[39;00m op\u001b[38;5;241m.\u001b[39mwires}\n\u001b[1;32m    102\u001b[0m     \u001b[38;5;66;03m# get all integers from the minimum to the maximum\u001b[39;00m\n\u001b[1;32m    103\u001b[0m     min_wire \u001b[38;5;241m=\u001b[39m \u001b[38;5;28mmin\u001b[39m(mapped_wires)\n",
      "\u001b[0;31mKeyError\u001b[0m: tensor(2, requires_grad=True)"
     ]
    }
   ],
   "source": [
    "params = ae.train(epochs, lr, N, vqe.vqe_circuit, X_train, X_test, train_index, plot = True, circuit = True)"
   ]
  },
  {
   "cell_type": "code",
   "execution_count": null,
   "id": "47378020-6cc1-4989-8d68-2314972a83e5",
   "metadata": {},
   "outputs": [],
   "source": []
  }
 ],
 "metadata": {
  "kernelspec": {
   "display_name": "Python 3 (ipykernel)",
   "language": "python",
   "name": "python3"
  },
  "language_info": {
   "codemirror_mode": {
    "name": "ipython",
    "version": 3
   },
   "file_extension": ".py",
   "mimetype": "text/x-python",
   "name": "python",
   "nbconvert_exporter": "python",
   "pygments_lexer": "ipython3",
   "version": "3.10.4"
  }
 },
 "nbformat": 4,
 "nbformat_minor": 5
}
